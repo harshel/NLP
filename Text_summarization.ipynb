{
 "cells": [
  {
   "cell_type": "code",
   "execution_count": 1,
   "metadata": {},
   "outputs": [],
   "source": [
    "import urllib.request\n",
    "link = \"https://qz.com/india/1367236/kerala-floods-show-how-climate-change-threatens-india/\"\n",
    "req = urllib.request.Request(link)\n",
    "response = urllib.request.urlopen(req)\n",
    "the_page = response.read()"
   ]
  },
  {
   "cell_type": "code",
   "execution_count": 3,
   "metadata": {},
   "outputs": [],
   "source": [
    "from bs4 import BeautifulSoup\n",
    "soup = BeautifulSoup(the_page, 'lxml')"
   ]
  },
  {
   "cell_type": "code",
   "execution_count": 4,
   "metadata": {},
   "outputs": [
    {
     "name": "stdout",
     "output_type": "stream",
     "text": [
      "The Indian state of Kerala has been devastated by severe floods. More than 350 people have died, while more than a million have been evacuated to over 4,000 relief camps. Tens of thousands remain stranded. The crisis is a timely reminder that climate change is expected to increase the frequency and magnitude of severe flooding across the world. Although no single flood can be linked directly to climate change, basic physics attests to the fact that a warmer world and atmosphere will hold more water, which will result in more intense and extreme rainfall. The monsoon season usually brings heavy rains but this year Kerala has seen 42% more rain than would be expected, with more than 2,300mm of rain across the region since the beginning of June, and over 700mm in August alone. These are similar levels seen during Hurricane Harvey, that hit Houston in August 2017, when more than 1,500mm of rain fell during one storm. Tropical cyclones and hurricanes, such as Harvey, are expected to increase in strength by up to 10% with a 2℃ rise in global temperature. Under climate change the probability of such extreme rainfall is also predicted to grow by up to sixfold towards the end of the century. The rivers and drainage systems of Kerala have been unable to cope with such large volumes of water and this has resulted in flash flooding. Much of that water would normally be slowed down by trees or other natural obstacles. Yet over the past 40 years Kerala has lost nearly half its forest cover, an area of 9,000 km², just under the size of Greater London, while the state’s urban areas keep growing. This means that less rainfall is being intercepted, and more water is rapidly running into overflowing streams and rivers. One of the most striking things from the videos and images emerging from the area is the brown colour of the flood waters and the extreme damage caused by landslides. Our recent research has shown that geomorphology—the processes of erosion and deposition that shape the Earth’s surface—is sensitive to rainfall intensity, so more frequent and more extreme floods mean more rapid changes across our landscapes. The floods have been described as “the worst in 100 years” by Kerala state’s chief minister. Similar descriptions are often used to try and define the magnitudes of a flood, such as a “one-in-100 year flood event,” despite it being widely recognised that such descriptions are ineffective for communicating flood risk. Our ways of thinking about probability and the risk of flooding, as well as measuring its magnitude, are in desperate need of updating. The 100-year flood, the flood that has a 1% chance of occurring in any given year, does not register in public consciousness. A different way of thinking about it is that a 100-year flood at a given location has close to a one in four chance of occurring within the term of a 25-year mortgage. A 25% chance your house will flood before you’ve finished paying for it is far more relatable and more likely to get people to consider and engage with their own individual risk. Likewise, governments, both regional and national, along with agencies and first responders, need to develop improved flood maps and update them to incorporate uncertainty. Alongside this, we need more effective communication and public engagement to develop flood risk literacy—long term this will help improve policy decisions. The UK’s 25-year environment plan is a step in that direction. Most critically we have to accept that, with the changing climate and changing patterns of rainfall, the behaviour of rivers will also shift. All our assessments of flood risk currently assume a static, steady-state system where rivers respond in the same way they have in the past. An increase in rainfall, and in particularly extreme events, will cause our landscapes to adjust. Rivers and their basins will become more dynamic and prone to change. How quickly rivers change, and how quickly we respond with urban drainage and flood mitigation measures, will play a significant role in our evolving flood risk. Layered on this will be how rapidly societies, and their governments, begin to adopt more resilient ways of living with water. Flooding is a challenge across individual, local, regional, and global scales, and is set to increase in the future and its impacts will become more damaging. We need solutions across each of these scales to improve individual and societal resilience—so when flooding does occur it isn’t the disaster we are currently witnessing unfold in Kerala. Daniel Parsons, professor of process sedimentology and associate dean for research (science and engineering), University of Hull, and Christopher Skinner, postdoctoral research assistant in numerical modelling of fluvial Geomorphology, University of Hull. This article was originally published on The Conversation. Read the original article. We welcome your comments at ideas.india@qz.com. \n"
     ]
    }
   ],
   "source": [
    "paras = ' '.join([p.text for p in soup.findAll('p')])\n",
    "print (paras)"
   ]
  },
  {
   "cell_type": "code",
   "execution_count": 12,
   "metadata": {},
   "outputs": [
    {
     "name": "stdout",
     "output_type": "stream",
     "text": [
      "The Indian state of Kerala has been devastated by severe floods. More than 350 people have died, while more than a million have been evacuated to over 4,000 relief camps. Tens of thousands remain stranded. The crisis is a timely reminder that climate change is expected to increase the frequency and magnitude of severe flooding across the world. Although no single flood can be linked directly to climate change, basic physics attests to the fact that a warmer world and atmosphere will hold more water, which will result in more intense and extreme rainfall. The monsoon season usually brings heavy rains but this year Kerala has seen 42% more rain than would be expected, with more than 2,300mm of rain across the region since the beginning of June, and over 700mm in August alone. These are similar levels seen during Hurricane Harvey, that hit Houston in August 2017, when more than 1,500mm of rain fell during one storm. Tropical cyclones and hurricanes, such as Harvey, are expected to increase in strength by up to 10% with a 2℃ rise in global temperature. Under climate change the probability of such extreme rainfall is also predicted to grow by up to sixfold towards the end of the century. The rivers and drainage systems of Kerala have been unable to cope with such large volumes of water and this has resulted in flash flooding. Much of that water would normally be slowed down by trees or other natural obstacles. Yet over the past 40 years Kerala has lost nearly half its forest cover, an area of 9,000 km², just under the size of Greater London, while the state’s urban areas keep growing. This means that less rainfall is being intercepted, and more water is rapidly running into overflowing streams and rivers. One of the most striking things from the videos and images emerging from the area is the brown colour of the flood waters and the extreme damage caused by landslides. Our recent research has shown that geomorphology—the processes of erosion and deposition that shape the Earth’s surface—is sensitive to rainfall intensity, so more frequent and more extreme floods mean more rapid changes across our landscapes. The floods have been described as “the worst in 100 years” by Kerala state’s chief minister. Similar descriptions are often used to try and define the magnitudes of a flood, such as a “one-in-100 year flood event,” despite it being widely recognised that such descriptions are ineffective for communicating flood risk. Our ways of thinking about probability and the risk of flooding, as well as measuring its magnitude, are in desperate need of updating. The 100-year flood, the flood that has a 1% chance of occurring in any given year, does not register in public consciousness. A different way of thinking about it is that a 100-year flood at a given location has close to a one in four chance of occurring within the term of a 25-year mortgage. A 25% chance your house will flood before you’ve finished paying for it is far more relatable and more likely to get people to consider and engage with their own individual risk. Likewise, governments, both regional and national, along with agencies and first responders, need to develop improved flood maps and update them to incorporate uncertainty. Alongside this, we need more effective communication and public engagement to develop flood risk literacy—long term this will help improve policy decisions. The UK’s 25-year environment plan is a step in that direction. Most critically we have to accept that, with the changing climate and changing patterns of rainfall, the behaviour of rivers will also shift. All our assessments of flood risk currently assume a static, steady-state system where rivers respond in the same way they have in the past. An increase in rainfall, and in particularly extreme events, will cause our landscapes to adjust. Rivers and their basins will become more dynamic and prone to change. How quickly rivers change, and how quickly we respond with urban drainage and flood mitigation measures, will play a significant role in our evolving flood risk. Layered on this will be how rapidly societies, and their governments, begin to adopt more resilient ways of living with water. Flooding is a challenge across individual, local, regional, and global scales, and is set to increase in the future and its impacts will become more damaging. We need solutions across each of these scales to improve individual and societal resilience—so when flooding does occur it isn’t the disaster we are currently witnessing unfold in Kerala. \n"
     ]
    }
   ],
   "source": [
    "text = (paras[:-390])\n",
    "print (text)"
   ]
  },
  {
   "cell_type": "code",
   "execution_count": 14,
   "metadata": {},
   "outputs": [
    {
     "name": "stdout",
     "output_type": "stream",
     "text": [
      "['The Indian state of Kerala has been devastated by severe floods.', 'More than 350 people have died, while more than a million have been evacuated to over 4,000 relief camps.', 'Tens of thousands remain stranded.', 'The crisis is a timely reminder that climate change is expected to increase the frequency and magnitude of severe flooding across the world.', 'Although no single flood can be linked directly to climate change, basic physics attests to the fact that a warmer world and atmosphere will hold more water, which will result in more intense and extreme rainfall.', 'The monsoon season usually brings heavy rains but this year Kerala has seen 42% more rain than would be expected, with more than 2,300mm of rain across the region since the beginning of June, and over 700mm in August alone.', 'These are similar levels seen during Hurricane Harvey, that hit Houston in August 2017, when more than 1,500mm of rain fell during one storm.', 'Tropical cyclones and hurricanes, such as Harvey, are expected to increase in strength by up to 10% with a 2℃ rise in global temperature.', 'Under climate change the probability of such extreme rainfall is also predicted to grow by up to sixfold towards the end of the century.', 'The rivers and drainage systems of Kerala have been unable to cope with such large volumes of water and this has resulted in flash flooding.', 'Much of that water would normally be slowed down by trees or other natural obstacles.', 'Yet over the past 40 years Kerala has lost nearly half its forest cover, an area of 9,000 km², just under the size of Greater London, while the state’s urban areas keep growing.', 'This means that less rainfall is being intercepted, and more water is rapidly running into overflowing streams and rivers.', 'One of the most striking things from the videos and images emerging from the area is the brown colour of the flood waters and the extreme damage caused by landslides.', 'Our recent research has shown that geomorphology—the processes of erosion and deposition that shape the Earth’s surface—is sensitive to rainfall intensity, so more frequent and more extreme floods mean more rapid changes across our landscapes.', 'The floods have been described as “the worst in 100 years” by Kerala state’s chief minister.', 'Similar descriptions are often used to try and define the magnitudes of a flood, such as a “one-in-100 year flood event,” despite it being widely recognised that such descriptions are ineffective for communicating flood risk.', 'Our ways of thinking about probability and the risk of flooding, as well as measuring its magnitude, are in desperate need of updating.', 'The 100-year flood, the flood that has a 1% chance of occurring in any given year, does not register in public consciousness.', 'A different way of thinking about it is that a 100-year flood at a given location has close to a one in four chance of occurring within the term of a 25-year mortgage.', 'A 25% chance your house will flood before you’ve finished paying for it is far more relatable and more likely to get people to consider and engage with their own individual risk.', 'Likewise, governments, both regional and national, along with agencies and first responders, need to develop improved flood maps and update them to incorporate uncertainty.', 'Alongside this, we need more effective communication and public engagement to develop flood risk literacy—long term this will help improve policy decisions.', 'The UK’s 25-year environment plan is a step in that direction.', 'Most critically we have to accept that, with the changing climate and changing patterns of rainfall, the behaviour of rivers will also shift.', 'All our assessments of flood risk currently assume a static, steady-state system where rivers respond in the same way they have in the past.', 'An increase in rainfall, and in particularly extreme events, will cause our landscapes to adjust.', 'Rivers and their basins will become more dynamic and prone to change.', 'How quickly rivers change, and how quickly we respond with urban drainage and flood mitigation measures, will play a significant role in our evolving flood risk.', 'Layered on this will be how rapidly societies, and their governments, begin to adopt more resilient ways of living with water.', 'Flooding is a challenge across individual, local, regional, and global scales, and is set to increase in the future and its impacts will become more damaging.', 'We need solutions across each of these scales to improve individual and societal resilience—so when flooding does occur it isn’t the disaster we are currently witnessing unfold in Kerala.']\n"
     ]
    }
   ],
   "source": [
    "from nltk.tokenize import word_tokenize, sent_tokenize\n",
    "from collections import Counter\n",
    "sents = sent_tokenize(text)\n",
    "print (sents)"
   ]
  },
  {
   "cell_type": "code",
   "execution_count": 15,
   "metadata": {},
   "outputs": [
    {
     "name": "stdout",
     "output_type": "stream",
     "text": [
      "32\n"
     ]
    }
   ],
   "source": [
    "print (len(sents))"
   ]
  },
  {
   "cell_type": "code",
   "execution_count": 16,
   "metadata": {},
   "outputs": [
    {
     "name": "stdout",
     "output_type": "stream",
     "text": [
      "847\n"
     ]
    }
   ],
   "source": [
    "words = word_tokenize(text)\n",
    "print (len(words))"
   ]
  },
  {
   "cell_type": "code",
   "execution_count": 17,
   "metadata": {},
   "outputs": [
    {
     "name": "stdout",
     "output_type": "stream",
     "text": [
      "['The', 'Indian', 'state', 'of', 'Kerala', 'has', 'been', 'devastated', 'by', 'severe', 'floods', '.', 'More', 'than', '350', 'people', 'have', 'died', ',', 'while', 'more', 'than', 'a', 'million', 'have', 'been', 'evacuated', 'to', 'over', '4,000', 'relief', 'camps', '.', 'Tens', 'of', 'thousands', 'remain', 'stranded', '.', 'The', 'crisis', 'is', 'a', 'timely', 'reminder', 'that', 'climate', 'change', 'is', 'expected', 'to', 'increase', 'the', 'frequency', 'and', 'magnitude', 'of', 'severe', 'flooding', 'across', 'the', 'world', '.', 'Although', 'no', 'single', 'flood', 'can', 'be', 'linked', 'directly', 'to', 'climate', 'change', ',', 'basic', 'physics', 'attests', 'to', 'the', 'fact', 'that', 'a', 'warmer', 'world', 'and', 'atmosphere', 'will', 'hold', 'more', 'water', ',', 'which', 'will', 'result', 'in', 'more', 'intense', 'and', 'extreme', 'rainfall', '.', 'The', 'monsoon', 'season', 'usually', 'brings', 'heavy', 'rains', 'but', 'this', 'year', 'Kerala', 'has', 'seen', '42', '%', 'more', 'rain', 'than', 'would', 'be', 'expected', ',', 'with', 'more', 'than', '2,300mm', 'of', 'rain', 'across', 'the', 'region', 'since', 'the', 'beginning', 'of', 'June', ',', 'and', 'over', '700mm', 'in', 'August', 'alone', '.', 'These', 'are', 'similar', 'levels', 'seen', 'during', 'Hurricane', 'Harvey', ',', 'that', 'hit', 'Houston', 'in', 'August', '2017', ',', 'when', 'more', 'than', '1,500mm', 'of', 'rain', 'fell', 'during', 'one', 'storm', '.', 'Tropical', 'cyclones', 'and', 'hurricanes', ',', 'such', 'as', 'Harvey', ',', 'are', 'expected', 'to', 'increase', 'in', 'strength', 'by', 'up', 'to', '10', '%', 'with', 'a', '2℃', 'rise', 'in', 'global', 'temperature', '.', 'Under', 'climate', 'change', 'the', 'probability', 'of', 'such', 'extreme', 'rainfall', 'is', 'also', 'predicted', 'to', 'grow', 'by', 'up', 'to', 'sixfold', 'towards', 'the', 'end', 'of', 'the', 'century', '.', 'The', 'rivers', 'and', 'drainage', 'systems', 'of', 'Kerala', 'have', 'been', 'unable', 'to', 'cope', 'with', 'such', 'large', 'volumes', 'of', 'water', 'and', 'this', 'has', 'resulted', 'in', 'flash', 'flooding', '.', 'Much', 'of', 'that', 'water', 'would', 'normally', 'be', 'slowed', 'down', 'by', 'trees', 'or', 'other', 'natural', 'obstacles', '.', 'Yet', 'over', 'the', 'past', '40', 'years', 'Kerala', 'has', 'lost', 'nearly', 'half', 'its', 'forest', 'cover', ',', 'an', 'area', 'of', '9,000', 'km²', ',', 'just', 'under', 'the', 'size', 'of', 'Greater', 'London', ',', 'while', 'the', 'state', '’', 's', 'urban', 'areas', 'keep', 'growing', '.', 'This', 'means', 'that', 'less', 'rainfall', 'is', 'being', 'intercepted', ',', 'and', 'more', 'water', 'is', 'rapidly', 'running', 'into', 'overflowing', 'streams', 'and', 'rivers', '.', 'One', 'of', 'the', 'most', 'striking', 'things', 'from', 'the', 'videos', 'and', 'images', 'emerging', 'from', 'the', 'area', 'is', 'the', 'brown', 'colour', 'of', 'the', 'flood', 'waters', 'and', 'the', 'extreme', 'damage', 'caused', 'by', 'landslides', '.', 'Our', 'recent', 'research', 'has', 'shown', 'that', 'geomorphology—the', 'processes', 'of', 'erosion', 'and', 'deposition', 'that', 'shape', 'the', 'Earth', '’', 's', 'surface—is', 'sensitive', 'to', 'rainfall', 'intensity', ',', 'so', 'more', 'frequent', 'and', 'more', 'extreme', 'floods', 'mean', 'more', 'rapid', 'changes', 'across', 'our', 'landscapes', '.', 'The', 'floods', 'have', 'been', 'described', 'as', '“', 'the', 'worst', 'in', '100', 'years', '”', 'by', 'Kerala', 'state', '’', 's', 'chief', 'minister', '.', 'Similar', 'descriptions', 'are', 'often', 'used', 'to', 'try', 'and', 'define', 'the', 'magnitudes', 'of', 'a', 'flood', ',', 'such', 'as', 'a', '“', 'one-in-100', 'year', 'flood', 'event', ',', '”', 'despite', 'it', 'being', 'widely', 'recognised', 'that', 'such', 'descriptions', 'are', 'ineffective', 'for', 'communicating', 'flood', 'risk', '.', 'Our', 'ways', 'of', 'thinking', 'about', 'probability', 'and', 'the', 'risk', 'of', 'flooding', ',', 'as', 'well', 'as', 'measuring', 'its', 'magnitude', ',', 'are', 'in', 'desperate', 'need', 'of', 'updating', '.', 'The', '100-year', 'flood', ',', 'the', 'flood', 'that', 'has', 'a', '1', '%', 'chance', 'of', 'occurring', 'in', 'any', 'given', 'year', ',', 'does', 'not', 'register', 'in', 'public', 'consciousness', '.', 'A', 'different', 'way', 'of', 'thinking', 'about', 'it', 'is', 'that', 'a', '100-year', 'flood', 'at', 'a', 'given', 'location', 'has', 'close', 'to', 'a', 'one', 'in', 'four', 'chance', 'of', 'occurring', 'within', 'the', 'term', 'of', 'a', '25-year', 'mortgage', '.', 'A', '25', '%', 'chance', 'your', 'house', 'will', 'flood', 'before', 'you', '’', 've', 'finished', 'paying', 'for', 'it', 'is', 'far', 'more', 'relatable', 'and', 'more', 'likely', 'to', 'get', 'people', 'to', 'consider', 'and', 'engage', 'with', 'their', 'own', 'individual', 'risk', '.', 'Likewise', ',', 'governments', ',', 'both', 'regional', 'and', 'national', ',', 'along', 'with', 'agencies', 'and', 'first', 'responders', ',', 'need', 'to', 'develop', 'improved', 'flood', 'maps', 'and', 'update', 'them', 'to', 'incorporate', 'uncertainty', '.', 'Alongside', 'this', ',', 'we', 'need', 'more', 'effective', 'communication', 'and', 'public', 'engagement', 'to', 'develop', 'flood', 'risk', 'literacy—long', 'term', 'this', 'will', 'help', 'improve', 'policy', 'decisions', '.', 'The', 'UK', '’', 's', '25-year', 'environment', 'plan', 'is', 'a', 'step', 'in', 'that', 'direction', '.', 'Most', 'critically', 'we', 'have', 'to', 'accept', 'that', ',', 'with', 'the', 'changing', 'climate', 'and', 'changing', 'patterns', 'of', 'rainfall', ',', 'the', 'behaviour', 'of', 'rivers', 'will', 'also', 'shift', '.', 'All', 'our', 'assessments', 'of', 'flood', 'risk', 'currently', 'assume', 'a', 'static', ',', 'steady-state', 'system', 'where', 'rivers', 'respond', 'in', 'the', 'same', 'way', 'they', 'have', 'in', 'the', 'past', '.', 'An', 'increase', 'in', 'rainfall', ',', 'and', 'in', 'particularly', 'extreme', 'events', ',', 'will', 'cause', 'our', 'landscapes', 'to', 'adjust', '.', 'Rivers', 'and', 'their', 'basins', 'will', 'become', 'more', 'dynamic', 'and', 'prone', 'to', 'change', '.', 'How', 'quickly', 'rivers', 'change', ',', 'and', 'how', 'quickly', 'we', 'respond', 'with', 'urban', 'drainage', 'and', 'flood', 'mitigation', 'measures', ',', 'will', 'play', 'a', 'significant', 'role', 'in', 'our', 'evolving', 'flood', 'risk', '.', 'Layered', 'on', 'this', 'will', 'be', 'how', 'rapidly', 'societies', ',', 'and', 'their', 'governments', ',', 'begin', 'to', 'adopt', 'more', 'resilient', 'ways', 'of', 'living', 'with', 'water', '.', 'Flooding', 'is', 'a', 'challenge', 'across', 'individual', ',', 'local', ',', 'regional', ',', 'and', 'global', 'scales', ',', 'and', 'is', 'set', 'to', 'increase', 'in', 'the', 'future', 'and', 'its', 'impacts', 'will', 'become', 'more', 'damaging', '.', 'We', 'need', 'solutions', 'across', 'each', 'of', 'these', 'scales', 'to', 'improve', 'individual', 'and', 'societal', 'resilience—so', 'when', 'flooding', 'does', 'occur', 'it', 'isn', '’', 't', 'the', 'disaster', 'we', 'are', 'currently', 'witnessing', 'unfold', 'in', 'Kerala', '.']\n"
     ]
    }
   ],
   "source": [
    "print (words)"
   ]
  },
  {
   "cell_type": "code",
   "execution_count": 21,
   "metadata": {},
   "outputs": [],
   "source": [
    "from nltk.corpus import stopwords\n",
    "from string import punctuation\n",
    "custom = set(stopwords.words('english')+list(punctuation))"
   ]
  },
  {
   "cell_type": "code",
   "execution_count": 22,
   "metadata": {},
   "outputs": [],
   "source": [
    "words = [word for word in words if word not in custom]"
   ]
  },
  {
   "cell_type": "code",
   "execution_count": 23,
   "metadata": {},
   "outputs": [
    {
     "name": "stdout",
     "output_type": "stream",
     "text": [
      "440\n"
     ]
    }
   ],
   "source": [
    "print (len(words))"
   ]
  },
  {
   "cell_type": "code",
   "execution_count": 24,
   "metadata": {},
   "outputs": [
    {
     "name": "stdout",
     "output_type": "stream",
     "text": [
      "[('flood', 14), ('The', 7), ('Kerala', 6), ('rainfall', 6), ('’', 6), ('risk', 6), ('change', 5), ('across', 5), ('water', 5), ('extreme', 5), ('rivers', 5), ('climate', 4), ('increase', 4), ('flooding', 4), ('need', 4), ('state', 3), ('floods', 3), ('expected', 3), ('year', 3), ('rain', 3), ('chance', 3), ('individual', 3), ('severe', 2), ('people', 2), ('magnitude', 2), ('world', 2), ('seen', 2), ('would', 2), ('August', 2), ('Harvey', 2), ('one', 2), ('global', 2), ('probability', 2), ('also', 2), ('drainage', 2), ('past', 2), ('years', 2), ('area', 2), ('urban', 2), ('rapidly', 2), ('Our', 2), ('landscapes', 2), ('“', 2), ('”', 2), ('descriptions', 2), ('ways', 2), ('thinking', 2), ('100-year', 2), ('occurring', 2), ('given', 2), ('public', 2), ('A', 2), ('way', 2), ('term', 2), ('25-year', 2), ('governments', 2), ('regional', 2), ('develop', 2), ('improve', 2), ('changing', 2), ('currently', 2), ('respond', 2), ('become', 2), ('quickly', 2), ('scales', 2), ('Indian', 1), ('devastated', 1), ('More', 1), ('350', 1), ('died', 1), ('million', 1), ('evacuated', 1), ('4,000', 1), ('relief', 1), ('camps', 1), ('Tens', 1), ('thousands', 1), ('remain', 1), ('stranded', 1), ('crisis', 1), ('timely', 1), ('reminder', 1), ('frequency', 1), ('Although', 1), ('single', 1), ('linked', 1), ('directly', 1), ('basic', 1), ('physics', 1), ('attests', 1), ('fact', 1), ('warmer', 1), ('atmosphere', 1), ('hold', 1), ('result', 1), ('intense', 1), ('monsoon', 1), ('season', 1), ('usually', 1), ('brings', 1), ('heavy', 1), ('rains', 1), ('42', 1), ('2,300mm', 1), ('region', 1), ('since', 1), ('beginning', 1), ('June', 1), ('700mm', 1), ('alone', 1), ('These', 1), ('similar', 1), ('levels', 1), ('Hurricane', 1), ('hit', 1), ('Houston', 1), ('2017', 1), ('1,500mm', 1), ('fell', 1), ('storm', 1), ('Tropical', 1), ('cyclones', 1), ('hurricanes', 1), ('strength', 1), ('10', 1), ('2℃', 1), ('rise', 1), ('temperature', 1), ('Under', 1), ('predicted', 1), ('grow', 1), ('sixfold', 1), ('towards', 1), ('end', 1), ('century', 1), ('systems', 1), ('unable', 1), ('cope', 1), ('large', 1), ('volumes', 1), ('resulted', 1), ('flash', 1), ('Much', 1), ('normally', 1), ('slowed', 1), ('trees', 1), ('natural', 1), ('obstacles', 1), ('Yet', 1), ('40', 1), ('lost', 1), ('nearly', 1), ('half', 1), ('forest', 1), ('cover', 1), ('9,000', 1), ('km²', 1), ('size', 1), ('Greater', 1), ('London', 1), ('areas', 1), ('keep', 1), ('growing', 1), ('This', 1), ('means', 1), ('less', 1), ('intercepted', 1), ('running', 1), ('overflowing', 1), ('streams', 1), ('One', 1), ('striking', 1), ('things', 1), ('videos', 1), ('images', 1), ('emerging', 1), ('brown', 1), ('colour', 1), ('waters', 1), ('damage', 1), ('caused', 1), ('landslides', 1), ('recent', 1), ('research', 1), ('shown', 1), ('geomorphology—the', 1), ('processes', 1), ('erosion', 1), ('deposition', 1), ('shape', 1), ('Earth', 1), ('surface—is', 1), ('sensitive', 1), ('intensity', 1), ('frequent', 1), ('mean', 1), ('rapid', 1), ('changes', 1), ('described', 1), ('worst', 1), ('100', 1), ('chief', 1), ('minister', 1), ('Similar', 1), ('often', 1), ('used', 1), ('try', 1), ('define', 1), ('magnitudes', 1), ('one-in-100', 1), ('event', 1), ('despite', 1), ('widely', 1), ('recognised', 1), ('ineffective', 1), ('communicating', 1), ('well', 1), ('measuring', 1), ('desperate', 1), ('updating', 1), ('1', 1), ('register', 1), ('consciousness', 1), ('different', 1), ('location', 1), ('close', 1), ('four', 1), ('within', 1), ('mortgage', 1), ('25', 1), ('house', 1), ('finished', 1), ('paying', 1), ('far', 1), ('relatable', 1), ('likely', 1), ('get', 1), ('consider', 1), ('engage', 1), ('Likewise', 1), ('national', 1), ('along', 1), ('agencies', 1), ('first', 1), ('responders', 1), ('improved', 1), ('maps', 1), ('update', 1), ('incorporate', 1), ('uncertainty', 1), ('Alongside', 1), ('effective', 1), ('communication', 1), ('engagement', 1), ('literacy—long', 1), ('help', 1), ('policy', 1), ('decisions', 1), ('UK', 1), ('environment', 1), ('plan', 1), ('step', 1), ('direction', 1), ('Most', 1), ('critically', 1), ('accept', 1), ('patterns', 1), ('behaviour', 1), ('shift', 1), ('All', 1), ('assessments', 1), ('assume', 1), ('static', 1), ('steady-state', 1), ('system', 1), ('An', 1), ('particularly', 1), ('events', 1), ('cause', 1), ('adjust', 1), ('Rivers', 1), ('basins', 1), ('dynamic', 1), ('prone', 1), ('How', 1), ('mitigation', 1), ('measures', 1), ('play', 1), ('significant', 1), ('role', 1), ('evolving', 1), ('Layered', 1), ('societies', 1), ('begin', 1), ('adopt', 1), ('resilient', 1), ('living', 1), ('Flooding', 1), ('challenge', 1), ('local', 1), ('set', 1), ('future', 1), ('impacts', 1), ('damaging', 1), ('We', 1), ('solutions', 1), ('societal', 1), ('resilience—so', 1), ('occur', 1), ('disaster', 1), ('witnessing', 1), ('unfold', 1)]\n"
     ]
    }
   ],
   "source": [
    "counts = Counter(words)\n",
    "counts = counts.most_common()\n",
    "print (counts)"
   ]
  },
  {
   "cell_type": "code",
   "execution_count": 27,
   "metadata": {},
   "outputs": [],
   "source": [
    "final_words_we_need = [x for x in counts if x[1]>3]"
   ]
  },
  {
   "cell_type": "code",
   "execution_count": 28,
   "metadata": {},
   "outputs": [
    {
     "data": {
      "text/plain": [
       "[('flood', 14),\n",
       " ('The', 7),\n",
       " ('Kerala', 6),\n",
       " ('rainfall', 6),\n",
       " ('’', 6),\n",
       " ('risk', 6),\n",
       " ('change', 5),\n",
       " ('across', 5),\n",
       " ('water', 5),\n",
       " ('extreme', 5),\n",
       " ('rivers', 5),\n",
       " ('climate', 4),\n",
       " ('increase', 4),\n",
       " ('flooding', 4),\n",
       " ('need', 4)]"
      ]
     },
     "execution_count": 28,
     "metadata": {},
     "output_type": "execute_result"
    }
   ],
   "source": [
    "final_words_we_need"
   ]
  },
  {
   "cell_type": "code",
   "execution_count": 29,
   "metadata": {},
   "outputs": [],
   "source": [
    "d = {}\n",
    "for s in sents:\n",
    "    score = 0\n",
    "    for w in final_words_we_need:\n",
    "        if w[0] in s:\n",
    "            score = score +w[1]\n",
    "    d[s] = score\n",
    "import operator\n",
    "sorted_d = sorted(d.items(), key=operator.itemgetter(1), reverse = True)"
   ]
  },
  {
   "cell_type": "code",
   "execution_count": 32,
   "metadata": {},
   "outputs": [
    {
     "data": {
      "text/plain": [
       "[('The crisis is a timely reminder that climate change is expected to increase the frequency and magnitude of severe flooding across the world.',\n",
       "  43),\n",
       " ('The rivers and drainage systems of Kerala have been unable to cope with such large volumes of water and this has resulted in flash flooding.',\n",
       "  41),\n",
       " ('Our recent research has shown that geomorphology—the processes of erosion and deposition that shape the Earth’s surface—is sensitive to rainfall intensity, so more frequent and more extreme floods mean more rapid changes across our landscapes.',\n",
       "  41),\n",
       " ('Although no single flood can be linked directly to climate change, basic physics attests to the fact that a warmer world and atmosphere will hold more water, which will result in more intense and extreme rainfall.',\n",
       "  39),\n",
       " ('We need solutions across each of these scales to improve individual and societal resilience—so when flooding does occur it isn’t the disaster we are currently witnessing unfold in Kerala.',\n",
       "  39),\n",
       " ('The floods have been described as “the worst in 100 years” by Kerala state’s chief minister.',\n",
       "  33),\n",
       " ('How quickly rivers change, and how quickly we respond with urban drainage and flood mitigation measures, will play a significant role in our evolving flood risk.',\n",
       "  30),\n",
       " ('Our ways of thinking about probability and the risk of flooding, as well as measuring its magnitude, are in desperate need of updating.',\n",
       "  28),\n",
       " ('The Indian state of Kerala has been devastated by severe floods.', 27),\n",
       " ('A 25% chance your house will flood before you’ve finished paying for it is far more relatable and more likely to get people to consider and engage with their own individual risk.',\n",
       "  26),\n",
       " ('All our assessments of flood risk currently assume a static, steady-state system where rivers respond in the same way they have in the past.',\n",
       "  25),\n",
       " ('One of the most striking things from the videos and images emerging from the area is the brown colour of the flood waters and the extreme damage caused by landslides.',\n",
       "  24),\n",
       " ('Alongside this, we need more effective communication and public engagement to develop flood risk literacy—long term this will help improve policy decisions.',\n",
       "  24),\n",
       " ('The 100-year flood, the flood that has a 1% chance of occurring in any given year, does not register in public consciousness.',\n",
       "  21),\n",
       " ('Under climate change the probability of such extreme rainfall is also predicted to grow by up to sixfold towards the end of the century.',\n",
       "  20),\n",
       " ('Similar descriptions are often used to try and define the magnitudes of a flood, such as a “one-in-100 year flood event,” despite it being widely recognised that such descriptions are ineffective for communicating flood risk.',\n",
       "  20),\n",
       " ('The monsoon season usually brings heavy rains but this year Kerala has seen 42% more rain than would be expected, with more than 2,300mm of rain across the region since the beginning of June, and over 700mm in August alone.',\n",
       "  18),\n",
       " ('Likewise, governments, both regional and national, along with agencies and first responders, need to develop improved flood maps and update them to incorporate uncertainty.',\n",
       "  18),\n",
       " ('This means that less rainfall is being intercepted, and more water is rapidly running into overflowing streams and rivers.',\n",
       "  16),\n",
       " ('Most critically we have to accept that, with the changing climate and changing patterns of rainfall, the behaviour of rivers will also shift.',\n",
       "  15),\n",
       " ('An increase in rainfall, and in particularly extreme events, will cause our landscapes to adjust.',\n",
       "  15),\n",
       " ('A different way of thinking about it is that a 100-year flood at a given location has close to a one in four chance of occurring within the term of a 25-year mortgage.',\n",
       "  14),\n",
       " ('The UK’s 25-year environment plan is a step in that direction.', 13),\n",
       " ('Yet over the past 40 years Kerala has lost nearly half its forest cover, an area of 9,000 km², just under the size of Greater London, while the state’s urban areas keep growing.',\n",
       "  12),\n",
       " ('Flooding is a challenge across individual, local, regional, and global scales, and is set to increase in the future and its impacts will become more damaging.',\n",
       "  9),\n",
       " ('These are similar levels seen during Hurricane Harvey, that hit Houston in August 2017, when more than 1,500mm of rain fell during one storm.',\n",
       "  7),\n",
       " ('Much of that water would normally be slowed down by trees or other natural obstacles.',\n",
       "  5),\n",
       " ('Rivers and their basins will become more dynamic and prone to change.', 5),\n",
       " ('Layered on this will be how rapidly societies, and their governments, begin to adopt more resilient ways of living with water.',\n",
       "  5),\n",
       " ('Tropical cyclones and hurricanes, such as Harvey, are expected to increase in strength by up to 10% with a 2℃ rise in global temperature.',\n",
       "  4),\n",
       " ('More than 350 people have died, while more than a million have been evacuated to over 4,000 relief camps.',\n",
       "  0),\n",
       " ('Tens of thousands remain stranded.', 0)]"
      ]
     },
     "execution_count": 32,
     "metadata": {},
     "output_type": "execute_result"
    }
   ],
   "source": [
    "sorted_d"
   ]
  },
  {
   "cell_type": "code",
   "execution_count": 30,
   "metadata": {},
   "outputs": [
    {
     "name": "stdout",
     "output_type": "stream",
     "text": [
      "The crisis is a timely reminder that climate change is expected to increase the frequency and magnitude of severe flooding across the world.The rivers and drainage systems of Kerala have been unable to cope with such large volumes of water and this has resulted in flash flooding.Our recent research has shown that geomorphology—the processes of erosion and deposition that shape the Earth’s surface—is sensitive to rainfall intensity, so more frequent and more extreme floods mean more rapid changes across our landscapes.Although no single flood can be linked directly to climate change, basic physics attests to the fact that a warmer world and atmosphere will hold more water, which will result in more intense and extreme rainfall.We need solutions across each of these scales to improve individual and societal resilience—so when flooding does occur it isn’t the disaster we are currently witnessing unfold in Kerala.The floods have been described as “the worst in 100 years” by Kerala state’s chief minister.\n"
     ]
    }
   ],
   "source": [
    "our_summary = []\n",
    "for x in sorted_d[:6]:\n",
    "    our_summary.append(x[0])\n",
    "our_summary = ''.join(our_summary[:])\n",
    "print (our_summary)"
   ]
  },
  {
   "cell_type": "code",
   "execution_count": null,
   "metadata": {},
   "outputs": [],
   "source": []
  }
 ],
 "metadata": {
  "kernelspec": {
   "display_name": "Python 3",
   "language": "python",
   "name": "python3"
  },
  "language_info": {
   "codemirror_mode": {
    "name": "ipython",
    "version": 3
   },
   "file_extension": ".py",
   "mimetype": "text/x-python",
   "name": "python",
   "nbconvert_exporter": "python",
   "pygments_lexer": "ipython3",
   "version": "3.6.5"
  }
 },
 "nbformat": 4,
 "nbformat_minor": 2
}
