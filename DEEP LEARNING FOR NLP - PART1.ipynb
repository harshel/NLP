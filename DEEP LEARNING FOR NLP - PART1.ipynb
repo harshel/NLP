{
 "cells": [
  {
   "cell_type": "markdown",
   "metadata": {},
   "source": [
    "Reference site - https://medium.com/cityai/deep-learning-for-natural-language-processing-part-i-8369895ffb98"
   ]
  },
  {
   "cell_type": "code",
   "execution_count": 2,
   "metadata": {},
   "outputs": [
    {
     "name": "stderr",
     "output_type": "stream",
     "text": [
      "C:\\Users\\Harshal\\Anaconda3\\lib\\site-packages\\gensim\\utils.py:1212: UserWarning: detected Windows; aliasing chunkize to chunkize_serial\n",
      "  warnings.warn(\"detected Windows; aliasing chunkize to chunkize_serial\")\n"
     ]
    }
   ],
   "source": [
    "import nltk\n",
    "from nltk.corpus import gutenberg\n",
    "from nltk import word_tokenize, sent_tokenize\n",
    "import gensim\n",
    "from gensim.models.word2vec import Word2Vec\n",
    "from sklearn.manifold import TSNE\n",
    "import pandas as pd\n",
    "from bokeh.io import output_notebook\n",
    "from bokeh.plotting import show, figure"
   ]
  },
  {
   "cell_type": "code",
   "execution_count": 3,
   "metadata": {},
   "outputs": [
    {
     "name": "stdout",
     "output_type": "stream",
     "text": [
      "['austen-emma.txt', 'austen-persuasion.txt', 'austen-sense.txt', 'bible-kjv.txt', 'blake-poems.txt', 'bryant-stories.txt', 'burgess-busterbrown.txt', 'carroll-alice.txt', 'chesterton-ball.txt', 'chesterton-brown.txt', 'chesterton-thursday.txt', 'edgeworth-parents.txt', 'melville-moby_dick.txt', 'milton-paradise.txt', 'shakespeare-caesar.txt', 'shakespeare-hamlet.txt', 'shakespeare-macbeth.txt', 'whitman-leaves.txt']\n"
     ]
    }
   ],
   "source": [
    "#gutenberg : It's a dataset which contains about 18 books\n",
    "#In order to look at the books run the following command\n",
    "print(gutenberg.fileids())"
   ]
  },
  {
   "cell_type": "code",
   "execution_count": 4,
   "metadata": {
    "collapsed": true
   },
   "outputs": [],
   "source": [
    "#we will be working on the following books\n",
    "gberg_sents = gutenberg.sents(fileids=['bible-kjv.txt',\n",
    "                              'austen-emma.txt',\n",
    "                              'austen-persuasion.txt',\n",
    "                              'austen-sense.txt',\n",
    "                              'carroll-alice.txt'])"
   ]
  },
  {
   "cell_type": "code",
   "execution_count": 8,
   "metadata": {},
   "outputs": [
    {
     "name": "stdout",
     "output_type": "stream",
     "text": [
      "48304\n"
     ]
    }
   ],
   "source": [
    "#total number of words appearing in the set of books that we loaded\n",
    "print(len(gutenberg.sents(fileids=['bible-kjv.txt',\n",
    "                                   'austen-emma.txt',\n",
    "                                   'austen-persuasion.txt',\n",
    "                                   'austen-sense.txt',\n",
    "                                   'carroll-alice.txt'])))"
   ]
  },
  {
   "cell_type": "markdown",
   "metadata": {},
   "source": [
    "#### WORD2VEC MODEL"
   ]
  },
  {
   "cell_type": "code",
   "execution_count": 11,
   "metadata": {
    "collapsed": true
   },
   "outputs": [],
   "source": [
    "# size = 64, dimensions\n",
    "# sg = 1, use Skip-Gram. If zero, it will use CBOW\n",
    "# window = 10, context words (10 to the left and 10 to the right)\n",
    "# min_count = 5, ignore words with frequency lower than that\n",
    "# seed = 42, the answer to the universe, life and everything.\n",
    "# workers = 2, number of worker threads.\n",
    "\n",
    "model = Word2Vec(sentences=gberg_sents, size=64, sg=1,\n",
    "                 window=10, min_count=5, seed=42,\n",
    "                 workers=2)"
   ]
  },
  {
   "cell_type": "code",
   "execution_count": 20,
   "metadata": {},
   "outputs": [
    {
     "name": "stdout",
     "output_type": "stream",
     "text": [
      "[ 0.34296483  0.05532566 -0.21205163  0.32596546  0.00207494  0.12069008\n",
      " -0.05977003  0.07316126 -0.28591055 -0.02184292 -0.49558225  0.04679359\n",
      "  0.42186084  0.2776949  -0.74914503 -0.4023161   0.02875098 -0.20496039\n",
      "  0.21274114  0.11231501 -0.35959798 -0.06497741  0.18458664  0.18352991\n",
      "  0.14681682 -0.06352735 -0.45754293  0.07231288  0.33555064 -0.19882931\n",
      " -0.22449888  0.1575363  -0.11164622  0.11218058 -0.12435019 -0.10511476\n",
      "  0.12068345  0.00771198  0.02310884 -0.13736874  0.51314455  0.68013847\n",
      "  0.320975    0.12866257  0.45659104  0.00336375  0.14776754  0.18479502\n",
      " -0.01093224  0.22522943  0.29057196 -0.209095   -0.39697525  0.51358646\n",
      "  0.5071581   0.01072131 -0.25463215  0.10907908 -0.30363446  0.10133105\n",
      " -0.20583077 -0.28887978 -0.2056847   0.22097714]\n",
      "\n",
      "\n",
      "[('courts', 0.6568223237991333), ('chamberlain', 0.6421010494232178), ('repair', 0.6394922733306885), ('building', 0.6199352741241455), ('lamentations', 0.6190214157104492), ('breaches', 0.6171466112136841), ('place', 0.6134630441665649), ('needle', 0.6110367774963379), ('chest', 0.610440731048584), ('banquet', 0.6090779304504395)]\n",
      "\n",
      "\n",
      "[('morning', 0.7086451053619385), ('evening', 0.6690338850021362), ('night', 0.6606902480125427), ('time', 0.6543093323707581), ('month', 0.6500550508499146), ('sabbath', 0.6495460271835327), ('Abib', 0.640857458114624), ('week', 0.636027455329895), ('afternoon', 0.6325843930244446), ('inn', 0.6313675045967102)]\n",
      "\n",
      "\n",
      "[('mother', 0.8452032804489136), ('sister', 0.7871717214584351), ('uncle', 0.7498297691345215), ('daughter', 0.7407287359237671), ('brother', 0.7320560216903687), ('younger', 0.7254915833473206), ('Amnon', 0.7142341732978821), ('Fanny', 0.7015140652656555), ('wife', 0.6964952945709229), ('companion', 0.6961150169372559)]\n",
      "\n",
      "\n",
      "house\n"
     ]
    },
    {
     "name": "stderr",
     "output_type": "stream",
     "text": [
      "C:\\Users\\Harshal\\Anaconda3\\lib\\site-packages\\ipykernel_launcher.py:2: DeprecationWarning: Call to deprecated `__getitem__` (Method will be removed in 4.0.0, use self.wv.__getitem__() instead).\n",
      "  \n",
      "C:\\Users\\Harshal\\Anaconda3\\lib\\site-packages\\gensim\\matutils.py:737: FutureWarning: Conversion of the second argument of issubdtype from `int` to `np.signedinteger` is deprecated. In future, it will be treated as `np.int32 == np.dtype(int).type`.\n",
      "  if np.issubdtype(vec.dtype, np.int):\n"
     ]
    }
   ],
   "source": [
    "# Shows the coordinates of the word ‘house’ in the vector space.\n",
    "print(model['house'])\n",
    "print('\\n')\n",
    "print(model.wv.most_similar('house'))\n",
    "print('\\n')\n",
    "print(model.wv.most_similar('day'))\n",
    "print('\\n')\n",
    "print(model.wv.most_similar('father'))\n",
    "print('\\n')\n",
    "\n",
    "print(model.wv.doesnt_match('mother father daughter house'.split()))"
   ]
  },
  {
   "cell_type": "markdown",
   "metadata": {},
   "source": [
    "#### SIMILARITY"
   ]
  },
  {
   "cell_type": "code",
   "execution_count": 19,
   "metadata": {},
   "outputs": [
    {
     "name": "stdout",
     "output_type": "stream",
     "text": [
      "0.41985577\n",
      "0.8452033\n"
     ]
    },
    {
     "name": "stderr",
     "output_type": "stream",
     "text": [
      "C:\\Users\\Harshal\\Anaconda3\\lib\\site-packages\\gensim\\matutils.py:737: FutureWarning: Conversion of the second argument of issubdtype from `int` to `np.signedinteger` is deprecated. In future, it will be treated as `np.int32 == np.dtype(int).type`.\n",
      "  if np.issubdtype(vec.dtype, np.int):\n"
     ]
    }
   ],
   "source": [
    "print(model.wv.similarity('father', 'house')) #gives the similarity between the two words\n",
    "print(model.wv.similarity('father', 'mother'))"
   ]
  },
  {
   "cell_type": "markdown",
   "metadata": {},
   "source": [
    "#### WORD VECTOR ARITHEMATIC"
   ]
  },
  {
   "cell_type": "code",
   "execution_count": 21,
   "metadata": {},
   "outputs": [
    {
     "name": "stdout",
     "output_type": "stream",
     "text": [
      "[('mother', 0.7795829772949219), ('sister', 0.7221390008926392), ('daughter', 0.715880811214447), ('husband', 0.7132024765014648), ('wife', 0.6938401460647583), ('child', 0.6685064435005188), ('younger', 0.6550260186195374), ('maid', 0.6343156099319458), ('concubine', 0.6319475173950195), ('Sarah', 0.6282892227172852)]\n"
     ]
    },
    {
     "name": "stderr",
     "output_type": "stream",
     "text": [
      "C:\\Users\\Harshal\\Anaconda3\\lib\\site-packages\\gensim\\matutils.py:737: FutureWarning: Conversion of the second argument of issubdtype from `int` to `np.signedinteger` is deprecated. In future, it will be treated as `np.int32 == np.dtype(int).type`.\n",
      "  if np.issubdtype(vec.dtype, np.int):\n"
     ]
    }
   ],
   "source": [
    "# father - man + woman = mother\n",
    "print(model.wv.most_similar(positive = ['father', 'woman'],\n",
    "                           negative = ['man']))"
   ]
  },
  {
   "cell_type": "code",
   "execution_count": 22,
   "metadata": {},
   "outputs": [
    {
     "name": "stdout",
     "output_type": "stream",
     "text": [
      "[('queen', 0.6484314203262329), ('Leah', 0.6371748447418213), ('Abram', 0.63588547706604), ('Hagar', 0.6309295892715454), ('Sarah', 0.6219012141227722), ('Laban', 0.6189050078392029), ('Bethuel', 0.6138893365859985), ('Abimelech', 0.6119816303253174), ('Rebekah', 0.6032483577728271), ('Zilpah', 0.5998505353927612)]\n"
     ]
    },
    {
     "name": "stderr",
     "output_type": "stream",
     "text": [
      "C:\\Users\\Harshal\\Anaconda3\\lib\\site-packages\\gensim\\matutils.py:737: FutureWarning: Conversion of the second argument of issubdtype from `int` to `np.signedinteger` is deprecated. In future, it will be treated as `np.int32 == np.dtype(int).type`.\n",
      "  if np.issubdtype(vec.dtype, np.int):\n"
     ]
    }
   ],
   "source": [
    "#king - man + woman = queen \n",
    "print(model.wv.most_similar(positive = ['king', 'woman'],\n",
    "                           negative = ['man']))"
   ]
  },
  {
   "cell_type": "code",
   "execution_count": 24,
   "metadata": {},
   "outputs": [
    {
     "name": "stderr",
     "output_type": "stream",
     "text": [
      "C:\\Users\\Harshal\\Anaconda3\\lib\\site-packages\\ipykernel_launcher.py:2: DeprecationWarning: Call to deprecated `__getitem__` (Method will be removed in 4.0.0, use self.wv.__getitem__() instead).\n",
      "  \n"
     ]
    },
    {
     "name": "stdout",
     "output_type": "stream",
     "text": [
      "          x         y  token\n",
      "0  0.063529  0.074211      [\n",
      "1  0.268697  0.447554    The\n",
      "2  0.310485  0.508151   King\n",
      "3 -0.275352 -0.766493  James\n",
      "4  0.094257  0.146109      ]\n"
     ]
    },
    {
     "data": {
      "text/plain": [
       "<matplotlib.axes._subplots.AxesSubplot at 0xbfeed5d2e8>"
      ]
     },
     "execution_count": 24,
     "metadata": {},
     "output_type": "execute_result"
    }
   ],
   "source": [
    "tsne = TSNE(n_components=2, n_iter=250)\n",
    "X = model[model.wv.vocab]\n",
    "X_2d = tsne.fit_transform(X)\n",
    "\n",
    "coords_df = pd.DataFrame(X_2d, columns=['x', 'y'])\n",
    "coords_df['token'] = model.wv.vocab.keys()\n",
    "print(coords_df.head())"
   ]
  },
  {
   "cell_type": "code",
   "execution_count": 27,
   "metadata": {},
   "outputs": [
    {
     "data": {
      "image/png": "[encoded data removed]",
      "text/plain": [
       "<Figure size 576x576 with 1 Axes>"
      ]
     },
     "metadata": {},
     "output_type": "display_data"
    }
   ],
   "source": [
    "# Plot the graph.\n",
    "import matplotlib.pyplot as plt\n",
    "coords_df.plot.scatter('x', 'y', figsize=(8,8),\n",
    "                       marker='o', s=10, alpha=0.2)\n",
    "plt.show()"
   ]
  },
  {
   "cell_type": "code",
   "execution_count": 29,
   "metadata": {},
   "outputs": [
    {
     "data": {
      "text/html": [
       "\n",
       "    <div class=\"bk-root\">\n",
       "        <a href=\"https://bokeh.pydata.org\" target=\"_blank\" class=\"bk-logo bk-logo-small bk-logo-notebook\"></a>\n",
       "        <span id=\"fd15d395-9b97-4203-bfc3-5d153be934fb\">Loading BokehJS ...</span>\n",
       "    </div>"
      ]
     },
     "metadata": {},
     "output_type": "display_data"
    },
    {
     "data": {
      "application/javascript": [
       "\n",
       "(function(root) {\n",
       "  function now() {\n",
       "    return new Date();\n",
       "  }\n",
       "\n",
       "  var force = true;\n",
       "\n",
       "  if (typeof (root._bokeh_onload_callbacks) === \"undefined\" || force === true) {\n",
       "    root._bokeh_onload_callbacks = [];\n",
       "    root._bokeh_is_loading = undefined;\n",
       "  }\n",
       "\n",
       "  var JS_MIME_TYPE = 'application/javascript';\n",
       "  var HTML_MIME_TYPE = 'text/html';\n",
       "  var EXEC_MIME_TYPE = 'application/vnd.bokehjs_exec.v0+json';\n",
       "  var CLASS_NAME = 'output_bokeh rendered_html';\n",
       "\n",
       "  /**\n",
       "   * Render data to the DOM node\n",
       "   */\n",
       "  function render(props, node) {\n",
       "    var script = document.createElement(\"script\");\n",
       "    node.appendChild(script);\n",
       "  }\n",
       "\n",
       "  /**\n",
       "   * Handle when an output is cleared or removed\n",
       "   */\n",
       "  function handleClearOutput(event, handle) {\n",
       "    var cell = handle.cell;\n",
       "\n",
       "    var id = cell.output_area._bokeh_element_id;\n",
       "    var server_id = cell.output_area._bokeh_server_id;\n",
       "    // Clean up Bokeh references\n",
       "    if (id !== undefined) {\n",
       "      Bokeh.index[id].model.document.clear();\n",
       "      delete Bokeh.index[id];\n",
       "    }\n",
       "\n",
       "    if (server_id !== undefined) {\n",
       "      // Clean up Bokeh references\n",
       "      var cmd = \"from bokeh.io.state import curstate; print(curstate().uuid_to_server['\" + server_id + \"'].get_sessions()[0].document.roots[0]._id)\";\n",
       "      cell.notebook.kernel.execute(cmd, {\n",
       "        iopub: {\n",
       "          output: function(msg) {\n",
       "            var element_id = msg.content.text.trim();\n",
       "            Bokeh.index[element_id].model.document.clear();\n",
       "            delete Bokeh.index[element_id];\n",
       "          }\n",
       "        }\n",
       "      });\n",
       "      // Destroy server and session\n",
       "      var cmd = \"import bokeh.io.notebook as ion; ion.destroy_server('\" + server_id + \"')\";\n",
       "      cell.notebook.kernel.execute(cmd);\n",
       "    }\n",
       "  }\n",
       "\n",
       "  /**\n",
       "   * Handle when a new output is added\n",
       "   */\n",
       "  function handleAddOutput(event, handle) {\n",
       "    var output_area = handle.output_area;\n",
       "    var output = handle.output;\n",
       "\n",
       "    // limit handleAddOutput to display_data with EXEC_MIME_TYPE content only\n",
       "    if ((output.output_type != \"display_data\") || (!output.data.hasOwnProperty(EXEC_MIME_TYPE))) {\n",
       "      return\n",
       "    }\n",
       "\n",
       "    var toinsert = output_area.element.find(`.${CLASS_NAME.split(' ')[0]}`);\n",
       "\n",
       "    if (output.metadata[EXEC_MIME_TYPE][\"id\"] !== undefined) {\n",
       "      toinsert[0].firstChild.textContent = output.data[JS_MIME_TYPE];\n",
       "      // store reference to embed id on output_area\n",
       "      output_area._bokeh_element_id = output.metadata[EXEC_MIME_TYPE][\"id\"];\n",
       "    }\n",
       "    if (output.metadata[EXEC_MIME_TYPE][\"server_id\"] !== undefined) {\n",
       "      var bk_div = document.createElement(\"div\");\n",
       "      bk_div.innerHTML = output.data[HTML_MIME_TYPE];\n",
       "      var script_attrs = bk_div.children[0].attributes;\n",
       "      for (var i = 0; i < script_attrs.length; i++) {\n",
       "        toinsert[0].firstChild.setAttribute(script_attrs[i].name, script_attrs[i].value);\n",
       "      }\n",
       "      // store reference to server id on output_area\n",
       "      output_area._bokeh_server_id = output.metadata[EXEC_MIME_TYPE][\"server_id\"];\n",
       "    }\n",
       "  }\n",
       "\n",
       "  function register_renderer(events, OutputArea) {\n",
       "\n",
       "    function append_mime(data, metadata, element) {\n",
       "      // create a DOM node to render to\n",
       "      var toinsert = this.create_output_subarea(\n",
       "        metadata,\n",
       "        CLASS_NAME,\n",
       "        EXEC_MIME_TYPE\n",
       "      );\n",
       "      this.keyboard_manager.register_events(toinsert);\n",
       "      // Render to node\n",
       "      var props = {data: data, metadata: metadata[EXEC_MIME_TYPE]};\n",
       "      render(props, toinsert[0]);\n",
       "      element.append(toinsert);\n",
       "      return toinsert\n",
       "    }\n",
       "\n",
       "    /* Handle when an output is cleared or removed */\n",
       "    events.on('clear_output.CodeCell', handleClearOutput);\n",
       "    events.on('delete.Cell', handleClearOutput);\n",
       "\n",
       "    /* Handle when a new output is added */\n",
       "    events.on('output_added.OutputArea', handleAddOutput);\n",
       "\n",
       "    /**\n",
       "     * Register the mime type and append_mime function with output_area\n",
       "     */\n",
       "    OutputArea.prototype.register_mime_type(EXEC_MIME_TYPE, append_mime, {\n",
       "      /* Is output safe? */\n",
       "      safe: true,\n",
       "      /* Index of renderer in `output_area.display_order` */\n",
       "      index: 0\n",
       "    });\n",
       "  }\n",
       "\n",
       "  // register the mime type if in Jupyter Notebook environment and previously unregistered\n",
       "  if (root.Jupyter !== undefined) {\n",
       "    var events = require('base/js/events');\n",
       "    var OutputArea = require('notebook/js/outputarea').OutputArea;\n",
       "\n",
       "    if (OutputArea.prototype.mime_types().indexOf(EXEC_MIME_TYPE) == -1) {\n",
       "      register_renderer(events, OutputArea);\n",
       "    }\n",
       "  }\n",
       "\n",
       "  \n",
       "  if (typeof (root._bokeh_timeout) === \"undefined\" || force === true) {\n",
       "    root._bokeh_timeout = Date.now() + 5000;\n",
       "    root._bokeh_failed_load = false;\n",
       "  }\n",
       "\n",
       "  var NB_LOAD_WARNING = {'data': {'text/html':\n",
       "     \"<div style='background-color: #fdd'>\\n\"+\n",
       "     \"<p>\\n\"+\n",
       "     \"BokehJS does not appear to have successfully loaded. If loading BokehJS from CDN, this \\n\"+\n",
       "     \"may be due to a slow or bad network connection. Possible fixes:\\n\"+\n",
       "     \"</p>\\n\"+\n",
       "     \"<ul>\\n\"+\n",
       "     \"<li>re-rerun `output_notebook()` to attempt to load from CDN again, or</li>\\n\"+\n",
       "     \"<li>use INLINE resources instead, as so:</li>\\n\"+\n",
       "     \"</ul>\\n\"+\n",
       "     \"<code>\\n\"+\n",
       "     \"from bokeh.resources import INLINE\\n\"+\n",
       "     \"output_notebook(resources=INLINE)\\n\"+\n",
       "     \"</code>\\n\"+\n",
       "     \"</div>\"}};\n",
       "\n",
       "  function display_loaded() {\n",
       "    var el = document.getElementById(\"fd15d395-9b97-4203-bfc3-5d153be934fb\");\n",
       "    if (el != null) {\n",
       "      el.textContent = \"BokehJS is loading...\";\n",
       "    }\n",
       "    if (root.Bokeh !== undefined) {\n",
       "      if (el != null) {\n",
       "        el.textContent = \"BokehJS \" + root.Bokeh.version + \" successfully loaded.\";\n",
       "      }\n",
       "    } else if (Date.now() < root._bokeh_timeout) {\n",
       "      setTimeout(display_loaded, 100)\n",
       "    }\n",
       "  }\n",
       "\n",
       "\n",
       "  function run_callbacks() {\n",
       "    try {\n",
       "      root._bokeh_onload_callbacks.forEach(function(callback) { callback() });\n",
       "    }\n",
       "    finally {\n",
       "      delete root._bokeh_onload_callbacks\n",
       "    }\n",
       "    console.info(\"Bokeh: all callbacks have finished\");\n",
       "  }\n",
       "\n",
       "  function load_libs(js_urls, callback) {\n",
       "    root._bokeh_onload_callbacks.push(callback);\n",
       "    if (root._bokeh_is_loading > 0) {\n",
       "      console.log(\"Bokeh: BokehJS is being loaded, scheduling callback at\", now());\n",
       "      return null;\n",
       "    }\n",
       "    if (js_urls == null || js_urls.length === 0) {\n",
       "      run_callbacks();\n",
       "      return null;\n",
       "    }\n",
       "    console.log(\"Bokeh: BokehJS not loaded, scheduling load and callback at\", now());\n",
       "    root._bokeh_is_loading = js_urls.length;\n",
       "    for (var i = 0; i < js_urls.length; i++) {\n",
       "      var url = js_urls[i];\n",
       "      var s = document.createElement('script');\n",
       "      s.src = url;\n",
       "      s.async = false;\n",
       "      s.onreadystatechange = s.onload = function() {\n",
       "        root._bokeh_is_loading--;\n",
       "        if (root._bokeh_is_loading === 0) {\n",
       "          console.log(\"Bokeh: all BokehJS libraries loaded\");\n",
       "          run_callbacks()\n",
       "        }\n",
       "      };\n",
       "      s.onerror = function() {\n",
       "        console.warn(\"failed to load library \" + url);\n",
       "      };\n",
       "      console.log(\"Bokeh: injecting script tag for BokehJS library: \", url);\n",
       "      document.getElementsByTagName(\"head\")[0].appendChild(s);\n",
       "    }\n",
       "  };var element = document.getElementById(\"fd15d395-9b97-4203-bfc3-5d153be934fb\");\n",
       "  if (element == null) {\n",
       "    console.log(\"Bokeh: ERROR: autoload.js configured with elementid 'fd15d395-9b97-4203-bfc3-5d153be934fb' but no matching script tag was found. \")\n",
       "    return false;\n",
       "  }\n",
       "\n",
       "  var js_urls = [\"https://cdn.pydata.org/bokeh/release/bokeh-0.12.10.min.js\", \"https://cdn.pydata.org/bokeh/release/bokeh-widgets-0.12.10.min.js\", \"https://cdn.pydata.org/bokeh/release/bokeh-tables-0.12.10.min.js\", \"https://cdn.pydata.org/bokeh/release/bokeh-gl-0.12.10.min.js\"];\n",
       "\n",
       "  var inline_js = [\n",
       "    function(Bokeh) {\n",
       "      Bokeh.set_log_level(\"info\");\n",
       "    },\n",
       "    \n",
       "    function(Bokeh) {\n",
       "      \n",
       "    },\n",
       "    function(Bokeh) {\n",
       "      console.log(\"Bokeh: injecting CSS: https://cdn.pydata.org/bokeh/release/bokeh-0.12.10.min.css\");\n",
       "      Bokeh.embed.inject_css(\"https://cdn.pydata.org/bokeh/release/bokeh-0.12.10.min.css\");\n",
       "      console.log(\"Bokeh: injecting CSS: https://cdn.pydata.org/bokeh/release/bokeh-widgets-0.12.10.min.css\");\n",
       "      Bokeh.embed.inject_css(\"https://cdn.pydata.org/bokeh/release/bokeh-widgets-0.12.10.min.css\");\n",
       "      console.log(\"Bokeh: injecting CSS: https://cdn.pydata.org/bokeh/release/bokeh-tables-0.12.10.min.css\");\n",
       "      Bokeh.embed.inject_css(\"https://cdn.pydata.org/bokeh/release/bokeh-tables-0.12.10.min.css\");\n",
       "    }\n",
       "  ];\n",
       "\n",
       "  function run_inline_js() {\n",
       "    \n",
       "    if ((root.Bokeh !== undefined) || (force === true)) {\n",
       "      for (var i = 0; i < inline_js.length; i++) {\n",
       "        inline_js[i].call(root, root.Bokeh);\n",
       "      }if (force === true) {\n",
       "        display_loaded();\n",
       "      }} else if (Date.now() < root._bokeh_timeout) {\n",
       "      setTimeout(run_inline_js, 100);\n",
       "    } else if (!root._bokeh_failed_load) {\n",
       "      console.log(\"Bokeh: BokehJS failed to load within specified timeout.\");\n",
       "      root._bokeh_failed_load = true;\n",
       "    } else if (force !== true) {\n",
       "      var cell = $(document.getElementById(\"fd15d395-9b97-4203-bfc3-5d153be934fb\")).parents('.cell').data().cell;\n",
       "      cell.output_area.append_execute_result(NB_LOAD_WARNING)\n",
       "    }\n",
       "\n",
       "  }\n",
       "\n",
       "  if (root._bokeh_is_loading === 0) {\n",
       "    console.log(\"Bokeh: BokehJS loaded, going straight to plotting\");\n",
       "    run_inline_js();\n",
       "  } else {\n",
       "    load_libs(js_urls, function() {\n",
       "      console.log(\"Bokeh: BokehJS plotting callback run at\", now());\n",
       "      run_inline_js();\n",
       "    });\n",
       "  }\n",
       "}(window));"
      ],
      "application/vnd.bokehjs_load.v0+json": "\n(function(root) {\n  function now() {\n    return new Date();\n  }\n\n  var force = true;\n\n  if (typeof (root._bokeh_onload_callbacks) === \"undefined\" || force === true) {\n    root._bokeh_onload_callbacks = [];\n    root._bokeh_is_loading = undefined;\n  }\n\n  \n\n  \n  if (typeof (root._bokeh_timeout) === \"undefined\" || force === true) {\n    root._bokeh_timeout = Date.now() + 5000;\n    root._bokeh_failed_load = false;\n  }\n\n  var NB_LOAD_WARNING = {'data': {'text/html':\n     \"<div style='background-color: #fdd'>\\n\"+\n     \"<p>\\n\"+\n     \"BokehJS does not appear to have successfully loaded. If loading BokehJS from CDN, this \\n\"+\n     \"may be due to a slow or bad network connection. Possible fixes:\\n\"+\n     \"</p>\\n\"+\n     \"<ul>\\n\"+\n     \"<li>re-rerun `output_notebook()` to attempt to load from CDN again, or</li>\\n\"+\n     \"<li>use INLINE resources instead, as so:</li>\\n\"+\n     \"</ul>\\n\"+\n     \"<code>\\n\"+\n     \"from bokeh.resources import INLINE\\n\"+\n     \"output_notebook(resources=INLINE)\\n\"+\n     \"</code>\\n\"+\n     \"</div>\"}};\n\n  function display_loaded() {\n    var el = document.getElementById(\"fd15d395-9b97-4203-bfc3-5d153be934fb\");\n    if (el != null) {\n      el.textContent = \"BokehJS is loading...\";\n    }\n    if (root.Bokeh !== undefined) {\n      if (el != null) {\n        el.textContent = \"BokehJS \" + root.Bokeh.version + \" successfully loaded.\";\n      }\n    } else if (Date.now() < root._bokeh_timeout) {\n      setTimeout(display_loaded, 100)\n    }\n  }\n\n\n  function run_callbacks() {\n    try {\n      root._bokeh_onload_callbacks.forEach(function(callback) { callback() });\n    }\n    finally {\n      delete root._bokeh_onload_callbacks\n    }\n    console.info(\"Bokeh: all callbacks have finished\");\n  }\n\n  function load_libs(js_urls, callback) {\n    root._bokeh_onload_callbacks.push(callback);\n    if (root._bokeh_is_loading > 0) {\n      console.log(\"Bokeh: BokehJS is being loaded, scheduling callback at\", now());\n      return null;\n    }\n    if (js_urls == null || js_urls.length === 0) {\n      run_callbacks();\n      return null;\n    }\n    console.log(\"Bokeh: BokehJS not loaded, scheduling load and callback at\", now());\n    root._bokeh_is_loading = js_urls.length;\n    for (var i = 0; i < js_urls.length; i++) {\n      var url = js_urls[i];\n      var s = document.createElement('script');\n      s.src = url;\n      s.async = false;\n      s.onreadystatechange = s.onload = function() {\n        root._bokeh_is_loading--;\n        if (root._bokeh_is_loading === 0) {\n          console.log(\"Bokeh: all BokehJS libraries loaded\");\n          run_callbacks()\n        }\n      };\n      s.onerror = function() {\n        console.warn(\"failed to load library \" + url);\n      };\n      console.log(\"Bokeh: injecting script tag for BokehJS library: \", url);\n      document.getElementsByTagName(\"head\")[0].appendChild(s);\n    }\n  };var element = document.getElementById(\"fd15d395-9b97-4203-bfc3-5d153be934fb\");\n  if (element == null) {\n    console.log(\"Bokeh: ERROR: autoload.js configured with elementid 'fd15d395-9b97-4203-bfc3-5d153be934fb' but no matching script tag was found. \")\n    return false;\n  }\n\n  var js_urls = [\"https://cdn.pydata.org/bokeh/release/bokeh-0.12.10.min.js\", \"https://cdn.pydata.org/bokeh/release/bokeh-widgets-0.12.10.min.js\", \"https://cdn.pydata.org/bokeh/release/bokeh-tables-0.12.10.min.js\", \"https://cdn.pydata.org/bokeh/release/bokeh-gl-0.12.10.min.js\"];\n\n  var inline_js = [\n    function(Bokeh) {\n      Bokeh.set_log_level(\"info\");\n    },\n    \n    function(Bokeh) {\n      \n    },\n    function(Bokeh) {\n      console.log(\"Bokeh: injecting CSS: https://cdn.pydata.org/bokeh/release/bokeh-0.12.10.min.css\");\n      Bokeh.embed.inject_css(\"https://cdn.pydata.org/bokeh/release/bokeh-0.12.10.min.css\");\n      console.log(\"Bokeh: injecting CSS: https://cdn.pydata.org/bokeh/release/bokeh-widgets-0.12.10.min.css\");\n      Bokeh.embed.inject_css(\"https://cdn.pydata.org/bokeh/release/bokeh-widgets-0.12.10.min.css\");\n      console.log(\"Bokeh: injecting CSS: https://cdn.pydata.org/bokeh/release/bokeh-tables-0.12.10.min.css\");\n      Bokeh.embed.inject_css(\"https://cdn.pydata.org/bokeh/release/bokeh-tables-0.12.10.min.css\");\n    }\n  ];\n\n  function run_inline_js() {\n    \n    if ((root.Bokeh !== undefined) || (force === true)) {\n      for (var i = 0; i < inline_js.length; i++) {\n        inline_js[i].call(root, root.Bokeh);\n      }if (force === true) {\n        display_loaded();\n      }} else if (Date.now() < root._bokeh_timeout) {\n      setTimeout(run_inline_js, 100);\n    } else if (!root._bokeh_failed_load) {\n      console.log(\"Bokeh: BokehJS failed to load within specified timeout.\");\n      root._bokeh_failed_load = true;\n    } else if (force !== true) {\n      var cell = $(document.getElementById(\"fd15d395-9b97-4203-bfc3-5d153be934fb\")).parents('.cell').data().cell;\n      cell.output_area.append_execute_result(NB_LOAD_WARNING)\n    }\n\n  }\n\n  if (root._bokeh_is_loading === 0) {\n    console.log(\"Bokeh: BokehJS loaded, going straight to plotting\");\n    run_inline_js();\n  } else {\n    load_libs(js_urls, function() {\n      console.log(\"Bokeh: BokehJS plotting callback run at\", now());\n      run_inline_js();\n    });\n  }\n}(window));"
     },
     "metadata": {},
     "output_type": "display_data"
    },
    {
     "data": {
      "text/html": [
       "\n",
       "<div class=\"bk-root\">\n",
       "    <div class=\"bk-plotdiv\" id=\"af0a115d-dcf3-4aef-8201-6dce23926e4e\"></div>\n",
       "</div>"
      ]
     },
     "metadata": {},
     "output_type": "display_data"
    },
    {
     "data": {
      "application/javascript": [
       "(function(root) {\n",
       "  function embed_document(root) {\n",
       "    var docs_json = {\"753959b8-1e27-436c-b522-0a933d9c5521\":{\"roots\":{\"references\":[{\"attributes\":{\"plot\":null,\"text\":\"\"},\"id\":\"451e4656-1d18-4647-b84c-012c9f35cc43\",\"type\":\"Title\"},{\"attributes\":{},\"id\":\"7d6bfd7b-c831-4e79-bffe-865c75d3bd42\",\"type\":\"BasicTicker\"},{\"attributes\":{},\"id\":\"4528fa6c-2c8d-4fc3-9e4e-93ec180307f2\",\"type\":\"BasicTickFormatter\"},{\"attributes\":{\"plot\":{\"id\":\"e4f643c2-deea-430b-99c7-7f719c430202\",\"subtype\":\"Figure\",\"type\":\"Plot\"},\"ticker\":{\"id\":\"5c9deaca-e60c-44dd-a932-15b291b2a88a\",\"type\":\"BasicTicker\"}},\"id\":\"c46b629c-3c4d-4578-90f7-54bc29044f7a\",\"type\":\"Grid\"},{\"attributes\":{\"formatter\":{\"id\":\"6a05e702-4ac8-4d27-a08b-6da7c690fed8\",\"type\":\"BasicTickFormatter\"},\"plot\":{\"id\":\"e4f643c2-deea-430b-99c7-7f719c430202\",\"subtype\":\"Figure\",\"type\":\"Plot\"},\"ticker\":{\"id\":\"5c9deaca-e60c-44dd-a932-15b291b2a88a\",\"type\":\"BasicTicker\"}},\"id\":\"a0465249-6963-4690-a639-f2f2db608e7b\",\"type\":\"LinearAxis\"},{\"attributes\":{\"dimension\":1,\"plot\":{\"id\":\"e4f643c2-deea-430b-99c7-7f719c430202\",\"subtype\":\"Figure\",\"type\":\"Plot\"},\"ticker\":{\"id\":\"7d6bfd7b-c831-4e79-bffe-865c75d3bd42\",\"type\":\"BasicTicker\"}},\"id\":\"2aa14e04-061f-4dcf-970a-3185c4390362\",\"type\":\"Grid\"},{\"attributes\":{},\"id\":\"6a05e702-4ac8-4d27-a08b-6da7c690fed8\",\"type\":\"BasicTickFormatter\"},{\"attributes\":{},\"id\":\"04634a01-e994-48f2-9abb-e189f8f539ca\",\"type\":\"LinearScale\"},{\"attributes\":{\"text_color\":{\"value\":\"black\"},\"x\":{\"field\":\"x\"},\"y\":{\"field\":\"y\"}},\"id\":\"1215fb9d-8170-4357-96db-42e5f1e6f32b\",\"type\":\"Text\"},{\"attributes\":{\"callback\":null,\"column_names\":[\"x\",\"y\",\"text\"],\"data\":{\"text\":[\"limits\",\"lodged\",\"Lo\",\"sweet\",\"comprehending\",\"apprehensions\",\"ministers\",\"propriety\",\"Shishak\",\"Moreover\",\"burning\",\"handsomely\",\"seeth\",\"twisted\",\"distressing\",\"dining\",\"2\",\"gallant\",\"Meshech\",\"graciously\",\"hid\",\"exertion\",\"remainder\",\"darling\",\"price\",\"inexcusable\",\"bonnets\",\"palace\",\"distinct\",\"Rachel\",\"accuse\",\"creditable\",\"misery\",\"cats\",\"wives\",\"clearing\",\"pronounced\",\"Tirshatha\",\"looking\",\"twelve\",\"menservants\",\"Shemaiah\",\"apiece\",\"Open\",\"bolster\",\"whore\",\"Taunton\",\"Knave\",\"fatigued\",\"unwelcome\",\"Jesus\",\"cease\",\"Ammihud\",\"hearty\",\"foreseeing\",\"elevated\",\"vanish\",\"Edomites\",\"lusts\",\"observe\",\"Ahilud\",\"sins\",\"finally\",\"enmity\",\"hints\",\"brotherly\",\"--`\",\"Judge\",\"intend\",\"slight\",\"spice\",\"separateth\",\"magnified\",\"150\",\"Trouble\",\"objects\",\"ornaments\",\"persuasion\",\"larger\",\"established\",\"rumour\",\"nettles\",\"Kenites\",\"sending\",\"island\",\"patiently\",\"beaux\",\"WOULD\",\"Concerning\",\"united\",\"skull\",\"Nun\",\"justification\",\"gnashing\",\"utterly\",\"proportion\",\"weary\",\"rule\",\"sky\",\"chin\",\"Beware\",\"uproar\",\"tenth\",\"sentiments\",\"desert\",\"alike\",\"lobsters\",\"spake\",\"acquired\",\"prevailing\",\"pictures\",\"miracles\",\"expressly\",\"notable\",\"promote\",\"conviction\",\"journeys\",\"warmth\",\"accepting\",\"kindly\",\"Remove\",\"beforetime\",\"ravening\",\"colt\",\"fault\",\"yes\",\"income\",\"La\",\"Grant\",\"proclaimed\",\"Cyprus\",\"Whither\",\"stable\",\"41\",\"liveliness\",\"Asaiah\",\"78\",\"Berkeley\",\"proposed\",\"parts\",\"when\",\"Zerah\",\"honestly\",\"avenge\",\"full\",\"finished\",\"wool\",\"angrily\",\"nail\",\"gratitude\",\"94\",\"profaned\",\"Henrietta\",\"welcomed\",\"wheat\",\"Hold\",\"suffered\",\"openly\",\"denial\",\"allowances\",\"belong\",\"craftsmen\",\"compassionate\",\"sinners\",\"verse\",\"Uri\",\"hand\",\"awful\",\"Israelites\",\"horseback\",\"generous\",\"Korah\",\"connexions\",\"Boaz\",\"counsellor\",\"attach\",\"memory\",\"prevented\",\"stubble\",\"lap\",\"Haman\",\"evils\",\"Jonah\",\"froward\",\"ONE\",\"Since\",\"Machpelah\",\"operation\",\"covenant\",\"Did\",\"whoredoms\",\"depends\",\"artless\",\"foretold\",\"dipped\",\"inattention\",\"Zarhites\",\"fewer\",\"modest\",\"best\",\"toward\",\"extended\",\"profiteth\",\"south\",\"cornet\",\"Hananiah\",\"ceaseless\",\"temporary\",\"kinds\",\"shouted\",\"Jeremiah\",\"Cheshire\",\"sends\",\"Tamar\",\"offending\",\"temple\",\"take\",\"wishing\",\"Helon\",\"privately\",\"exultation\",\"Know\",\"vicarage\",\"Hagar\",\"made\",\"producing\",\"Amram\",\"pan\",\"imprudent\",\"wet\",\"chanced\",\"murderers\",\"guard\",\"chain\",\"diffident\",\"Abihail\",\"whirlwind\",\"deeds\",\"travaileth\",\"arise\",\"breeches\",\"loaves\",\"treasures\",\"hardness\",\"suffereth\",\"miserable\",\"Jane\",\"worse\",\"presents\",\"married\",\"flutter\",\"unsearchable\",\"dried\",\"Ashtaroth\",\"tolerably\",\"resentment\",\"solitary\",\"26\",\"dreadfully\",\"assembled\",\"fairly\",\"claims\",\"Esq\",\"scorn\",\"Gadites\",\"compelled\",\"misfortune\",\"Nevertheless\",\"holdest\",\"accommodation\",\"Achan\",\"sinking\",\"sorceries\",\"worst\",\"members\",\"inferiority\",\"females\",\"virtues\",\"Elkanah\",\"yet\",\"girl\",\"fight\",\"hosts\",\"THEY\",\"supposed\",\"Bond\",\"touch\",\"fetching\",\"founder\",\"recovering\",\"Eleazar\",\"fainted\",\"reading\",\"appealed\",\"cluster\",\"housetop\",\"Honour\",\"coldness\",\"shortened\",\"wafers\",\"view\",\"Ornan\",\"temper\",\"Abide\",\"partaker\",\"Dishon\",\"ascended\",\"ve\",\"politely\",\"Seek\",\"rest\",\"place\",\"infirmity\",\"Hayter\",\"reward\",\"Them\",\"sittest\",\"trespassed\",\"timidly\",\":--\\\"\",\"Knowing\",\"manservant\",\"distinguishing\",\"rot\",\"remove\",\"discern\",\"hideth\",\"beginnings\",\"workmen\",\"faith\",\"besiege\",\"holiness\",\"76\",\"Next\",\"thieves\",\"Shaul\",\"holding\",\"him\",\"Achish\",\"wages\",\"Carmel\",\"Rephaim\",\"multitude\",\"instant\",\"reddish\",\"affrighted\",\"sacrifice\",\"lucky\",\"puttest\",\"designs\",\"Wilt\",\"goest\",\"whether\",\"blast\",\"rapid\",\"beam\",\"habitation\",\"diverse\",\"quantity\",\"nails\",\"renewal\",\"Samaritans\",\"weakened\",\"devoted\",\"laid\",\"scum\",\"secrets\",\"curtains\",\"rendered\",\"succeeded\",\"tossed\",\"plagued\",\"Edom\",\"Grove\",\"sword\",\"inherit\",\"prettily\",\"lifting\",\"Coxes\",\"Abram\",\"stick\",\"precept\",\"dividing\",\"whims\",\"throughly\",\"cure\",\"perpetual\",\"offer\",\"leanness\",\"perverted\",\"Sing\",\"flower\",\"increaseth\",\"independent\",\"go\",\"locks\",\"March\",\"render\",\"giveth\",\"sanctified\",\"96\",\"affliction\",\"perplexed\",\"Maon\",\"_her_\",\"razor\",\"hanged\",\"lock\",\"oppressors\",\"speech\",\"Bigvai\",\"disinterested\",\"perish\",\"godliness\",\"fatigue\",\"knoweth\",\"Very\",\"polls\",\"beseech\",\"age\",\"blow\",\"relating\",\"Bethlehem\",\"encouragement\",\"refusal\",\"disposition\",\"Were\",\"pursueth\",\"slowly\",\"going\",\"appointed\",\"Pratt\",\"Geshur\",\"there\",\"rejoicing\",\"guilty\",\"tithe\",\"other\",\"encamp\",\"betraying\",\"justice\",\"twins\",\"Machir\",\"importance\",\"prophecy\",\"neither\",\"58\",\"choked\",\"manage\",\"sprung\",\"whoring\",\"abhorred\",\"wilderness\",\"bases\",\"medicine\",\"answereth\",\"knewest\",\"like\",\"fatlings\",\"Slay\",\"provision\",\"newspaper\",\"seclusion\",\"wherein\",\"gratification\",\"sowed\",\"astray\",\"Eliphaz\",\"transgress\",\"tail\",\"hookah\",\"Carry\",\"named\",\"accommodate\",\"caution\",\"loved\",\"personally\",\"yours\",\"improvements\",\"Come\",\"Arad\",\"dough\",\"wickedly\",\"Damascus\",\"deserving\",\"5\",\"danced\",\"nor\",\"convinced\",\"off\",\"Mock\",\"Tirzah\",\"laughing\",\"casting\",\"Isaac\",\"accomplished\",\"heaven\",\"unfit\",\"confessing\",\"tails\",\"cheerfully\",\"dumb\",\"Joah\",\"pursuers\",\"Seir\",\"heavens\",\"Seth\",\"disengaged\",\"wipe\",\"intentions\",\"building\",\"skill\",\"WHAT\",\"exertions\",\"Hashabiah\",\"twice\",\"drave\",\"Shunammite\",\"destroy\",\"Chenaanah\",\"thorough\",\"tired\",\"Gath\",\"recollection\",\"Urim\",\"chamberlains\",\"interference\",\"agony\",\"Morton\",\"shine\",\"Suppose\",\"penance\",\"conveyed\",\"robbers\",\"broughtest\",\"65\",\"collecting\",\"wroth\",\"sackcloth\",\"nests\",\"warmly\",\"request\",\"rods\",\"name\",\"rams\",\"frogs\",\"preached\",\"waxed\",\"intently\",\"diminished\",\"Marianne\",\"Do\",\"submission\",\"sore\",\"loins\",\"Gilbert\",\"Cleveland\",\"leisure\",\"strangers\",\"admires\",\"spread\",\"widows\",\"dance\",\"garment\",\"presumptuously\",\"suddenly\",\"Three\",\"sufficed\",\"Festus\",\"firstfruits\",\"creeping\",\"fifties\",\"bush\",\"ass\",\"cottage\",\"strengthened\",\"distinguished\",\"noise\",\"Weston\",\"mortifying\",\"uttereth\",\"French\",\"alien\",\"?)\",\"too\",\"flood\",\"twenty\",\"saint\",\"prey\",\"potter\",\"comely\",\"from\",\"foul\",\"seed\",\"committed\",\"Crown\",\"lowering\",\"unsuspicious\",\"owe\",\"Men\",\"suspicious\",\"threescore\",\"Joiarib\",\"change\",\"sir\",\"cried\",\"eloquence\",\"iniquities\",\"might\",\"contradict\",\"song\",\"Footman\",\"flame\",\"Malchijah\",\"attachment\",\"Anah\",\"services\",\"comfort\",\"assisting\",\"Abigail\",\"theirs\",\"changed\",\"quitted\",\"stirring\",\"liers\",\"brass\",\"cut\",\"melancholy\",\"stretching\",\"Saint\",\"happens\",\"seems\",\"writes\",\"meek\",\"staff\",\"Shem\",\"company\",\"groves\",\"easy\",\"136\",\"gained\",\"restore\",\"Padanaram\",\"blasphemy\",\"misconduct\",\"hail\",\"though\",\"increase\",\"Moabitess\",\"sentiment\",\"works\",\"basons\",\"sick\",\"Trust\",\"engage\",\"entertained\",\"Buy\",\"herself\",\"listened\",\"prosper\",\"Anne\",\"valleys\",\"bottom\",\"tricks\",\"deputy\",\"Zidonians\",\"33\",\"hard\",\"Taylor\",\"revive\",\"forehead\",\"fright\",\"travel\",\"filled\",\"Josiah\",\"generally\",\"reference\",\"Ram\",\"accusers\",\"MY\",\"At\",\"landed\",\"pursue\",\"Ammishaddai\",\"hat\",\"Joram\",\"compose\",\"seated\",\"utter\",\"afflicted\",\"finery\",\"advice\",\"declares\",\"Bristol\",\"whence\",\"stain\",\"detained\",\"oppression\",\"widow\",\"archers\",\"proclamation\",\"probability\",\"consolation\",\"quicker\",\"departed\",\"Thy\",\"punish\",\"issue\",\"pale\",\"Judah\",\"verily\",\"giants\",\"arose\",\"refuge\",\"not\",\"graven\",\"perception\",\"salvation\",\"Sunday\",\"steep\",\"blessings\",\"remaineth\",\"helped\",\"hearts\",\"overpowered\",\"mutual\",\"sensations\",\"candlesticks\",\"refreshing\",\"obliging\",\"spending\",\"regretting\",\"alloy\",\"prophesied\",\"vehemently\",\"gently\",\"motives\",\"Sheshan\",\"sharp\",\"49\",\"expert\",\"simple\",\"mama\",\"monstrous\",\"exactly\",\"decent\",\"principal\",\"bruise\",\"marked\",\"ancients\",\"d\",\"disgrace\",\"edge\",\"Ruth\",\"low\",\"weariness\",\"Gomer\",\"dropt\",\"abhor\",\"maintained\",\"Jazer\",\"spot\",\"consider\",\"uprightly\",\"corner\",\"Their\",\"consulting\",\"gaze\",\"sorrowful\",\"109\",\"discovery\",\"finest\",\"Kadeshbarnea\",\"scarlet\",\"banquet\",\"goods\",\"commandments\",\"standing\",\"Bates\",\"perpetually\",\"maiden\",\"fell\",\"repetition\",\"calculated\",\"matter\",\"perils\",\"walks\",\"honoured\",\"be\",\"Nob\",\"taches\",\"course\",\"Until\",\"byword\",\"school\",\"baptized\",\"ended\",\"defer\",\"doubts\",\"fasted\",\"mystery\",\"Certainly\",\"Dinah\",\"sunder\",\"Good\",\"cloak\",\"white\",\"Ahimelech\",\"slew\",\"Elath\",\";)\",\"Hepher\",\"sleepy\",\"conducted\",\"Israel\",\"pleaseth\",\"soweth\",\"faces\",\"occupation\",\"log\",\"priests\",\"furrows\",\"Achbor\",\"Hivites\",\"bade\",\"doesn\",\"39\",\"gratefully\",\"hole\",\"barouche\",\"needle\",\"governors\",\"Martins\",\"assent\",\"driving\",\"eunuch\",\"borrowed\",\"custom\",\"c\",\"troubled\",\"darkened\",\"marriage\",\"selfish\",\"Ur\",\"Gezer\",\"resolve\",\"dissatisfied\",\"tea\",\"runneth\",\"calm\",\"Dalrymple\",\"respected\",\"jeopardy\",\"murmurings\",\"Egypt\",\"entrance\",\"rod\",\"indignantly\",\"carcase\",\"tempting\",\"eateth\",\"dim\",\"barren\",\"improper\",\"thrown\",\"breadth\",\"mind\",\"ye\",\"variation\",\"unclean\",\"profession\",\"Adar\",\"witnesses\",\"106\",\"hazard\",\"solemnity\",\"daubed\",\"Frank\",\"beg\",\"besieged\",\"66\",\"lovely\",\"unfruitful\",\"hadn\",\"living\",\"flock\",\"bind\",\"moderately\",\"blood\",\"--'\",\"grieve\",\"deliver\",\"to\",\"Timnath\",\"unsuitable\",\"resorted\",\"softly\",\"Abednego\",\"renewed\",\"thirteenth\",\"earth\",\"passover\",\"kindled\",\"desolation\",\"feel\",\"china\",\"affectionate\",\"apparent\",\"wrung\",\"--\\\"\",\"smiling\",\"Mushi\",\"throwing\",\"exact\",\"willows\",\"prevailed\",\"demands\",\"Zobah\",\"implied\",\"roughly\",\"fourscore\",\"We\",\"affording\",\"mild\",\"occasion\",\"sisters\",\"Ehud\",\"bondage\",\"aloud\",\"succeed\",\"farther\",\"Repent\",\"Knightley\",\"Ephratah\",\"removed\",\"tempted\",\"balances\",\"Shaphat\",\"virtue\",\"astonished\",\"Gaal\",\"ridicule\",\"sendeth\",\"wide\",\"righteous\",\"possessions\",\"judgeth\",\"kingdoms\",\"Baalpeor\",\"dishes\",\"passage\",\"coast\",\"56\",\"sanctify\",\"took\",\"forsook\",\"Wentworth\",\"battles\",\"stink\",\"Peradventure\",\"creepeth\",\"beaten\",\"friendship\",\"sit\",\"trouble\",\"Amalekites\",\"When\",\"musick\",\"expose\",\"Bathsheba\",\"This\",\"couple\",\"downward\",\"Ammonites\",\"die\",\"matrimony\",\"bless\",\"symptom\",\"southward\",\"outer\",\"sticks\",\"abominations\",\"Among\",\"unlearned\",\"man\",\"Return\",\"solicitude\",\"resisted\",\"clearness\",\"contentious\",\"reconcile\",\"redemption\",\"friend\",\"odious\",\"information\",\"contrast\",\"grieved\",\"Beautiful\",\"Christ\",\"fourth\"],\"x\":{\"__ndarray__\":\"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\",\"dtype\":\"float32\",\"shape\":[1000]},\"y\":{\"__ndarray__\":\"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\",\"dtype\":\"float32\",\"shape\":[1000]}}},\"id\":\"0b163c32-60e5-403d-9ce3-274fb716dd63\",\"type\":\"ColumnDataSource\"},{\"attributes\":{\"bottom_units\":\"screen\",\"fill_alpha\":{\"value\":0.5},\"fill_color\":{\"value\":\"lightgrey\"},\"left_units\":\"screen\",\"level\":\"overlay\",\"line_alpha\":{\"value\":1.0},\"line_color\":{\"value\":\"black\"},\"line_dash\":[4,4],\"line_width\":{\"value\":2},\"plot\":null,\"render_mode\":\"css\",\"right_units\":\"screen\",\"top_units\":\"screen\"},\"id\":\"d1fc78b0-0ef0-4a8a-a528-7f83da628760\",\"type\":\"BoxAnnotation\"},{\"attributes\":{\"active_drag\":\"auto\",\"active_inspect\":\"auto\",\"active_scroll\":\"auto\",\"active_tap\":\"auto\",\"tools\":[{\"id\":\"0173c90b-67a1-4798-91cd-315455495c20\",\"type\":\"PanTool\"},{\"id\":\"9a1dc5df-c695-4305-8b02-76186e28d656\",\"type\":\"WheelZoomTool\"},{\"id\":\"4af775c1-0512-40fe-992e-07630e08080d\",\"type\":\"BoxZoomTool\"},{\"id\":\"79858ce6-2476-45c0-998d-5fe5ca5891e7\",\"type\":\"SaveTool\"},{\"id\":\"a7a2c2c2-8c28-4035-8242-f4886fa4f947\",\"type\":\"ResetTool\"},{\"id\":\"f85f4350-d0bf-4d5a-bf0c-4f78f51cf1c3\",\"type\":\"HelpTool\"}]},\"id\":\"f938afb4-4cdd-453b-a939-dd6f7d6302a9\",\"type\":\"Toolbar\"},{\"attributes\":{},\"id\":\"0173c90b-67a1-4798-91cd-315455495c20\",\"type\":\"PanTool\"},{\"attributes\":{\"text_alpha\":{\"value\":0.1},\"text_color\":{\"value\":\"black\"},\"x\":{\"field\":\"x\"},\"y\":{\"field\":\"y\"}},\"id\":\"da723f89-0a03-4758-ad65-f94d3ed5ca80\",\"type\":\"Text\"},{\"attributes\":{},\"id\":\"9a1dc5df-c695-4305-8b02-76186e28d656\",\"type\":\"WheelZoomTool\"},{\"attributes\":{\"overlay\":{\"id\":\"d1fc78b0-0ef0-4a8a-a528-7f83da628760\",\"type\":\"BoxAnnotation\"}},\"id\":\"4af775c1-0512-40fe-992e-07630e08080d\",\"type\":\"BoxZoomTool\"},{\"attributes\":{\"callback\":null},\"id\":\"42ffa56e-8d97-46ea-a72e-1508696c8deb\",\"type\":\"DataRange1d\"},{\"attributes\":{},\"id\":\"5c9deaca-e60c-44dd-a932-15b291b2a88a\",\"type\":\"BasicTicker\"},{\"attributes\":{},\"id\":\"79858ce6-2476-45c0-998d-5fe5ca5891e7\",\"type\":\"SaveTool\"},{\"attributes\":{\"callback\":null},\"id\":\"0ce3afde-cc93-4bfa-8366-84e53457ad31\",\"type\":\"DataRange1d\"},{\"attributes\":{},\"id\":\"a7a2c2c2-8c28-4035-8242-f4886fa4f947\",\"type\":\"ResetTool\"},{\"attributes\":{},\"id\":\"f85f4350-d0bf-4d5a-bf0c-4f78f51cf1c3\",\"type\":\"HelpTool\"},{\"attributes\":{\"formatter\":{\"id\":\"4528fa6c-2c8d-4fc3-9e4e-93ec180307f2\",\"type\":\"BasicTickFormatter\"},\"plot\":{\"id\":\"e4f643c2-deea-430b-99c7-7f719c430202\",\"subtype\":\"Figure\",\"type\":\"Plot\"},\"ticker\":{\"id\":\"7d6bfd7b-c831-4e79-bffe-865c75d3bd42\",\"type\":\"BasicTicker\"}},\"id\":\"3446b405-99f1-42b2-9e49-fcdb60937575\",\"type\":\"LinearAxis\"},{\"attributes\":{},\"id\":\"e0bda0d6-a01a-4a5e-909e-6c7b047869fe\",\"type\":\"LinearScale\"},{\"attributes\":{\"data_source\":{\"id\":\"0b163c32-60e5-403d-9ce3-274fb716dd63\",\"type\":\"ColumnDataSource\"},\"glyph\":{\"id\":\"1215fb9d-8170-4357-96db-42e5f1e6f32b\",\"type\":\"Text\"},\"hover_glyph\":null,\"muted_glyph\":null,\"nonselection_glyph\":{\"id\":\"da723f89-0a03-4758-ad65-f94d3ed5ca80\",\"type\":\"Text\"},\"selection_glyph\":null,\"view\":{\"id\":\"91f8b4db-a9c4-4bb4-beb3-04f36f1ae911\",\"type\":\"CDSView\"}},\"id\":\"2f163890-13d9-486a-8914-e45a9a27cd70\",\"type\":\"GlyphRenderer\"},{\"attributes\":{\"source\":{\"id\":\"0b163c32-60e5-403d-9ce3-274fb716dd63\",\"type\":\"ColumnDataSource\"}},\"id\":\"91f8b4db-a9c4-4bb4-beb3-04f36f1ae911\",\"type\":\"CDSView\"},{\"attributes\":{\"below\":[{\"id\":\"a0465249-6963-4690-a639-f2f2db608e7b\",\"type\":\"LinearAxis\"}],\"left\":[{\"id\":\"3446b405-99f1-42b2-9e49-fcdb60937575\",\"type\":\"LinearAxis\"}],\"renderers\":[{\"id\":\"a0465249-6963-4690-a639-f2f2db608e7b\",\"type\":\"LinearAxis\"},{\"id\":\"c46b629c-3c4d-4578-90f7-54bc29044f7a\",\"type\":\"Grid\"},{\"id\":\"3446b405-99f1-42b2-9e49-fcdb60937575\",\"type\":\"LinearAxis\"},{\"id\":\"2aa14e04-061f-4dcf-970a-3185c4390362\",\"type\":\"Grid\"},{\"id\":\"d1fc78b0-0ef0-4a8a-a528-7f83da628760\",\"type\":\"BoxAnnotation\"},{\"id\":\"2f163890-13d9-486a-8914-e45a9a27cd70\",\"type\":\"GlyphRenderer\"}],\"title\":{\"id\":\"451e4656-1d18-4647-b84c-012c9f35cc43\",\"type\":\"Title\"},\"toolbar\":{\"id\":\"f938afb4-4cdd-453b-a939-dd6f7d6302a9\",\"type\":\"Toolbar\"},\"x_range\":{\"id\":\"0ce3afde-cc93-4bfa-8366-84e53457ad31\",\"type\":\"DataRange1d\"},\"x_scale\":{\"id\":\"04634a01-e994-48f2-9abb-e189f8f539ca\",\"type\":\"LinearScale\"},\"y_range\":{\"id\":\"42ffa56e-8d97-46ea-a72e-1508696c8deb\",\"type\":\"DataRange1d\"},\"y_scale\":{\"id\":\"e0bda0d6-a01a-4a5e-909e-6c7b047869fe\",\"type\":\"LinearScale\"}},\"id\":\"e4f643c2-deea-430b-99c7-7f719c430202\",\"subtype\":\"Figure\",\"type\":\"Plot\"}],\"root_ids\":[\"e4f643c2-deea-430b-99c7-7f719c430202\"]},\"title\":\"Bokeh Application\",\"version\":\"0.12.10\"}};\n",
       "    var render_items = [{\"docid\":\"753959b8-1e27-436c-b522-0a933d9c5521\",\"elementid\":\"af0a115d-dcf3-4aef-8201-6dce23926e4e\",\"modelid\":\"e4f643c2-deea-430b-99c7-7f719c430202\"}];\n",
       "\n",
       "    root.Bokeh.embed.embed_items(docs_json, render_items);\n",
       "  }\n",
       "\n",
       "  if (root.Bokeh !== undefined) {\n",
       "    embed_document(root);\n",
       "  } else {\n",
       "    var attempts = 0;\n",
       "    var timer = setInterval(function(root) {\n",
       "      if (root.Bokeh !== undefined) {\n",
       "        embed_document(root);\n",
       "        clearInterval(timer);\n",
       "      }\n",
       "      attempts++;\n",
       "      if (attempts > 100) {\n",
       "        console.log(\"Bokeh: ERROR: Unable to embed document because BokehJS library is missing\")\n",
       "        clearInterval(timer);\n",
       "      }\n",
       "    }, 10, root)\n",
       "  }\n",
       "})(window);"
      ],
      "application/vnd.bokehjs_exec.v0+json": ""
     },
     "metadata": {
      "application/vnd.bokehjs_exec.v0+json": {
       "id": "e4f643c2-deea-430b-99c7-7f719c430202"
      }
     },
     "output_type": "display_data"
    }
   ],
   "source": [
    "output_notebook()\n",
    "\n",
    "subset_df = coords_df.sample(n=1000)\n",
    "p = figure(plot_width=600, plot_height=600)\n",
    "p.text(x=subset_df.x, y=subset_df.y,\n",
    "       text=subset_df.token)\n",
    "show(p)"
   ]
  },
  {
   "cell_type": "code",
   "execution_count": null,
   "metadata": {
    "collapsed": true
   },
   "outputs": [],
   "source": []
  }
 ],
 "metadata": {
  "kernelspec": {
   "display_name": "Python 3",
   "language": "python",
   "name": "python3"
  },
  "language_info": {
   "codemirror_mode": {
    "name": "ipython",
    "version": 3
   },
   "file_extension": ".py",
   "mimetype": "text/x-python",
   "name": "python",
   "nbconvert_exporter": "python",
   "pygments_lexer": "ipython3",
   "version": "3.6.3"
  }
 },
 "nbformat": 4,
 "nbformat_minor": 2
}
