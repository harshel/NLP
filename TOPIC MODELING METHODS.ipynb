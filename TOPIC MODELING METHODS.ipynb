{
 "cells": [
  {
   "cell_type": "code",
   "execution_count": 39,
   "metadata": {},
   "outputs": [],
   "source": [
    "#import the rewuired libraries\n",
    "import gensim\n",
    "from gensim import corpora"
   ]
  },
  {
   "cell_type": "code",
   "execution_count": 40,
   "metadata": {},
   "outputs": [],
   "source": [
    "#the following is our corpus\n",
    "texts = [['bank','river','shore','water'],\n",
    "        ['river','water','flow','fast','tree'],\n",
    "        ['bank','water','fall','flow'],\n",
    "        ['bank','bank','water','rain','river'],\n",
    "        ['river','water','mud','tree'],\n",
    "        ['money','transaction','bank','finance'],\n",
    "        ['bank','borrow','money'], \n",
    "        ['bank','finance'],\n",
    "        ['finance','money','sell','bank'],\n",
    "        ['borrow','sell'],\n",
    "        ['bank','loan','sell']]"
   ]
  },
  {
   "cell_type": "markdown",
   "metadata": {},
   "source": [
    "**Our corpus consists of documents belongign to two different topics. Their first topic is 'RIVERS' and the second topic is 'Finance'. Now in our corpus we have a word 'BANKS' which belongs to both the topics. Let's build a topic model on our corpus.**"
   ]
  },
  {
   "cell_type": "code",
   "execution_count": 41,
   "metadata": {},
   "outputs": [
    {
     "name": "stdout",
     "output_type": "stream",
     "text": [
      "{'bank': 0, 'river': 1, 'shore': 2, 'water': 3, 'fast': 4, 'flow': 5, 'tree': 6, 'fall': 7, 'rain': 8, 'mud': 9, 'finance': 10, 'money': 11, 'transaction': 12, 'borrow': 13, 'sell': 14, 'loan': 15}\n"
     ]
    }
   ],
   "source": [
    "dictionery = corpora.Dictionary(texts)\n",
    "print(dictionery.token2id)"
   ]
  },
  {
   "cell_type": "code",
   "execution_count": 42,
   "metadata": {},
   "outputs": [],
   "source": [
    "corpus = [dictionery.doc2bow(text) for text in texts]#creating our corpus"
   ]
  },
  {
   "cell_type": "code",
   "execution_count": 43,
   "metadata": {},
   "outputs": [
    {
     "data": {
      "text/plain": [
       "11"
      ]
     },
     "execution_count": 43,
     "metadata": {},
     "output_type": "execute_result"
    }
   ],
   "source": [
    "len(corpus)"
   ]
  },
  {
   "cell_type": "code",
   "execution_count": 44,
   "metadata": {},
   "outputs": [
    {
     "name": "stdout",
     "output_type": "stream",
     "text": [
      "[(0, 1), (1, 1), (2, 1), (3, 1)]\n",
      "[(1, 1), (3, 1), (4, 1), (5, 1), (6, 1)]\n",
      "[(0, 1), (3, 1), (5, 1), (7, 1)]\n",
      "[(0, 2), (1, 1), (3, 1), (8, 1)]\n",
      "[(1, 1), (3, 1), (6, 1), (9, 1)]\n",
      "[(0, 1), (10, 1), (11, 1), (12, 1)]\n",
      "[(0, 1), (11, 1), (13, 1)]\n",
      "[(0, 1), (10, 1)]\n",
      "[(0, 1), (10, 1), (11, 1), (14, 1)]\n",
      "[(13, 1), (14, 1)]\n",
      "[(0, 1), (14, 1), (15, 1)]\n"
     ]
    }
   ],
   "source": [
    "for doc in corpus:\n",
    "    print(doc)"
   ]
  },
  {
   "cell_type": "markdown",
   "metadata": {},
   "source": [
    "### LDA MODEL"
   ]
  },
  {
   "cell_type": "code",
   "execution_count": 45,
   "metadata": {},
   "outputs": [],
   "source": [
    "#LDA MODEL\n",
    "from gensim.models import ldamodel\n",
    "model = ldamodel.LdaModel(corpus, num_topics = 2, id2word = dictionery)"
   ]
  },
  {
   "cell_type": "code",
   "execution_count": 46,
   "metadata": {},
   "outputs": [
    {
     "data": {
      "text/plain": [
       "[(0,\n",
       "  '0.232*\"bank\" + 0.098*\"money\" + 0.085*\"sell\" + 0.079*\"water\" + 0.077*\"finance\" + 0.059*\"borrow\" + 0.058*\"river\" + 0.054*\"flow\" + 0.045*\"loan\" + 0.045*\"transaction\"'),\n",
       " (1,\n",
       "  '0.143*\"water\" + 0.129*\"river\" + 0.111*\"bank\" + 0.094*\"tree\" + 0.064*\"finance\" + 0.057*\"shore\" + 0.056*\"mud\" + 0.054*\"fast\" + 0.054*\"sell\" + 0.054*\"flow\"')]"
      ]
     },
     "execution_count": 46,
     "metadata": {},
     "output_type": "execute_result"
    }
   ],
   "source": [
    "model.show_topics()"
   ]
  },
  {
   "cell_type": "markdown",
   "metadata": {},
   "source": [
    "**From the above output of the LdaModel you can observe that the word 'BANK' is important in both the topics.**"
   ]
  },
  {
   "cell_type": "markdown",
   "metadata": {},
   "source": [
    "### get_term_topics"
   ]
  },
  {
   "cell_type": "markdown",
   "metadata": {},
   "source": [
    "The function ***get_term_topics*** returns the odds of a particular word to be present in a particular topic. Let's see the examples "
   ]
  },
  {
   "cell_type": "code",
   "execution_count": 9,
   "metadata": {},
   "outputs": [
    {
     "name": "stdout",
     "output_type": "stream",
     "text": [
      "[(0, 0.090843804), (1, 0.092385285)]\n"
     ]
    }
   ],
   "source": [
    "print(model.get_term_topics('water')) #gives the probability of the word belonging to a particular topic"
   ]
  },
  {
   "cell_type": "markdown",
   "metadata": {},
   "source": [
    "As you can see the chances of the word 'water' being present is high in the topic 1 as compared to other topic which makes sense."
   ]
  },
  {
   "cell_type": "code",
   "execution_count": 10,
   "metadata": {},
   "outputs": [
    {
     "name": "stdout",
     "output_type": "stream",
     "text": [
      "[(0, 0.029522339)]\n"
     ]
    }
   ],
   "source": [
    "print(model.get_term_topics('transaction'))"
   ]
  },
  {
   "cell_type": "code",
   "execution_count": 11,
   "metadata": {},
   "outputs": [
    {
     "name": "stdout",
     "output_type": "stream",
     "text": [
      "[(0, 0.21803921), (1, 0.0923976)]\n"
     ]
    }
   ],
   "source": [
    "print(model.get_term_topics('BANK'.lower()))"
   ]
  },
  {
   "cell_type": "markdown",
   "metadata": {},
   "source": [
    "### get_document_topics"
   ]
  },
  {
   "cell_type": "markdown",
   "metadata": {},
   "source": [
    "This functionality of gensim helps us in identifying topic distribution of each word in out documents."
   ]
  },
  {
   "cell_type": "code",
   "execution_count": 12,
   "metadata": {},
   "outputs": [],
   "source": [
    "water_bow = ['bank', 'water', 'bank']\n",
    "finance_bow = ['bank', 'finance', 'bank']"
   ]
  },
  {
   "cell_type": "code",
   "execution_count": 13,
   "metadata": {},
   "outputs": [],
   "source": [
    "#convert to BOW format first\n",
    "bow_w = model.id2word.doc2bow(water_bow)\n",
    "\n",
    "doc_topics, word_topics, phi_values = model.get_document_topics(bow_w, per_word_topics = True)"
   ]
  },
  {
   "cell_type": "code",
   "execution_count": 14,
   "metadata": {},
   "outputs": [
    {
     "data": {
      "text/plain": [
       "[(0, [0, 1]), (3, [0, 1])]"
      ]
     },
     "execution_count": 14,
     "metadata": {},
     "output_type": "execute_result"
    }
   ],
   "source": [
    "word_topics"
   ]
  },
  {
   "cell_type": "code",
   "execution_count": 15,
   "metadata": {},
   "outputs": [
    {
     "data": {
      "text/plain": [
       "[(0, 0.8346638), (1, 0.16533616)]"
      ]
     },
     "execution_count": 15,
     "metadata": {},
     "output_type": "execute_result"
    }
   ],
   "source": [
    "doc_topics #gives the porbability of words belonging to a certain topics."
   ]
  },
  {
   "cell_type": "markdown",
   "metadata": {},
   "source": [
    "**Let's interpret the above output. The above output means that just like the word_type 1 our word_type 3 (which is word 'BANK'), is likely to be  present in the topic 1 ans compared to topic 2. The first number in the above output (i.e 0 and 3) are nothing but the word_type and the list following the word_type is the sorted list, dipicting to which topic the words belong to. In this case the word 'BANK' is likely to be present in the topic 1 than topic 2.**"
   ]
  },
  {
   "cell_type": "code",
   "execution_count": 16,
   "metadata": {},
   "outputs": [
    {
     "name": "stdout",
     "output_type": "stream",
     "text": [
      "[(0, [(0, 1.9247402), (1, 0.075258605)]), (3, [(0, 0.9142132), (1, 0.08578532)])]\n"
     ]
    }
   ],
   "source": [
    "print(phi_values) #gives the probability of the words belonging to a particular topics"
   ]
  },
  {
   "cell_type": "code",
   "execution_count": 17,
   "metadata": {},
   "outputs": [],
   "source": [
    "#let's do the same on the finance_bow\n",
    "#first covert it to the BOW model\n",
    "bow_f = model.id2word.doc2bow(finance_bow)\n",
    "\n",
    "doc_topics, word_topics, phi_values = model.get_document_topics(bow_f, per_word_topics = True)"
   ]
  },
  {
   "cell_type": "code",
   "execution_count": 18,
   "metadata": {},
   "outputs": [
    {
     "name": "stdout",
     "output_type": "stream",
     "text": [
      "[(0, [0, 1]), (10, [0, 1])]\n"
     ]
    }
   ],
   "source": [
    "print(word_topics)"
   ]
  },
  {
   "cell_type": "markdown",
   "metadata": {},
   "source": [
    "**Here the prossibility of the word 'BANK' belonging to a particular document has changed as compared to the previous output. Here the word 'BANK' is likely to be present in the topic 2 (i.e finance topic). We can conclude that the context of the words affect the liklyhood of a word to be classified in a particular topic.**"
   ]
  },
  {
   "cell_type": "code",
   "execution_count": 19,
   "metadata": {},
   "outputs": [
    {
     "name": "stdout",
     "output_type": "stream",
     "text": [
      "NEW DOCUMENT \n",
      "\n",
      "DOC_TOPICS : [(0, 0.58680665), (1, 0.41319332)]\n",
      "WORD_TOPICS : [(0, [0, 1]), (1, [1, 0]), (2, [0, 1]), (3, [0, 1])]\n",
      "PHI_VALUES : [(0, [(0, 0.78422993), (1, 0.21576925)]), (1, [(0, 0.47736922), (1, 0.52262884)]), (2, [(0, 0.5711073), (1, 0.42888612)]), (3, [(0, 0.6023075), (1, 0.397691)])]\n",
      "----------------------------------------------------------------------------------------------------\n",
      "NEW DOCUMENT \n",
      "\n",
      "DOC_TOPICS : [(0, 0.10788838), (1, 0.89211166)]\n",
      "WORD_TOPICS : [(1, [1, 0]), (3, [1, 0]), (4, [1, 0]), (5, [1, 0]), (6, [1])]\n",
      "PHI_VALUES : [(1, [(0, 0.02980887), (1, 0.9701898)]), (3, [(0, 0.04847522), (1, 0.95152354)]), (4, [(0, 0.01287522), (1, 0.9871211)]), (5, [(0, 0.046968725), (1, 0.95302796)]), (6, [(1, 0.99103475)])]\n",
      "----------------------------------------------------------------------------------------------------\n",
      "NEW DOCUMENT \n",
      "\n",
      "DOC_TOPICS : [(0, 0.8568776), (1, 0.14312245)]\n",
      "WORD_TOPICS : [(0, [0, 1]), (3, [0, 1]), (5, [0, 1]), (7, [0, 1])]\n",
      "PHI_VALUES : [(0, [(0, 0.9667172), (1, 0.033282276)]), (3, [(0, 0.92368203), (1, 0.07631634)]), (5, [(0, 0.92131037), (1, 0.07868612)]), (7, [(0, 0.97303754), (1, 0.026957775)])]\n",
      "----------------------------------------------------------------------------------------------------\n",
      "NEW DOCUMENT \n",
      "\n",
      "DOC_TOPICS : [(0, 0.87248164), (1, 0.12751842)]\n",
      "WORD_TOPICS : [(0, [0, 1]), (1, [0, 1]), (3, [0, 1]), (8, [0, 1])]\n",
      "PHI_VALUES : [(0, [(0, 1.9392568), (1, 0.060742017)]), (1, [(0, 0.88917387), (1, 0.11082392)]), (3, [(0, 0.93008566), (1, 0.069913045)]), (8, [(0, 0.9768408), (1, 0.023154564)])]\n",
      "----------------------------------------------------------------------------------------------------\n",
      "NEW DOCUMENT \n",
      "\n",
      "DOC_TOPICS : [(0, 0.12325377), (1, 0.87674624)]\n",
      "WORD_TOPICS : [(1, [1, 0]), (3, [1, 0]), (6, [1, 0]), (9, [1, 0])]\n",
      "PHI_VALUES : [(1, [(0, 0.03341454), (1, 0.96658397)]), (3, [(0, 0.054212607), (1, 0.94578606)]), (6, [(0, 0.0100738695), (1, 0.9899242)]), (9, [(0, 0.018375523), (1, 0.9816205)])]\n",
      "----------------------------------------------------------------------------------------------------\n",
      "NEW DOCUMENT \n",
      "\n",
      "DOC_TOPICS : [(0, 0.88663006), (1, 0.113369934)]\n",
      "WORD_TOPICS : [(0, [0, 1]), (10, [0, 1]), (11, [0, 1]), (12, [0, 1])]\n",
      "PHI_VALUES : [(0, [(0, 0.98011273), (1, 0.019886633)]), (10, [(0, 0.9824361), (1, 0.01756211)]), (11, [(0, 0.98609465), (1, 0.013903701)]), (12, [(0, 0.98473775), (1, 0.015257702)])]\n",
      "----------------------------------------------------------------------------------------------------\n",
      "NEW DOCUMENT \n",
      "\n",
      "DOC_TOPICS : [(0, 0.84357727), (1, 0.15642272)]\n",
      "WORD_TOPICS : [(0, [0, 1]), (11, [0, 1]), (13, [0, 1])]\n",
      "PHI_VALUES : [(0, [(0, 0.9667432), (1, 0.03325621)]), (11, [(0, 0.97665125), (1, 0.023346823)]), (13, [(0, 0.93111247), (1, 0.068884045)])]\n",
      "----------------------------------------------------------------------------------------------------\n",
      "NEW DOCUMENT \n",
      "\n",
      "DOC_TOPICS : [(0, 0.8073857), (1, 0.1926143)]\n",
      "WORD_TOPICS : [(0, [0, 1]), (10, [0, 1])]\n",
      "PHI_VALUES : [(0, [(0, 0.9587718), (1, 0.041227467)]), (10, [(0, 0.9634966), (1, 0.036501337)])]\n",
      "----------------------------------------------------------------------------------------------------\n",
      "NEW DOCUMENT \n",
      "\n",
      "DOC_TOPICS : [(0, 0.8517611), (1, 0.14823888)]\n",
      "WORD_TOPICS : [(0, [0, 1]), (10, [0, 1]), (11, [0, 1]), (14, [0, 1])]\n",
      "PHI_VALUES : [(0, [(0, 0.96422327), (1, 0.035776142)]), (10, [(0, 0.9683439), (1, 0.031654295)]), (11, [(0, 0.9748629), (1, 0.025135413)]), (14, [(0, 0.85187966), (1, 0.14811715)])]\n",
      "----------------------------------------------------------------------------------------------------\n",
      "NEW DOCUMENT \n",
      "\n",
      "DOC_TOPICS : [(0, 0.26202375), (1, 0.7379762)]\n",
      "WORD_TOPICS : [(13, [1, 0]), (14, [1, 0])]\n",
      "PHI_VALUES : [(13, [(0, 0.18894428), (1, 0.8110518)]), (14, [(0, 0.09658609), (1, 0.9034119)])]\n",
      "----------------------------------------------------------------------------------------------------\n",
      "NEW DOCUMENT \n",
      "\n",
      "DOC_TOPICS : [(0, 0.23559302), (1, 0.7644069)]\n",
      "WORD_TOPICS : [(0, [1, 0]), (14, [1, 0]), (15, [1, 0])]\n",
      "PHI_VALUES : [(0, [(0, 0.31800807), (1, 0.6819908)]), (14, [(0, 0.09050031), (1, 0.9094978)]), (15, [(0, 0.0332704), (1, 0.9667257)])]\n",
      "----------------------------------------------------------------------------------------------------\n"
     ]
    }
   ],
   "source": [
    "#getting document topcis for the entire corpus\n",
    "all_topics = model.get_document_topics(corpus, per_word_topics = True)\n",
    "\n",
    "for doc_topics, word_topics, phi_values in all_topics:\n",
    "    print('NEW DOCUMENT \\n')\n",
    "    print('DOC_TOPICS : {}'.format(doc_topics))\n",
    "    print('WORD_TOPICS : {}'.format(word_topics))\n",
    "    print('PHI_VALUES : {}'.format(phi_values))\n",
    "    print(100 * '-')"
   ]
  },
  {
   "cell_type": "markdown",
   "metadata": {},
   "source": [
    "You can also store all the doc_topics, word_topics and phi_values in the form of list and can later extract any document to see their various values by providing the index for the document. (example shown below)"
   ]
  },
  {
   "cell_type": "code",
   "execution_count": 20,
   "metadata": {},
   "outputs": [
    {
     "name": "stdout",
     "output_type": "stream",
     "text": [
      "DOC_TOPICS : [(0, 0.8724471), (1, 0.12755294)]\n",
      "----------------------------------------------------------------------------------------------------\n",
      "WORD_TOPICS : [(0, [0, 1]), (1, [0, 1]), (3, [0, 1]), (8, [0, 1])]\n",
      "----------------------------------------------------------------------------------------------------\n",
      "PHI_VALUES : [(0, [(0, 1.9392241), (1, 0.060774684)]), (1, [(0, 0.8891192), (1, 0.11087857)]), (3, [(0, 0.9300495), (1, 0.069949105)]), (8, [(0, 0.9768283), (1, 0.023167105)])]\n"
     ]
    }
   ],
   "source": [
    "topics = model.get_document_topics(corpus, per_word_topics = True)\n",
    "all_topics = [(doc_topics, word_topics, phi_values) for doc_topics, word_topics, phi_values in topics]\n",
    "#so here we have stored all the topic values in the list all_topics\n",
    "\n",
    "#now you can provide the index of the document that you want to see.\n",
    "doc_topics, word_topics, phi_values = all_topics[3] #we want to see the outputs of the document number 4\n",
    "print('DOC_TOPICS : {}'.format(doc_topics))\n",
    "print(100 * '-')\n",
    "print('WORD_TOPICS : {}'.format(word_topics))\n",
    "print(100 * '-')\n",
    "print('PHI_VALUES : {}'.format(phi_values))"
   ]
  },
  {
   "cell_type": "code",
   "execution_count": 21,
   "metadata": {},
   "outputs": [],
   "source": [
    "from wordcloud import WordCloud, STOPWORDS"
   ]
  },
  {
   "cell_type": "code",
   "execution_count": 22,
   "metadata": {},
   "outputs": [],
   "source": [
    "texts1 = \"\"\"Previously, we have discussed how we can use the Twitter API to stream tweets and store them in a relational\n",
    "database. Now, we will use that information to perform sentiment analysis. But before that, we should take into \n",
    "consideration some things. First of all, we have streamed our tweets using the term ‘Avengers’ but without any extra \n",
    "consideration. It is highly likely that we have thousands of repeated tweets. In terms of sentiment analysis, processing \n",
    "them will not add any extra value and contrary, it will be computationally expensive. So, we need to access the database \n",
    "and delete duplicated tweets keeping the first occurrence. Second, we have an unlabeled database. For the model to \n",
    "learn during training, we should state if the tweets are positive or negative. The ideal solution would be to manually \n",
    "label the dataset, which is very accurate but requires a lot of time. However, there are several alternatives such as using a\n",
    "n open-source dataset labeling tool such as Stanford CoreNLP.\"\"\"\n",
    "\n",
    "ex = WordCloud(stopwords = STOPWORDS).generate(texts1)"
   ]
  },
  {
   "cell_type": "code",
   "execution_count": 23,
   "metadata": {},
   "outputs": [
    {
     "data": {
      "image/png": "[encoded data removed]",
      "text/plain": [
       "<Figure size 864x576 with 1 Axes>"
      ]
     },
     "metadata": {},
     "output_type": "display_data"
    }
   ],
   "source": [
    "import matplotlib.pyplot as plt\n",
    "\n",
    "plt.figure(figsize = (12,8))\n",
    "plt.imshow(ex)\n",
    "plt.xticks([])\n",
    "plt.yticks([])\n",
    "plt.show()"
   ]
  },
  {
   "cell_type": "markdown",
   "metadata": {},
   "source": [
    "### WORD COLORING THE TOPICS"
   ]
  },
  {
   "cell_type": "code",
   "execution_count": 24,
   "metadata": {},
   "outputs": [],
   "source": [
    "import matplotlib.pyplot as plt\n",
    "import matplotlib.patches as patches"
   ]
  },
  {
   "cell_type": "code",
   "execution_count": 25,
   "metadata": {},
   "outputs": [],
   "source": [
    "#we will be coloring the word red if it belongs to topics 1 and blue if it belongs to topics 0"
   ]
  },
  {
   "cell_type": "code",
   "execution_count": 35,
   "metadata": {},
   "outputs": [],
   "source": [
    "def WordColoring(model, doc):\n",
    "    \n",
    "    #convert the doc into BOW model\n",
    "    doc = model.id2word.doc2bow(doc)\n",
    "    \n",
    "    #get the document topics\n",
    "    doc_topics, word_topics, phi_values = model.get_document_topics(doc, per_word_topics = True)\n",
    "    \n",
    "    colors = {1 : 'red', 0 : 'blue'}\n",
    "    \n",
    "    #set the figure\n",
    "    fig = plt.figure()\n",
    "    ax = fig.add_axes([0, 0, 1, 1])\n",
    "    \n",
    "    word_pos = 1 / len(doc)\n",
    "    \n",
    "    for word, topic in word_topics:\n",
    "        ax.text(word_pos, 0.8, model.id2word[word], horizontalalignment = 'center', \n",
    "                verticalalignment = 'center', color = colors[topic[0]], transform = ax.transAxes, fontsize = 20)\n",
    "        word_pos += 0.2\n",
    "        \n",
    "    ax.set_axis_off()\n",
    "    plt.show()       "
   ]
  },
  {
   "cell_type": "code",
   "execution_count": 51,
   "metadata": {},
   "outputs": [],
   "source": [
    "bow_water = ['bank', 'water', 'bank', 'tree']"
   ]
  },
  {
   "cell_type": "code",
   "execution_count": 52,
   "metadata": {},
   "outputs": [
    {
     "data": {
      "image/png": "[encoded data removed]",
      "text/plain": [
       "<Figure size 432x288 with 1 Axes>"
      ]
     },
     "metadata": {},
     "output_type": "display_data"
    }
   ],
   "source": [
    "WordColoring(model, bow_water)"
   ]
  },
  {
   "cell_type": "markdown",
   "metadata": {},
   "source": [
    "As expected both are blue as they belong to topic 0"
   ]
  },
  {
   "cell_type": "code",
   "execution_count": 47,
   "metadata": {},
   "outputs": [
    {
     "data": {
      "image/png": "[encoded data removed]",
      "text/plain": [
       "<Figure size 432x288 with 1 Axes>"
      ]
     },
     "metadata": {},
     "output_type": "display_data"
    }
   ],
   "source": [
    "bow_finance = ['bank', 'finance', 'bank', 'transaction', 'money']\n",
    "WordColoring(model, bow_finance)"
   ]
  },
  {
   "cell_type": "code",
   "execution_count": 50,
   "metadata": {},
   "outputs": [
    {
     "data": {
      "image/png": "[encoded data removed]",
      "text/plain": [
       "<Figure size 432x288 with 1 Axes>"
      ]
     },
     "metadata": {},
     "output_type": "display_data"
    }
   ],
   "source": [
    "doc = ['bank', 'water', 'bank', 'finance', 'money','sell','river','fast','tree']\n",
    "WordColoring(model, doc)"
   ]
  },
  {
   "cell_type": "code",
   "execution_count": 54,
   "metadata": {},
   "outputs": [
    {
     "name": "stdout",
     "output_type": "stream",
     "text": [
      "0\n",
      "1\n",
      "2\n",
      "3\n",
      "4\n",
      "5\n",
      "6\n",
      "7\n",
      "8\n",
      "9\n",
      "10\n",
      "11\n",
      "12\n",
      "13\n",
      "14\n",
      "15\n"
     ]
    }
   ],
   "source": [
    "for word_id in dictionery:\n",
    "    print(word_id)"
   ]
  },
  {
   "cell_type": "markdown",
   "metadata": {},
   "source": [
    "### WORD COLORING A DICTIONERY"
   ]
  },
  {
   "cell_type": "code",
   "execution_count": 59,
   "metadata": {},
   "outputs": [],
   "source": [
    "def WordColor(model, dictionery):\n",
    "    \n",
    "    word_topics = []\n",
    "    \n",
    "    for word_id in dictionery:\n",
    "        word = str(dictionery[word_id])\n",
    "        \n",
    "        #get the term topics\n",
    "        probs = model.get_term_topics(word)\n",
    "        \n",
    "        try:\n",
    "            if probs[0][1] > probs[1][1]:\n",
    "                word_topics.append((word_id, [0, 1]))\n",
    "            else:\n",
    "                word_topics.append((word_id, [1, 0]))\n",
    "        except IndexError:\n",
    "            word_topics.append((word_id, [probs[0][0]]))\n",
    "            \n",
    "    #color matching    \n",
    "    colors = {1 : 'red', 0 : 'blue'}\n",
    "        \n",
    "    #set the figure\n",
    "    fig = plt.figure()\n",
    "    ax = fig.add_axes([0, 0, 1, 1])\n",
    "\n",
    "    word_pos = 1 / len(doc)\n",
    "\n",
    "    for word, topic in word_topics:\n",
    "        ax.text(word_pos, 0.8, model.id2word[word], horizontalalignment = 'center', \n",
    "                verticalalignment = 'center', color = colors[topic[0]], transform = ax.transAxes, fontsize = 20)\n",
    "        word_pos += 0.2\n",
    "\n",
    "    ax.set_axis_off()\n",
    "    plt.show()      "
   ]
  },
  {
   "cell_type": "code",
   "execution_count": 60,
   "metadata": {},
   "outputs": [
    {
     "data": {
      "image/png": "[encoded data removed]",
      "text/plain": [
       "<Figure size 432x288 with 1 Axes>"
      ]
     },
     "metadata": {},
     "output_type": "display_data"
    }
   ],
   "source": [
    "WordColor(model, dictionery)"
   ]
  },
  {
   "cell_type": "code",
   "execution_count": null,
   "metadata": {},
   "outputs": [],
   "source": []
  }
 ],
 "metadata": {
  "kernelspec": {
   "display_name": "Python 3",
   "language": "python",
   "name": "python3"
  },
  "language_info": {
   "codemirror_mode": {
    "name": "ipython",
    "version": 3
   },
   "file_extension": ".py",
   "mimetype": "text/x-python",
   "name": "python",
   "nbconvert_exporter": "python",
   "pygments_lexer": "ipython3",
   "version": "3.6.5"
  }
 },
 "nbformat": 4,
 "nbformat_minor": 2
}
