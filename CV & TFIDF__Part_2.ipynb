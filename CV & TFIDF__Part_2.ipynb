{
 "cells": [
  {
   "cell_type": "code",
   "execution_count": 2,
   "metadata": {
    "scrolled": false
   },
   "outputs": [
    {
     "name": "stdout",
     "output_type": "stream",
     "text": [
      "<class 'pandas.core.frame.DataFrame'>\n",
      "RangeIndex: 200 entries, 0 to 199\n",
      "Data columns (total 19 columns):\n",
      "Unnamed: 0                      200 non-null int64\n",
      "Date received                   200 non-null object\n",
      "Product                         200 non-null object\n",
      "Sub-product                     166 non-null object\n",
      "Issue                           200 non-null object\n",
      "Sub-issue                       90 non-null object\n",
      "Consumer complaint narrative    35 non-null object\n",
      "Company public response         67 non-null object\n",
      "Company                         200 non-null object\n",
      "State                           194 non-null object\n",
      "ZIP code                        182 non-null object\n",
      "Tags                            29 non-null object\n",
      "Consumer consent provided?      74 non-null object\n",
      "Submitted via                   200 non-null object\n",
      "Date sent to company            200 non-null object\n",
      "Company response to consumer    200 non-null object\n",
      "Timely response?                200 non-null object\n",
      "Consumer disputed?              160 non-null object\n",
      "Complaint ID                    200 non-null int64\n",
      "dtypes: int64(2), object(17)\n",
      "memory usage: 29.8+ KB\n"
     ]
    }
   ],
   "source": [
    "import pandas as pd\n",
    "data = pd.read_csv('sample_complaints.csv')\n",
    "data.info()"
   ]
  },
  {
   "cell_type": "code",
   "execution_count": 5,
   "metadata": {},
   "outputs": [
    {
     "data": {
      "text/plain": [
       "<bound method Index.contains of Index(['Unnamed: 0', 'Date received', 'Product', 'Sub-product', 'Issue',\n",
       "       'Sub-issue', 'Consumer complaint narrative', 'Company public response',\n",
       "       'Company', 'State', 'ZIP code', 'Tags', 'Consumer consent provided?',\n",
       "       'Submitted via', 'Date sent to company', 'Company response to consumer',\n",
       "       'Timely response?', 'Consumer disputed?', 'Complaint ID'],\n",
       "      dtype='object')>"
      ]
     },
     "execution_count": 5,
     "metadata": {},
     "output_type": "execute_result"
    }
   ],
   "source": [
    "data.columns.contains"
   ]
  },
  {
   "cell_type": "code",
   "execution_count": 6,
   "metadata": {},
   "outputs": [
    {
     "data": {
      "text/html": [
       "<div>\n",
       "<style scoped>\n",
       "    .dataframe tbody tr th:only-of-type {\n",
       "        vertical-align: middle;\n",
       "    }\n",
       "\n",
       "    .dataframe tbody tr th {\n",
       "        vertical-align: top;\n",
       "    }\n",
       "\n",
       "    .dataframe thead th {\n",
       "        text-align: right;\n",
       "    }\n",
       "</style>\n",
       "<table border=\"1\" class=\"dataframe\">\n",
       "  <thead>\n",
       "    <tr style=\"text-align: right;\">\n",
       "      <th></th>\n",
       "      <th>Product</th>\n",
       "      <th>Consumer complaint narrative</th>\n",
       "    </tr>\n",
       "  </thead>\n",
       "  <tbody>\n",
       "    <tr>\n",
       "      <th>1</th>\n",
       "      <td>student loan</td>\n",
       "      <td>when my loan was switched over to navient i wa...</td>\n",
       "    </tr>\n",
       "    <tr>\n",
       "      <th>2</th>\n",
       "      <td>credit card or prepaid card</td>\n",
       "      <td>i tried to sign up for a spending monitoring p...</td>\n",
       "    </tr>\n",
       "    <tr>\n",
       "      <th>7</th>\n",
       "      <td>mortgage</td>\n",
       "      <td>my mortgage is with bb &amp; t bank, recently i ha...</td>\n",
       "    </tr>\n",
       "    <tr>\n",
       "      <th>13</th>\n",
       "      <td>mortgage</td>\n",
       "      <td>the entire lending experience with citizens ba...</td>\n",
       "    </tr>\n",
       "    <tr>\n",
       "      <th>14</th>\n",
       "      <td>credit reporting</td>\n",
       "      <td>my credit score has gone down xxxx points in t...</td>\n",
       "    </tr>\n",
       "  </tbody>\n",
       "</table>\n",
       "</div>"
      ],
      "text/plain": [
       "                        Product  \\\n",
       "1                  student loan   \n",
       "2   credit card or prepaid card   \n",
       "7                      mortgage   \n",
       "13                     mortgage   \n",
       "14             credit reporting   \n",
       "\n",
       "                         Consumer complaint narrative  \n",
       "1   when my loan was switched over to navient i wa...  \n",
       "2   i tried to sign up for a spending monitoring p...  \n",
       "7   my mortgage is with bb & t bank, recently i ha...  \n",
       "13  the entire lending experience with citizens ba...  \n",
       "14  my credit score has gone down xxxx points in t...  "
      ]
     },
     "execution_count": 6,
     "metadata": {},
     "output_type": "execute_result"
    }
   ],
   "source": [
    "data = data[['Product', 'Consumer complaint narrative']]\n",
    "data = data.dropna()\n",
    "data['Product'] = data['Product'].str.lower()\n",
    "data['Consumer complaint narrative'] = data['Consumer complaint narrative'].str.lower()\n",
    "data.head()"
   ]
  },
  {
   "cell_type": "code",
   "execution_count": 9,
   "metadata": {},
   "outputs": [
    {
     "data": {
      "text/plain": [
       "array(['student loan', 'credit card or prepaid card', 'mortgage',\n",
       "       'credit reporting',\n",
       "       'credit reporting, credit repair services, or other personal consumer reports',\n",
       "       'debt collection', 'vehicle loan or lease',\n",
       "       'money transfer, virtual currency, or money service',\n",
       "       'checking or savings account'], dtype=object)"
      ]
     },
     "execution_count": 9,
     "metadata": {},
     "output_type": "execute_result"
    }
   ],
   "source": [
    "data['Product'].unique()"
   ]
  },
  {
   "cell_type": "code",
   "execution_count": 10,
   "metadata": {},
   "outputs": [],
   "source": [
    "def renaming(x):\n",
    "    if x =='credit reporting':\n",
    "        x = 'credit reporting,credit repair services, or other personal consumer reports'\n",
    "    elif x == 'credit card':\n",
    "        x = 'credit card or prepaid card'\n",
    "    elif x == 'virtual currency':\n",
    "        x = 'money transfer, virtual currency, or money service'\n",
    "    elif x == 'prepaid card':\n",
    "        x = 'credit card or prepaid card'\n",
    "    elif x == 'money transfers':\n",
    "        x = 'money transfer, virtual currency, or money service'\n",
    "    elif x == 'payday loan':\n",
    "        x = 'payday loan, title loan, or personal loan'\n",
    "    elif x == 'checking or savings account':\n",
    "        x = 'bank account or service'\n",
    "    return x\n",
    "\n",
    "def rerenaming(x):\n",
    "    if x=='student loan' or x=='consumer loan' or x=='payday loan, title loan, or personal loan' or x=='vehicle loan or lease':\n",
    "        x = 'loans'\n",
    "    elif x=='money transfer, virtual currency, or money service':\n",
    "        x = 'other financial service'\n",
    "    return x"
   ]
  },
  {
   "cell_type": "code",
   "execution_count": 11,
   "metadata": {},
   "outputs": [
    {
     "name": "stdout",
     "output_type": "stream",
     "text": [
      "debt collection                                                                 11\n",
      "credit reporting, credit repair services, or other personal consumer reports     9\n",
      "credit reporting,credit repair services, or other personal consumer reports      5\n",
      "credit card or prepaid card                                                      3\n",
      "bank account or service                                                          2\n",
      "mortgage                                                                         2\n",
      "loans                                                                            2\n",
      "other financial service                                                          1\n",
      "Name: Product, dtype: int64\n",
      "35\n"
     ]
    }
   ],
   "source": [
    "data[\"Product\"] = data[\"Product\"].apply(renaming)\n",
    "data[\"Product\"] = data[\"Product\"].apply(rerenaming)\n",
    "print(data['Product'].value_counts())\n",
    "print(len(data))"
   ]
  },
  {
   "cell_type": "code",
   "execution_count": 5,
   "metadata": {},
   "outputs": [
    {
     "name": "stdout",
     "output_type": "stream",
     "text": [
      "debt collection                                                                 47915\n",
      "mortgage                                                                        36582\n",
      "credit reporting,credit repair services, or other personal consumer reports     31592\n",
      "loans                                                                           26044\n",
      "credit card or prepaid card                                                     23648\n",
      "bank account or service                                                         17030\n",
      "credit reporting, credit repair services, or other personal consumer reports    14671\n",
      "Name: Product, dtype: int64\n",
      "197482\n"
     ]
    }
   ],
   "source": [
    "data10k = data.groupby('Product').filter(lambda x : len(x)>10000)\n",
    "print(data10k['Product'].value_counts())\n",
    "print(len(data10k))"
   ]
  },
  {
   "cell_type": "code",
   "execution_count": 6,
   "metadata": {},
   "outputs": [
    {
     "data": {
      "text/html": [
       "<div>\n",
       "<style scoped>\n",
       "    .dataframe tbody tr th:only-of-type {\n",
       "        vertical-align: middle;\n",
       "    }\n",
       "\n",
       "    .dataframe tbody tr th {\n",
       "        vertical-align: top;\n",
       "    }\n",
       "\n",
       "    .dataframe thead th {\n",
       "        text-align: right;\n",
       "    }\n",
       "</style>\n",
       "<table border=\"1\" class=\"dataframe\">\n",
       "  <thead>\n",
       "    <tr style=\"text-align: right;\">\n",
       "      <th></th>\n",
       "      <th>Product</th>\n",
       "      <th>Consumer complaint narrative</th>\n",
       "    </tr>\n",
       "  </thead>\n",
       "  <tbody>\n",
       "    <tr>\n",
       "      <th>1</th>\n",
       "      <td>credit reporting,credit repair services, or ot...</td>\n",
       "      <td>i have outdated information on my credit repor...</td>\n",
       "    </tr>\n",
       "    <tr>\n",
       "      <th>2</th>\n",
       "      <td>loans</td>\n",
       "      <td>i purchased a new car on xxxx xxxx. the car de...</td>\n",
       "    </tr>\n",
       "    <tr>\n",
       "      <th>7</th>\n",
       "      <td>credit reporting,credit repair services, or ot...</td>\n",
       "      <td>an account on my credit report has a mistaken ...</td>\n",
       "    </tr>\n",
       "    <tr>\n",
       "      <th>12</th>\n",
       "      <td>debt collection</td>\n",
       "      <td>this company refuses to provide me verificatio...</td>\n",
       "    </tr>\n",
       "    <tr>\n",
       "      <th>16</th>\n",
       "      <td>debt collection</td>\n",
       "      <td>this complaint is in regards to square two fin...</td>\n",
       "    </tr>\n",
       "  </tbody>\n",
       "</table>\n",
       "</div>"
      ],
      "text/plain": [
       "                                              Product  \\\n",
       "1   credit reporting,credit repair services, or ot...   \n",
       "2                                               loans   \n",
       "7   credit reporting,credit repair services, or ot...   \n",
       "12                                    debt collection   \n",
       "16                                    debt collection   \n",
       "\n",
       "                         Consumer complaint narrative  \n",
       "1   i have outdated information on my credit repor...  \n",
       "2   i purchased a new car on xxxx xxxx. the car de...  \n",
       "7   an account on my credit report has a mistaken ...  \n",
       "12  this company refuses to provide me verificatio...  \n",
       "16  this complaint is in regards to square two fin...  "
      ]
     },
     "execution_count": 6,
     "metadata": {},
     "output_type": "execute_result"
    }
   ],
   "source": [
    "data10k.head()"
   ]
  },
  {
   "cell_type": "code",
   "execution_count": 7,
   "metadata": {},
   "outputs": [
    {
     "name": "stdout",
     "output_type": "stream",
     "text": [
      "1     i have outdated information on my credit repor...\n",
      "2     i purchased a new car on xxxx xxxx. the car de...\n",
      "7     an account on my credit report has a mistaken ...\n",
      "12    this company refuses to provide me verificatio...\n",
      "16    this complaint is in regards to square two fin...\n",
      "Name: Consumer complaint narrative, dtype: object\n",
      "1     credit reporting,credit repair services, or ot...\n",
      "2                                                 loans\n",
      "7     credit reporting,credit repair services, or ot...\n",
      "12                                      debt collection\n",
      "16                                      debt collection\n",
      "Name: Product, dtype: object\n"
     ]
    }
   ],
   "source": [
    "X = data10k['Consumer complaint narrative'][:300]\n",
    "y = data10k['Product'][:300]\n",
    "print(X.head())\n",
    "print(y.head())"
   ]
  },
  {
   "cell_type": "code",
   "execution_count": 8,
   "metadata": {},
   "outputs": [
    {
     "data": {
      "text/plain": [
       "0    2\n",
       "1    4\n",
       "2    2\n",
       "3    3\n",
       "4    3\n",
       "dtype: int32"
      ]
     },
     "execution_count": 8,
     "metadata": {},
     "output_type": "execute_result"
    }
   ],
   "source": [
    "from sklearn.preprocessing import LabelEncoder as LE\n",
    "le = LE()\n",
    "y = pd.Series(le.fit_transform(y))\n",
    "y.head()"
   ]
  },
  {
   "cell_type": "code",
   "execution_count": 9,
   "metadata": {},
   "outputs": [],
   "source": [
    "from nltk.tokenize import word_tokenize as wtk\n",
    "from nltk.stem import WordNetLemmatizer as wnl\n",
    "lem = wnl()\n",
    "def lemon(narr):\n",
    "    words = wtk(narr)\n",
    "    words = [lem.lemmatize(x) for x in words]\n",
    "    narr = ' '.join([x for x in words])\n",
    "    return narr"
   ]
  },
  {
   "cell_type": "code",
   "execution_count": 10,
   "metadata": {},
   "outputs": [],
   "source": [
    "X = X.apply(lemon)"
   ]
  },
  {
   "cell_type": "code",
   "execution_count": 11,
   "metadata": {},
   "outputs": [
    {
     "data": {
      "text/html": [
       "<div>\n",
       "<style scoped>\n",
       "    .dataframe tbody tr th:only-of-type {\n",
       "        vertical-align: middle;\n",
       "    }\n",
       "\n",
       "    .dataframe tbody tr th {\n",
       "        vertical-align: top;\n",
       "    }\n",
       "\n",
       "    .dataframe thead th {\n",
       "        text-align: right;\n",
       "    }\n",
       "</style>\n",
       "<table border=\"1\" class=\"dataframe\">\n",
       "  <thead>\n",
       "    <tr style=\"text-align: right;\">\n",
       "      <th></th>\n",
       "      <th>0</th>\n",
       "      <th>1</th>\n",
       "      <th>2</th>\n",
       "      <th>3</th>\n",
       "      <th>4</th>\n",
       "      <th>5</th>\n",
       "      <th>6</th>\n",
       "      <th>7</th>\n",
       "      <th>8</th>\n",
       "      <th>9</th>\n",
       "      <th>...</th>\n",
       "      <th>3510</th>\n",
       "      <th>3511</th>\n",
       "      <th>3512</th>\n",
       "      <th>3513</th>\n",
       "      <th>3514</th>\n",
       "      <th>3515</th>\n",
       "      <th>3516</th>\n",
       "      <th>3517</th>\n",
       "      <th>3518</th>\n",
       "      <th>3519</th>\n",
       "    </tr>\n",
       "  </thead>\n",
       "  <tbody>\n",
       "    <tr>\n",
       "      <th>0</th>\n",
       "      <td>0</td>\n",
       "      <td>0</td>\n",
       "      <td>0</td>\n",
       "      <td>0</td>\n",
       "      <td>0</td>\n",
       "      <td>0</td>\n",
       "      <td>0</td>\n",
       "      <td>0</td>\n",
       "      <td>0</td>\n",
       "      <td>0</td>\n",
       "      <td>...</td>\n",
       "      <td>0</td>\n",
       "      <td>0</td>\n",
       "      <td>0</td>\n",
       "      <td>1</td>\n",
       "      <td>0</td>\n",
       "      <td>0</td>\n",
       "      <td>0</td>\n",
       "      <td>0</td>\n",
       "      <td>0</td>\n",
       "      <td>0</td>\n",
       "    </tr>\n",
       "    <tr>\n",
       "      <th>1</th>\n",
       "      <td>0</td>\n",
       "      <td>0</td>\n",
       "      <td>3</td>\n",
       "      <td>0</td>\n",
       "      <td>0</td>\n",
       "      <td>0</td>\n",
       "      <td>0</td>\n",
       "      <td>0</td>\n",
       "      <td>0</td>\n",
       "      <td>0</td>\n",
       "      <td>...</td>\n",
       "      <td>0</td>\n",
       "      <td>0</td>\n",
       "      <td>0</td>\n",
       "      <td>1</td>\n",
       "      <td>0</td>\n",
       "      <td>0</td>\n",
       "      <td>0</td>\n",
       "      <td>0</td>\n",
       "      <td>0</td>\n",
       "      <td>0</td>\n",
       "    </tr>\n",
       "    <tr>\n",
       "      <th>2</th>\n",
       "      <td>0</td>\n",
       "      <td>0</td>\n",
       "      <td>0</td>\n",
       "      <td>0</td>\n",
       "      <td>0</td>\n",
       "      <td>0</td>\n",
       "      <td>0</td>\n",
       "      <td>0</td>\n",
       "      <td>0</td>\n",
       "      <td>0</td>\n",
       "      <td>...</td>\n",
       "      <td>0</td>\n",
       "      <td>0</td>\n",
       "      <td>0</td>\n",
       "      <td>0</td>\n",
       "      <td>0</td>\n",
       "      <td>0</td>\n",
       "      <td>0</td>\n",
       "      <td>0</td>\n",
       "      <td>0</td>\n",
       "      <td>0</td>\n",
       "    </tr>\n",
       "    <tr>\n",
       "      <th>3</th>\n",
       "      <td>0</td>\n",
       "      <td>0</td>\n",
       "      <td>0</td>\n",
       "      <td>0</td>\n",
       "      <td>0</td>\n",
       "      <td>0</td>\n",
       "      <td>0</td>\n",
       "      <td>0</td>\n",
       "      <td>0</td>\n",
       "      <td>0</td>\n",
       "      <td>...</td>\n",
       "      <td>0</td>\n",
       "      <td>0</td>\n",
       "      <td>0</td>\n",
       "      <td>0</td>\n",
       "      <td>0</td>\n",
       "      <td>0</td>\n",
       "      <td>0</td>\n",
       "      <td>0</td>\n",
       "      <td>0</td>\n",
       "      <td>0</td>\n",
       "    </tr>\n",
       "    <tr>\n",
       "      <th>4</th>\n",
       "      <td>0</td>\n",
       "      <td>0</td>\n",
       "      <td>0</td>\n",
       "      <td>0</td>\n",
       "      <td>0</td>\n",
       "      <td>0</td>\n",
       "      <td>0</td>\n",
       "      <td>0</td>\n",
       "      <td>0</td>\n",
       "      <td>0</td>\n",
       "      <td>...</td>\n",
       "      <td>0</td>\n",
       "      <td>0</td>\n",
       "      <td>1</td>\n",
       "      <td>1</td>\n",
       "      <td>0</td>\n",
       "      <td>0</td>\n",
       "      <td>0</td>\n",
       "      <td>0</td>\n",
       "      <td>0</td>\n",
       "      <td>0</td>\n",
       "    </tr>\n",
       "  </tbody>\n",
       "</table>\n",
       "<p>5 rows × 3520 columns</p>\n",
       "</div>"
      ],
      "text/plain": [
       "   0     1     2     3     4     5     6     7     8     9     ...   3510  \\\n",
       "0     0     0     0     0     0     0     0     0     0     0  ...      0   \n",
       "1     0     0     3     0     0     0     0     0     0     0  ...      0   \n",
       "2     0     0     0     0     0     0     0     0     0     0  ...      0   \n",
       "3     0     0     0     0     0     0     0     0     0     0  ...      0   \n",
       "4     0     0     0     0     0     0     0     0     0     0  ...      0   \n",
       "\n",
       "   3511  3512  3513  3514  3515  3516  3517  3518  3519  \n",
       "0     0     0     1     0     0     0     0     0     0  \n",
       "1     0     0     1     0     0     0     0     0     0  \n",
       "2     0     0     0     0     0     0     0     0     0  \n",
       "3     0     0     0     0     0     0     0     0     0  \n",
       "4     0     1     1     0     0     0     0     0     0  \n",
       "\n",
       "[5 rows x 3520 columns]"
      ]
     },
     "execution_count": 11,
     "metadata": {},
     "output_type": "execute_result"
    }
   ],
   "source": [
    "from sklearn.feature_extraction.text import CountVectorizer as CV\n",
    "cv = CV(stop_words='english')\n",
    "X = cv.fit_transform(X)\n",
    "X = pd.DataFrame(X.toarray())\n",
    "X.head()"
   ]
  },
  {
   "cell_type": "code",
   "execution_count": 12,
   "metadata": {},
   "outputs": [],
   "source": [
    "from sklearn.model_selection import train_test_split as tts\n",
    "Xtrain, Xtest, ytrain, ytest = tts(X, y, test_size = 0.5, random_state = 16)"
   ]
  },
  {
   "cell_type": "code",
   "execution_count": 13,
   "metadata": {},
   "outputs": [
    {
     "data": {
      "text/plain": [
       "MultinomialNB(alpha=1.0, class_prior=None, fit_prior=True)"
      ]
     },
     "execution_count": 13,
     "metadata": {},
     "output_type": "execute_result"
    }
   ],
   "source": [
    "from sklearn.naive_bayes import MultinomialNB as MNB\n",
    "mnb = MNB()\n",
    "mnb.fit(Xtrain, ytrain)"
   ]
  },
  {
   "cell_type": "code",
   "execution_count": 14,
   "metadata": {},
   "outputs": [
    {
     "name": "stdout",
     "output_type": "stream",
     "text": [
      "ACCURACY SCORE ON TRAINING SET = 0.9667\n",
      "\n",
      "CONFUSION MATRIX HEATMAP:\n"
     ]
    },
    {
     "data": {
      "text/plain": [
       "<Figure size 640x480 with 2 Axes>"
      ]
     },
     "metadata": {},
     "output_type": "display_data"
    },
    {
     "name": "stdout",
     "output_type": "stream",
     "text": [
      "\n",
      "VALUE COUNTS:\n",
      "\n",
      "3    42\n",
      "5    27\n",
      "1    23\n",
      "2    21\n",
      "0    20\n",
      "4    17\n",
      "dtype: int64\n"
     ]
    }
   ],
   "source": [
    "ypred_tr = mnb.predict(Xtrain)\n",
    "from sklearn.metrics import accuracy_score as ac, confusion_matrix as cm\n",
    "import seaborn as sb\n",
    "import matplotlib.pyplot as pp\n",
    "print(\"ACCURACY SCORE ON TRAINING SET = {}\".format(ac(ytrain, ypred_tr).round(4)))\n",
    "print(\"\\nCONFUSION MATRIX HEATMAP:\")\n",
    "sb.heatmap(cm(ytrain, ypred_tr), annot = True)\n",
    "pp.show()\n",
    "print(\"\\nVALUE COUNTS:\\n\")\n",
    "print(ytrain.value_counts())"
   ]
  },
  {
   "cell_type": "code",
   "execution_count": 15,
   "metadata": {},
   "outputs": [
    {
     "name": "stdout",
     "output_type": "stream",
     "text": [
      "ACCURACY SCORE ON TEST SET = 0.6267\n",
      "\n",
      "CONFUSION MATRIX HEATMAP:\n"
     ]
    },
    {
     "data": {
      "image/png": "[encoded data removed]",
      "text/plain": [
       "<Figure size 432x288 with 2 Axes>"
      ]
     },
     "metadata": {
      "needs_background": "light"
     },
     "output_type": "display_data"
    },
    {
     "name": "stdout",
     "output_type": "stream",
     "text": [
      "\n",
      "VALUE COUNTS:\n",
      "\n",
      "3    39\n",
      "2    39\n",
      "5    24\n",
      "4    19\n",
      "1    18\n",
      "0    11\n",
      "dtype: int64\n"
     ]
    }
   ],
   "source": [
    "ypred = mnb.predict(Xtest)\n",
    "print(\"ACCURACY SCORE ON TEST SET = {}\".format(ac(ytest, ypred).round(4)))\n",
    "print(\"\\nCONFUSION MATRIX HEATMAP:\")\n",
    "sb.heatmap(cm(ytest, ypred), annot = True)\n",
    "pp.show()\n",
    "print(\"\\nVALUE COUNTS:\\n\")\n",
    "print(ytest.value_counts())"
   ]
  },
  {
   "cell_type": "code",
   "execution_count": null,
   "metadata": {},
   "outputs": [],
   "source": []
  }
 ],
 "metadata": {
  "kernelspec": {
   "display_name": "Python 3",
   "language": "python",
   "name": "python3"
  },
  "language_info": {
   "codemirror_mode": {
    "name": "ipython",
    "version": 3
   },
   "file_extension": ".py",
   "mimetype": "text/x-python",
   "name": "python",
   "nbconvert_exporter": "python",
   "pygments_lexer": "ipython3",
   "version": "3.6.5"
  }
 },
 "nbformat": 4,
 "nbformat_minor": 2
}
