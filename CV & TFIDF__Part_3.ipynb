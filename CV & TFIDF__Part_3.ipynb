{
 "cells": [
  {
   "cell_type": "code",
   "execution_count": 1,
   "metadata": {},
   "outputs": [],
   "source": [
    "import pandas as pd\n",
    "data = pd.read_csv('D:/Work/Jupyter/NLP/Classwork/Consumer_Complaints.csv')"
   ]
  },
  {
   "cell_type": "code",
   "execution_count": 2,
   "metadata": {},
   "outputs": [],
   "source": [
    "data = data[['Product', 'Consumer complaint narrative']]\n",
    "data = data.dropna()\n",
    "data['Product'] = data['Product'].str.lower()\n",
    "data['Consumer complaint narrative'] = data['Consumer complaint narrative'].str.lower()"
   ]
  },
  {
   "cell_type": "code",
   "execution_count": 3,
   "metadata": {},
   "outputs": [],
   "source": [
    "def renaming(x):\n",
    "    if x =='credit reporting':\n",
    "        x = 'credit reporting,credit repair services, or other personal consumer reports'\n",
    "    elif x == 'credit card':\n",
    "        x = 'credit card or prepaid card'\n",
    "    elif x == 'virtual currency':\n",
    "        x = 'money transfer, virtual currency, or money service'\n",
    "    elif x == 'prepaid card':\n",
    "        x = 'credit card or prepaid card'\n",
    "    elif x == 'money transfers':\n",
    "        x = 'money transfer, virtual currency, or money service'\n",
    "    elif x == 'payday loan':\n",
    "        x = 'payday loan, title loan, or personal loan'\n",
    "    elif x == 'checking or savings account':\n",
    "        x = 'bank account or service'\n",
    "    return x\n",
    "\n",
    "def rerenaming(x):\n",
    "    if x=='student loan' or x=='consumer loan' or x=='payday loan, title loan, or personal loan' or x=='vehicle loan or lease':\n",
    "        x = 'loans'\n",
    "    elif x=='money transfer, virtual currency, or money service':\n",
    "        x = 'other financial service'\n",
    "    return x"
   ]
  },
  {
   "cell_type": "code",
   "execution_count": 4,
   "metadata": {},
   "outputs": [],
   "source": [
    "data[\"Product\"] = data[\"Product\"].apply(renaming)\n",
    "data[\"Product\"] = data[\"Product\"].apply(rerenaming)\n",
    "data10k = data.groupby('Product').filter(lambda x : len(x)>10000)"
   ]
  },
  {
   "cell_type": "code",
   "execution_count": 5,
   "metadata": {},
   "outputs": [],
   "source": [
    "X = data10k['Consumer complaint narrative'][:600]\n",
    "y = data10k['Product'][:600]"
   ]
  },
  {
   "cell_type": "code",
   "execution_count": 6,
   "metadata": {},
   "outputs": [],
   "source": [
    "from sklearn.preprocessing import LabelEncoder as LE\n",
    "le = LE()\n",
    "y = pd.Series(le.fit_transform(y))"
   ]
  },
  {
   "cell_type": "code",
   "execution_count": 7,
   "metadata": {},
   "outputs": [],
   "source": [
    "from nltk.tokenize import word_tokenize as wtk\n",
    "from nltk.stem import WordNetLemmatizer as wnl\n",
    "lem = wnl()\n",
    "def lemon(narr):\n",
    "    words = wtk(narr)\n",
    "    words = [lem.lemmatize(x) for x in words]\n",
    "    narr = ' '.join([x for x in words])\n",
    "    return narr"
   ]
  },
  {
   "cell_type": "code",
   "execution_count": 8,
   "metadata": {},
   "outputs": [],
   "source": [
    "X = X.apply(lemon)"
   ]
  },
  {
   "cell_type": "code",
   "execution_count": 9,
   "metadata": {},
   "outputs": [
    {
     "data": {
      "text/html": [
       "<div>\n",
       "<style scoped>\n",
       "    .dataframe tbody tr th:only-of-type {\n",
       "        vertical-align: middle;\n",
       "    }\n",
       "\n",
       "    .dataframe tbody tr th {\n",
       "        vertical-align: top;\n",
       "    }\n",
       "\n",
       "    .dataframe thead th {\n",
       "        text-align: right;\n",
       "    }\n",
       "</style>\n",
       "<table border=\"1\" class=\"dataframe\">\n",
       "  <thead>\n",
       "    <tr style=\"text-align: right;\">\n",
       "      <th></th>\n",
       "      <th>0</th>\n",
       "      <th>1</th>\n",
       "      <th>2</th>\n",
       "      <th>3</th>\n",
       "      <th>4</th>\n",
       "      <th>5</th>\n",
       "      <th>6</th>\n",
       "      <th>7</th>\n",
       "      <th>8</th>\n",
       "      <th>9</th>\n",
       "      <th>...</th>\n",
       "      <th>4830</th>\n",
       "      <th>4831</th>\n",
       "      <th>4832</th>\n",
       "      <th>4833</th>\n",
       "      <th>4834</th>\n",
       "      <th>4835</th>\n",
       "      <th>4836</th>\n",
       "      <th>4837</th>\n",
       "      <th>4838</th>\n",
       "      <th>4839</th>\n",
       "    </tr>\n",
       "  </thead>\n",
       "  <tbody>\n",
       "    <tr>\n",
       "      <th>0</th>\n",
       "      <td>0.0</td>\n",
       "      <td>0.0</td>\n",
       "      <td>0.000000</td>\n",
       "      <td>0.0</td>\n",
       "      <td>0.0</td>\n",
       "      <td>0.0</td>\n",
       "      <td>0.0</td>\n",
       "      <td>0.0</td>\n",
       "      <td>0.0</td>\n",
       "      <td>0.0</td>\n",
       "      <td>...</td>\n",
       "      <td>0.0</td>\n",
       "      <td>0.0</td>\n",
       "      <td>0.0</td>\n",
       "      <td>0.0</td>\n",
       "      <td>0.0</td>\n",
       "      <td>0.0</td>\n",
       "      <td>0.0</td>\n",
       "      <td>0.0</td>\n",
       "      <td>0.0</td>\n",
       "      <td>0.0</td>\n",
       "    </tr>\n",
       "    <tr>\n",
       "      <th>1</th>\n",
       "      <td>0.0</td>\n",
       "      <td>0.0</td>\n",
       "      <td>0.151062</td>\n",
       "      <td>0.0</td>\n",
       "      <td>0.0</td>\n",
       "      <td>0.0</td>\n",
       "      <td>0.0</td>\n",
       "      <td>0.0</td>\n",
       "      <td>0.0</td>\n",
       "      <td>0.0</td>\n",
       "      <td>...</td>\n",
       "      <td>0.0</td>\n",
       "      <td>0.0</td>\n",
       "      <td>0.0</td>\n",
       "      <td>0.0</td>\n",
       "      <td>0.0</td>\n",
       "      <td>0.0</td>\n",
       "      <td>0.0</td>\n",
       "      <td>0.0</td>\n",
       "      <td>0.0</td>\n",
       "      <td>0.0</td>\n",
       "    </tr>\n",
       "    <tr>\n",
       "      <th>2</th>\n",
       "      <td>0.0</td>\n",
       "      <td>0.0</td>\n",
       "      <td>0.000000</td>\n",
       "      <td>0.0</td>\n",
       "      <td>0.0</td>\n",
       "      <td>0.0</td>\n",
       "      <td>0.0</td>\n",
       "      <td>0.0</td>\n",
       "      <td>0.0</td>\n",
       "      <td>0.0</td>\n",
       "      <td>...</td>\n",
       "      <td>0.0</td>\n",
       "      <td>0.0</td>\n",
       "      <td>0.0</td>\n",
       "      <td>0.0</td>\n",
       "      <td>0.0</td>\n",
       "      <td>0.0</td>\n",
       "      <td>0.0</td>\n",
       "      <td>0.0</td>\n",
       "      <td>0.0</td>\n",
       "      <td>0.0</td>\n",
       "    </tr>\n",
       "    <tr>\n",
       "      <th>3</th>\n",
       "      <td>0.0</td>\n",
       "      <td>0.0</td>\n",
       "      <td>0.000000</td>\n",
       "      <td>0.0</td>\n",
       "      <td>0.0</td>\n",
       "      <td>0.0</td>\n",
       "      <td>0.0</td>\n",
       "      <td>0.0</td>\n",
       "      <td>0.0</td>\n",
       "      <td>0.0</td>\n",
       "      <td>...</td>\n",
       "      <td>0.0</td>\n",
       "      <td>0.0</td>\n",
       "      <td>0.0</td>\n",
       "      <td>0.0</td>\n",
       "      <td>0.0</td>\n",
       "      <td>0.0</td>\n",
       "      <td>0.0</td>\n",
       "      <td>0.0</td>\n",
       "      <td>0.0</td>\n",
       "      <td>0.0</td>\n",
       "    </tr>\n",
       "    <tr>\n",
       "      <th>4</th>\n",
       "      <td>0.0</td>\n",
       "      <td>0.0</td>\n",
       "      <td>0.000000</td>\n",
       "      <td>0.0</td>\n",
       "      <td>0.0</td>\n",
       "      <td>0.0</td>\n",
       "      <td>0.0</td>\n",
       "      <td>0.0</td>\n",
       "      <td>0.0</td>\n",
       "      <td>0.0</td>\n",
       "      <td>...</td>\n",
       "      <td>0.0</td>\n",
       "      <td>0.0</td>\n",
       "      <td>0.0</td>\n",
       "      <td>0.0</td>\n",
       "      <td>0.0</td>\n",
       "      <td>0.0</td>\n",
       "      <td>0.0</td>\n",
       "      <td>0.0</td>\n",
       "      <td>0.0</td>\n",
       "      <td>0.0</td>\n",
       "    </tr>\n",
       "  </tbody>\n",
       "</table>\n",
       "<p>5 rows × 4840 columns</p>\n",
       "</div>"
      ],
      "text/plain": [
       "   0     1         2     3     4     5     6     7     8     9     ...   4830  \\\n",
       "0   0.0   0.0  0.000000   0.0   0.0   0.0   0.0   0.0   0.0   0.0  ...    0.0   \n",
       "1   0.0   0.0  0.151062   0.0   0.0   0.0   0.0   0.0   0.0   0.0  ...    0.0   \n",
       "2   0.0   0.0  0.000000   0.0   0.0   0.0   0.0   0.0   0.0   0.0  ...    0.0   \n",
       "3   0.0   0.0  0.000000   0.0   0.0   0.0   0.0   0.0   0.0   0.0  ...    0.0   \n",
       "4   0.0   0.0  0.000000   0.0   0.0   0.0   0.0   0.0   0.0   0.0  ...    0.0   \n",
       "\n",
       "   4831  4832  4833  4834  4835  4836  4837  4838  4839  \n",
       "0   0.0   0.0   0.0   0.0   0.0   0.0   0.0   0.0   0.0  \n",
       "1   0.0   0.0   0.0   0.0   0.0   0.0   0.0   0.0   0.0  \n",
       "2   0.0   0.0   0.0   0.0   0.0   0.0   0.0   0.0   0.0  \n",
       "3   0.0   0.0   0.0   0.0   0.0   0.0   0.0   0.0   0.0  \n",
       "4   0.0   0.0   0.0   0.0   0.0   0.0   0.0   0.0   0.0  \n",
       "\n",
       "[5 rows x 4840 columns]"
      ]
     },
     "execution_count": 9,
     "metadata": {},
     "output_type": "execute_result"
    }
   ],
   "source": [
    "from sklearn.feature_extraction.text import TfidfVectorizer as TV\n",
    "tv = TV(stop_words='english')\n",
    "X = tv.fit_transform(X)\n",
    "X = pd.DataFrame(X.toarray())\n",
    "X.head()"
   ]
  },
  {
   "cell_type": "code",
   "execution_count": 10,
   "metadata": {},
   "outputs": [],
   "source": [
    "from sklearn.model_selection import train_test_split as tts\n",
    "Xtrain, Xtest, ytrain, ytest = tts(X, y, test_size = 0.5, random_state = 16)"
   ]
  },
  {
   "cell_type": "code",
   "execution_count": 11,
   "metadata": {},
   "outputs": [
    {
     "data": {
      "text/plain": [
       "MultinomialNB(alpha=1.0, class_prior=None, fit_prior=True)"
      ]
     },
     "execution_count": 11,
     "metadata": {},
     "output_type": "execute_result"
    }
   ],
   "source": [
    "from sklearn.naive_bayes import MultinomialNB as MNB\n",
    "mnb = MNB()\n",
    "mnb.fit(Xtrain, ytrain)"
   ]
  },
  {
   "cell_type": "code",
   "execution_count": 12,
   "metadata": {},
   "outputs": [
    {
     "name": "stdout",
     "output_type": "stream",
     "text": [
      "ACCURACY SCORE ON TRAINING SET = 0.7333\n",
      "\n",
      "CONFUSION MATRIX HEATMAP:\n"
     ]
    },
    {
     "data": {
      "text/plain": [
       "<Figure size 640x480 with 2 Axes>"
      ]
     },
     "metadata": {},
     "output_type": "display_data"
    },
    {
     "name": "stdout",
     "output_type": "stream",
     "text": [
      "\n",
      "VALUE COUNTS:\n",
      "\n",
      "3    82\n",
      "2    59\n",
      "5    56\n",
      "4    40\n",
      "1    33\n",
      "0    30\n",
      "dtype: int64\n"
     ]
    }
   ],
   "source": [
    "ypred_tr = mnb.predict(Xtrain)\n",
    "from sklearn.metrics import accuracy_score as ac, confusion_matrix as cm\n",
    "import seaborn as sb\n",
    "import matplotlib.pyplot as pp\n",
    "print(\"ACCURACY SCORE ON TRAINING SET = {}\".format(ac(ytrain, ypred_tr).round(4)))\n",
    "print(\"\\nCONFUSION MATRIX HEATMAP:\")\n",
    "sb.heatmap(cm(ytrain, ypred_tr), annot = True)\n",
    "pp.show()\n",
    "print(\"\\nVALUE COUNTS:\\n\")\n",
    "print(ytrain.value_counts())"
   ]
  },
  {
   "cell_type": "code",
   "execution_count": 13,
   "metadata": {},
   "outputs": [
    {
     "name": "stdout",
     "output_type": "stream",
     "text": [
      "ACCURACY SCORE ON TEST SET = 0.46\n",
      "\n",
      "CONFUSION MATRIX HEATMAP:\n"
     ]
    },
    {
     "data": {
      "image/png": "[encoded data removed]",
      "text/plain": [
       "<Figure size 432x288 with 2 Axes>"
      ]
     },
     "metadata": {
      "needs_background": "light"
     },
     "output_type": "display_data"
    },
    {
     "name": "stdout",
     "output_type": "stream",
     "text": [
      "\n",
      "VALUE COUNTS:\n",
      "\n",
      "3    73\n",
      "2    68\n",
      "5    51\n",
      "1    47\n",
      "4    33\n",
      "0    28\n",
      "dtype: int64\n"
     ]
    }
   ],
   "source": [
    "ypred = mnb.predict(Xtest)\n",
    "print(\"ACCURACY SCORE ON TEST SET = {}\".format(ac(ytest, ypred).round(4)))\n",
    "print(\"\\nCONFUSION MATRIX HEATMAP:\")\n",
    "sb.heatmap(cm(ytest, ypred), annot = True)\n",
    "pp.show()\n",
    "print(\"\\nVALUE COUNTS:\\n\")\n",
    "print(ytest.value_counts())"
   ]
  },
  {
   "cell_type": "code",
   "execution_count": null,
   "metadata": {},
   "outputs": [],
   "source": []
  }
 ],
 "metadata": {
  "kernelspec": {
   "display_name": "Python 3",
   "language": "python",
   "name": "python3"
  },
  "language_info": {
   "codemirror_mode": {
    "name": "ipython",
    "version": 3
   },
   "file_extension": ".py",
   "mimetype": "text/x-python",
   "name": "python",
   "nbconvert_exporter": "python",
   "pygments_lexer": "ipython3",
   "version": "3.6.5"
  }
 },
 "nbformat": 4,
 "nbformat_minor": 2
}
