{
 "cells": [
  {
   "cell_type": "code",
   "execution_count": 1,
   "metadata": {},
   "outputs": [],
   "source": [
    "import pandas as pd\n",
    "import numpy as np\n",
    "import matplotlib.pyplot as plt"
   ]
  },
  {
   "cell_type": "code",
   "execution_count": 2,
   "metadata": {},
   "outputs": [],
   "source": [
    "data = pd.read_csv('D:/farzad/Artificial Intelligence/Sem2/NLP/Consumer_Complaints.csv')"
   ]
  },
  {
   "cell_type": "code",
   "execution_count": 3,
   "metadata": {},
   "outputs": [],
   "source": [
    "data.dropna(inplace=True)\n",
    "X = data['Consumer complaint narrative']\n",
    "\n",
    "y = data['Product']"
   ]
  },
  {
   "cell_type": "code",
   "execution_count": 10,
   "metadata": {},
   "outputs": [
    {
     "data": {
      "text/plain": [
       "0"
      ]
     },
     "execution_count": 10,
     "metadata": {},
     "output_type": "execute_result"
    }
   ],
   "source": [
    "y.isnull().sum()"
   ]
  },
  {
   "cell_type": "code",
   "execution_count": 11,
   "metadata": {},
   "outputs": [],
   "source": [
    "from sklearn.feature_extraction.text import TfidfVectorizer\n",
    "from sklearn.preprocessing import LabelEncoder"
   ]
  },
  {
   "cell_type": "code",
   "execution_count": 12,
   "metadata": {},
   "outputs": [],
   "source": [
    "tfidf = TfidfVectorizer(stop_words='english')\n",
    "vector = tfidf.fit_transform(data['Consumer complaint narrative'])"
   ]
  },
  {
   "cell_type": "code",
   "execution_count": 13,
   "metadata": {},
   "outputs": [],
   "source": [
    "le = LabelEncoder()\n",
    "y = le.fit_transform(data['Product'])"
   ]
  },
  {
   "cell_type": "code",
   "execution_count": 14,
   "metadata": {},
   "outputs": [],
   "source": [
    "from sklearn.decomposition import TruncatedSVD\n",
    "\n",
    "svd = TruncatedSVD(n_components=5,algorithm='randomized',n_iter=100,random_state=42)"
   ]
  },
  {
   "cell_type": "code",
   "execution_count": 15,
   "metadata": {},
   "outputs": [
    {
     "data": {
      "text/plain": [
       "TruncatedSVD(algorithm='randomized', n_components=5, n_iter=100,\n",
       "       random_state=42, tol=0.0)"
      ]
     },
     "execution_count": 15,
     "metadata": {},
     "output_type": "execute_result"
    }
   ],
   "source": [
    "svd.fit(vector)"
   ]
  },
  {
   "cell_type": "code",
   "execution_count": 16,
   "metadata": {},
   "outputs": [
    {
     "data": {
      "text/plain": [
       "5"
      ]
     },
     "execution_count": 16,
     "metadata": {},
     "output_type": "execute_result"
    }
   ],
   "source": [
    "len(svd.components_)"
   ]
  },
  {
   "cell_type": "code",
   "execution_count": 17,
   "metadata": {},
   "outputs": [],
   "source": [
    "terms = tfidf.get_feature_names()\n",
    "topics = []"
   ]
  },
  {
   "cell_type": "code",
   "execution_count": 21,
   "metadata": {},
   "outputs": [
    {
     "name": "stdout",
     "output_type": "stream",
     "text": [
      "['topic 0: ', 'xxxx', 'xx', 'debt', 'credit', 'account', 'collection', '00']\n",
      "['topic 1: ', 'xx', 'debt', 'credit', 'report', 'account', 'company', 'collection']\n",
      "['topic 2: ', 'xx', 'xxxx', '00', '2016', 'loans', '2017', 'dated']\n",
      "['topic 3: ', 'calls', 'phone', 'number', 'calling', 'day', 'times', 'xx']\n",
      "['topic 4: ', '00', 'payment', 'pay', 'loan', 'paid', 'payments', 'told']\n",
      "['topic 0: ', 'xxxx', 'xx', 'debt', 'credit', 'account', 'collection', '00']\n",
      "['topic 1: ', 'xx', 'debt', 'credit', 'report', 'account', 'company', 'collection']\n",
      "['topic 2: ', 'xx', 'xxxx', '00', '2016', 'loans', '2017', 'dated']\n",
      "['topic 3: ', 'calls', 'phone', 'number', 'calling', 'day', 'times', 'xx']\n",
      "['topic 4: ', '00', 'payment', 'pay', 'loan', 'paid', 'payments', 'told']\n",
      "['topic 0: ', 'xxxx', 'xx', 'debt', 'credit', 'account', 'collection', '00']\n",
      "['topic 1: ', 'xx', 'debt', 'credit', 'report', 'account', 'company', 'collection']\n",
      "['topic 2: ', 'xx', 'xxxx', '00', '2016', 'loans', '2017', 'dated']\n",
      "['topic 3: ', 'calls', 'phone', 'number', 'calling', 'day', 'times', 'xx']\n",
      "['topic 4: ', '00', 'payment', 'pay', 'loan', 'paid', 'payments', 'told']\n",
      "['topic 0: ', 'xxxx', 'xx', 'debt', 'credit', 'account', 'collection', '00']\n",
      "['topic 1: ', 'xx', 'debt', 'credit', 'report', 'account', 'company', 'collection']\n",
      "['topic 2: ', 'xx', 'xxxx', '00', '2016', 'loans', '2017', 'dated']\n",
      "['topic 3: ', 'calls', 'phone', 'number', 'calling', 'day', 'times', 'xx']\n",
      "['topic 4: ', '00', 'payment', 'pay', 'loan', 'paid', 'payments', 'told']\n"
     ]
    }
   ],
   "source": [
    "for i, comp in enumerate(svd.components_):\n",
    "    #print(i)\n",
    "    #print(comp)\n",
    "    terms_comp = zip(terms,comp)\n",
    "    sorted_terms = sorted(terms_comp, key=lambda x: x[1],reverse=True)[:7]\n",
    "    #print(sorted_terms)\n",
    "    topics.append(\"topic \" +str(i)+\": \")\n",
    "    for t in sorted_terms:\n",
    "        topics.append(t[0])\n",
    "final_topic_list = [topics[i:i+8] for i in range(0, len(topics),8)]\n",
    "for x in final_topic_list:\n",
    "    print(x)"
   ]
  },
  {
   "cell_type": "code",
   "execution_count": 22,
   "metadata": {},
   "outputs": [],
   "source": [
    "import re\n",
    "from pprint import pprint\n",
    "\n",
    "import gensim\n",
    "import gensim.corpora as corpora\n",
    "from gensim.utils import simple_preprocess\n",
    "from gensim.models import CoherenceModel\n",
    "\n",
    "import pyLDAvis\n",
    "import pyLDAvis.gensim  # don't skip this\n",
    "import logging\n",
    "import warnings \n",
    "warnings.filterwarnings(\"ignore\",category=DeprecationWarning)"
   ]
  },
  {
   "cell_type": "code",
   "execution_count": 23,
   "metadata": {},
   "outputs": [],
   "source": [
    "from nltk.tokenize import word_tokenize\n",
    "from nltk.corpus import stopwords\n",
    "from string import punctuation\n",
    "from nltk.stem import WordNetLemmatizer\n",
    "from collections import Counter\n",
    "import operator"
   ]
  },
  {
   "cell_type": "code",
   "execution_count": 36,
   "metadata": {},
   "outputs": [
    {
     "data": {
      "text/plain": [
       "['i',\n",
       " 'me',\n",
       " 'my',\n",
       " 'myself',\n",
       " 'we',\n",
       " 'our',\n",
       " 'ours',\n",
       " 'ourselves',\n",
       " 'you',\n",
       " \"you're\",\n",
       " \"you've\",\n",
       " \"you'll\",\n",
       " \"you'd\",\n",
       " 'your',\n",
       " 'yours',\n",
       " 'yourself',\n",
       " 'yourselves',\n",
       " 'he',\n",
       " 'him',\n",
       " 'his',\n",
       " 'himself',\n",
       " 'she',\n",
       " \"she's\",\n",
       " 'her',\n",
       " 'hers',\n",
       " 'herself',\n",
       " 'it',\n",
       " \"it's\",\n",
       " 'its',\n",
       " 'itself',\n",
       " 'they',\n",
       " 'them',\n",
       " 'their',\n",
       " 'theirs',\n",
       " 'themselves',\n",
       " 'what',\n",
       " 'which',\n",
       " 'who',\n",
       " 'whom',\n",
       " 'this',\n",
       " 'that',\n",
       " \"that'll\",\n",
       " 'these',\n",
       " 'those',\n",
       " 'am',\n",
       " 'is',\n",
       " 'are',\n",
       " 'was',\n",
       " 'were',\n",
       " 'be',\n",
       " 'been',\n",
       " 'being',\n",
       " 'have',\n",
       " 'has',\n",
       " 'had',\n",
       " 'having',\n",
       " 'do',\n",
       " 'does',\n",
       " 'did',\n",
       " 'doing',\n",
       " 'a',\n",
       " 'an',\n",
       " 'the',\n",
       " 'and',\n",
       " 'but',\n",
       " 'if',\n",
       " 'or',\n",
       " 'because',\n",
       " 'as',\n",
       " 'until',\n",
       " 'while',\n",
       " 'of',\n",
       " 'at',\n",
       " 'by',\n",
       " 'for',\n",
       " 'with',\n",
       " 'about',\n",
       " 'against',\n",
       " 'between',\n",
       " 'into',\n",
       " 'through',\n",
       " 'during',\n",
       " 'before',\n",
       " 'after',\n",
       " 'above',\n",
       " 'below',\n",
       " 'to',\n",
       " 'from',\n",
       " 'up',\n",
       " 'down',\n",
       " 'in',\n",
       " 'out',\n",
       " 'on',\n",
       " 'off',\n",
       " 'over',\n",
       " 'under',\n",
       " 'again',\n",
       " 'further',\n",
       " 'then',\n",
       " 'once',\n",
       " 'here',\n",
       " 'there',\n",
       " 'when',\n",
       " 'where',\n",
       " 'why',\n",
       " 'how',\n",
       " 'all',\n",
       " 'any',\n",
       " 'both',\n",
       " 'each',\n",
       " 'few',\n",
       " 'more',\n",
       " 'most',\n",
       " 'other',\n",
       " 'some',\n",
       " 'such',\n",
       " 'no',\n",
       " 'nor',\n",
       " 'not',\n",
       " 'only',\n",
       " 'own',\n",
       " 'same',\n",
       " 'so',\n",
       " 'than',\n",
       " 'too',\n",
       " 'very',\n",
       " 's',\n",
       " 't',\n",
       " 'can',\n",
       " 'will',\n",
       " 'just',\n",
       " 'don',\n",
       " \"don't\",\n",
       " 'should',\n",
       " \"should've\",\n",
       " 'now',\n",
       " 'd',\n",
       " 'll',\n",
       " 'm',\n",
       " 'o',\n",
       " 're',\n",
       " 've',\n",
       " 'y',\n",
       " 'ain',\n",
       " 'aren',\n",
       " \"aren't\",\n",
       " 'couldn',\n",
       " \"couldn't\",\n",
       " 'didn',\n",
       " \"didn't\",\n",
       " 'doesn',\n",
       " \"doesn't\",\n",
       " 'hadn',\n",
       " \"hadn't\",\n",
       " 'hasn',\n",
       " \"hasn't\",\n",
       " 'haven',\n",
       " \"haven't\",\n",
       " 'isn',\n",
       " \"isn't\",\n",
       " 'ma',\n",
       " 'mightn',\n",
       " \"mightn't\",\n",
       " 'mustn',\n",
       " \"mustn't\",\n",
       " 'needn',\n",
       " \"needn't\",\n",
       " 'shan',\n",
       " \"shan't\",\n",
       " 'shouldn',\n",
       " \"shouldn't\",\n",
       " 'wasn',\n",
       " \"wasn't\",\n",
       " 'weren',\n",
       " \"weren't\",\n",
       " 'won',\n",
       " \"won't\",\n",
       " 'wouldn',\n",
       " \"wouldn't\",\n",
       " 'x',\n",
       " 'xx',\n",
       " 'xxx',\n",
       " 'xxxx',\n",
       " 'xxxxxxxx',\n",
       " 'x',\n",
       " 'xx',\n",
       " 'xxx',\n",
       " 'xxxx',\n",
       " 'xxxxxxxx']"
      ]
     },
     "execution_count": 36,
     "metadata": {},
     "output_type": "execute_result"
    }
   ],
   "source": [
    "text = list(X.values)\n",
    "\n",
    "text = text[:1000]\n",
    "text = [str(x).lower() for x in text]\n",
    "\n",
    "stop = list(stopwords.words('english'))\n",
    "exclude = set(punctuation)\n",
    "lemma = WordNetLemmatizer()\n",
    "stop=stop+['x','xx','xxx','xxxx','xxxxxxxx',\"x\",\"xx\",\"xxx\",\"xxxx\",\"xxxxxxxx\"]\n",
    "stop"
   ]
  },
  {
   "cell_type": "code",
   "execution_count": 37,
   "metadata": {},
   "outputs": [
    {
     "name": "stdout",
     "output_type": "stream",
     "text": [
      "[['called', 'cell', 'phone', 'first', 'national', 'debt', 'inc', 'told', 'owed', '21000', 'debt', 'incurred', 'xxxxxxxx', 'xxxx', 'debt', 'never', 'resolved', 'time', 'returned', 'home', 'found', 'debt', 'longer', 'bank', 'moved', 'something', 'website', 'number', 'recording', 'find', 'bought', 'another', 'bank', 'debt', 'came', 'xxxxxxxx', 'xxxxxxxx', 'xxxxxxxx', 'xxxxxxxx', 'debt', 'nine', 'year', 'old'], ['sent', 'cease', 'desist', 'letter', 'medical', 'debt', 'collection', 'agency', 'bill', 'recently', 'deceased', 'husband', 'ca', 'nt', 'afford', 'pay', 'certified', 'mail', 'receipt', 'payment', 'made', 'never', 'got', 'receipt', 'back', 'get', '2', 'robo', 'collection', 'call', 'day', '4', 'day', 'week', 'want', 'call', 'stop']]\n"
     ]
    }
   ],
   "source": [
    "def clean(doc):\n",
    "    stop_free = \" \".join([i for i in doc.lower().split() if i not in stop])\n",
    "    punc_free = ''.join(ch for ch in stop_free if ch not in exclude)\n",
    "    normalized  = \" \".join(lemma.lemmatize(word) for word in punc_free.split())\n",
    "    return normalized\n",
    "\n",
    "doc_clean = [clean(doc).split() for doc in text]\n",
    "print(doc_clean[:2])"
   ]
  },
  {
   "cell_type": "code",
   "execution_count": 38,
   "metadata": {},
   "outputs": [],
   "source": [
    "import gensim\n",
    "from gensim import corpora"
   ]
  },
  {
   "cell_type": "code",
   "execution_count": 40,
   "metadata": {},
   "outputs": [],
   "source": [
    "dictionary = corpora.Dictionary(doc_clean)\n",
    "doc_term_matrix = [dictionary.doc2bow(doc) for doc in doc_clean]\n"
   ]
  },
  {
   "cell_type": "code",
   "execution_count": 45,
   "metadata": {},
   "outputs": [
    {
     "name": "stdout",
     "output_type": "stream",
     "text": [
      "[[('21000', 1), ('another', 1), ('bank', 2), ('bought', 1), ('called', 1), ('came', 1), ('cell', 1), ('debt', 6), ('find', 1), ('first', 1), ('found', 1), ('home', 1), ('inc', 1), ('incurred', 1), ('longer', 1), ('moved', 1), ('national', 1), ('never', 1), ('nine', 1), ('number', 1), ('old', 1), ('owed', 1), ('phone', 1), ('recording', 1), ('resolved', 1), ('returned', 1), ('something', 1), ('time', 1), ('told', 1), ('website', 1), ('xxxx', 1), ('xxxxxxxx', 5), ('year', 1)]]\n"
     ]
    }
   ],
   "source": [
    "#print([[(dictionary[id]) for ]])\n",
    "print ([[(dictionary[id], freq) for id, freq in cp] for cp in doc_term_matrix[:1]])"
   ]
  },
  {
   "cell_type": "code",
   "execution_count": 46,
   "metadata": {},
   "outputs": [
    {
     "name": "stdout",
     "output_type": "stream",
     "text": [
      "[(0, '0.005*\"s\" + 0.005*\"sent\" + 0.004*\"credence\" + 0.004*\"xxxx2017\" + 0.004*\"paper\" + 0.004*\"xxxx\" + 0.004*\"wf\"'), (1, '0.024*\"loan\" + 0.013*\"would\" + 0.013*\"xxxx\" + 0.011*\"debt\" + 0.010*\"company\" + 0.009*\"called\" + 0.008*\"pay\"'), (2, '0.032*\"xxxx\" + 0.014*\"debt\" + 0.012*\"payment\" + 0.010*\"loan\" + 0.008*\"bank\" + 0.008*\"account\" + 0.007*\"year\"'), (3, '0.024*\"call\" + 0.018*\"xxxx\" + 0.012*\"phone\" + 0.011*\"time\" + 0.011*\"bill\" + 0.011*\"number\" + 0.010*\"called\"'), (4, '0.032*\"debt\" + 0.030*\"credit\" + 0.024*\"xxxx\" + 0.020*\"collection\" + 0.017*\"account\" + 0.015*\"report\" + 0.011*\"letter\"')]\n"
     ]
    }
   ],
   "source": [
    "Lda = gensim.models.ldamodel.LdaModel\n",
    "ldamodel = Lda(corpus = doc_term_matrix, num_topics=5, id2word = dictionary, passes=50)\n",
    "print(ldamodel.print_topics(num_topics=5, num_words=7))"
   ]
  },
  {
   "cell_type": "code",
   "execution_count": 34,
   "metadata": {},
   "outputs": [
    {
     "name": "stdout",
     "output_type": "stream",
     "text": [
      "Requirement already satisfied: pyLDAvis in c:\\users\\farzad avari\\appdata\\local\\conda\\conda\\envs\\imageenv1\\lib\\site-packages (2.1.2)\n",
      "Requirement already satisfied: future in c:\\users\\farzad avari\\appdata\\local\\conda\\conda\\envs\\imageenv1\\lib\\site-packages (from pyLDAvis) (0.17.1)\n",
      "Requirement already satisfied: wheel>=0.23.0 in c:\\users\\farzad avari\\appdata\\local\\conda\\conda\\envs\\imageenv1\\lib\\site-packages (from pyLDAvis) (0.31.1)\n",
      "Requirement already satisfied: scipy>=0.18.0 in c:\\users\\farzad avari\\appdata\\local\\conda\\conda\\envs\\imageenv1\\lib\\site-packages (from pyLDAvis) (1.1.0)\n",
      "Requirement already satisfied: pytest in c:\\users\\farzad avari\\appdata\\local\\conda\\conda\\envs\\imageenv1\\lib\\site-packages (from pyLDAvis) (4.3.0)\n",
      "Requirement already satisfied: numpy>=1.9.2 in c:\\users\\farzad avari\\appdata\\local\\conda\\conda\\envs\\imageenv1\\lib\\site-packages (from pyLDAvis) (1.16.2)\n",
      "Requirement already satisfied: pandas>=0.17.0 in c:\\users\\farzad avari\\appdata\\local\\conda\\conda\\envs\\imageenv1\\lib\\site-packages (from pyLDAvis) (0.23.4)\n",
      "Requirement already satisfied: joblib>=0.8.4 in c:\\users\\farzad avari\\appdata\\local\\conda\\conda\\envs\\imageenv1\\lib\\site-packages (from pyLDAvis) (0.13.2)\n",
      "Requirement already satisfied: jinja2>=2.7.2 in c:\\users\\farzad avari\\appdata\\local\\conda\\conda\\envs\\imageenv1\\lib\\site-packages (from pyLDAvis) (2.10)\n",
      "Requirement already satisfied: funcy in c:\\users\\farzad avari\\appdata\\local\\conda\\conda\\envs\\imageenv1\\lib\\site-packages (from pyLDAvis) (1.11)\n",
      "Requirement already satisfied: numexpr in c:\\users\\farzad avari\\appdata\\local\\conda\\conda\\envs\\imageenv1\\lib\\site-packages (from pyLDAvis) (2.6.9)\n",
      "Requirement already satisfied: pathlib2>=2.2.0; python_version < \"3.6\" in c:\\users\\farzad avari\\appdata\\local\\conda\\conda\\envs\\imageenv1\\lib\\site-packages (from pytest->pyLDAvis) (2.3.3)\n",
      "Requirement already satisfied: attrs>=17.4.0 in c:\\users\\farzad avari\\appdata\\local\\conda\\conda\\envs\\imageenv1\\lib\\site-packages (from pytest->pyLDAvis) (18.1.0)\n",
      "Requirement already satisfied: six>=1.10.0 in c:\\users\\farzad avari\\appdata\\local\\conda\\conda\\envs\\imageenv1\\lib\\site-packages (from pytest->pyLDAvis) (1.11.0)\n",
      "Requirement already satisfied: setuptools in c:\\users\\farzad avari\\appdata\\local\\conda\\conda\\envs\\imageenv1\\lib\\site-packages (from pytest->pyLDAvis) (40.0.0)\n",
      "Requirement already satisfied: py>=1.5.0 in c:\\users\\farzad avari\\appdata\\local\\conda\\conda\\envs\\imageenv1\\lib\\site-packages (from pytest->pyLDAvis) (1.8.0)\n",
      "Requirement already satisfied: colorama; sys_platform == \"win32\" in c:\\users\\farzad avari\\appdata\\local\\conda\\conda\\envs\\imageenv1\\lib\\site-packages (from pytest->pyLDAvis) (0.3.9)\n",
      "Requirement already satisfied: pluggy>=0.7 in c:\\users\\farzad avari\\appdata\\local\\conda\\conda\\envs\\imageenv1\\lib\\site-packages (from pytest->pyLDAvis) (0.9.0)\n",
      "Requirement already satisfied: atomicwrites>=1.0 in c:\\users\\farzad avari\\appdata\\local\\conda\\conda\\envs\\imageenv1\\lib\\site-packages (from pytest->pyLDAvis) (1.3.0)\n",
      "Requirement already satisfied: more-itertools>=4.0.0; python_version > \"2.7\" in c:\\users\\farzad avari\\appdata\\local\\conda\\conda\\envs\\imageenv1\\lib\\site-packages (from pytest->pyLDAvis) (6.0.0)\n",
      "Requirement already satisfied: python-dateutil>=2.5.0 in c:\\users\\farzad avari\\appdata\\local\\conda\\conda\\envs\\imageenv1\\lib\\site-packages (from pandas>=0.17.0->pyLDAvis) (2.7.3)\n",
      "Requirement already satisfied: pytz>=2011k in c:\\users\\farzad avari\\appdata\\local\\conda\\conda\\envs\\imageenv1\\lib\\site-packages (from pandas>=0.17.0->pyLDAvis) (2018.5)\n",
      "Requirement already satisfied: MarkupSafe>=0.23 in c:\\users\\farzad avari\\appdata\\local\\conda\\conda\\envs\\imageenv1\\lib\\site-packages (from jinja2>=2.7.2->pyLDAvis) (1.0)\n"
     ]
    },
    {
     "name": "stderr",
     "output_type": "stream",
     "text": [
      "C:\\Users\\Farzad Avari\\AppData\\Local\\conda\\conda\\envs\\ImageEnv1\\lib\\site-packages\\pyLDAvis\\_prepare.py:257: FutureWarning: Sorting because non-concatenation axis is not aligned. A future version\n",
      "of pandas will change to not sort by default.\n",
      "\n",
      "To accept the future behavior, pass 'sort=False'.\n",
      "\n",
      "To retain the current behavior and silence the warning, pass 'sort=True'.\n",
      "\n",
      "  return pd.concat([default_term_info] + list(topic_dfs))\n"
     ]
    },
    {
     "data": {
      "text/html": [
       "\n",
       "<link rel=\"stylesheet\" type=\"text/css\" href=\"https://cdn.rawgit.com/bmabey/pyLDAvis/files/ldavis.v1.0.0.css\">\n",
       "\n",
       "\n",
       "<div id=\"ldavis_el874423142082449849961769743\"></div>\n",
       "<script type=\"text/javascript\">\n",
       "\n",
       "var ldavis_el874423142082449849961769743_data = {\"tinfo\": {\"logprob\": [30.0, 29.0, 28.0, 27.0, 26.0, 25.0, 24.0, 23.0, 22.0, 21.0, 20.0, 19.0, 18.0, 17.0, 16.0, 15.0, 14.0, 13.0, 12.0, 11.0, 10.0, 9.0, 8.0, 7.0, 6.0, 5.0, 4.0, 3.0, 2.0, 1.0, -5.980199813842773, -6.184700012207031, -7.242499828338623, -7.313300132751465, -7.35099983215332, -7.352099895477295, -7.472799777984619, -7.562600135803223, -7.610799789428711, -7.714799880981445, -7.771500110626221, -7.771599769592285, -7.831299781799316, -7.831600189208984, -7.895199775695801, -7.963500022888184, -7.899799823760986, -7.966100215911865, -8.036499977111816, -6.576499938964844, -8.114899635314941, -8.115099906921387, -8.115300178527832, -7.147500038146973, -8.11709976196289, -7.179599761962891, -7.353400230407715, -8.200900077819824, -8.200900077819824, -8.201899528503418, -4.616600036621094, -5.984899997711182, -7.123899936676025, -6.219900131225586, -6.619999885559082, -6.405300140380859, -4.896699905395508, -6.367000102996826, -5.630799770355225, -1.9455000162124634, -4.188499927520752, -4.894800186157227, -6.844699859619141, -4.85699987411499, -5.861700057983398, -4.042500019073486, -6.075200080871582, -5.176400184631348, -4.836400032043457, -4.413000106811523, -4.891300201416016, -5.216599941253662, -5.077700138092041, -5.271100044250488, -5.383900165557861, -6.098999977111816, -5.919000148773193, -6.115600109100342, -5.038400173187256, -4.36359977722168, -5.2118000984191895, -5.28980016708374, -5.3368000984191895, -5.539899826049805, -5.1143999099731445, -5.8105998039245605, -5.422399997711182, -5.627799987792969, -5.337500095367432, -5.556300163269043, -5.306600093841553, -5.4375, -5.665599822998047, -6.127500057220459, -6.024600028991699, -6.6930999755859375, -6.9629998207092285, -7.107999801635742, -7.2779998779296875, -7.482800006866455, -7.647600173950195, -7.740600109100342, -7.740900039672852, -7.741199970245361, -7.045899868011475, -7.843800067901611, -7.844099998474121, -5.543399810791016, -7.958899974822998, -7.959000110626221, -7.95959997177124, -7.95959997177124, -7.960000038146973, -7.960000038146973, -7.962900161743164, -7.9653000831604, -7.600200176239014, -6.975200176239014, -7.266600131988525, -8.089200019836426, -8.089300155639648, -8.089799880981445, -8.089799880981445, -4.113800048828125, -6.681600093841553, -7.226399898529053, -6.51800012588501, -6.921199798583984, -6.417699813842773, -7.327899932861328, -5.0, -7.322999954223633, -5.8302998542785645, -4.255099773406982, -7.561800003051758, -5.498600006103516, -7.02869987487793, -6.682300090789795, -6.57450008392334, -2.343600034713745, -6.258500099182129, -7.083199977874756, -6.475399971008301, -6.10890007019043, -6.372499942779541, -5.144800186157227, -6.2581000328063965, -4.213500022888184, -5.648600101470947, -5.124199867248535, -5.05679988861084, -5.059000015258789, -4.624000072479248, -5.927800178527832, -5.214200019836426, -5.876999855041504, -5.044099807739258, -6.082600116729736, -5.173299789428711, -6.1508002281188965, -5.749199867248535, -5.119200229644775, -5.643700122833252, -5.67080020904541, -4.865499973297119, -5.51800012588501, -5.386099815368652, -6.052499771118164, -5.686500072479248, -5.59689998626709, -5.48769998550415, -5.655900001525879, -5.603600025177002, -5.666399955749512, -5.671500205993652, -6.345900058746338, -6.112299919128418, -6.818699836730957, -6.998899936676025, -7.010000228881836, -4.522900104522705, -7.39769983291626, -7.3979997634887695, -7.501100063323975, -7.617800235748291, -7.746500015258789, -5.671000003814697, -7.896200180053711, -7.896399974822998, -7.897200107574463, -7.89709997177124, -7.898499965667725, -7.904200077056885, -7.7677998542785645, -8.071599960327148, -8.072199821472168, -8.07229995727539, -8.072500228881836, -8.072699546813965, -8.073800086975098, -8.074299812316895, -8.076499938964844, -7.793900012969971, -7.922399997711182, -8.07979965209961, -5.899799823760986, -5.39769983291626, -3.4326000213623047, -6.620999813079834, -6.5243000984191895, -7.10290002822876, -6.646399974822998, -5.807000160217285, -6.252600193023682, -4.030399799346924, -6.380899906158447, -6.013700008392334, -4.17080020904541, -6.328000068664551, -5.336699962615967, -5.945199966430664, -7.341800212860107, -6.162700176239014, -6.297399997711182, -5.481299877166748, -6.560800075531006, -4.235199928283691, -3.5636000633239746, -4.503499984741211, -5.026899814605713, -5.29040002822876, -5.033299922943115, -4.549499988555908, -4.992599964141846, -4.885700225830078, -5.458399772644043, -5.3907999992370605, -4.845300197601318, -4.927199840545654, -5.150100231170654, -4.28980016708374, -5.519599914550781, -4.941699981689453, -4.954699993133545, -3.804800033569336, -5.247499942779541, -4.884699821472168, -5.122600078582764, -5.051799774169922, -5.369200229644775, -5.3557000160217285, -5.3968000411987305, -5.119699954986572, -6.159599781036377, -6.730000019073486, -6.7322998046875, -6.734499931335449, -5.491499900817871, -6.946100234985352, -7.215700149536133, -7.21619987487793, -7.216400146484375, -7.2164998054504395, -7.216700077056885, -7.216899871826172, -7.222599983215332, -5.207099914550781, -6.729599952697754, -7.590400218963623, -7.5904998779296875, -7.5904998779296875, -7.5904998779296875, -7.59060001373291, -7.59060001373291, -7.59060001373291, -7.590700149536133, -7.590700149536133, -7.590700149536133, -7.590799808502197, -7.590799808502197, -7.59089994430542, -7.591100215911865, -6.729700088500977, -6.730000019073486, -6.730800151824951, -5.973800182342529, -4.7104997634887695, -4.772600173950195, -5.893499851226807, -6.557300090789795, -6.593500137329102, -6.276800155639648, -5.944900035858154, -6.363999843597412, -7.079599857330322, -6.730000019073486, -6.555500030517578, -5.781599998474121, -5.394999980926514, -6.44350004196167, -6.44350004196167, -6.64769983291626, -6.2692999839782715, -5.445099830627441, -6.404300212860107, -5.128499984741211, -6.18779993057251, -4.306399822235107, -4.6468000411987305, -5.542399883270264, -6.1722002029418945, -5.032100200653076, -5.612800121307373, -5.909999847412109, -5.906799793243408, -5.949900150299072, -4.628300189971924, -5.440100193023682, -5.0671000480651855, -4.90880012512207, -4.745200157165527, -5.13070011138916, -5.542300224304199, -5.656400203704834, -5.276299953460693, -5.734899997711182, -5.536099910736084, -5.577099800109863, -5.429599761962891, -5.544300079345703, -5.701200008392334, -5.828999996185303, -5.8256001472473145, -6.080599784851074, -4.94350004196167, -6.940499782562256, -6.940499782562256, -6.940499782562256, -6.940499782562256, -6.940499782562256, -6.940499782562256, -6.940499782562256, -6.940499782562256, -6.940499782562256, -6.940499782562256, -6.940800189971924, -6.940800189971924, -6.94189977645874, -6.942399978637695, -6.942200183868408, -6.942500114440918, -6.942599773406982, -6.942599773406982, -6.942800045013428, -6.942800045013428, -6.942800045013428, -6.942800045013428, -6.291600227355957, -6.565000057220459, -7.097700119018555, -7.546800136566162, -7.546800136566162, -7.546800136566162, -7.546800136566162, -7.546800136566162, -6.292600154876709, -6.293900012969971, -6.3267998695373535, -5.693999767303467, -5.127600193023682, -5.913599967956543, -5.637400150299072, -5.252999782562256, -5.140200138092041, -6.315499782562256, -5.865499973297119, -6.317500114440918, -5.5609002113342285, -5.27269983291626, -4.392000198364258, -6.178699970245361, -5.736299991607666, -4.136899948120117, -5.332499980926514, -5.537099838256836, -6.3744001388549805, -5.04010009765625, -6.4095001220703125, -5.074900150299072, -5.495500087738037, -6.291800022125244, -6.078199863433838, -5.0432000160217285, -5.678199768066406, -5.8628997802734375, -5.845300197601318, -5.659200191497803, -5.427000045776367, -5.77209997177124, -5.861199855804443, -5.882500171661377, -5.9517998695373535, -5.9741997718811035, -6.002299785614014], \"Category\": [\"Default\", \"Default\", \"Default\", \"Default\", \"Default\", \"Default\", \"Default\", \"Default\", \"Default\", \"Default\", \"Default\", \"Default\", \"Default\", \"Default\", \"Default\", \"Default\", \"Default\", \"Default\", \"Default\", \"Default\", \"Default\", \"Default\", \"Default\", \"Default\", \"Default\", \"Default\", \"Default\", \"Default\", \"Default\", \"Default\", \"Topic1\", \"Topic1\", \"Topic1\", \"Topic1\", \"Topic1\", \"Topic1\", \"Topic1\", \"Topic1\", \"Topic1\", \"Topic1\", \"Topic1\", \"Topic1\", \"Topic1\", \"Topic1\", \"Topic1\", \"Topic1\", \"Topic1\", \"Topic1\", \"Topic1\", \"Topic1\", \"Topic1\", \"Topic1\", \"Topic1\", \"Topic1\", \"Topic1\", \"Topic1\", \"Topic1\", \"Topic1\", \"Topic1\", \"Topic1\", \"Topic1\", \"Topic1\", \"Topic1\", \"Topic1\", \"Topic1\", \"Topic1\", \"Topic1\", \"Topic1\", \"Topic1\", \"Topic1\", \"Topic1\", \"Topic1\", \"Topic1\", \"Topic1\", \"Topic1\", \"Topic1\", \"Topic1\", \"Topic1\", \"Topic1\", \"Topic1\", \"Topic1\", \"Topic1\", \"Topic1\", \"Topic1\", \"Topic1\", \"Topic1\", \"Topic1\", \"Topic1\", \"Topic1\", \"Topic1\", \"Topic1\", \"Topic1\", \"Topic1\", \"Topic1\", \"Topic1\", \"Topic1\", \"Topic1\", \"Topic1\", \"Topic1\", \"Topic1\", \"Topic1\", \"Topic1\", \"Topic1\", \"Topic2\", \"Topic2\", \"Topic2\", \"Topic2\", \"Topic2\", \"Topic2\", \"Topic2\", \"Topic2\", \"Topic2\", \"Topic2\", \"Topic2\", \"Topic2\", \"Topic2\", \"Topic2\", \"Topic2\", \"Topic2\", \"Topic2\", \"Topic2\", \"Topic2\", \"Topic2\", \"Topic2\", \"Topic2\", \"Topic2\", \"Topic2\", \"Topic2\", \"Topic2\", \"Topic2\", \"Topic2\", \"Topic2\", \"Topic2\", \"Topic2\", \"Topic2\", \"Topic2\", \"Topic2\", \"Topic2\", \"Topic2\", \"Topic2\", \"Topic2\", \"Topic2\", \"Topic2\", \"Topic2\", \"Topic2\", \"Topic2\", \"Topic2\", \"Topic2\", \"Topic2\", \"Topic2\", \"Topic2\", \"Topic2\", \"Topic2\", \"Topic2\", \"Topic2\", \"Topic2\", \"Topic2\", \"Topic2\", \"Topic2\", \"Topic2\", \"Topic2\", \"Topic2\", \"Topic2\", \"Topic2\", \"Topic2\", \"Topic2\", \"Topic2\", \"Topic2\", \"Topic2\", \"Topic2\", \"Topic2\", \"Topic2\", \"Topic2\", \"Topic2\", \"Topic2\", \"Topic2\", \"Topic2\", \"Topic2\", \"Topic2\", \"Topic2\", \"Topic2\", \"Topic2\", \"Topic2\", \"Topic2\", \"Topic2\", \"Topic3\", \"Topic3\", \"Topic3\", \"Topic3\", \"Topic3\", \"Topic3\", \"Topic3\", \"Topic3\", \"Topic3\", \"Topic3\", \"Topic3\", \"Topic3\", \"Topic3\", \"Topic3\", \"Topic3\", \"Topic3\", \"Topic3\", \"Topic3\", \"Topic3\", \"Topic3\", \"Topic3\", \"Topic3\", \"Topic3\", \"Topic3\", \"Topic3\", \"Topic3\", \"Topic3\", \"Topic3\", \"Topic3\", \"Topic3\", \"Topic3\", \"Topic3\", \"Topic3\", \"Topic3\", \"Topic3\", \"Topic3\", \"Topic3\", \"Topic3\", \"Topic3\", \"Topic3\", \"Topic3\", \"Topic3\", \"Topic3\", \"Topic3\", \"Topic3\", \"Topic3\", \"Topic3\", \"Topic3\", \"Topic3\", \"Topic3\", \"Topic3\", \"Topic3\", \"Topic3\", \"Topic3\", \"Topic3\", \"Topic3\", \"Topic3\", \"Topic3\", \"Topic3\", \"Topic3\", \"Topic3\", \"Topic3\", \"Topic3\", \"Topic3\", \"Topic3\", \"Topic3\", \"Topic3\", \"Topic3\", \"Topic3\", \"Topic3\", \"Topic3\", \"Topic3\", \"Topic3\", \"Topic3\", \"Topic3\", \"Topic3\", \"Topic3\", \"Topic4\", \"Topic4\", \"Topic4\", \"Topic4\", \"Topic4\", \"Topic4\", \"Topic4\", \"Topic4\", \"Topic4\", \"Topic4\", \"Topic4\", \"Topic4\", \"Topic4\", \"Topic4\", \"Topic4\", \"Topic4\", \"Topic4\", \"Topic4\", \"Topic4\", \"Topic4\", \"Topic4\", \"Topic4\", \"Topic4\", \"Topic4\", \"Topic4\", \"Topic4\", \"Topic4\", \"Topic4\", \"Topic4\", \"Topic4\", \"Topic4\", \"Topic4\", \"Topic4\", \"Topic4\", \"Topic4\", \"Topic4\", \"Topic4\", \"Topic4\", \"Topic4\", \"Topic4\", \"Topic4\", \"Topic4\", \"Topic4\", \"Topic4\", \"Topic4\", \"Topic4\", \"Topic4\", \"Topic4\", \"Topic4\", \"Topic4\", \"Topic4\", \"Topic4\", \"Topic4\", \"Topic4\", \"Topic4\", \"Topic4\", \"Topic4\", \"Topic4\", \"Topic4\", \"Topic4\", \"Topic4\", \"Topic4\", \"Topic4\", \"Topic4\", \"Topic4\", \"Topic4\", \"Topic4\", \"Topic4\", \"Topic4\", \"Topic4\", \"Topic4\", \"Topic4\", \"Topic4\", \"Topic4\", \"Topic4\", \"Topic4\", \"Topic4\", \"Topic4\", \"Topic4\", \"Topic4\", \"Topic4\", \"Topic5\", \"Topic5\", \"Topic5\", \"Topic5\", \"Topic5\", \"Topic5\", \"Topic5\", \"Topic5\", \"Topic5\", \"Topic5\", \"Topic5\", \"Topic5\", \"Topic5\", \"Topic5\", \"Topic5\", \"Topic5\", \"Topic5\", \"Topic5\", \"Topic5\", \"Topic5\", \"Topic5\", \"Topic5\", \"Topic5\", \"Topic5\", \"Topic5\", \"Topic5\", \"Topic5\", \"Topic5\", \"Topic5\", \"Topic5\", \"Topic5\", \"Topic5\", \"Topic5\", \"Topic5\", \"Topic5\", \"Topic5\", \"Topic5\", \"Topic5\", \"Topic5\", \"Topic5\", \"Topic5\", \"Topic5\", \"Topic5\", \"Topic5\", \"Topic5\", \"Topic5\", \"Topic5\", \"Topic5\", \"Topic5\", \"Topic5\", \"Topic5\", \"Topic5\", \"Topic5\", \"Topic5\", \"Topic5\", \"Topic5\", \"Topic5\", \"Topic5\", \"Topic5\", \"Topic5\", \"Topic5\", \"Topic5\", \"Topic5\", \"Topic5\", \"Topic5\", \"Topic5\", \"Topic5\", \"Topic5\", \"Topic5\", \"Topic5\", \"Topic5\"], \"Term\": [\"debt\", \"xxxx\", \"call\", \"number\", \"payment\", \"loan\", \"information\", \"phone\", \"company\", \"account\", \"s\", \"calling\", \"credit\", \"collection\", \"time\", \"called\", \"also\", \"sent\", \"charge\", \"person\", \"check\", \"date\", \"provide\", \"day\", \"federal\", \"erc\", \"without\", \"service\", \"xxxxxxxx\", \"bank\", \"apartment\", \"billing\", \"complex\", \"confirmed\", \"final\", \"billed\", \"covered\", \"free\", \"cable\", \"xxxxxxxx14\", \"moving\", \"carpet\", \"medicare\", \"credence\", \"patient\", \"11000\", \"damaged\", \"confirmation\", \"approximately\", \"2016\", \"paypal\", \"membership\", \"update\", \"lease\", \"water\", \"sps\", \"visit\", \"termination\", \"maintenance\", \"lendkey\", \"bill\", \"insurance\", \"equipment\", \"xxxxxxxxxxxx\", \"va\", \"2015\", \"service\", \"hospital\", \"charge\", \"xxxx\", \"collection\", \"agency\", \"turned\", \"paid\", \"full\", \"credit\", \"medical\", \"amount\", \"report\", \"account\", \"received\", \"sent\", \"pay\", \"xxxxxxxx\", \"month\", \"removed\", \"date\", \"reported\", \"would\", \"debt\", \"letter\", \"called\", \"told\", \"said\", \"company\", \"notice\", \"never\", \"also\", \"time\", \"year\", \"payment\", \"nt\", \"day\", \"fargo\", \"america\", \"lien\", \"deed\", \"aafes\", \"green\", \"suntrust\", \"3000\", \"exhibit\", \"consolidate\", \"cpa\", \"real\", \"partner\", \"offset\", \"student\", \"amex\", \"equity\", \"pam\", \"performant\", \"lending\", \"banking\", \"force\", \"disclosed\", \"star\", \"repayment\", \"ditech\", \"withdrawn\", \"trustee\", \"homeowner\", \"scared\", \"loan\", \"lender\", \"tree\", \"school\", \"program\", \"job\", \"lake\", \"bank\", \"saving\", \"interest\", \"payment\", \"standard\", \"well\", \"course\", \"garnishment\", \"signature\", \"xxxx\", \"note\", \"buyer\", \"monthly\", \"federal\", \"feel\", \"year\", \"practice\", \"debt\", \"card\", \"never\", \"nt\", \"pay\", \"account\", \"help\", \"xxxxxxxx\", \"check\", \"would\", \"agreement\", \"letter\", \"late\", \"made\", \"received\", \"money\", \"due\", \"credit\", \"month\", \"paid\", \"consumer\", \"could\", \"amount\", \"time\", \"s\", \"sent\", \"information\", \"collection\", \"macy\", \"caller\", \"hang\", \"southwest\", \"recording\", \"calling\", \"harris\", \"grandmother\", \"robo\", \"press\", \"rms\", \"cell\", \"ring\", \"brother\", \"method\", \"hsa\", \"exempt\", \"validated\", \"blocked\", \"aquired\", \"profile\", \"guy\", \"omega\", \"loud\", \"lack\", \"sunbelt\", \"at\", \"letting\", \"im\", \"asks\", \"hung\", \"message\", \"call\", \"answered\", \"looking\", \"answering\", \"citibank\", \"harassing\", \"rude\", \"number\", \"voice\", \"ask\", \"phone\", \"repeatedly\", \"stop\", \"answer\", \"automated\", \"verify\", \"info\", \"person\", \"list\", \"company\", \"debt\", \"called\", \"name\", \"know\", \"asked\", \"time\", \"me\", \"day\", \"collector\", \"contact\", \"told\", \"information\", \"get\", \"credit\", \"trying\", \"nt\", \"report\", \"xxxx\", \"said\", \"account\", \"would\", \"collection\", \"owe\", \"letter\", \"never\", \"union\", \"wf\", \"earnest\", \"sensitive\", \"lose\", \"navy\", \"once\", \"meltdown\", \"pell\", \"consolidating\", \"vsac\", \"combative\", \"repossession\", \"clinic\", \"victim\", \"broker\", \"servicers\", \"achieved\", \"advancement\", \"mission\", \"successfully\", \"terminates\", \"routed\", \"moore\", \"blatt\", \"hasemiller\", \"28\", \"forgiven\", \"mountain\", \"illness\", \"tracked\", \"xxxx2014\", \"approve\", \"utility\", \"identity\", \"theft\", \"regard\", \"deduction\", \"organization\", \"unfortunately\", \"consent\", \"forbearance\", \"guideline\", \"referenced\", \"inquiry\", \"xxxx2016\", \"judgement\", \"mae\", \"sallie\", \"dentist\", \"branch\", \"fraudulent\", \"price\", \"federal\", \"cash\", \"payment\", \"information\", \"attached\", \"appear\", \"also\", \"certified\", \"fund\", \"garnishment\", \"knowledge\", \"credit\", \"law\", \"sent\", \"company\", \"debt\", \"time\", \"check\", \"matter\", \"loan\", \"without\", \"xxxxxxxx\", \"day\", \"account\", \"letter\", \"well\", \"regarding\", \"would\", \"30day\", \"identification\", \"purport\", \"usc1692g\", \"775083\", \"punishable\", \"commits\", \"775082\", \"775084\", \"counterfeit\", \"willfully\", \"conjunction\", \"exception\", \"criterion\", \"stand\", \"blind\", \"slrp\", \"describing\", \"identifiable\", \"moneythe\", \"isnt\", \"glhec\", \"cobb\", \"maury\", \"meade\", \"maryland\", \"defamed\", \"empowerment\", \"1name\", \"xlvi\", \"competence\", \"817\", \"assoc\", \"fill\", \"specific\", \"expired\", \"statute\", \"validity\", \"invoice\", \"mean\", \"erc\", \"timeline\", \"b\", \"fraudulently\", \"limitation\", \"personal\", \"number\", \"c\", \"individual\", \"debt\", \"provide\", \"act\", \"harm\", \"s\", \"personally\", \"information\", \"person\", \"allegedly\", \"access\", \"account\", \"without\", \"use\", \"verification\", \"date\", \"collection\", \"charge\", \"state\", \"consumer\", \"used\", \"request\", \"check\"], \"Freq\": [1314.0, 8118.0, 613.0, 405.0, 558.0, 398.0, 347.0, 364.0, 551.0, 834.0, 277.0, 177.0, 1108.0, 780.0, 463.0, 401.0, 266.0, 353.0, 167.0, 105.0, 131.0, 158.0, 94.0, 307.0, 85.0, 46.0, 100.0, 347.0, 347.0, 209.0, 99.9867172241211, 81.4981689453125, 28.2978458404541, 26.361244201660156, 25.387243270874023, 25.35890007019043, 22.474971771240234, 20.545072555541992, 19.57918930053711, 17.644500732421875, 16.671672821044922, 16.670997619628906, 15.704670906066895, 15.699996948242188, 14.731523513793945, 13.760093688964844, 14.665307998657227, 13.723723411560059, 12.790800094604492, 55.07593536376953, 11.82602596282959, 11.824030876159668, 11.821187019348145, 31.116708755493164, 11.80047607421875, 30.134567260742188, 25.326356887817383, 10.851911544799805, 10.851409912109375, 10.841322898864746, 390.96124267578125, 99.52308654785156, 31.85995101928711, 78.67545318603516, 52.73030090332031, 65.36515808105469, 295.4588317871094, 67.9167709350586, 141.79653930664062, 5651.80908203125, 599.8714599609375, 296.014404296875, 42.118778228759766, 307.4248046875, 112.57160186767578, 694.1585693359375, 90.9259033203125, 223.37721252441406, 313.8409423828125, 479.2818603515625, 297.0589904785156, 214.5772247314453, 246.55540466308594, 203.19728088378906, 181.50985717773438, 88.78710174560547, 106.2982177734375, 87.32614135742188, 256.4383544921875, 503.5435485839844, 215.5966339111328, 199.41697692871094, 190.26284790039062, 155.29800415039062, 237.6481170654297, 118.4636459350586, 174.66123962402344, 142.23428344726562, 190.12896728515625, 152.77056884765625, 196.106201171875, 172.0420684814453, 136.95095825195312, 48.221343994140625, 53.4473991394043, 27.391536712646484, 20.91244888305664, 18.089324951171875, 15.260788917541504, 12.435007095336914, 10.545490264892578, 9.60888957977295, 9.606573104858398, 9.603509902954102, 19.247947692871094, 8.666559219360352, 8.664281845092773, 86.47834014892578, 7.724226951599121, 7.723912239074707, 7.719361782073975, 7.718929767608643, 7.716230869293213, 7.715929985046387, 7.693570137023926, 7.675394535064697, 11.057361602783203, 20.657602310180664, 15.435737609863281, 6.78091287612915, 6.780544281005859, 6.7768168449401855, 6.776571750640869, 361.2145080566406, 27.708166122436523, 16.06951904296875, 32.634037017822266, 21.804716110229492, 36.07566833496094, 14.517840385437012, 148.90757751464844, 14.589685440063477, 64.91272735595703, 313.6215515136719, 11.490714073181152, 90.44187927246094, 19.582857131958008, 27.6893253326416, 30.841421127319336, 2121.119873046875, 42.30166244506836, 18.54388427734375, 34.05393981933594, 49.12765121459961, 37.744754791259766, 128.83676147460938, 42.319461822509766, 326.9427490234375, 77.8414077758789, 131.51318359375, 140.67750549316406, 140.37442016601562, 216.88076782226562, 58.88117218017578, 120.19950103759766, 61.94929885864258, 142.4791259765625, 50.435054779052734, 125.20780181884766, 47.11180114746094, 70.3974838256836, 132.1719970703125, 78.23001098632812, 76.13365936279297, 170.34422302246094, 88.70830535888672, 101.21208190917969, 51.97898483276367, 74.95050048828125, 81.97128295898438, 91.4338607788086, 77.2754135131836, 81.42797088623047, 76.47049713134766, 76.07968139648438, 27.004060745239258, 34.10957336425781, 16.830156326293945, 14.055085182189941, 13.899590492248535, 167.16860961914062, 9.432172775268555, 9.429689407348633, 8.505877494812012, 7.568984031677246, 6.655215263366699, 53.032081604003906, 5.729411602020264, 5.72864294052124, 5.723717212677002, 5.724646091461182, 5.716434001922607, 5.683834075927734, 6.514533996582031, 4.808117866516113, 4.805037975311279, 4.804473876953125, 4.8036980628967285, 4.802474498748779, 4.79734468460083, 4.795126438140869, 4.784179210662842, 6.346653938293457, 5.581365585327148, 4.768777370452881, 42.186973571777344, 69.6976318359375, 497.31463623046875, 20.509288787841797, 22.590478897094727, 12.666056632995605, 19.994873046875, 46.287925720214844, 29.64291763305664, 273.5482177734375, 26.073965072631836, 37.64454650878906, 237.7196807861328, 27.491943359375, 74.082763671875, 40.31401062011719, 9.974889755249023, 32.43178939819336, 28.344579696655273, 64.10722351074219, 21.781639099121094, 222.8858642578125, 436.2826232910156, 170.44068908691406, 100.98697662353516, 77.59351348876953, 100.3393325805664, 162.7711639404297, 104.5041732788086, 116.30044555664062, 65.59242248535156, 70.17671203613281, 121.08731842041016, 111.56877899169922, 89.27847290039062, 211.04010009765625, 61.698699951171875, 109.97041320800781, 108.54973602294922, 342.7770080566406, 80.99283599853516, 116.41044616699219, 91.76969146728516, 98.49828338623047, 71.71207427978516, 72.68389129638672, 69.761962890625, 19.09674644470215, 6.750461578369141, 3.815821886062622, 3.80716609954834, 3.7989437580108643, 13.1669921875, 3.0744435787200928, 2.3478829860687256, 2.346534252166748, 2.3461270332336426, 2.3458008766174316, 2.3453710079193115, 2.3449628353118896, 2.331584930419922, 17.49811363220215, 3.817312240600586, 1.614105463027954, 1.6139622926712036, 1.6139625310897827, 1.6139625310897827, 1.6137737035751343, 1.6137125492095947, 1.6137127876281738, 1.6135388612747192, 1.6135385036468506, 1.6135375499725342, 1.6134939193725586, 1.6135072708129883, 1.6133116483688354, 1.6129292249679565, 3.8168904781341553, 3.815941572189331, 3.812861204147339, 8.128341674804688, 28.7524471282959, 27.020633697509766, 8.80849552154541, 4.535363674163818, 4.373805999755859, 6.003620147705078, 8.366535186767578, 5.502330303192139, 2.690079689025879, 3.8159332275390625, 4.543354511260986, 9.851189613342285, 14.50097370147705, 5.081738471984863, 5.081738471984863, 4.143277645111084, 6.049116611480713, 13.791393280029297, 5.284922122955322, 18.929285049438477, 6.562788486480713, 43.06847381591797, 30.641380310058594, 12.51309871673584, 6.665749549865723, 20.844480514526367, 11.662835121154785, 8.664011001586914, 8.691671371459961, 8.324915885925293, 31.215503692626953, 13.860756874084473, 20.12803840637207, 23.58019256591797, 27.77144432067871, 18.886489868164062, 12.514928817749023, 11.165048599243164, 16.32727813720703, 10.322041511535645, 12.59165096282959, 12.086075782775879, 14.006773948669434, 12.489076614379883, 10.675601959228516, 9.395214080810547, 9.427355766296387, 2.817910671234131, 8.785536766052246, 1.1925755739212036, 1.1925755739212036, 1.1925764083862305, 1.192576289176941, 1.192576289176941, 1.1925761699676514, 1.1925761699676514, 1.1925761699676514, 1.1925761699676514, 1.1925761699676514, 1.1922661066055298, 1.1922656297683716, 1.1909235715866089, 1.1903666257858276, 1.1905491352081299, 1.1902563571929932, 1.1901088953018188, 1.1901071071624756, 1.1898688077926636, 1.1898682117462158, 1.1898574829101562, 1.1898554563522339, 2.2818427085876465, 1.7360851764678955, 1.019138216972351, 0.6503922343254089, 0.6503922343254089, 0.6503921747207642, 0.6503921747207642, 0.6503921747207642, 2.2797188758850098, 2.2766916751861572, 2.202916145324707, 4.14791202545166, 7.308781623840332, 3.3300788402557373, 4.389387607574463, 6.447144031524658, 7.2171950340271, 2.2281546592712402, 3.4943008422851562, 2.2236104011535645, 4.7383623123168945, 6.32105016708374, 15.25097370147705, 2.554569959640503, 3.976374387741089, 19.68153190612793, 5.954582214355469, 4.85259485244751, 2.100600481033325, 7.976987838745117, 2.0281612873077393, 7.7036566734313965, 5.058846950531006, 2.281471014022827, 2.824739933013916, 7.95209264755249, 4.214154243469238, 3.5033841133117676, 3.5657098293304443, 4.294766902923584, 5.417558670043945, 3.8362207412719727, 3.5093283653259277, 3.4353535175323486, 3.2054309844970703, 3.1343581676483154, 3.0474116802215576], \"Total\": [1314.0, 8118.0, 613.0, 405.0, 558.0, 398.0, 347.0, 364.0, 551.0, 834.0, 277.0, 177.0, 1108.0, 780.0, 463.0, 401.0, 266.0, 353.0, 167.0, 105.0, 131.0, 158.0, 94.0, 307.0, 85.0, 46.0, 100.0, 347.0, 347.0, 209.0, 100.68124389648438, 82.26811218261719, 28.936052322387695, 26.99720001220703, 26.026926040649414, 26.020042419433594, 23.119565963745117, 21.179840087890625, 20.21118927001953, 18.27320098876953, 17.30250358581543, 17.302162170410156, 16.33355712890625, 16.332103729248047, 15.362687110900879, 14.392549514770508, 15.358604431152344, 14.389122009277344, 13.423067092895508, 57.93329620361328, 12.454713821411133, 12.454054832458496, 12.452764511108398, 32.78231430053711, 12.44674301147461, 31.81537437438965, 26.74576187133789, 11.483896255493164, 11.483675003051758, 11.480083465576172, 430.6876525878906, 107.82145690917969, 34.26807403564453, 86.90023803710938, 57.86270523071289, 72.36678314208984, 347.0899353027344, 77.1297378540039, 167.621826171875, 8118.62744140625, 780.7421264648438, 379.2366027832031, 47.230831146240234, 414.6132507324219, 139.88978576660156, 1108.2359619140625, 115.06450653076172, 317.2531433105469, 473.49053955078125, 834.5319213867188, 496.8380432128906, 353.27581787109375, 425.65374755859375, 347.6810607910156, 304.9365234375, 125.12348175048828, 158.72531127929688, 123.50269317626953, 500.81793212890625, 1314.221923828125, 426.0873107910156, 401.85888671875, 380.08795166015625, 284.318359375, 551.7390747070312, 190.13821411132812, 382.677490234375, 266.4981384277344, 463.3300476074219, 321.8571472167969, 558.5095825195312, 422.95220947265625, 307.2578430175781, 48.87275314331055, 54.521026611328125, 28.146087646484375, 21.549455642700195, 18.723739624023438, 15.896315574645996, 13.06978988647461, 11.183046340942383, 10.243062973022461, 10.242409706115723, 10.240886688232422, 20.617813110351562, 9.30073356628418, 9.299955368041992, 93.29571533203125, 8.358400344848633, 8.358302116394043, 8.356402397155762, 8.356651306152344, 8.356115341186523, 8.356201171875, 8.35076904296875, 8.346847534179688, 12.030505180358887, 22.521503448486328, 16.858842849731445, 7.415698528289795, 7.415556907653809, 7.414613723754883, 7.414480209350586, 398.3927001953125, 30.419044494628906, 17.806398391723633, 37.549034118652344, 25.33444595336914, 43.40373229980469, 16.587230682373047, 209.39093017578125, 16.80643653869629, 87.5816650390625, 558.5095825195312, 13.09010124206543, 139.81646728515625, 24.19856071472168, 37.02314376831055, 43.166465759277344, 8118.62744140625, 63.98517990112305, 23.485807418823242, 51.82851791381836, 85.33035278320312, 60.459007263183594, 321.8571472167969, 72.55941009521484, 1314.221923828125, 176.63211059570312, 382.677490234375, 422.95220947265625, 425.65374755859375, 834.5319213867188, 117.80345916748047, 347.6810607910156, 131.34559631347656, 500.81793212890625, 95.93840789794922, 426.0873107910156, 86.15516662597656, 168.1245574951172, 496.8380432128906, 213.2068634033203, 208.0850372314453, 1108.2359619140625, 304.9365234375, 414.6132507324219, 102.13172149658203, 248.61448669433594, 317.2531433105469, 463.3300476074219, 277.0098571777344, 353.27581787109375, 347.86151123046875, 780.7421264648438, 27.644765853881836, 35.058006286621094, 17.47048568725586, 14.69504451751709, 14.696260452270508, 177.85279846191406, 10.070738792419434, 10.070124626159668, 9.145029067993164, 8.21975040435791, 7.294588565826416, 58.38154220581055, 6.369558811187744, 6.368910789489746, 6.36669921875, 6.368140697479248, 6.3665771484375, 6.365209102630615, 7.2982354164123535, 5.445845127105713, 5.444584369659424, 5.44450569152832, 5.443867206573486, 5.443525791168213, 5.441833019256592, 5.440475940704346, 5.441823959350586, 7.23259973526001, 6.368101596832275, 5.441184997558594, 48.21360397338867, 80.84596252441406, 613.8933715820312, 23.99480628967285, 26.54179573059082, 14.747610092163086, 24.003372192382812, 57.740291595458984, 37.201507568359375, 405.7151184082031, 32.937496185302734, 49.003089904785156, 364.865966796875, 35.22804641723633, 104.73355102539062, 55.853126525878906, 11.9412841796875, 45.67265319824219, 39.14372634887695, 105.84966278076172, 29.716764450073242, 551.7390747070312, 1314.221923828125, 401.85888671875, 214.77369689941406, 152.7750244140625, 217.63658142089844, 463.3300476074219, 257.0259094238281, 307.2578430175781, 135.95968627929688, 159.23255920410156, 380.08795166015625, 347.86151123046875, 248.1839141845703, 1108.2359619140625, 140.03494262695312, 422.95220947265625, 473.49053955078125, 8118.62744140625, 284.318359375, 834.5319213867188, 500.81793212890625, 780.7421264648438, 258.0040283203125, 426.0873107910156, 382.677490234375, 20.877124786376953, 7.427102088928223, 4.491677761077881, 4.492437362670898, 4.4899373054504395, 15.966923713684082, 3.7557475566864014, 3.023853063583374, 3.023747444152832, 3.0235791206359863, 3.0235071182250977, 3.0236668586730957, 3.023186445236206, 3.0204501152038574, 24.18048858642578, 5.41099214553833, 2.28995943069458, 2.2899370193481445, 2.2899370193481445, 2.2899370193481445, 2.2898643016815186, 2.289849042892456, 2.289849281311035, 2.289774179458618, 2.289773941040039, 2.289774179458618, 2.2897651195526123, 2.2898519039154053, 2.289822578430176, 2.2897591590881348, 5.429876327514648, 5.455073833465576, 5.455679416656494, 11.73775863647461, 46.6537971496582, 44.40868377685547, 14.507163047790527, 7.162118911743164, 7.11761999130249, 10.459624290466309, 15.522422790527344, 9.662995338439941, 4.197422027587891, 6.395741939544678, 7.998828411102295, 25.424880981445312, 47.07413864135742, 9.783171653747559, 9.783171653747559, 7.289641857147217, 13.229222297668457, 48.17034912109375, 10.801765441894531, 85.33035278320312, 16.058414459228516, 558.5095825195312, 347.86151123046875, 67.62876892089844, 18.047386169433594, 266.4981384277344, 70.34782409667969, 35.807823181152344, 37.02314376831055, 34.219966888427734, 1108.2359619140625, 130.88267517089844, 353.27581787109375, 551.7390747070312, 1314.221923828125, 463.3300476074219, 131.34559631347656, 91.80953216552734, 398.3927001953125, 100.35750579833984, 347.6810607910156, 307.2578430175781, 834.5319213867188, 426.0873107910156, 139.81646728515625, 75.20791625976562, 500.81793212890625, 3.5332589149475098, 12.317459106445312, 1.9067764282226562, 1.9067766666412354, 1.90677809715271, 1.90677809715271, 1.90677809715271, 1.90677809715271, 1.9067779779434204, 1.90677809715271, 1.90677809715271, 1.9067779779434204, 1.906752347946167, 1.9067528247833252, 1.9069862365722656, 1.9066194295883179, 1.9070508480072021, 1.9069679975509644, 1.9071495532989502, 1.9071506261825562, 1.9067941904067993, 1.906794548034668, 1.907157063484192, 1.9071582555770874, 3.909377336502075, 3.411207675933838, 2.029888153076172, 1.3645926713943481, 1.3645925521850586, 1.3645927906036377, 1.3645927906036377, 1.3645926713943481, 4.907221794128418, 4.923192024230957, 4.940336227416992, 11.110106468200684, 32.21065902709961, 9.62897777557373, 17.4093017578125, 33.405086517333984, 46.60394287109375, 5.849064826965332, 14.408684730529785, 6.7743353843688965, 32.094234466552734, 59.38230514526367, 405.7151184082031, 9.488029479980469, 29.210220336914062, 1314.221923828125, 94.91788482666016, 58.3912239074707, 7.827759742736816, 277.0098571777344, 7.913247108459473, 347.86151123046875, 105.84966278076172, 13.397374153137207, 25.646556854248047, 834.5319213867188, 100.35750579833984, 56.01068878173828, 66.99468994140625, 158.72531127929688, 780.7421264648438, 167.621826171875, 117.92721557617188, 102.13172149658203, 60.174522399902344, 98.67342376708984, 131.34559631347656], \"loglift\": [30.0, 29.0, 28.0, 27.0, 26.0, 25.0, 24.0, 23.0, 22.0, 21.0, 20.0, 19.0, 18.0, 17.0, 16.0, 15.0, 14.0, 13.0, 12.0, 11.0, 10.0, 9.0, 8.0, 7.0, 6.0, 5.0, 4.0, 3.0, 2.0, 1.0, 0.7157999873161316, 0.7132999897003174, 0.7003999948501587, 0.6988999843597412, 0.6978999972343445, 0.6970000267028809, 0.6945000290870667, 0.692300021648407, 0.6909999847412109, 0.6876999735832214, 0.6855999827384949, 0.6855999827384949, 0.6834999918937683, 0.6833000183105469, 0.6808000206947327, 0.6777999997138977, 0.6765000224113464, 0.6754000186920166, 0.6744999885559082, 0.6722000241279602, 0.6708999872207642, 0.670799970626831, 0.6707000136375427, 0.6705999970436096, 0.6693999767303467, 0.6685000061988831, 0.6682000160217285, 0.666100025177002, 0.666100025177002, 0.6654999852180481, 0.6259999871253967, 0.6427000164985657, 0.6499000191688538, 0.6233000159263611, 0.6298999786376953, 0.6209999918937683, 0.5616999864578247, 0.5954999923706055, 0.555400013923645, 0.36059999465942383, 0.459199994802475, 0.4749999940395355, 0.6082000136375427, 0.4235999882221222, 0.5055000185966492, 0.2549000084400177, 0.48730000853538513, 0.3718999922275543, 0.31150001287460327, 0.16820000112056732, 0.20839999616146088, 0.22419999539852142, 0.17669999599456787, 0.18559999763965607, 0.20389999449253082, 0.3797000050544739, 0.32179999351501465, 0.37610000371932983, 0.05339999869465828, -0.23659999668598175, 0.04149999842047691, 0.02199999988079071, 0.030700000002980232, 0.11800000071525574, -0.11949999630451202, 0.24959999322891235, -0.06159999966621399, 0.09480000287294388, -0.1679999977350235, -0.02239999920129776, -0.3239000141620636, -0.17679999768733978, -0.08529999852180481, 1.2913000583648682, 1.2848000526428223, 1.277500033378601, 1.2747000455856323, 1.2702000141143799, 1.2639000415802002, 1.2548999786376953, 1.246000051498413, 1.2408000230789185, 1.2405999898910522, 1.240399956703186, 1.2359000444412231, 1.2339999675750732, 1.2338999509811401, 1.2288000583648682, 1.2258000373840332, 1.2257000207901, 1.2253999710083008, 1.2252999544143677, 1.225000023841858, 1.225000023841858, 1.2226999998092651, 1.2208000421524048, 1.2202999591827393, 1.2182999849319458, 1.2165000438690186, 1.2151999473571777, 1.2151000499725342, 1.2146999835968018, 1.2146999835968018, 1.2066999673843384, 1.211300015449524, 1.2020000219345093, 1.1643999814987183, 1.1546000242233276, 1.1196999549865723, 1.1713999509811401, 0.9638000130653381, 1.1632000207901, 1.0051000118255615, 0.7275999784469604, 1.174399971961975, 0.8690000176429749, 1.093000054359436, 1.01419997215271, 0.968500018119812, -0.03750000149011612, 0.8907999992370605, 1.0684000253677368, 0.8847000002861023, 0.7526000142097473, 0.8335000276565552, 0.38909998536109924, 0.765500009059906, -0.08649999648332596, 0.4853000044822693, 0.23659999668598175, 0.20389999449253082, 0.19539999961853027, -0.042899999767541885, 0.6111999750137329, 0.24250000715255737, 0.5532000064849854, 0.047600001096725464, 0.6615999937057495, 0.07999999821186066, 0.7009999752044678, 0.4341000020503998, -0.019500000402331352, 0.3021000027656555, 0.29919999837875366, -0.5680000185966492, 0.06989999860525131, -0.1054999977350235, 0.6291999816894531, 0.10559999942779541, -0.048700001090765, -0.3181999921798706, 0.02800000086426735, -0.16290000081062317, -0.2101999968290329, -1.023800015449524, 1.642699956893921, 1.638700008392334, 1.6288000345230103, 1.6216000318527222, 1.6103999614715576, 1.604200005531311, 1.600600004196167, 1.6003999710083008, 1.5937000513076782, 1.5836000442504883, 1.5743999481201172, 1.5700000524520874, 1.5601999759674072, 1.5601999759674072, 1.5597000122070312, 1.5595999956130981, 1.55840003490448, 1.552899956703186, 1.5525000095367432, 1.541599988937378, 1.541200041770935, 1.541100025177002, 1.5410000085830688, 1.5407999753952026, 1.5400999784469604, 1.5398000478744507, 1.5372999906539917, 1.5354000329971313, 1.5341999530792236, 1.5341999530792236, 1.5326000452041626, 1.517699956893921, 1.4555000066757202, 1.5091999769210815, 1.5048999786376953, 1.5140000581741333, 1.4833999872207642, 1.4450000524520874, 1.4390000104904175, 1.2719000577926636, 1.4323999881744385, 1.402400016784668, 1.2376999855041504, 1.4182000160217285, 1.3199000358581543, 1.3401000499725342, 1.486199975013733, 1.323799967765808, 1.3432999849319458, 1.1647000312805176, 1.3554999828338623, 0.7597000002861023, 0.5633999705314636, 0.8083999752998352, 0.9114999771118164, 0.9886000156402588, 0.8917999863624573, 0.6200000047683716, 0.7662000060081482, 0.694599986076355, 0.9372000098228455, 0.8468000292778015, 0.5221999883651733, 0.5289999842643738, 0.6437000036239624, 0.007600000128149986, 0.8464999794960022, 0.3190999925136566, 0.1932000070810318, -1.4987000226974487, 0.41040000319480896, -0.303600013256073, -0.030799999833106995, -0.4041000008583069, 0.38580000400543213, -0.10239999741315842, -0.035999998450279236, 3.1496999263763428, 3.1433000564575195, 3.075700044631958, 3.0732998847961426, 3.071700096130371, 3.0460000038146973, 3.038599967956543, 2.98580002784729, 2.9851999282836914, 2.985100030899048, 2.984999895095825, 2.984800100326538, 2.984800100326538, 2.9798998832702637, 2.9154000282287598, 2.889899969100952, 2.8889999389648438, 2.8889999389648438, 2.8889999389648438, 2.8889999389648438, 2.8889000415802, 2.8889000415802, 2.8889000415802, 2.8887999057769775, 2.8887999057769775, 2.8887999057769775, 2.8887999057769775, 2.888700008392334, 2.8886001110076904, 2.888400077819824, 2.8863000869750977, 2.8814001083374023, 2.880500078201294, 2.871299982070923, 2.7548000812530518, 2.742000102996826, 2.7399001121520996, 2.781899929046631, 2.7518999576568604, 2.6835999488830566, 2.620800018310547, 2.6756999492645264, 2.7939000129699707, 2.722399950027466, 2.6731998920440674, 2.2906999588012695, 2.061300039291382, 2.5838000774383545, 2.5838000774383545, 2.673799991607666, 2.4563000202178955, 1.9881000518798828, 2.5239999294281006, 1.7330000400543213, 2.3440001010894775, 0.6762999892234802, 0.8094000220298767, 1.5514999628067017, 2.242799997329712, 0.690500020980835, 1.4417999982833862, 1.8198000192642212, 1.7896000146865845, 1.8251999616622925, -0.33079999685287476, 0.9936000108718872, 0.37369999289512634, 0.08609999716281891, -0.6182000041007996, 0.03880000114440918, 0.8878999948501587, 1.1318999528884888, 0.044199999421834946, 0.9642999768257141, -0.07940000295639038, 0.0031999999191612005, -0.8485000133514404, -0.29100000858306885, 0.6664000153541565, 1.1586999893188477, -0.7337999939918518, 3.965100049972534, 3.8533999919891357, 3.7219998836517334, 3.7219998836517334, 3.7219998836517334, 3.7219998836517334, 3.7219998836517334, 3.7219998836517334, 3.7219998836517334, 3.7219998836517334, 3.7219998836517334, 3.7219998836517334, 3.7218000888824463, 3.7218000888824463, 3.720599889755249, 3.7202999591827393, 3.7202000617980957, 3.7200000286102295, 3.7197999954223633, 3.7197999954223633, 3.7197999954223633, 3.7197999954223633, 3.719599962234497, 3.719599962234497, 3.6530001163482666, 3.515899896621704, 3.5023000240325928, 3.4502999782562256, 3.4502999782562256, 3.4502999782562256, 3.4502999782562256, 3.4502999782562256, 3.4247000217437744, 3.420099973678589, 3.383699893951416, 3.2060999870300293, 2.7081000804901123, 3.1296000480651855, 2.813499927520752, 2.546299934387207, 2.3261001110076904, 3.2262001037597656, 2.7746999263763428, 3.0773000717163086, 2.27839994430542, 1.951200008392334, 0.9103000164031982, 2.879199981689453, 2.197200059890747, -0.009999999776482582, 1.4225000143051147, 1.7036999464035034, 2.8759000301361084, 0.6438999772071838, 2.829900026321411, 0.38119998574256897, 1.1505000591278076, 2.421099901199341, 1.9853999614715576, -0.46209999918937683, 1.0211000442504883, 1.4194999933242798, 1.2581000328063965, 0.58160001039505, -0.7792999744415283, 0.4140999913215637, 0.6766999959945679, 0.7991999983787537, 1.2589000463485718, 0.7419999837875366, 0.4277999997138977]}, \"R\": 30, \"token.table\": {\"Term\": [\"11000\", \"1name\", \"2015\", \"2015\", \"2015\", \"2016\", \"2016\", \"2016\", \"28\", \"3000\", \"30day\", \"775082\", \"775083\", \"775084\", \"817\", \"aafes\", \"access\", \"access\", \"access\", \"access\", \"access\", \"account\", \"account\", \"account\", \"account\", \"account\", \"achieved\", \"act\", \"act\", \"act\", \"act\", \"act\", \"advancement\", \"agency\", \"agency\", \"agency\", \"agreement\", \"agreement\", \"agreement\", \"allegedly\", \"allegedly\", \"allegedly\", \"allegedly\", \"also\", \"also\", \"also\", \"also\", \"america\", \"america\", \"amex\", \"amount\", \"amount\", \"amount\", \"amount\", \"amount\", \"answer\", \"answer\", \"answer\", \"answered\", \"answered\", \"answering\", \"answering\", \"apartment\", \"appear\", \"appear\", \"appear\", \"approve\", \"approve\", \"approximately\", \"aquired\", \"ask\", \"ask\", \"ask\", \"asked\", \"asked\", \"asked\", \"asked\", \"asks\", \"assoc\", \"assoc\", \"assoc\", \"at\", \"attached\", \"attached\", \"attached\", \"attached\", \"automated\", \"automated\", \"b\", \"b\", \"b\", \"b\", \"bank\", \"bank\", \"bank\", \"bank\", \"bank\", \"banking\", \"bill\", \"bill\", \"bill\", \"bill\", \"billed\", \"billing\", \"blatt\", \"blind\", \"blocked\", \"branch\", \"branch\", \"branch\", \"broker\", \"broker\", \"brother\", \"buyer\", \"buyer\", \"buyer\", \"c\", \"c\", \"c\", \"cable\", \"call\", \"call\", \"call\", \"called\", \"called\", \"called\", \"caller\", \"caller\", \"calling\", \"calling\", \"calling\", \"card\", \"card\", \"card\", \"card\", \"card\", \"carpet\", \"cash\", \"cash\", \"cash\", \"cell\", \"cell\", \"certified\", \"certified\", \"certified\", \"certified\", \"charge\", \"charge\", \"charge\", \"charge\", \"charge\", \"check\", \"check\", \"check\", \"check\", \"check\", \"citibank\", \"citibank\", \"clinic\", \"cobb\", \"collection\", \"collection\", \"collection\", \"collection\", \"collection\", \"collector\", \"collector\", \"collector\", \"collector\", \"collector\", \"combative\", \"commits\", \"company\", \"company\", \"company\", \"company\", \"competence\", \"complex\", \"confirmation\", \"confirmed\", \"conjunction\", \"consent\", \"consent\", \"consent\", \"consent\", \"consolidate\", \"consolidating\", \"consumer\", \"consumer\", \"consumer\", \"consumer\", \"consumer\", \"contact\", \"contact\", \"contact\", \"contact\", \"could\", \"could\", \"could\", \"could\", \"could\", \"counterfeit\", \"course\", \"course\", \"course\", \"course\", \"covered\", \"cpa\", \"credence\", \"credit\", \"credit\", \"credit\", \"credit\", \"credit\", \"criterion\", \"damaged\", \"date\", \"date\", \"date\", \"date\", \"date\", \"day\", \"day\", \"day\", \"day\", \"debt\", \"debt\", \"debt\", \"debt\", \"debt\", \"deduction\", \"deduction\", \"deed\", \"defamed\", \"dentist\", \"dentist\", \"describing\", \"disclosed\", \"ditech\", \"ditech\", \"due\", \"due\", \"due\", \"due\", \"earnest\", \"empowerment\", \"equipment\", \"equipment\", \"equipment\", \"equity\", \"erc\", \"erc\", \"exception\", \"exempt\", \"exhibit\", \"expired\", \"expired\", \"expired\", \"fargo\", \"federal\", \"federal\", \"federal\", \"federal\", \"feel\", \"feel\", \"feel\", \"feel\", \"fill\", \"fill\", \"final\", \"forbearance\", \"forbearance\", \"force\", \"forgiven\", \"fraudulent\", \"fraudulent\", \"fraudulent\", \"fraudulent\", \"fraudulent\", \"fraudulently\", \"fraudulently\", \"fraudulently\", \"free\", \"full\", \"full\", \"full\", \"fund\", \"fund\", \"fund\", \"fund\", \"garnishment\", \"garnishment\", \"get\", \"get\", \"get\", \"get\", \"glhec\", \"grandmother\", \"green\", \"guideline\", \"guideline\", \"guy\", \"hang\", \"harassing\", \"harassing\", \"harm\", \"harm\", \"harris\", \"hasemiller\", \"help\", \"help\", \"help\", \"help\", \"homeowner\", \"hospital\", \"hospital\", \"hospital\", \"hsa\", \"hung\", \"hung\", \"identifiable\", \"identification\", \"identification\", \"identity\", \"identity\", \"identity\", \"identity\", \"illness\", \"im\", \"individual\", \"individual\", \"individual\", \"individual\", \"info\", \"info\", \"info\", \"information\", \"information\", \"information\", \"information\", \"information\", \"inquiry\", \"inquiry\", \"insurance\", \"insurance\", \"insurance\", \"insurance\", \"interest\", \"interest\", \"interest\", \"interest\", \"interest\", \"invoice\", \"invoice\", \"invoice\", \"invoice\", \"isnt\", \"job\", \"job\", \"judgement\", \"judgement\", \"judgement\", \"know\", \"know\", \"know\", \"know\", \"knowledge\", \"knowledge\", \"knowledge\", \"knowledge\", \"lack\", \"lake\", \"lake\", \"late\", \"late\", \"late\", \"late\", \"law\", \"law\", \"law\", \"law\", \"lease\", \"lease\", \"lender\", \"lender\", \"lending\", \"lendkey\", \"letter\", \"letter\", \"letter\", \"letter\", \"letting\", \"lien\", \"limitation\", \"limitation\", \"limitation\", \"limitation\", \"list\", \"list\", \"list\", \"loan\", \"loan\", \"loan\", \"loan\", \"looking\", \"looking\", \"looking\", \"lose\", \"loud\", \"macy\", \"made\", \"made\", \"made\", \"made\", \"mae\", \"mae\", \"maintenance\", \"maryland\", \"maryland\", \"matter\", \"matter\", \"matter\", \"matter\", \"maury\", \"me\", \"me\", \"me\", \"me\", \"meade\", \"meade\", \"mean\", \"mean\", \"mean\", \"mean\", \"mean\", \"medical\", \"medical\", \"medical\", \"medical\", \"medicare\", \"meltdown\", \"membership\", \"message\", \"message\", \"method\", \"mission\", \"money\", \"money\", \"money\", \"money\", \"money\", \"moneythe\", \"month\", \"month\", \"month\", \"monthly\", \"monthly\", \"monthly\", \"monthly\", \"moore\", \"mountain\", \"moving\", \"name\", \"name\", \"name\", \"name\", \"name\", \"navy\", \"navy\", \"never\", \"never\", \"never\", \"never\", \"never\", \"note\", \"note\", \"note\", \"note\", \"notice\", \"notice\", \"notice\", \"notice\", \"notice\", \"nt\", \"nt\", \"nt\", \"number\", \"number\", \"number\", \"number\", \"number\", \"offset\", \"omega\", \"once\", \"organization\", \"organization\", \"owe\", \"owe\", \"owe\", \"owe\", \"paid\", \"paid\", \"paid\", \"paid\", \"pam\", \"partner\", \"patient\", \"pay\", \"pay\", \"pay\", \"pay\", \"payment\", \"payment\", \"payment\", \"payment\", \"paypal\", \"pell\", \"performant\", \"person\", \"person\", \"person\", \"person\", \"personal\", \"personal\", \"personal\", \"personal\", \"personal\", \"personally\", \"personally\", \"personally\", \"personally\", \"phone\", \"phone\", \"phone\", \"practice\", \"practice\", \"practice\", \"practice\", \"press\", \"price\", \"price\", \"profile\", \"program\", \"program\", \"provide\", \"provide\", \"provide\", \"provide\", \"provide\", \"punishable\", \"purport\", \"real\", \"real\", \"received\", \"received\", \"received\", \"received\", \"recording\", \"referenced\", \"referenced\", \"referenced\", \"regard\", \"regard\", \"regarding\", \"regarding\", \"regarding\", \"regarding\", \"removed\", \"removed\", \"removed\", \"removed\", \"repayment\", \"repayment\", \"repeatedly\", \"repeatedly\", \"repeatedly\", \"report\", \"report\", \"report\", \"report\", \"reported\", \"reported\", \"reported\", \"reported\", \"repossession\", \"request\", \"request\", \"request\", \"request\", \"request\", \"ring\", \"rms\", \"robo\", \"routed\", \"rude\", \"rude\", \"s\", \"s\", \"s\", \"s\", \"s\", \"said\", \"said\", \"said\", \"said\", \"sallie\", \"sallie\", \"saving\", \"saving\", \"scared\", \"school\", \"school\", \"school\", \"sensitive\", \"sent\", \"sent\", \"sent\", \"sent\", \"sent\", \"service\", \"service\", \"service\", \"service\", \"service\", \"servicers\", \"signature\", \"signature\", \"signature\", \"slrp\", \"southwest\", \"specific\", \"specific\", \"specific\", \"sps\", \"sps\", \"stand\", \"standard\", \"standard\", \"star\", \"state\", \"state\", \"state\", \"state\", \"state\", \"statute\", \"statute\", \"statute\", \"statute\", \"stop\", \"stop\", \"stop\", \"student\", \"student\", \"successfully\", \"sunbelt\", \"suntrust\", \"terminates\", \"termination\", \"theft\", \"theft\", \"theft\", \"time\", \"time\", \"time\", \"time\", \"timeline\", \"timeline\", \"told\", \"told\", \"told\", \"told\", \"tracked\", \"tracked\", \"tree\", \"tree\", \"trustee\", \"trying\", \"trying\", \"trying\", \"trying\", \"turned\", \"turned\", \"unfortunately\", \"unfortunately\", \"union\", \"union\", \"update\", \"usc1692g\", \"use\", \"use\", \"use\", \"use\", \"used\", \"used\", \"used\", \"used\", \"utility\", \"utility\", \"va\", \"va\", \"va\", \"validated\", \"validity\", \"validity\", \"validity\", \"validity\", \"verification\", \"verification\", \"verification\", \"verification\", \"verify\", \"verify\", \"verify\", \"victim\", \"victim\", \"victim\", \"visit\", \"visit\", \"voice\", \"voice\", \"voice\", \"voice\", \"vsac\", \"water\", \"well\", \"well\", \"well\", \"well\", \"wf\", \"willfully\", \"withdrawn\", \"without\", \"without\", \"without\", \"without\", \"without\", \"would\", \"would\", \"would\", \"would\", \"would\", \"xlvi\", \"xxxx\", \"xxxx\", \"xxxx\", \"xxxx\", \"xxxx\", \"xxxx2014\", \"xxxx2014\", \"xxxx2016\", \"xxxx2016\", \"xxxx2016\", \"xxxx2016\", \"xxxx2016\", \"xxxxxxxx\", \"xxxxxxxx\", \"xxxxxxxx\", \"xxxxxxxx\", \"xxxxxxxx14\", \"xxxxxxxxxxxx\", \"xxxxxxxxxxxx\", \"year\", \"year\", \"year\", \"year\", \"year\"], \"Freq\": [0.972725510597229, 0.7328194975852966, 0.898202121257782, 0.06909247487783432, 0.013818494975566864, 0.9493677020072937, 0.017261231318116188, 0.034522462636232376, 0.8734520077705383, 0.9836317896842957, 0.8490744829177856, 0.5244448781013489, 0.5244448781013489, 0.5244448781013489, 0.7328194379806519, 0.9613463878631592, 0.3899158835411072, 0.11697476357221603, 0.3119327127933502, 0.07798317819833755, 0.11697476357221603, 0.5739744305610657, 0.2600260078907013, 0.1390000730752945, 0.016775870695710182, 0.00958621222525835, 0.8733864426612854, 0.3082655072212219, 0.5137758255004883, 0.06850344687700272, 0.03425172343850136, 0.08562930673360825, 0.8733864426612854, 0.7805153727531433, 0.0527375265955925, 0.1634863317012787, 0.4273575246334076, 0.5211676955223083, 0.041693415492773056, 0.5971319675445557, 0.22392447292804718, 0.07464149594306946, 0.14928299188613892, 0.5328367352485657, 0.1838662028312683, 0.20262806117534637, 0.07879979908466339, 0.9721020460128784, 0.01834154687821865, 0.957120954990387, 0.7029086947441101, 0.2584686875343323, 0.015760285779833794, 0.018912341445684433, 0.0063041141256690025, 0.12532870471477509, 0.1432328075170517, 0.7161640524864197, 0.12502706050872803, 0.8751894235610962, 0.06780759990215302, 0.8814987540245056, 0.9932336807250977, 0.49868717789649963, 0.11081936955451965, 0.38786780834198, 0.18329522013664246, 0.7331808805465698, 0.9684820771217346, 0.9181311130523682, 0.20406876504421234, 0.7754613161087036, 0.020406875759363174, 0.3905593454837799, 0.14243929088115692, 0.4594815671443939, 0.009189631789922714, 0.9189174771308899, 0.40756258368492126, 0.20378129184246063, 0.40756258368492126, 0.9188095927238464, 0.3696651756763458, 0.3696651756763458, 0.07393303513526917, 0.1922258883714676, 0.16748617589473724, 0.8374308943748474, 0.20820775628089905, 0.4164155125617981, 0.06940259039402008, 0.20820775628089905, 0.18625448644161224, 0.71158766746521, 0.062084827572107315, 0.03343029320240021, 0.004775756038725376, 0.9573728442192078, 0.9078505039215088, 0.03714989125728607, 0.044115498661994934, 0.009287472814321518, 0.9607978463172913, 0.9845856428146362, 0.8734486699104309, 0.5244885087013245, 0.9591359496116638, 0.3023609220981598, 0.22677069902420044, 0.4535413980484009, 0.18480898439884186, 0.7392359375953674, 0.9420763254165649, 0.12773671746253967, 0.808999240398407, 0.04257890582084656, 0.4215838611125946, 0.2107919305562973, 0.31618788838386536, 0.9895508885383606, 0.13520263135433197, 0.0537552647292614, 0.8095868229866028, 0.49519869685173035, 0.07962994277477264, 0.42303407192230225, 0.028524154797196388, 0.9698212742805481, 0.033735763281583786, 0.02249050885438919, 0.9389787316322327, 0.4189498722553253, 0.44159582257270813, 0.09624524414539337, 0.028307422995567322, 0.011322969570755959, 0.9825361371040344, 0.24909059703350067, 0.31136325001716614, 0.4359085261821747, 0.08564350754022598, 0.9078211784362793, 0.255871444940567, 0.3838071823120117, 0.1847960501909256, 0.17058096826076508, 0.8471450209617615, 0.10141877084970474, 0.02386324107646942, 0.005965810269117355, 0.02386324107646942, 0.40351563692092896, 0.472037136554718, 0.0076135024428367615, 0.0989755317568779, 0.022840507328510284, 0.16664324700832367, 0.8332162499427795, 0.6621529459953308, 0.5243406891822815, 0.7684996128082275, 0.09734328091144562, 0.12552160024642944, 0.0012808326864615083, 0.0064041633158922195, 0.24271900951862335, 0.1985882818698883, 0.4854380190372467, 0.06619609147310257, 0.014710242860019207, 0.6614485383033752, 0.5244448781013489, 0.4313633143901825, 0.12324666231870651, 0.4041765630245209, 0.043498821556568146, 0.7328193783760071, 0.9676510095596313, 0.972957193851471, 0.9630628228187561, 0.5244448781013489, 0.12884587049484253, 0.1932688057422638, 0.5153834819793701, 0.06442293524742126, 0.9763327240943909, 0.6614677309989929, 0.3426946997642517, 0.5091463923454285, 0.08812149614095688, 0.029373832046985626, 0.029373832046985626, 0.47100919485092163, 0.06908135116100311, 0.4396085739135742, 0.01884036883711815, 0.5108310580253601, 0.3016718924045563, 0.1488247960805893, 0.0362006239593029, 0.004022291861474514, 0.5244448781013489, 0.04132477194070816, 0.8264954090118408, 0.12397431582212448, 0.04132477194070816, 0.951574981212616, 0.9764779210090637, 0.9796655774116516, 0.6262204051017761, 0.15339693427085876, 0.19039267301559448, 0.027972381561994553, 0.0009023349266499281, 0.5244518518447876, 0.9766512513160706, 0.667820394039154, 0.23940731585025787, 0.05670173093676567, 0.006300192326307297, 0.025200769305229187, 0.44587957859039307, 0.13669301569461823, 0.37753307819366455, 0.039055146276950836, 0.38349688053131104, 0.24881643056869507, 0.33175522089004517, 0.021305382251739502, 0.015218130312860012, 0.2792469561100006, 0.6981174349784851, 0.9745025634765625, 0.4926379919052124, 0.4115428626537323, 0.5487238168716431, 0.5243926644325256, 0.95844566822052, 0.05931605026125908, 0.8897407650947571, 0.5766873359680176, 0.365235298871994, 0.048057276755571365, 0.009611454792320728, 0.890535831451416, 0.7328194379806519, 0.9338138103485107, 0.02918168157339096, 0.02918168157339096, 0.9571321606636047, 0.8368390798568726, 0.15020188689231873, 0.5244519710540771, 0.9424216151237488, 0.9762704968452454, 0.2700244188308716, 0.2700244188308716, 0.3600325584411621, 0.9821423292160034, 0.1875065565109253, 0.5742388367652893, 0.01171915978193283, 0.2226640284061432, 0.29772239923477173, 0.6285250186920166, 0.06616052985191345, 0.016540132462978363, 0.4062404930591583, 0.4062404930591583, 0.960543692111969, 0.4139503240585327, 0.6209254860877991, 0.957995593547821, 0.873418927192688, 0.3113948702812195, 0.24911589920520782, 0.14531761407852173, 0.29063522815704346, 0.02075965888798237, 0.5904638171195984, 0.1476159542798996, 0.2952319085597992, 0.9915089011192322, 0.8077787756919861, 0.17156364023685455, 0.02144545502960682, 0.1675611436367035, 0.5585371851921082, 0.25134173035621643, 0.027926858514547348, 0.756283700466156, 0.2430911809206009, 0.4069562554359436, 0.22563911974430084, 0.3586050271987915, 0.012087809853255749, 0.524440348148346, 0.8937327265739441, 0.9436149001121521, 0.7147244215011597, 0.23824147880077362, 0.9183570146560669, 0.9730696678161621, 0.19050821661949158, 0.7966707348823547, 0.6387523412704468, 0.2555009424686432, 0.8936782479286194, 0.8734485507011414, 0.30559372901916504, 0.5008341670036316, 0.11884201318025589, 0.07639843225479126, 0.9440815448760986, 0.8816314339637756, 0.09075617790222168, 0.025930335745215416, 0.9421902298927307, 0.10370516777038574, 0.8711234331130981, 0.5243427157402039, 0.24355672299861908, 0.730670154094696, 0.2143448293209076, 0.1071724146604538, 0.0428689643740654, 0.6215999722480774, 0.8734543323516846, 0.9421960115432739, 0.41081511974334717, 0.13693837821483612, 0.3081113398075104, 0.13693837821483612, 0.2043750286102295, 0.07664063572883606, 0.7153126001358032, 0.3478395640850067, 0.2184777557849884, 0.321967214345932, 0.0891159251332283, 0.0229976586997509, 0.3750549256801605, 0.625091552734375, 0.927459180355072, 0.04637295752763748, 0.018549183383584023, 0.009274591691792011, 0.20552246272563934, 0.7421644926071167, 0.022835830226540565, 0.011417915113270283, 0.011417915113270283, 0.4020839035511017, 0.05744055658578873, 0.2297622263431549, 0.2297622263431549, 0.5244404673576355, 0.1612764596939087, 0.8294217586517334, 0.2974032163619995, 0.382375568151474, 0.31864631175994873, 0.3010963499546051, 0.1767304539680481, 0.5105546712875366, 0.01309114508330822, 0.17533622682094574, 0.17533622682094574, 0.4091178774833679, 0.233781635761261, 0.9188080430030823, 0.06028733775019646, 0.9043101072311401, 0.3946368098258972, 0.5455273389816284, 0.04642786085605621, 0.011606965214014053, 0.389661967754364, 0.3667406737804413, 0.13752774894237518, 0.10696602612733841, 0.9456318616867065, 0.0305042527616024, 0.920475959777832, 0.06574828177690506, 0.9573826789855957, 0.9581812024116516, 0.5069383382797241, 0.2933671176433563, 0.1713263839483261, 0.0281632412225008, 0.8295772075653076, 0.9592807292938232, 0.28042420744895935, 0.4050571620464325, 0.15579122304916382, 0.15579122304916382, 0.13460415601730347, 0.13460415601730347, 0.7403228878974915, 0.010040344670414925, 0.9061411023139954, 0.04267146438360214, 0.0401613786816597, 0.11302927881479263, 0.866557776927948, 0.03767642751336098, 0.8908810615539551, 0.9185223579406738, 0.9766767621040344, 0.46988970041275024, 0.41635796427726746, 0.08327159285545349, 0.029739854857325554, 0.408865362405777, 0.5110816955566406, 0.957881510257721, 0.293151319026947, 0.586302638053894, 0.40300825238227844, 0.35943979024887085, 0.11981326341629028, 0.11981326341629028, 0.5243403315544128, 0.40851911902427673, 0.1556263267993927, 0.40851911902427673, 0.027234608307480812, 0.2557952105998993, 0.5115904211997986, 0.1796133667230606, 0.4190978407859802, 0.1496777981519699, 0.0598711222410202, 0.1796133667230606, 0.7908607125282288, 0.03476310893893242, 0.15643398463726044, 0.01738155446946621, 0.97957843542099, 0.6614078283309937, 0.9635416269302368, 0.12369201332330704, 0.8658441305160522, 0.9424035549163818, 0.8733864426612854, 0.49247944355010986, 0.36584189534187317, 0.10787644982337952, 0.028141682967543602, 0.0046902806498110294, 0.52434241771698, 0.5968455076217651, 0.2918640077114105, 0.11149861663579941, 0.28941595554351807, 0.6560094952583313, 0.03858879581093788, 0.01929439790546894, 0.8734485507011414, 0.8734301328659058, 0.9825167655944824, 0.42370179295539856, 0.08846520632505417, 0.47026243805885315, 0.013968191109597683, 0.004656063858419657, 0.1252589374780655, 0.8141831159591675, 0.4573041498661041, 0.3449379801750183, 0.1829216480255127, 0.013065832667052746, 0.002613166579976678, 0.21880066394805908, 0.6564019918441772, 0.09377171099185944, 0.015628619119524956, 0.6206011772155762, 0.2734852731227875, 0.05785265192389488, 0.03681532293558121, 0.010518664494156837, 0.4066653251647949, 0.33337098360061646, 0.2600766718387604, 0.19225312769412994, 0.09119699895381927, 0.6753507256507874, 0.0024647836107760668, 0.03697175532579422, 0.9677465558052063, 0.918464720249176, 0.7987757325172424, 0.2809928059577942, 0.5619856119155884, 0.4844885468482971, 0.2286785989999771, 0.27906540036201477, 0.007751816883683205, 0.740449070930481, 0.2436005175113678, 0.009647545404732227, 0.002411886351183057, 0.9573497772216797, 0.9676656126976013, 0.9763916730880737, 0.5802838802337646, 0.3289058208465576, 0.07517847418785095, 0.014095963910222054, 0.3509339988231659, 0.5622105598449707, 0.01074287761002779, 0.07699061930179596, 0.9634906053543091, 0.6614308953285217, 0.957321286201477, 0.19839458167552948, 0.15115778148174286, 0.6046311259269714, 0.04723680764436722, 0.11788023263216019, 0.18524037301540375, 0.5388810634613037, 0.03368006646633148, 0.10104019939899445, 0.252740740776062, 0.252740740776062, 0.126370370388031, 0.252740740776062, 0.27955472469329834, 0.06851831078529358, 0.6522943377494812, 0.31698164343833923, 0.5788360238075256, 0.06890904903411865, 0.02756362035870552, 0.9732655882835388, 0.4628872871398926, 0.4628872871398926, 0.918343722820282, 0.11841585487127304, 0.8683829307556152, 0.38981062173843384, 0.3055272400379181, 0.24231471121311188, 0.010535422712564468, 0.06321253627538681, 0.5244448781013489, 0.5244453549385071, 0.04850174859166145, 0.9215332269668579, 0.5977802872657776, 0.26568013429641724, 0.134852796792984, 0.0020127282477915287, 0.9526233077049255, 0.15635402500629425, 0.15635402500629425, 0.625416100025177, 0.3446573317050934, 0.6203832030296326, 0.4786730110645294, 0.17285414040088654, 0.2260400354862213, 0.11966825276613235, 0.711297333240509, 0.05594473332166672, 0.22377893328666687, 0.00799210462719202, 0.04440201073884964, 0.9324421882629395, 0.05677294731140137, 0.14193236827850342, 0.7664347887039185, 0.6631600260734558, 0.08870293200016022, 0.230205237865448, 0.019007772207260132, 0.7044380903244019, 0.17003677785396576, 0.11335784941911697, 0.008096989244222641, 0.6615536212921143, 0.2533610165119171, 0.4661842882633209, 0.21282325685024261, 0.0405377633869648, 0.030403323471546173, 0.9419804811477661, 0.9596154689788818, 0.9841412305831909, 0.8734199404716492, 0.18816441297531128, 0.8064189553260803, 0.4368075728416443, 0.2779684364795685, 0.23103870451450348, 0.02526985853910446, 0.028879838064312935, 0.5451635122299194, 0.1653076559305191, 0.28489190340042114, 0.003517183940857649, 0.408865362405777, 0.5110816955566406, 0.8925151824951172, 0.11900202929973602, 0.9440985321998596, 0.07989553362131119, 0.8788508176803589, 0.02663184329867363, 0.8903852701187134, 0.6085896492004395, 0.22928260266780853, 0.10190337896347046, 0.05661299079656601, 0.0028306494932621717, 0.8499237895011902, 0.0749085396528244, 0.05762195214629173, 0.00864329282194376, 0.00864329282194376, 0.8733779191970825, 0.09266452491283417, 0.7181500792503357, 0.18532904982566833, 0.5243698954582214, 0.9527021050453186, 0.2024153769016266, 0.2024153769016266, 0.4048307538032532, 0.942940354347229, 0.03143134340643883, 0.5243876576423645, 0.07639360427856445, 0.840329647064209, 0.9143423438072205, 0.5087884068489075, 0.3222326636314392, 0.11871729791164398, 0.01695961318910122, 0.03391922637820244, 0.1862737387418747, 0.43463873863220215, 0.12418249249458313, 0.21731936931610107, 0.2387009710073471, 0.04774019494652748, 0.7065548896789551, 0.9218000769615173, 0.06431163847446442, 0.8734142184257507, 0.9190372228622437, 0.91814786195755, 0.873420000076294, 0.9578630328178406, 0.2702174186706543, 0.11259058862924576, 0.6079891920089722, 0.4100748598575592, 0.19640426337718964, 0.3518010675907135, 0.04100748524069786, 0.5129024982452393, 0.34193500876426697, 0.49988430738449097, 0.17364402115345, 0.31834736466407776, 0.0078929103910923, 0.18416625261306763, 0.7366650104522705, 0.05615958943963051, 0.8985534310340881, 0.9439614415168762, 0.3284894526004791, 0.2213733196258545, 0.442746639251709, 0.014282149262726307, 0.8892496228218079, 0.105863057076931, 0.38242292404174805, 0.5736343860626221, 0.04789931699633598, 0.910086989402771, 0.9636414647102356, 0.5244452953338623, 0.39278218150138855, 0.19639109075069427, 0.33922097086906433, 0.07141494005918503, 0.3822215497493744, 0.3157482445240021, 0.2326565980911255, 0.04985498636960983, 0.2555854320526123, 0.6815611124038696, 0.9159613251686096, 0.05184686556458473, 0.03456457704305649, 0.9426241517066956, 0.3115595579147339, 0.20770636200904846, 0.10385318100452423, 0.3115595579147339, 0.2537514567375183, 0.2686780095100403, 0.4179435670375824, 0.059706225991249084, 0.19705446064472198, 0.08757975697517395, 0.7006380558013916, 0.04135565832257271, 0.20677828788757324, 0.7030462026596069, 0.9347275495529175, 0.03738909959793091, 0.03036053478717804, 0.1518026739358902, 0.7893739342689514, 0.03036053478717804, 0.6614834666252136, 0.9641076326370239, 0.20741476118564606, 0.6437010169029236, 0.06437010318040848, 0.0786745697259903, 0.9424940943717957, 0.5244448781013489, 0.943943440914154, 0.43843257427215576, 0.20925191044807434, 0.1992875337600708, 0.0996437668800354, 0.03985750675201416, 0.5111638307571411, 0.2835361659526825, 0.18369948863983154, 0.017970602959394455, 0.0019967337138950825, 0.7328193783760071, 0.6961767673492432, 0.2612510621547699, 0.042248521000146866, 0.00024634707369841635, 0.00012317353684920818, 0.18331557512283325, 0.733262300491333, 0.15732620656490326, 0.15732620656490326, 0.2753208577632904, 0.39331549406051636, 0.039331551641225815, 0.5838684439659119, 0.3451439142227173, 0.03451438993215561, 0.03739058971405029, 0.9850490689277649, 0.9090884327888489, 0.09205958992242813, 0.47536617517471313, 0.4007989168167114, 0.10563692450523376, 0.01864181086421013, 0.003106968477368355], \"Topic\": [1, 5, 1, 2, 3, 1, 2, 3, 4, 2, 5, 5, 5, 5, 5, 2, 1, 2, 3, 4, 5, 1, 2, 3, 4, 5, 4, 1, 2, 3, 4, 5, 4, 1, 2, 3, 1, 2, 4, 1, 3, 4, 5, 1, 2, 3, 4, 2, 3, 2, 1, 2, 3, 4, 5, 1, 2, 3, 2, 3, 1, 3, 1, 1, 2, 4, 1, 4, 1, 3, 1, 3, 4, 1, 2, 3, 4, 3, 1, 2, 5, 3, 1, 2, 3, 4, 2, 3, 1, 2, 3, 5, 1, 2, 3, 4, 5, 2, 1, 2, 3, 4, 1, 1, 4, 5, 3, 2, 3, 4, 3, 4, 3, 1, 2, 3, 1, 2, 5, 1, 1, 2, 3, 1, 2, 3, 1, 3, 1, 2, 3, 1, 2, 3, 4, 5, 1, 1, 2, 4, 1, 3, 1, 2, 3, 4, 1, 2, 3, 4, 5, 1, 2, 3, 4, 5, 2, 3, 4, 5, 1, 2, 3, 4, 5, 1, 2, 3, 4, 5, 4, 5, 1, 2, 3, 4, 5, 1, 1, 1, 5, 2, 3, 4, 5, 2, 4, 1, 2, 3, 4, 5, 1, 2, 3, 4, 1, 2, 3, 4, 5, 5, 1, 2, 3, 4, 1, 2, 1, 1, 2, 3, 4, 5, 5, 1, 1, 2, 3, 4, 5, 1, 2, 3, 4, 1, 2, 3, 4, 5, 1, 4, 2, 5, 1, 4, 5, 2, 1, 2, 1, 2, 3, 4, 4, 5, 1, 3, 5, 2, 1, 5, 5, 3, 2, 1, 2, 5, 2, 1, 2, 3, 4, 1, 2, 3, 4, 1, 5, 1, 2, 4, 2, 4, 1, 2, 3, 4, 5, 1, 4, 5, 1, 1, 2, 4, 1, 2, 4, 5, 2, 4, 1, 2, 3, 4, 5, 3, 2, 4, 5, 3, 3, 1, 3, 2, 5, 3, 4, 1, 2, 3, 4, 2, 1, 2, 3, 3, 1, 3, 5, 2, 5, 1, 2, 3, 4, 4, 3, 1, 2, 3, 5, 1, 2, 3, 1, 2, 3, 4, 5, 3, 4, 1, 2, 3, 4, 1, 2, 3, 4, 5, 1, 2, 4, 5, 5, 1, 2, 1, 2, 4, 1, 2, 3, 4, 1, 2, 3, 4, 3, 1, 2, 1, 2, 3, 4, 1, 2, 3, 4, 1, 2, 2, 4, 2, 1, 1, 2, 3, 4, 3, 2, 1, 2, 4, 5, 1, 2, 3, 1, 2, 3, 4, 2, 3, 4, 4, 3, 3, 1, 2, 3, 4, 2, 4, 1, 1, 5, 1, 2, 3, 4, 5, 1, 2, 3, 4, 3, 5, 1, 2, 3, 4, 5, 1, 2, 3, 5, 1, 4, 1, 1, 3, 3, 4, 1, 2, 3, 4, 5, 5, 1, 2, 3, 1, 2, 3, 4, 4, 4, 1, 1, 2, 3, 4, 5, 2, 4, 1, 2, 3, 4, 5, 1, 2, 3, 4, 1, 2, 3, 4, 5, 1, 2, 3, 1, 2, 3, 4, 5, 2, 3, 4, 3, 4, 1, 2, 3, 5, 1, 2, 3, 5, 2, 2, 1, 1, 2, 3, 4, 1, 2, 3, 4, 1, 4, 2, 1, 2, 3, 5, 1, 2, 3, 4, 5, 1, 2, 3, 5, 1, 2, 3, 1, 2, 3, 5, 3, 1, 4, 3, 1, 2, 1, 2, 3, 4, 5, 5, 5, 1, 2, 1, 2, 3, 4, 3, 1, 2, 4, 1, 4, 1, 2, 3, 4, 1, 2, 3, 4, 1, 2, 1, 2, 3, 1, 2, 3, 4, 1, 2, 3, 4, 4, 1, 2, 3, 4, 5, 3, 3, 3, 4, 1, 3, 1, 2, 3, 4, 5, 1, 2, 3, 4, 2, 4, 2, 3, 2, 1, 2, 3, 4, 1, 2, 3, 4, 5, 1, 2, 3, 4, 5, 4, 1, 2, 3, 5, 3, 1, 2, 5, 1, 2, 5, 1, 2, 2, 1, 2, 3, 4, 5, 1, 2, 4, 5, 1, 2, 3, 2, 4, 4, 3, 2, 4, 1, 1, 2, 4, 1, 2, 3, 4, 2, 5, 1, 2, 3, 4, 2, 4, 1, 2, 2, 1, 2, 3, 4, 1, 2, 2, 4, 2, 4, 1, 5, 1, 2, 3, 5, 1, 2, 3, 5, 2, 4, 1, 2, 3, 3, 1, 2, 4, 5, 1, 2, 3, 5, 1, 2, 3, 1, 2, 4, 1, 4, 1, 2, 3, 5, 4, 1, 1, 2, 3, 4, 4, 5, 2, 1, 2, 3, 4, 5, 1, 2, 3, 4, 5, 5, 1, 2, 3, 4, 5, 1, 4, 1, 2, 3, 4, 5, 1, 2, 3, 4, 1, 1, 2, 1, 2, 3, 4, 5]}, \"lambda.step\": 0.01, \"mdsDat\": {\"topics\": [1, 2, 3, 4, 5], \"x\": [0.11031873482270896, 0.06455415550059107, 0.1168467392961478, -0.107830615402531, -0.18388901421691675], \"Freq\": [48.5421257019043, 27.12624740600586, 18.897958755493164, 3.921079635620117, 1.5125880241394043], \"y\": [-0.021921218783758228, -0.053903533973721864, 0.0921520105828171, -0.10350003667046626, 0.08717277884512936], \"cluster\": [1, 1, 1, 1, 1]}, \"topic.order\": [5, 1, 3, 4, 2], \"plot.opts\": {\"xlab\": \"PC1\", \"ylab\": \"PC2\"}};\n",
       "\n",
       "function LDAvis_load_lib(url, callback){\n",
       "  var s = document.createElement('script');\n",
       "  s.src = url;\n",
       "  s.async = true;\n",
       "  s.onreadystatechange = s.onload = callback;\n",
       "  s.onerror = function(){console.warn(\"failed to load library \" + url);};\n",
       "  document.getElementsByTagName(\"head\")[0].appendChild(s);\n",
       "}\n",
       "\n",
       "if(typeof(LDAvis) !== \"undefined\"){\n",
       "   // already loaded: just create the visualization\n",
       "   !function(LDAvis){\n",
       "       new LDAvis(\"#\" + \"ldavis_el874423142082449849961769743\", ldavis_el874423142082449849961769743_data);\n",
       "   }(LDAvis);\n",
       "}else if(typeof define === \"function\" && define.amd){\n",
       "   // require.js is available: use it to load d3/LDAvis\n",
       "   require.config({paths: {d3: \"https://cdnjs.cloudflare.com/ajax/libs/d3/3.5.5/d3.min\"}});\n",
       "   require([\"d3\"], function(d3){\n",
       "      window.d3 = d3;\n",
       "      LDAvis_load_lib(\"https://cdn.rawgit.com/bmabey/pyLDAvis/files/ldavis.v1.0.0.js\", function(){\n",
       "        new LDAvis(\"#\" + \"ldavis_el874423142082449849961769743\", ldavis_el874423142082449849961769743_data);\n",
       "      });\n",
       "    });\n",
       "}else{\n",
       "    // require.js not available: dynamically load d3 & LDAvis\n",
       "    LDAvis_load_lib(\"https://cdnjs.cloudflare.com/ajax/libs/d3/3.5.5/d3.min.js\", function(){\n",
       "         LDAvis_load_lib(\"https://cdn.rawgit.com/bmabey/pyLDAvis/files/ldavis.v1.0.0.js\", function(){\n",
       "                 new LDAvis(\"#\" + \"ldavis_el874423142082449849961769743\", ldavis_el874423142082449849961769743_data);\n",
       "            })\n",
       "         });\n",
       "}\n",
       "</script>"
      ],
      "text/plain": [
       "PreparedData(topic_coordinates=            Freq  cluster  topics         x         y\n",
       "topic                                                \n",
       "4      48.542126        1       1  0.110319 -0.021921\n",
       "0      27.126247        1       2  0.064554 -0.053904\n",
       "2      18.897959        1       3  0.116847  0.092152\n",
       "3       3.921080        1       4 -0.107831 -0.103500\n",
       "1       1.512588        1       5 -0.183889  0.087173, topic_info=     Category         Freq          Term        Total  loglift  logprob\n",
       "term                                                                   \n",
       "5742  Default  1314.000000          debt  1314.000000  30.0000  30.0000\n",
       "3908  Default  8118.000000          xxxx  8118.000000  29.0000  29.0000\n",
       "4121  Default   613.000000          call   613.000000  28.0000  28.0000\n",
       "4567  Default   405.000000        number   405.000000  27.0000  27.0000\n",
       "973   Default   558.000000       payment   558.000000  26.0000  26.0000\n",
       "4936  Default   398.000000          loan   398.000000  25.0000  25.0000\n",
       "3301  Default   347.000000   information   347.000000  24.0000  24.0000\n",
       "46    Default   364.000000         phone   364.000000  23.0000  23.0000\n",
       "3465  Default   551.000000       company   551.000000  22.0000  22.0000\n",
       "1031  Default   834.000000       account   834.000000  21.0000  21.0000\n",
       "5338  Default   277.000000             s   277.000000  20.0000  20.0000\n",
       "5831  Default   177.000000       calling   177.000000  19.0000  19.0000\n",
       "4840  Default  1108.000000        credit  1108.000000  18.0000  18.0000\n",
       "4294  Default   780.000000    collection   780.000000  17.0000  17.0000\n",
       "5594  Default   463.000000          time   463.000000  16.0000  16.0000\n",
       "2286  Default   401.000000        called   401.000000  15.0000  15.0000\n",
       "1091  Default   266.000000          also   266.000000  14.0000  14.0000\n",
       "4290  Default   353.000000          sent   353.000000  13.0000  13.0000\n",
       "5528  Default   167.000000        charge   167.000000  12.0000  12.0000\n",
       "3731  Default   105.000000        person   105.000000  11.0000  11.0000\n",
       "1129  Default   131.000000         check   131.000000  10.0000  10.0000\n",
       "885   Default   158.000000          date   158.000000   9.0000   9.0000\n",
       "561   Default    94.000000       provide    94.000000   8.0000   8.0000\n",
       "483   Default   307.000000           day   307.000000   7.0000   7.0000\n",
       "2427  Default    85.000000       federal    85.000000   6.0000   6.0000\n",
       "3828  Default    46.000000           erc    46.000000   5.0000   5.0000\n",
       "2770  Default   100.000000       without   100.000000   4.0000   4.0000\n",
       "2162  Default   347.000000       service   347.000000   3.0000   3.0000\n",
       "112   Default   347.000000      xxxxxxxx   347.000000   2.0000   2.0000\n",
       "1370  Default   209.000000          bank   209.000000   1.0000   1.0000\n",
       "...       ...          ...           ...          ...      ...      ...\n",
       "57     Topic5     2.228155      timeline     5.849065   3.2262  -6.3155\n",
       "741    Topic5     3.494301             b    14.408685   2.7747  -5.8655\n",
       "5184   Topic5     2.223610  fraudulently     6.774335   3.0773  -6.3175\n",
       "3713   Topic5     4.738362    limitation    32.094234   2.2784  -5.5609\n",
       "538    Topic5     6.321050      personal    59.382305   1.9512  -5.2727\n",
       "4567   Topic5    15.250974        number   405.715118   0.9103  -4.3920\n",
       "5047   Topic5     2.554570             c     9.488029   2.8792  -6.1787\n",
       "118    Topic5     3.976374    individual    29.210220   2.1972  -5.7363\n",
       "5742   Topic5    19.681532          debt  1314.221924  -0.0100  -4.1369\n",
       "561    Topic5     5.954582       provide    94.917885   1.4225  -5.3325\n",
       "3446   Topic5     4.852595           act    58.391224   1.7037  -5.5371\n",
       "4764   Topic5     2.100600          harm     7.827760   2.8759  -6.3744\n",
       "5338   Topic5     7.976988             s   277.009857   0.6439  -5.0401\n",
       "3002   Topic5     2.028161    personally     7.913247   2.8299  -6.4095\n",
       "3301   Topic5     7.703657   information   347.861511   0.3812  -5.0749\n",
       "3731   Topic5     5.058847        person   105.849663   1.1505  -5.4955\n",
       "4519   Topic5     2.281471     allegedly    13.397374   2.4211  -6.2918\n",
       "4719   Topic5     2.824740        access    25.646557   1.9854  -6.0782\n",
       "1031   Topic5     7.952093       account   834.531921  -0.4621  -5.0432\n",
       "2770   Topic5     4.214154       without   100.357506   1.0211  -5.6782\n",
       "61     Topic5     3.503384           use    56.010689   1.4195  -5.8629\n",
       "1115   Topic5     3.565710  verification    66.994690   1.2581  -5.8453\n",
       "885    Topic5     4.294767          date   158.725311   0.5816  -5.6592\n",
       "4294   Topic5     5.417559    collection   780.742126  -0.7793  -5.4270\n",
       "5528   Topic5     3.836221        charge   167.621826   0.4141  -5.7721\n",
       "1056   Topic5     3.509328         state   117.927216   0.6767  -5.8612\n",
       "3182   Topic5     3.435354      consumer   102.131721   0.7992  -5.8825\n",
       "5300   Topic5     3.205431          used    60.174522   1.2589  -5.9518\n",
       "3668   Topic5     3.134358       request    98.673424   0.7420  -5.9742\n",
       "1129   Topic5     3.047412         check   131.345596   0.4278  -6.0023\n",
       "\n",
       "[414 rows x 6 columns], token_table=      Topic      Freq          Term\n",
       "term                               \n",
       "4060      1  0.972726         11000\n",
       "3418      5  0.732819         1name\n",
       "461       1  0.898202          2015\n",
       "461       2  0.069092          2015\n",
       "461       3  0.013818          2015\n",
       "396       1  0.949368          2016\n",
       "396       2  0.017261          2016\n",
       "396       3  0.034522          2016\n",
       "2648      4  0.873452            28\n",
       "378       2  0.983632          3000\n",
       "386       5  0.849074         30day\n",
       "278       5  0.524445        775082\n",
       "1139      5  0.524445        775083\n",
       "4721      5  0.524445        775084\n",
       "2434      5  0.732819           817\n",
       "5994      2  0.961346         aafes\n",
       "4719      1  0.389916        access\n",
       "4719      2  0.116975        access\n",
       "4719      3  0.311933        access\n",
       "4719      4  0.077983        access\n",
       "4719      5  0.116975        access\n",
       "1031      1  0.573974       account\n",
       "1031      2  0.260026       account\n",
       "1031      3  0.139000       account\n",
       "1031      4  0.016776       account\n",
       "1031      5  0.009586       account\n",
       "950       4  0.873386      achieved\n",
       "3446      1  0.308266           act\n",
       "3446      2  0.513776           act\n",
       "3446      3  0.068503           act\n",
       "...     ...       ...           ...\n",
       "3786      1  0.511164         would\n",
       "3786      2  0.283536         would\n",
       "3786      3  0.183699         would\n",
       "3786      4  0.017971         would\n",
       "3786      5  0.001997         would\n",
       "2431      5  0.732819          xlvi\n",
       "3908      1  0.696177          xxxx\n",
       "3908      2  0.261251          xxxx\n",
       "3908      3  0.042249          xxxx\n",
       "3908      4  0.000246          xxxx\n",
       "3908      5  0.000123          xxxx\n",
       "3427      1  0.183316      xxxx2014\n",
       "3427      4  0.733262      xxxx2014\n",
       "227       1  0.157326      xxxx2016\n",
       "227       2  0.157326      xxxx2016\n",
       "227       3  0.275321      xxxx2016\n",
       "227       4  0.393315      xxxx2016\n",
       "227       5  0.039332      xxxx2016\n",
       "112       1  0.583868      xxxxxxxx\n",
       "112       2  0.345144      xxxxxxxx\n",
       "112       3  0.034514      xxxxxxxx\n",
       "112       4  0.037391      xxxxxxxx\n",
       "5323      1  0.985049    xxxxxxxx14\n",
       "2155      1  0.909088  xxxxxxxxxxxx\n",
       "2155      2  0.092060  xxxxxxxxxxxx\n",
       "2778      1  0.475366          year\n",
       "2778      2  0.400799          year\n",
       "2778      3  0.105637          year\n",
       "2778      4  0.018642          year\n",
       "2778      5  0.003107          year\n",
       "\n",
       "[766 rows x 3 columns], R=30, lambda_step=0.01, plot_opts={'xlab': 'PC1', 'ylab': 'PC2'}, topic_order=[5, 1, 3, 4, 2])"
      ]
     },
     "execution_count": 34,
     "metadata": {},
     "output_type": "execute_result"
    }
   ],
   "source": [
    "!pip install pyLDAvis\n",
    "pyLDAvis.enable_notebook()\n",
    "vis = pyLDAvis.gensim.prepare(ldamodel, doc_term_matrix, dictionary)\n",
    "vis"
   ]
  },
  {
   "cell_type": "code",
   "execution_count": null,
   "metadata": {},
   "outputs": [],
   "source": []
  }
 ],
 "metadata": {
  "kernelspec": {
   "display_name": "Python 3",
   "language": "python",
   "name": "python3"
  },
  "language_info": {
   "codemirror_mode": {
    "name": "ipython",
    "version": 3
   },
   "file_extension": ".py",
   "mimetype": "text/x-python",
   "name": "python",
   "nbconvert_exporter": "python",
   "pygments_lexer": "ipython3",
   "version": "3.5.5"
  }
 },
 "nbformat": 4,
 "nbformat_minor": 2
}
