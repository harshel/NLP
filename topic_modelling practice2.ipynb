{
 "cells": [
  {
   "cell_type": "code",
   "execution_count": 1,
   "metadata": {},
   "outputs": [],
   "source": [
    "import pandas as pd\n",
    "import numpy as np\n",
    "import matplotlib.pyplot as plt"
   ]
  },
  {
   "cell_type": "code",
   "execution_count": 67,
   "metadata": {},
   "outputs": [],
   "source": [
    "data = pd.read_csv('D:/farzad/Artificial Intelligence/Sem2/NLP/Consumer_Complaints.csv')\n",
    "\n"
   ]
  },
  {
   "cell_type": "code",
   "execution_count": 68,
   "metadata": {},
   "outputs": [],
   "source": [
    "data.dropna(inplace=True)\n",
    "X = data['Consumer complaint narrative']\n",
    "\n",
    "y = data['Product']"
   ]
  },
  {
   "cell_type": "code",
   "execution_count": 69,
   "metadata": {},
   "outputs": [],
   "source": [
    "from string import punctuation\n",
    "from nltk.corpus import stopwords\n",
    "from nltk.tokenize import word_tokenize\n",
    "\n",
    "#word = word_tokenize((X.items))\n",
    "\n",
    "\n",
    "#stops = set(stopwords.words('english')+'xxxx'+'xxx'+'xx')\n",
    "#x = [w for w in word if w not in stops]"
   ]
  },
  {
   "cell_type": "code",
   "execution_count": 79,
   "metadata": {},
   "outputs": [],
   "source": [
    "from sklearn.feature_extraction.text import TfidfVectorizer\n",
    "\n",
    "\n",
    "#,'xxxx','xxx','xx'\n",
    "tfidf = TfidfVectorizer(stop_words='english')\n",
    "vector = tfidf.fit_transform(X)"
   ]
  },
  {
   "cell_type": "code",
   "execution_count": 80,
   "metadata": {},
   "outputs": [],
   "source": [
    "from sklearn.preprocessing import LabelEncoder\n",
    "\n",
    "le = LabelEncoder()\n",
    "out = le.fit_transform(y)"
   ]
  },
  {
   "cell_type": "code",
   "execution_count": 81,
   "metadata": {},
   "outputs": [],
   "source": [
    "from sklearn.decomposition import TruncatedSVD"
   ]
  },
  {
   "cell_type": "code",
   "execution_count": 82,
   "metadata": {},
   "outputs": [],
   "source": [
    "svd = TruncatedSVD(n_components=5, algorithm='randomized', n_iter=1000, random_state=4)"
   ]
  },
  {
   "cell_type": "code",
   "execution_count": 83,
   "metadata": {},
   "outputs": [
    {
     "data": {
      "text/plain": [
       "TruncatedSVD(algorithm='randomized', n_components=5, n_iter=1000,\n",
       "       random_state=4, tol=0.0)"
      ]
     },
     "execution_count": 83,
     "metadata": {},
     "output_type": "execute_result"
    }
   ],
   "source": [
    "svd.fit(vector)"
   ]
  },
  {
   "cell_type": "code",
   "execution_count": 84,
   "metadata": {},
   "outputs": [
    {
     "data": {
      "text/plain": [
       "5"
      ]
     },
     "execution_count": 84,
     "metadata": {},
     "output_type": "execute_result"
    }
   ],
   "source": [
    "len(svd.components_)"
   ]
  },
  {
   "cell_type": "code",
   "execution_count": 85,
   "metadata": {},
   "outputs": [
    {
     "name": "stdout",
     "output_type": "stream",
     "text": [
      "['Topic 0: ', 'xxxx', 'xx', 'debt', 'credit', 'account', 'collection', '00']\n",
      "['Topic 1: ', 'xx', 'debt', 'credit', 'report', 'account', 'company', 'collection']\n",
      "['Topic 2: ', 'xx', 'xxxx', '00', '2016', 'loans', '2017', 'dated']\n",
      "['Topic 3: ', 'calls', 'phone', 'number', 'calling', 'day', 'times', 'xx']\n",
      "['Topic 4: ', '00', 'payment', 'pay', 'loan', 'paid', 'payments', 'told']\n"
     ]
    }
   ],
   "source": [
    "terms = tfidf.get_feature_names()\n",
    "topics = []\n",
    "for i, comp in enumerate(svd.components_):\n",
    "    terms_comp = zip(terms, comp)\n",
    "    sorted_terms = sorted(terms_comp, key= lambda x:x[1], reverse=True)[:7]\n",
    "    topics.append(\"Topic \"+str(i)+\": \")\n",
    "    for t in sorted_terms:\n",
    "        topics.append(t[0])\n",
    "final_topic_list = [topics[i:i+8] for i in range(0, len(topics), 8)]\n",
    "for x in final_topic_list:\n",
    "    print (x)"
   ]
  },
  {
   "cell_type": "code",
   "execution_count": 86,
   "metadata": {},
   "outputs": [],
   "source": [
    "import re\n",
    "from pprint import pprint\n",
    "\n",
    "import gensim\n",
    "import gensim.corpora as corpora\n",
    "from gensim.utils import simple_preprocess\n",
    "from gensim.models import CoherenceModel\n",
    "\n",
    "\n",
    "\n",
    "# Plotting tools\n",
    "import pyLDAvis\n",
    "import pyLDAvis.gensim  # don't skip this\n",
    "import matplotlib.pyplot as plt\n",
    "%matplotlib inline\n",
    "\n",
    "# Enable logging for gensim - optional\n",
    "import logging\n",
    "logging.basicConfig(format='%(asctime)s : %(levelname)s : %(message)s', level=logging.ERROR)\n",
    "\n",
    "import warnings\n",
    "warnings.filterwarnings(\"ignore\",category=DeprecationWarning)\n",
    "\n",
    "from nltk.tokenize import word_tokenize\n",
    "from nltk.corpus import stopwords\n",
    "from string import punctuation\n",
    "from nltk.stem import WordNetLemmatizer\n",
    "from collections import Counter\n",
    "import operator\n",
    "\n"
   ]
  },
  {
   "cell_type": "code",
   "execution_count": 123,
   "metadata": {},
   "outputs": [],
   "source": [
    "text = list(X.values)\n",
    "\n",
    "text = text[:1000]\n",
    "\n",
    "stop = list(stopwords.words('english'))\n",
    "exclude = set(punctuation)\n",
    "lemma = WordNetLemmatizer()\n",
    "stop=stop+['x','xx','xxx','xxxx','xxxxxxxx','xxxxxxxx']"
   ]
  },
  {
   "cell_type": "code",
   "execution_count": 124,
   "metadata": {},
   "outputs": [
    {
     "data": {
      "text/plain": [
       "['i',\n",
       " 'me',\n",
       " 'my',\n",
       " 'myself',\n",
       " 'we',\n",
       " 'our',\n",
       " 'ours',\n",
       " 'ourselves',\n",
       " 'you',\n",
       " \"you're\",\n",
       " \"you've\",\n",
       " \"you'll\",\n",
       " \"you'd\",\n",
       " 'your',\n",
       " 'yours',\n",
       " 'yourself',\n",
       " 'yourselves',\n",
       " 'he',\n",
       " 'him',\n",
       " 'his',\n",
       " 'himself',\n",
       " 'she',\n",
       " \"she's\",\n",
       " 'her',\n",
       " 'hers',\n",
       " 'herself',\n",
       " 'it',\n",
       " \"it's\",\n",
       " 'its',\n",
       " 'itself',\n",
       " 'they',\n",
       " 'them',\n",
       " 'their',\n",
       " 'theirs',\n",
       " 'themselves',\n",
       " 'what',\n",
       " 'which',\n",
       " 'who',\n",
       " 'whom',\n",
       " 'this',\n",
       " 'that',\n",
       " \"that'll\",\n",
       " 'these',\n",
       " 'those',\n",
       " 'am',\n",
       " 'is',\n",
       " 'are',\n",
       " 'was',\n",
       " 'were',\n",
       " 'be',\n",
       " 'been',\n",
       " 'being',\n",
       " 'have',\n",
       " 'has',\n",
       " 'had',\n",
       " 'having',\n",
       " 'do',\n",
       " 'does',\n",
       " 'did',\n",
       " 'doing',\n",
       " 'a',\n",
       " 'an',\n",
       " 'the',\n",
       " 'and',\n",
       " 'but',\n",
       " 'if',\n",
       " 'or',\n",
       " 'because',\n",
       " 'as',\n",
       " 'until',\n",
       " 'while',\n",
       " 'of',\n",
       " 'at',\n",
       " 'by',\n",
       " 'for',\n",
       " 'with',\n",
       " 'about',\n",
       " 'against',\n",
       " 'between',\n",
       " 'into',\n",
       " 'through',\n",
       " 'during',\n",
       " 'before',\n",
       " 'after',\n",
       " 'above',\n",
       " 'below',\n",
       " 'to',\n",
       " 'from',\n",
       " 'up',\n",
       " 'down',\n",
       " 'in',\n",
       " 'out',\n",
       " 'on',\n",
       " 'off',\n",
       " 'over',\n",
       " 'under',\n",
       " 'again',\n",
       " 'further',\n",
       " 'then',\n",
       " 'once',\n",
       " 'here',\n",
       " 'there',\n",
       " 'when',\n",
       " 'where',\n",
       " 'why',\n",
       " 'how',\n",
       " 'all',\n",
       " 'any',\n",
       " 'both',\n",
       " 'each',\n",
       " 'few',\n",
       " 'more',\n",
       " 'most',\n",
       " 'other',\n",
       " 'some',\n",
       " 'such',\n",
       " 'no',\n",
       " 'nor',\n",
       " 'not',\n",
       " 'only',\n",
       " 'own',\n",
       " 'same',\n",
       " 'so',\n",
       " 'than',\n",
       " 'too',\n",
       " 'very',\n",
       " 's',\n",
       " 't',\n",
       " 'can',\n",
       " 'will',\n",
       " 'just',\n",
       " 'don',\n",
       " \"don't\",\n",
       " 'should',\n",
       " \"should've\",\n",
       " 'now',\n",
       " 'd',\n",
       " 'll',\n",
       " 'm',\n",
       " 'o',\n",
       " 're',\n",
       " 've',\n",
       " 'y',\n",
       " 'ain',\n",
       " 'aren',\n",
       " \"aren't\",\n",
       " 'couldn',\n",
       " \"couldn't\",\n",
       " 'didn',\n",
       " \"didn't\",\n",
       " 'doesn',\n",
       " \"doesn't\",\n",
       " 'hadn',\n",
       " \"hadn't\",\n",
       " 'hasn',\n",
       " \"hasn't\",\n",
       " 'haven',\n",
       " \"haven't\",\n",
       " 'isn',\n",
       " \"isn't\",\n",
       " 'ma',\n",
       " 'mightn',\n",
       " \"mightn't\",\n",
       " 'mustn',\n",
       " \"mustn't\",\n",
       " 'needn',\n",
       " \"needn't\",\n",
       " 'shan',\n",
       " \"shan't\",\n",
       " 'shouldn',\n",
       " \"shouldn't\",\n",
       " 'wasn',\n",
       " \"wasn't\",\n",
       " 'weren',\n",
       " \"weren't\",\n",
       " 'won',\n",
       " \"won't\",\n",
       " 'wouldn',\n",
       " \"wouldn't\",\n",
       " 'x',\n",
       " 'xx',\n",
       " 'xxx',\n",
       " 'xxxx']"
      ]
     },
     "execution_count": 124,
     "metadata": {},
     "output_type": "execute_result"
    }
   ],
   "source": [
    "text = [str(x).lower() for x in text]\n",
    "stop"
   ]
  },
  {
   "cell_type": "code",
   "execution_count": 122,
   "metadata": {},
   "outputs": [],
   "source": [
    "\n",
    "#word=word_tokenize(str(x) for x in text)\n",
    "#word"
   ]
  },
  {
   "cell_type": "code",
   "execution_count": 125,
   "metadata": {},
   "outputs": [
    {
     "name": "stdout",
     "output_type": "stream",
     "text": [
      "[['called', 'cell', 'phone', 'first', 'national', 'debt', 'inc', 'told', 'owed', '21000', 'debt', 'incurred', 'xxxxxxxx', 'xxxx', 'debt', 'never', 'resolved', 'time', 'returned', 'home', 'found', 'debt', 'longer', 'bank', 'moved', 'something', 'website', 'number', 'recording', 'find', 'bought', 'another', 'bank', 'debt', 'came', 'xxxxxxxx', 'xxxxxxxx', 'xxxxxxxx', 'xxxxxxxx', 'debt', 'nine', 'year', 'old'], ['sent', 'cease', 'desist', 'letter', 'medical', 'debt', 'collection', 'agency', 'bill', 'recently', 'deceased', 'husband', 'ca', 'nt', 'afford', 'pay', 'certified', 'mail', 'receipt', 'payment', 'made', 'never', 'got', 'receipt', 'back', 'get', '2', 'robo', 'collection', 'call', 'day', '4', 'day', 'week', 'want', 'call', 'stop']]\n"
     ]
    }
   ],
   "source": [
    "def clean(doc):\n",
    "    stop_free = \" \".join([i for i in doc.lower().split() if i not in stop])\n",
    "    punc_free = ''.join(ch for ch in stop_free if ch not in exclude)\n",
    "    normalized  = \" \".join(lemma.lemmatize(word) for word in punc_free.split())\n",
    "    return normalized\n",
    "\n",
    "doc_clean = [clean(doc).split() for doc in text]\n",
    "print(doc_clean[:2])"
   ]
  },
  {
   "cell_type": "code",
   "execution_count": 126,
   "metadata": {},
   "outputs": [],
   "source": [
    "import gensim\n",
    "from gensim import corpora\n"
   ]
  },
  {
   "cell_type": "code",
   "execution_count": 127,
   "metadata": {},
   "outputs": [],
   "source": [
    "dictionary = corpora.Dictionary(doc_clean)\n",
    "doc_term_matrix = [dictionary.doc2bow(doc) for doc in doc_clean]"
   ]
  },
  {
   "cell_type": "code",
   "execution_count": 128,
   "metadata": {},
   "outputs": [
    {
     "name": "stdout",
     "output_type": "stream",
     "text": [
      "[[('21000', 1), ('another', 1), ('bank', 2), ('bought', 1), ('called', 1), ('came', 1), ('cell', 1), ('debt', 6), ('find', 1), ('first', 1), ('found', 1), ('home', 1), ('inc', 1), ('incurred', 1), ('longer', 1), ('moved', 1), ('national', 1), ('never', 1), ('nine', 1), ('number', 1), ('old', 1), ('owed', 1), ('phone', 1), ('recording', 1), ('resolved', 1), ('returned', 1), ('something', 1), ('time', 1), ('told', 1), ('website', 1), ('xxxx', 1), ('xxxxxxxx', 5), ('year', 1)]]\n"
     ]
    }
   ],
   "source": [
    "print ([[(dictionary[id], freq) for id, freq in cp] for cp in doc_term_matrix[:1]])"
   ]
  },
  {
   "cell_type": "code",
   "execution_count": 129,
   "metadata": {},
   "outputs": [
    {
     "name": "stdout",
     "output_type": "stream",
     "text": [
      "[(0, '0.024*\"loan\" + 0.021*\"xxxx\" + 0.010*\"student\" + 0.009*\"well\" + 0.009*\"xxxxxxxx\" + 0.008*\"u\" + 0.007*\"payment\"'), (1, '0.031*\"call\" + 0.017*\"xxxx\" + 0.016*\"debt\" + 0.016*\"number\" + 0.014*\"phone\" + 0.012*\"called\" + 0.011*\"told\"'), (2, '0.020*\"xxxx\" + 0.016*\"credit\" + 0.016*\"payment\" + 0.014*\"collection\" + 0.013*\"bill\" + 0.012*\"account\" + 0.011*\"paid\"'), (3, '0.037*\"debt\" + 0.029*\"credit\" + 0.026*\"xxxx\" + 0.020*\"account\" + 0.017*\"report\" + 0.016*\"collection\" + 0.011*\"company\"'), (4, '0.021*\"xxxx\" + 0.007*\"s\" + 0.007*\"number\" + 0.006*\"bankruptcy\" + 0.005*\"debt\" + 0.004*\"court\" + 0.004*\"service\"')]\n"
     ]
    }
   ],
   "source": [
    "lda = gensim.models.ldamodel.LdaModel\n",
    "ldamodel = lda(corpus = doc_term_matrix, num_topics = 5, id2word = dictionary, passes = 50)\n",
    "print(ldamodel.print_topics(num_topics=5,num_words = 7))"
   ]
  },
  {
   "cell_type": "code",
   "execution_count": 130,
   "metadata": {},
   "outputs": [
    {
     "name": "stdout",
     "output_type": "stream",
     "text": [
      "Requirement already satisfied: pyLDAvis in c:\\users\\farzad avari\\appdata\\local\\conda\\conda\\envs\\imageenv1\\lib\\site-packages (2.1.2)\n",
      "Requirement already satisfied: numexpr in c:\\users\\farzad avari\\appdata\\local\\conda\\conda\\envs\\imageenv1\\lib\\site-packages (from pyLDAvis) (2.6.9)\n",
      "Requirement already satisfied: scipy>=0.18.0 in c:\\users\\farzad avari\\appdata\\local\\conda\\conda\\envs\\imageenv1\\lib\\site-packages (from pyLDAvis) (1.1.0)\n",
      "Requirement already satisfied: future in c:\\users\\farzad avari\\appdata\\local\\conda\\conda\\envs\\imageenv1\\lib\\site-packages (from pyLDAvis) (0.17.1)\n",
      "Requirement already satisfied: numpy>=1.9.2 in c:\\users\\farzad avari\\appdata\\local\\conda\\conda\\envs\\imageenv1\\lib\\site-packages (from pyLDAvis) (1.16.2)\n",
      "Requirement already satisfied: pandas>=0.17.0 in c:\\users\\farzad avari\\appdata\\local\\conda\\conda\\envs\\imageenv1\\lib\\site-packages (from pyLDAvis) (0.23.4)\n",
      "Requirement already satisfied: wheel>=0.23.0 in c:\\users\\farzad avari\\appdata\\local\\conda\\conda\\envs\\imageenv1\\lib\\site-packages (from pyLDAvis) (0.31.1)\n",
      "Requirement already satisfied: jinja2>=2.7.2 in c:\\users\\farzad avari\\appdata\\local\\conda\\conda\\envs\\imageenv1\\lib\\site-packages (from pyLDAvis) (2.10)\n",
      "Requirement already satisfied: funcy in c:\\users\\farzad avari\\appdata\\local\\conda\\conda\\envs\\imageenv1\\lib\\site-packages (from pyLDAvis) (1.11)\n",
      "Requirement already satisfied: pytest in c:\\users\\farzad avari\\appdata\\local\\conda\\conda\\envs\\imageenv1\\lib\\site-packages (from pyLDAvis) (4.3.0)\n",
      "Requirement already satisfied: joblib>=0.8.4 in c:\\users\\farzad avari\\appdata\\local\\conda\\conda\\envs\\imageenv1\\lib\\site-packages (from pyLDAvis) (0.13.2)\n",
      "Requirement already satisfied: python-dateutil>=2.5.0 in c:\\users\\farzad avari\\appdata\\local\\conda\\conda\\envs\\imageenv1\\lib\\site-packages (from pandas>=0.17.0->pyLDAvis) (2.7.3)\n",
      "Requirement already satisfied: pytz>=2011k in c:\\users\\farzad avari\\appdata\\local\\conda\\conda\\envs\\imageenv1\\lib\\site-packages (from pandas>=0.17.0->pyLDAvis) (2018.5)\n",
      "Requirement already satisfied: MarkupSafe>=0.23 in c:\\users\\farzad avari\\appdata\\local\\conda\\conda\\envs\\imageenv1\\lib\\site-packages (from jinja2>=2.7.2->pyLDAvis) (1.0)\n",
      "Requirement already satisfied: pathlib2>=2.2.0; python_version < \"3.6\" in c:\\users\\farzad avari\\appdata\\local\\conda\\conda\\envs\\imageenv1\\lib\\site-packages (from pytest->pyLDAvis) (2.3.3)\n",
      "Requirement already satisfied: atomicwrites>=1.0 in c:\\users\\farzad avari\\appdata\\local\\conda\\conda\\envs\\imageenv1\\lib\\site-packages (from pytest->pyLDAvis) (1.3.0)\n",
      "Requirement already satisfied: setuptools in c:\\users\\farzad avari\\appdata\\local\\conda\\conda\\envs\\imageenv1\\lib\\site-packages (from pytest->pyLDAvis) (40.0.0)\n",
      "Requirement already satisfied: more-itertools>=4.0.0; python_version > \"2.7\" in c:\\users\\farzad avari\\appdata\\local\\conda\\conda\\envs\\imageenv1\\lib\\site-packages (from pytest->pyLDAvis) (6.0.0)\n",
      "Requirement already satisfied: colorama; sys_platform == \"win32\" in c:\\users\\farzad avari\\appdata\\local\\conda\\conda\\envs\\imageenv1\\lib\\site-packages (from pytest->pyLDAvis) (0.3.9)\n",
      "Requirement already satisfied: attrs>=17.4.0 in c:\\users\\farzad avari\\appdata\\local\\conda\\conda\\envs\\imageenv1\\lib\\site-packages (from pytest->pyLDAvis) (18.1.0)\n",
      "Requirement already satisfied: py>=1.5.0 in c:\\users\\farzad avari\\appdata\\local\\conda\\conda\\envs\\imageenv1\\lib\\site-packages (from pytest->pyLDAvis) (1.8.0)\n",
      "Requirement already satisfied: pluggy>=0.7 in c:\\users\\farzad avari\\appdata\\local\\conda\\conda\\envs\\imageenv1\\lib\\site-packages (from pytest->pyLDAvis) (0.9.0)\n",
      "Requirement already satisfied: six>=1.10.0 in c:\\users\\farzad avari\\appdata\\local\\conda\\conda\\envs\\imageenv1\\lib\\site-packages (from pytest->pyLDAvis) (1.11.0)\n"
     ]
    },
    {
     "name": "stderr",
     "output_type": "stream",
     "text": [
      "C:\\Users\\Farzad Avari\\AppData\\Local\\conda\\conda\\envs\\ImageEnv1\\lib\\site-packages\\pyLDAvis\\_prepare.py:257: FutureWarning: Sorting because non-concatenation axis is not aligned. A future version\n",
      "of pandas will change to not sort by default.\n",
      "\n",
      "To accept the future behavior, pass 'sort=False'.\n",
      "\n",
      "To retain the current behavior and silence the warning, pass 'sort=True'.\n",
      "\n",
      "  return pd.concat([default_term_info] + list(topic_dfs))\n"
     ]
    },
    {
     "data": {
      "text/html": [
       "\n",
       "<link rel=\"stylesheet\" type=\"text/css\" href=\"https://cdn.rawgit.com/bmabey/pyLDAvis/files/ldavis.v1.0.0.css\">\n",
       "\n",
       "\n",
       "<div id=\"ldavis_el22829418403886485474329293\"></div>\n",
       "<script type=\"text/javascript\">\n",
       "\n",
       "var ldavis_el22829418403886485474329293_data = {\"mdsDat\": {\"Freq\": [37.26942825317383, 27.79628562927246, 21.266536712646484, 8.568416595458984, 5.099335193634033], \"x\": [0.07541601547291896, 0.1242826714089567, 0.022213532592952032, -0.11700368645120822, -0.10490853302361929], \"topics\": [1, 2, 3, 4, 5], \"y\": [0.03592949274838204, -0.10821373741052426, 0.14446296188031682, 0.003452859350404898, -0.07563157656857948], \"cluster\": [1, 1, 1, 1, 1]}, \"tinfo\": {\"Freq\": [615.0, 385.0, 1557.0, 470.0, 1106.0, 1323.0, 411.0, 178.0, 361.0, 566.0, 423.0, 398.0, 136.0, 89.0, 338.0, 377.0, 831.0, 275.0, 139.0, 139.0, 773.0, 152.0, 340.0, 356.0, 95.0, 277.0, 374.0, 44.0, 492.0, 206.0, 27.883235931396484, 27.81325340270996, 24.027965545654297, 45.85712814331055, 17.380064010620117, 17.37551498413086, 15.469964981079102, 16.296722412109375, 94.19185638427734, 12.596925735473633, 12.596921920776367, 12.594457626342773, 17.031280517578125, 11.633696556091309, 30.406845092773438, 10.692132949829102, 9.735015869140625, 10.615668296813965, 9.729453086853027, 11.484881401062012, 9.665616035461426, 9.658758163452148, 8.782520294189453, 9.655920028686523, 8.73379135131836, 13.038823127746582, 8.72768497467041, 7.824505805969238, 7.819350242614746, 7.813007831573486, 368.9403381347656, 29.845693588256836, 13.767244338989258, 22.804946899414062, 435.7504577636719, 28.25723648071289, 230.62252807617188, 39.49047088623047, 302.61920166015625, 38.6601448059082, 223.55465698242188, 63.95679473876953, 146.17811584472656, 118.6336441040039, 64.10233306884766, 49.16529846191406, 221.69801330566406, 264.4878234863281, 44.38090896606445, 120.14120483398438, 95.37970733642578, 111.67051696777344, 63.74156951904297, 93.02916717529297, 114.17005920410156, 377.90179443359375, 245.54722595214844, 454.4888610839844, 107.53646087646484, 237.58612060546875, 143.80548095703125, 182.48965454101562, 345.51580810546875, 544.3851318359375, 123.49786376953125, 202.0268096923828, 184.8607635498047, 187.2193145751953, 174.2288360595703, 192.94764709472656, 164.2571563720703, 143.9741668701172, 170.8633575439453, 240.9830322265625, 131.55368041992188, 137.6053924560547, 123.38735961914062, 51.07801818847656, 53.739166259765625, 28.479490280151367, 58.97727966308594, 19.98112678527832, 19.04730796813965, 17.150423049926758, 17.15003776550293, 63.699981689453125, 14.330100059509277, 14.314613342285156, 19.64420509338379, 39.09201431274414, 11.502872467041016, 52.327213287353516, 11.483282089233398, 9.61652660369873, 9.608156204223633, 20.912973403930664, 12.155592918395996, 8.6691255569458, 8.666789054870605, 8.666608810424805, 8.66485595703125, 7.731361389160156, 7.720995903015137, 67.36259460449219, 43.03529357910156, 7.705709934234619, 17.055072784423828, 33.125858306884766, 62.79679870605469, 131.21578979492188, 360.4205322265625, 35.52433776855469, 51.617671966552734, 75.28400421142578, 26.59507942199707, 34.887168884277344, 78.95244598388672, 42.608882904052734, 102.817138671875, 62.76322555541992, 772.7545166015625, 79.04924774169922, 77.74021911621094, 49.11003494262695, 597.802001953125, 89.5342788696289, 100.21837615966797, 76.40973663330078, 107.84361267089844, 413.5787658691406, 230.835205078125, 79.64485168457031, 195.6332550048828, 340.9364929199219, 83.27375030517578, 533.723876953125, 237.09939575195312, 178.27525329589844, 147.71685791015625, 165.67221069335938, 135.89212036132812, 79.71125793457031, 126.7181625366211, 93.70364379882812, 88.3814926147461, 77.78942108154297, 87.28914642333984, 89.8981704711914, 17.82782745361328, 16.932952880859375, 14.142549514770508, 33.576904296875, 11.343328475952148, 167.91241455078125, 9.49136734008789, 8.549686431884766, 8.54845905303955, 8.511994361877441, 7.629072189331055, 7.626352310180664, 7.62396764755249, 22.08005142211914, 10.077740669250488, 6.69985818862915, 6.698464870452881, 6.690833568572998, 6.689047813415527, 6.66950798034668, 21.39961051940918, 5.766962051391602, 5.766826152801514, 5.760923862457275, 29.585914611816406, 13.100809097290039, 42.644004821777344, 4.838546276092529, 4.838540554046631, 4.8338189125061035, 69.80327606201172, 25.6531982421875, 50.107234954833984, 492.33746337890625, 11.151662826538086, 28.370018005371094, 29.66832160949707, 43.896461486816406, 255.93609619140625, 227.34103393554688, 15.787425994873047, 21.508588790893555, 71.73664093017578, 37.56436538696289, 191.24217224121094, 175.54824829101562, 62.698429107666016, 20.479848861694336, 44.472076416015625, 113.93224334716797, 169.32762145996094, 100.57254791259766, 120.43463134765625, 170.57730102539062, 119.88788604736328, 92.2803726196289, 63.86112976074219, 153.66531372070312, 96.9786148071289, 258.9669494628906, 264.837890625, 81.95171356201172, 129.9893798828125, 63.789093017578125, 78.8412094116211, 101.73394775390625, 71.40716552734375, 83.7715072631836, 54.300437927246094, 70.14946746826172, 65.5800552368164, 63.84981155395508, 43.84150314331055, 9.597114562988281, 9.597114562988281, 8.72233772277832, 7.882467269897461, 7.864165306091309, 7.024185657501221, 6.166839599609375, 6.16682243347168, 6.16681432723999, 5.312443733215332, 5.310111045837402, 5.307025909423828, 5.303093910217285, 5.301200866699219, 6.7927937507629395, 8.961222648620605, 4.45546293258667, 4.42878532409668, 4.42531681060791, 3.598470449447632, 3.5984699726104736, 3.597081184387207, 3.5969533920288086, 3.5962119102478027, 3.5960628986358643, 3.5958504676818848, 3.5928866863250732, 3.5902132987976074, 3.5903704166412354, 7.736941814422607, 5.638294696807861, 61.32646942138672, 10.138972282409668, 15.519319534301758, 6.167232513427734, 7.021886348724365, 5.3131232261657715, 7.069982051849365, 152.7818145751953, 59.22666549682617, 18.120559692382812, 26.110689163208008, 48.04026412963867, 12.388455390930176, 17.125974655151367, 32.214515686035156, 40.716636657714844, 19.498037338256836, 9.596356391906738, 14.28643798828125, 133.28392028808594, 26.540794372558594, 54.71507263183594, 39.43067932128906, 14.998689651489258, 23.78547477722168, 26.216299057006836, 15.374178886413574, 24.110593795776367, 46.357765197753906, 38.82362747192383, 27.300575256347656, 28.602079391479492, 25.957813262939453, 22.031253814697266, 17.31378936767578, 30.873931884765625, 23.524173736572266, 21.684249877929688, 18.83717918395996, 17.308826446533203, 17.13923454284668, 15.199466705322266, 5.421889305114746, 4.6799139976501465, 4.679913520812988, 4.671546459197998, 4.582959175109863, 3.9262750148773193, 6.949488162994385, 3.171785831451416, 3.170656442642212, 3.1705009937286377, 3.170234441757202, 3.167621612548828, 3.1657745838165283, 3.1646671295166016, 3.0915050506591797, 2.416361093521118, 2.4160335063934326, 2.4156816005706787, 2.415499448776245, 2.4134628772735596, 2.4134585857391357, 2.4132614135742188, 2.41225004196167, 2.412187099456787, 3.016984224319458, 2.4040181636810303, 2.371009349822998, 2.3638412952423096, 11.191960334777832, 8.413886070251465, 5.443233013153076, 7.881799697875977, 22.704381942749023, 8.109175682067871, 7.680986404418945, 3.7506279945373535, 7.320663928985596, 9.024285316467285, 8.082359313964844, 10.048086166381836, 11.385106086730957, 11.359935760498047, 81.67772674560547, 9.843839645385742, 26.52545166015625, 10.123495101928711, 15.77357006072998, 6.958164215087891, 15.108973503112793, 12.032639503479004, 11.885350227355957, 16.469097137451172, 25.0218448638916, 8.984563827514648, 12.864676475524902, 16.366729736328125, 7.489954948425293, 15.87064266204834, 11.232304573059082, 15.248028755187988, 19.753623962402344, 12.288152694702148, 12.910507202148438, 13.138286590576172, 13.134178161621094, 14.963075637817383, 11.18134880065918, 12.123252868652344, 12.307875633239746, 12.319119453430176, 11.96501350402832, 11.705876350402832, 11.550042152404785, 11.336840629577637], \"logprob\": [30.0, 29.0, 28.0, 27.0, 26.0, 25.0, 24.0, 23.0, 22.0, 21.0, 20.0, 19.0, 18.0, 17.0, 16.0, 15.0, 14.0, 13.0, 12.0, 11.0, 10.0, 9.0, 8.0, 7.0, 6.0, 5.0, 4.0, 3.0, 2.0, 1.0, -6.906199932098389, -6.908699989318848, -7.054999828338623, -6.408699989318848, -7.378900051116943, -7.379199981689453, -7.495299816131592, -7.443299770355225, -5.688899993896484, -7.700799942016602, -7.700799942016602, -7.701000213623047, -7.399199962615967, -7.780300140380859, -6.8196001052856445, -7.864699840545654, -7.958499908447266, -7.8719000816345215, -7.959099769592285, -7.7932000160217285, -7.96560001373291, -7.966400146484375, -8.06149959564209, -7.966700077056885, -8.067000389099121, -7.666299819946289, -8.067700386047363, -8.177000045776367, -8.177599906921387, -8.178400039672852, -4.323599815368652, -6.838200092315674, -7.6118998527526855, -7.1072001457214355, -4.157199859619141, -6.892899990081787, -4.793399810791016, -6.558199882507324, -4.5218000411987305, -6.579400062561035, -4.8246002197265625, -6.076000213623047, -5.2494001388549805, -5.458199977874756, -6.073699951171875, -6.339000225067139, -4.832900047302246, -4.656400203704834, -6.441400051116943, -5.4456000328063965, -5.676400184631348, -5.518700122833252, -6.079400062561035, -5.701300144195557, -5.496500015258789, -4.299600124359131, -4.7307000160217285, -4.115099906921387, -5.556399822235107, -4.763700008392334, -5.2657999992370605, -5.027500152587891, -4.389200210571289, -3.9346001148223877, -5.418000221252441, -4.92579984664917, -5.014599800109863, -5.0019001960754395, -5.07390022277832, -4.971799850463867, -5.132800102233887, -5.264599800109863, -5.093400001525879, -4.749499797821045, -5.354800224304199, -5.309800148010254, -5.418900012969971, -6.007599830627441, -5.9567999839782715, -6.591800212860107, -5.863800048828125, -6.946199893951416, -6.99399995803833, -7.098899841308594, -7.098999977111816, -5.786799907684326, -7.278600215911865, -7.279699802398682, -6.963200092315674, -6.275000095367432, -7.4984002113342285, -5.983399868011475, -7.500100135803223, -7.677499771118164, -7.678299903869629, -6.900599956512451, -7.44320011138916, -7.781199932098389, -7.781499862670898, -7.781499862670898, -7.781700134277344, -7.895699977874756, -7.896999835968018, -5.730899810791016, -6.178899765014648, -7.89900016784668, -7.104499816894531, -6.4405999183654785, -5.801000118255615, -5.0640997886657715, -4.053699970245361, -6.370699882507324, -5.997099876403809, -5.619699954986572, -6.660200119018555, -6.388800144195557, -5.5721001625061035, -6.188899993896484, -5.308000087738037, -5.801599979400635, -3.2909998893737793, -5.570899963378906, -5.587600231170654, -6.046899795532227, -3.5476999282836914, -5.446300029754639, -5.333600044250488, -5.604800224304199, -5.260300159454346, -3.916100025177002, -4.499199867248535, -5.563399791717529, -4.664700031280518, -4.109300136566162, -5.518799781799316, -3.661099910736084, -4.472499847412109, -4.757599830627441, -4.945700168609619, -4.830900192260742, -5.029099941253662, -5.5625, -5.098999977111816, -5.4008002281188965, -5.4593000411987305, -5.586900234222412, -5.471700191497803, -5.442299842834473, -6.792399883270264, -6.843900203704834, -7.02400016784668, -6.159299850463867, -7.24459981918335, -4.549699783325195, -7.422800064086914, -7.527299880981445, -7.527400016784668, -7.531700134277344, -7.641200065612793, -7.641600131988525, -7.641900062561035, -6.578499794006348, -7.3628997802734375, -7.771100044250488, -7.771299839019775, -7.77239990234375, -7.77269983291626, -7.775599956512451, -6.609799861907959, -7.921000003814697, -7.92110013961792, -7.922100067138672, -6.285900115966797, -7.100500106811523, -5.920300006866455, -8.096599578857422, -8.096599578857422, -8.09749984741211, -5.427499771118164, -6.428500175476074, -5.758999824523926, -3.4739999771118164, -7.261600017547607, -6.327899932861328, -6.283100128173828, -5.89139986038208, -4.128300189971924, -4.246699810028076, -6.914000034332275, -6.604700088500977, -5.400199890136719, -6.047100067138672, -4.419600009918213, -4.505300045013428, -5.534800052642822, -6.65369987487793, -5.878300189971924, -4.937600135803223, -4.541399955749512, -5.062300205230713, -4.8821001052856445, -4.533999919891357, -4.886600017547607, -5.148399829864502, -5.516499996185303, -4.638400077819824, -5.098700046539307, -4.116499900817871, -4.094099998474121, -5.267099857330322, -4.805699825286865, -5.517600059509277, -5.305799961090088, -5.05079984664917, -5.404799938201904, -5.245100021362305, -5.678699970245361, -5.422599792480469, -5.4899001121521, -5.51669979095459, -4.98360013961792, -6.502699851989746, -6.502699851989746, -6.598199844360352, -6.69950008392334, -6.7017998695373535, -6.814799785614014, -6.944900035858154, -6.945000171661377, -6.945000171661377, -7.094099998474121, -7.0945000648498535, -7.095099925994873, -7.095799922943115, -7.096199989318848, -6.848299980163574, -6.571199893951416, -7.269999980926514, -7.276000022888184, -7.276800155639648, -7.48360013961792, -7.48360013961792, -7.484000205993652, -7.484000205993652, -7.484300136566162, -7.484300136566162, -7.484399795532227, -7.485199928283691, -7.485899925231934, -7.485899925231934, -6.718100070953369, -7.034599781036377, -4.647900104522705, -6.447700023651123, -6.021999835968018, -6.944900035858154, -6.815100193023682, -7.093999862670898, -6.808300018310547, -3.735100030899048, -4.682799816131592, -5.867099761962891, -5.501800060272217, -4.892099857330322, -6.247399806976318, -5.923500061035156, -5.2916998863220215, -5.057499885559082, -5.793799877166748, -6.502799987792969, -6.104800224304199, -3.8717000484466553, -5.485499858856201, -4.76200008392334, -5.089600086212158, -6.05620002746582, -5.595099925994873, -5.497799873352051, -6.031400203704834, -5.581500053405762, -4.927700042724609, -5.105100154876709, -5.457200050354004, -5.410699844360352, -5.507699966430664, -5.6717000007629395, -5.912600040435791, -5.334199905395508, -5.606100082397461, -5.6875, -5.8282999992370605, -5.912899971008301, -5.922800064086914, -5.523900032043457, -6.554699897766113, -6.701900005340576, -6.701900005340576, -6.703700065612793, -6.722799777984619, -6.877500057220459, -6.30649995803833, -7.09089994430542, -7.09119987487793, -7.091300010681152, -7.091400146484375, -7.092199802398682, -7.092800140380859, -7.093100070953369, -7.116499900817871, -7.3628997802734375, -7.36299991607666, -7.3632001876831055, -7.36329984664917, -7.364099979400635, -7.364099979400635, -7.364200115203857, -7.36460018157959, -7.36460018157959, -7.140900135040283, -7.368000030517578, -7.381800174713135, -7.384900093078613, -5.829999923706055, -6.115300178527832, -6.55079984664917, -6.180600166320801, -5.122600078582764, -6.152200222015381, -6.206399917602539, -6.9232001304626465, -6.254499912261963, -6.045199871063232, -6.1554999351501465, -5.93779993057251, -5.812900066375732, -5.815100193023682, -3.842400074005127, -5.9583001136779785, -4.967100143432617, -5.930300235748291, -5.486800193786621, -6.305200099945068, -5.529900074005127, -5.757500171661377, -5.769899845123291, -5.443699836730957, -5.025400161743164, -6.049699783325195, -5.690700054168701, -5.449900150299072, -6.231599807739258, -5.4807000160217285, -5.826399803161621, -5.520699977874756, -5.2617998123168945, -5.736499786376953, -5.687099933624268, -5.669600009918213, -5.669899940490723, -5.539599895477295, -5.830900192260742, -5.75, -5.734899997711182, -5.734000205993652, -5.763199806213379, -5.785099983215332, -5.798500061035156, -5.8171000480651855], \"Category\": [\"Default\", \"Default\", \"Default\", \"Default\", \"Default\", \"Default\", \"Default\", \"Default\", \"Default\", \"Default\", \"Default\", \"Default\", \"Default\", \"Default\", \"Default\", \"Default\", \"Default\", \"Default\", \"Default\", \"Default\", \"Default\", \"Default\", \"Default\", \"Default\", \"Default\", \"Default\", \"Default\", \"Default\", \"Default\", \"Default\", \"Topic1\", \"Topic1\", \"Topic1\", \"Topic1\", \"Topic1\", \"Topic1\", \"Topic1\", \"Topic1\", \"Topic1\", \"Topic1\", \"Topic1\", \"Topic1\", \"Topic1\", \"Topic1\", \"Topic1\", \"Topic1\", \"Topic1\", \"Topic1\", \"Topic1\", \"Topic1\", \"Topic1\", \"Topic1\", \"Topic1\", \"Topic1\", \"Topic1\", \"Topic1\", \"Topic1\", \"Topic1\", \"Topic1\", \"Topic1\", \"Topic1\", \"Topic1\", \"Topic1\", \"Topic1\", \"Topic1\", \"Topic1\", \"Topic1\", \"Topic1\", \"Topic1\", \"Topic1\", \"Topic1\", \"Topic1\", \"Topic1\", \"Topic1\", \"Topic1\", \"Topic1\", \"Topic1\", \"Topic1\", \"Topic1\", \"Topic1\", \"Topic1\", \"Topic1\", \"Topic1\", \"Topic1\", \"Topic1\", \"Topic1\", \"Topic1\", \"Topic1\", \"Topic1\", \"Topic1\", \"Topic1\", \"Topic1\", \"Topic1\", \"Topic1\", \"Topic1\", \"Topic1\", \"Topic1\", \"Topic1\", \"Topic1\", \"Topic1\", \"Topic1\", \"Topic1\", \"Topic1\", \"Topic1\", \"Topic1\", \"Topic1\", \"Topic1\", \"Topic2\", \"Topic2\", \"Topic2\", \"Topic2\", \"Topic2\", \"Topic2\", \"Topic2\", \"Topic2\", \"Topic2\", \"Topic2\", \"Topic2\", \"Topic2\", \"Topic2\", \"Topic2\", \"Topic2\", \"Topic2\", \"Topic2\", \"Topic2\", \"Topic2\", \"Topic2\", \"Topic2\", \"Topic2\", \"Topic2\", \"Topic2\", \"Topic2\", \"Topic2\", \"Topic2\", \"Topic2\", \"Topic2\", \"Topic2\", \"Topic2\", \"Topic2\", \"Topic2\", \"Topic2\", \"Topic2\", \"Topic2\", \"Topic2\", \"Topic2\", \"Topic2\", \"Topic2\", \"Topic2\", \"Topic2\", \"Topic2\", \"Topic2\", \"Topic2\", \"Topic2\", \"Topic2\", \"Topic2\", \"Topic2\", \"Topic2\", \"Topic2\", \"Topic2\", \"Topic2\", \"Topic2\", \"Topic2\", \"Topic2\", \"Topic2\", \"Topic2\", \"Topic2\", \"Topic2\", \"Topic2\", \"Topic2\", \"Topic2\", \"Topic2\", \"Topic2\", \"Topic2\", \"Topic2\", \"Topic2\", \"Topic2\", \"Topic2\", \"Topic2\", \"Topic3\", \"Topic3\", \"Topic3\", \"Topic3\", \"Topic3\", \"Topic3\", \"Topic3\", \"Topic3\", \"Topic3\", \"Topic3\", \"Topic3\", \"Topic3\", \"Topic3\", \"Topic3\", \"Topic3\", \"Topic3\", \"Topic3\", \"Topic3\", \"Topic3\", \"Topic3\", \"Topic3\", \"Topic3\", \"Topic3\", \"Topic3\", \"Topic3\", \"Topic3\", \"Topic3\", \"Topic3\", \"Topic3\", \"Topic3\", \"Topic3\", \"Topic3\", \"Topic3\", \"Topic3\", \"Topic3\", \"Topic3\", \"Topic3\", \"Topic3\", \"Topic3\", \"Topic3\", \"Topic3\", \"Topic3\", \"Topic3\", \"Topic3\", \"Topic3\", \"Topic3\", \"Topic3\", \"Topic3\", \"Topic3\", \"Topic3\", \"Topic3\", \"Topic3\", \"Topic3\", \"Topic3\", \"Topic3\", \"Topic3\", \"Topic3\", \"Topic3\", \"Topic3\", \"Topic3\", \"Topic3\", \"Topic3\", \"Topic3\", \"Topic3\", \"Topic3\", \"Topic3\", \"Topic3\", \"Topic3\", \"Topic3\", \"Topic3\", \"Topic3\", \"Topic3\", \"Topic4\", \"Topic4\", \"Topic4\", \"Topic4\", \"Topic4\", \"Topic4\", \"Topic4\", \"Topic4\", \"Topic4\", \"Topic4\", \"Topic4\", \"Topic4\", \"Topic4\", \"Topic4\", \"Topic4\", \"Topic4\", \"Topic4\", \"Topic4\", \"Topic4\", \"Topic4\", \"Topic4\", \"Topic4\", \"Topic4\", \"Topic4\", \"Topic4\", \"Topic4\", \"Topic4\", \"Topic4\", \"Topic4\", \"Topic4\", \"Topic4\", \"Topic4\", \"Topic4\", \"Topic4\", \"Topic4\", \"Topic4\", \"Topic4\", \"Topic4\", \"Topic4\", \"Topic4\", \"Topic4\", \"Topic4\", \"Topic4\", \"Topic4\", \"Topic4\", \"Topic4\", \"Topic4\", \"Topic4\", \"Topic4\", \"Topic4\", \"Topic4\", \"Topic4\", \"Topic4\", \"Topic4\", \"Topic4\", \"Topic4\", \"Topic4\", \"Topic4\", \"Topic4\", \"Topic4\", \"Topic4\", \"Topic4\", \"Topic4\", \"Topic4\", \"Topic4\", \"Topic4\", \"Topic4\", \"Topic4\", \"Topic4\", \"Topic4\", \"Topic4\", \"Topic4\", \"Topic4\", \"Topic5\", \"Topic5\", \"Topic5\", \"Topic5\", \"Topic5\", \"Topic5\", \"Topic5\", \"Topic5\", \"Topic5\", \"Topic5\", \"Topic5\", \"Topic5\", \"Topic5\", \"Topic5\", \"Topic5\", \"Topic5\", \"Topic5\", \"Topic5\", \"Topic5\", \"Topic5\", \"Topic5\", \"Topic5\", \"Topic5\", \"Topic5\", \"Topic5\", \"Topic5\", \"Topic5\", \"Topic5\", \"Topic5\", \"Topic5\", \"Topic5\", \"Topic5\", \"Topic5\", \"Topic5\", \"Topic5\", \"Topic5\", \"Topic5\", \"Topic5\", \"Topic5\", \"Topic5\", \"Topic5\", \"Topic5\", \"Topic5\", \"Topic5\", \"Topic5\", \"Topic5\", \"Topic5\", \"Topic5\", \"Topic5\", \"Topic5\", \"Topic5\", \"Topic5\", \"Topic5\", \"Topic5\", \"Topic5\", \"Topic5\", \"Topic5\", \"Topic5\", \"Topic5\", \"Topic5\", \"Topic5\", \"Topic5\", \"Topic5\", \"Topic5\", \"Topic5\", \"Topic5\", \"Topic5\", \"Topic5\", \"Topic5\", \"Topic5\", \"Topic5\", \"Topic5\", \"Topic5\", \"Topic5\", \"Topic5\"], \"Total\": [615.0, 385.0, 1557.0, 470.0, 1106.0, 1323.0, 411.0, 178.0, 361.0, 566.0, 423.0, 398.0, 136.0, 89.0, 338.0, 377.0, 831.0, 275.0, 139.0, 139.0, 773.0, 152.0, 340.0, 356.0, 95.0, 277.0, 374.0, 44.0, 492.0, 206.0, 28.5836181640625, 28.579593658447266, 24.755340576171875, 47.65607833862305, 18.07777214050293, 18.076398849487305, 16.167510986328125, 17.109514236450195, 99.196533203125, 13.299978256225586, 13.299976348876953, 13.300224304199219, 18.069074630737305, 12.344405174255371, 32.36919403076172, 11.391080856323242, 10.435468673706055, 11.38176155090332, 10.43372631072998, 12.339814186096191, 10.422609329223633, 10.424020767211914, 9.480829238891602, 10.433207511901855, 9.47465991973877, 14.14729118347168, 9.477394104003906, 8.525208473205566, 8.523406982421875, 8.522119522094727, 423.0278625488281, 33.72178649902344, 15.189149856567383, 25.65926742553711, 566.0205078125, 32.357852935791016, 301.62957763671875, 46.33916091918945, 408.69842529296875, 46.10008239746094, 313.8658142089844, 80.57877349853516, 205.6231231689453, 164.89414978027344, 84.10547637939453, 62.615638732910156, 340.566650390625, 419.2562561035156, 55.99951934814453, 178.11212158203125, 137.85824584960938, 166.62615966796875, 86.09762573242188, 135.5009002685547, 176.3905029296875, 773.607421875, 489.0885925292969, 1106.3931884765625, 174.92579650878906, 492.91754150390625, 257.16943359375, 354.47845458984375, 831.7144165039062, 1557.9085693359375, 211.74195861816406, 419.4523010253906, 374.2840576171875, 398.5728759765625, 377.0210266113281, 461.79254150390625, 377.65606689453125, 315.7325744628906, 553.5010986328125, 1323.33203125, 306.0655212402344, 424.6814270019531, 275.03680419921875, 51.81378173828125, 54.64527130126953, 29.180316925048828, 60.98527526855469, 20.689754486083984, 19.74840545654297, 17.859485626220703, 17.85956573486328, 66.80267333984375, 15.031957626342773, 15.029462814331055, 20.680408477783203, 41.45461654663086, 12.203370094299316, 55.55145263671875, 12.200715065002441, 10.31702709197998, 10.314098358154297, 22.560253143310547, 13.118773460388184, 9.372747421264648, 9.371840476989746, 9.372213363647461, 9.371461868286133, 8.431035995483398, 8.429226875305176, 73.57337951660156, 47.020626068115234, 8.423089981079102, 18.705419540405273, 36.50740051269531, 69.80912017822266, 152.8807830810547, 470.6338806152344, 41.21432876586914, 61.113182067871094, 91.03385925292969, 30.618364334106445, 41.39185333251953, 100.64744567871094, 51.484397888183594, 136.9416961669922, 79.26953125, 1323.33203125, 103.49349975585938, 103.04568481445312, 61.27532958984375, 1106.3931884765625, 123.5012435913086, 141.99000549316406, 104.13126373291016, 158.82424926757812, 831.7144165039062, 424.6814270019531, 113.44699096679688, 356.9963684082031, 773.607421875, 122.08111572265625, 1557.9085693359375, 553.5010986328125, 374.2840576171875, 354.47845458984375, 489.0885925292969, 338.8787841796875, 130.666748046875, 377.65606689453125, 189.69195556640625, 191.60067749023438, 130.85525512695312, 268.1561584472656, 340.566650390625, 18.570404052734375, 17.64055633544922, 14.848065376281738, 35.3256950378418, 12.053707122802734, 178.873046875, 10.194534301757812, 9.261484146118164, 9.261312484741211, 9.256754875183105, 8.33253288269043, 8.332119941711426, 8.331217765808105, 24.171234130859375, 11.130328178405762, 7.402288913726807, 7.401849746704102, 7.400285720825195, 7.399723052978516, 7.400539398193359, 24.009361267089844, 6.4707255363464355, 6.470682144165039, 6.468898773193359, 33.31088638305664, 14.85847282409668, 48.43029022216797, 5.540674686431885, 5.5406718254089355, 5.539188861846924, 81.14645385742188, 29.808645248413086, 58.6782341003418, 615.6904296875, 12.996574401855469, 35.46735763549805, 37.36100387573242, 57.99216079711914, 411.425537109375, 361.5440368652344, 19.033946990966797, 26.901575088500977, 104.36097717285156, 55.53388595581055, 398.5728759765625, 377.0210266113281, 107.10647583007812, 27.506471633911133, 72.58489990234375, 245.92083740234375, 419.4523010253906, 216.26673889160156, 277.75567626953125, 461.79254150390625, 306.0655212402344, 213.54147338867188, 129.06394958496094, 492.91754150390625, 254.89830017089844, 1323.33203125, 1557.9085693359375, 232.4552764892578, 553.5010986328125, 153.07644653320312, 246.00477600097656, 419.2562561035156, 206.1654510498047, 385.6122741699219, 117.499755859375, 356.9963684082031, 315.7325744628906, 268.1561584472656, 44.594669342041016, 10.31418514251709, 10.31418514251709, 9.455410957336426, 8.60013484954834, 8.596551895141602, 7.742842197418213, 6.885684967041016, 6.885686874389648, 6.885685443878174, 6.029362678527832, 6.028757572174072, 6.027958393096924, 6.028349876403809, 6.026841163635254, 7.767657279968262, 10.367438316345215, 5.172375679016113, 5.171629905700684, 5.1727399826049805, 4.315385341644287, 4.315385341644287, 4.315079212188721, 4.314964294433594, 4.314798355102539, 4.314800262451172, 4.314680576324463, 4.31393575668335, 4.312894821166992, 4.3138556480407715, 9.568492889404297, 6.927772045135498, 89.17372131347656, 13.111581802368164, 21.055347442626953, 7.834327220916748, 9.251850128173828, 6.783633708953857, 9.5916109085083, 385.6122741699219, 136.67018127441406, 31.92237091064453, 51.86215591430664, 139.08982849121094, 21.666358947753906, 35.95106887817383, 95.75020599365234, 139.0545196533203, 48.826107025146484, 16.041112899780273, 32.24526596069336, 1557.9085693359375, 94.65914916992188, 338.8787841796875, 206.1654510498047, 35.26120376586914, 86.57280731201172, 116.4168472290039, 40.99545669555664, 121.5863037109375, 566.0205078125, 492.91754150390625, 313.8658142089844, 419.2562561035156, 315.7325744628906, 275.03680419921875, 112.025390625, 1323.33203125, 461.79254150390625, 831.7144165039062, 377.65606689453125, 205.6231231689453, 176.3905029296875, 16.005056381225586, 6.177034378051758, 5.41909122467041, 5.419092178344727, 5.418883800506592, 5.429116249084473, 4.664139270782471, 8.5409574508667, 3.9090256690979004, 3.908763885498047, 3.9087796211242676, 3.908764362335205, 3.908308982849121, 3.908356189727783, 3.90834379196167, 3.9095003604888916, 3.153697967529297, 3.153601884841919, 3.1535329818725586, 3.1535379886627197, 3.1530721187591553, 3.153073310852051, 3.1529388427734375, 3.1528730392456055, 3.1529271602630615, 3.945146083831787, 3.1523349285125732, 3.1621618270874023, 3.163696527481079, 16.05758285522461, 12.722040176391602, 8.833786010742188, 14.089509963989258, 53.81671905517578, 14.84024715423584, 14.09971809387207, 5.6292338371276855, 14.875177383422852, 20.248638153076172, 20.648174285888672, 29.441486358642578, 38.82145690917969, 39.35938262939453, 1557.9085693359375, 36.21419143676758, 275.03680419921875, 40.597869873046875, 100.63529205322266, 19.054798126220703, 95.75020599365234, 60.354251861572266, 61.74452209472656, 139.0545196533203, 411.425537109375, 36.196746826171875, 135.90899658203125, 340.566650390625, 25.34929656982422, 356.9963684082031, 108.73802185058594, 377.65606689453125, 1323.33203125, 191.60067749023438, 277.75567626953125, 315.7325744628906, 361.5440368652344, 831.7144165039062, 156.3265838623047, 385.6122741699219, 492.91754150390625, 553.5010986328125, 489.0885925292969, 423.0278625488281, 461.79254150390625, 338.8787841796875], \"Term\": [\"call\", \"loan\", \"xxxx\", \"report\", \"credit\", \"debt\", \"number\", \"calling\", \"phone\", \"payment\", \"bill\", \"called\", \"well\", \"student\", \"xxxxxxxx\", \"told\", \"account\", \"s\", \"court\", \"u\", \"collection\", \"reporting\", \"service\", \"information\", \"attorney\", \"said\", \"agency\", \"fargo\", \"would\", \"bank\", \"macy\", \"complex\", \"rep\", \"rent\", \"xxxxxxxx14\", \"tree\", \"green\", \"box\", \"apartment\", \"hunter\", \"warfield\", \"store\", \"acct\", \"switched\", \"10000\", \"lendkey\", \"gla\", \"cashed\", \"assist\", \"concerned\", \"credited\", \"2013\", \"lab\", \"fault\", \"rented\", \"remember\", \"130000\", \"apt\", \"contracted\", \"till\", \"bill\", \"equipment\", \"extra\", \"final\", \"payment\", \"lease\", \"month\", \"turned\", \"paid\", \"total\", \"amount\", \"billing\", \"due\", \"balance\", \"xxxxxxxxxxxx\", \"returned\", \"service\", \"pay\", \"arrangement\", \"owed\", \"full\", \"charge\", \"late\", \"check\", \"card\", \"collection\", \"received\", \"credit\", \"still\", \"would\", \"owe\", \"sent\", \"account\", \"xxxx\", \"money\", \"nt\", \"agency\", \"called\", \"told\", \"time\", \"never\", \"year\", \"company\", \"debt\", \"day\", \"letter\", \"s\", \"theft\", \"identity\", \"fcra\", \"violation\", \"validate\", \"delinquency\", \"enhanced\", \"pursuant\", \"alleged\", \"belong\", \"inaccurate\", \"evidence\", \"national\", \"paypal\", \"validation\", \"shared\", \"motorcycle\", \"cpa\", \"deleted\", \"usc\", \"wf\", \"acknowledged\", \"inquiry\", \"american\", \"amex\", \"breach\", \"certified\", \"fdcpa\", \"modem\", \"ftc\", \"knowledge\", \"verification\", \"reporting\", \"report\", \"requesting\", \"communication\", \"disputed\", \"sps\", \"cfpb\", \"request\", \"placed\", \"bureau\", \"inc\", \"debt\", \"creditor\", \"requested\", \"act\", \"credit\", \"removed\", \"complaint\", \"consumer\", \"date\", \"account\", \"letter\", \"dispute\", \"information\", \"collection\", \"reported\", \"xxxx\", \"company\", \"agency\", \"sent\", \"received\", \"xxxxxxxx\", \"original\", \"never\", \"notice\", \"collect\", \"law\", \"also\", \"service\", \"aafes\", \"hang\", \"with\", \"caller\", \"boa\", \"calling\", \"harris\", \"relative\", \"robo\", \"offset\", \"press\", \"language\", \"block\", \"citibank\", \"tone\", \"tuition\", \"blocked\", \"withdrawn\", \"quit\", \"friday\", \"answered\", \"brother\", \"negotiate\", \"treasury\", \"voice\", \"answering\", \"hung\", \"aquired\", \"climb\", \"suspect\", \"message\", \"list\", \"cell\", \"call\", \"soldier\", \"repeatedly\", \"rude\", \"harassing\", \"number\", \"phone\", \"man\", \"daily\", \"stop\", \"answer\", \"called\", \"told\", \"person\", \"lien\", \"asking\", \"get\", \"nt\", \"asked\", \"said\", \"time\", \"day\", \"name\", \"home\", \"would\", \"me\", \"debt\", \"xxxx\", \"back\", \"company\", \"know\", \"could\", \"pay\", \"bank\", \"loan\", \"work\", \"information\", \"year\", \"also\", \"fargo\", \"mae\", \"sallie\", \"grandmother\", \"partner\", \"cellphone\", \"arbitration\", \"j\", \"frederick\", \"hanna\", \"oil\", \"oneal\", \"escrow\", \"establish\", \"penncredit\", \"equity\", \"forbearance\", \"project\", \"arrest\", \"afs\", \"cursed\", \"submittal\", \"3700000\", \"dyke\", \"testimony\", \"successful\", \"dynamic\", \"sc\", \"cleaning\", \"wachovia\", \"attend\", \"clause\", \"student\", \"500\", \"repayment\", \"doc\", \"primary\", \"arkansas\", \"principal\", \"loan\", \"well\", \"son\", \"income\", \"u\", \"garnished\", \"school\", \"attorney\", \"court\", \"tax\", \"carpet\", \"rate\", \"xxxx\", \"legal\", \"xxxxxxxx\", \"bank\", \"additional\", \"interest\", \"help\", \"applied\", \"fee\", \"payment\", \"would\", \"amount\", \"pay\", \"year\", \"s\", \"filed\", \"debt\", \"time\", \"account\", \"never\", \"due\", \"card\", \"father\", \"trustee\", \"mj\", \"elliot\", \"void\", \"ring\", \"dvr\", \"exhibit\", \"test\", \"cacv\", \"tablet\", \"sarma\", \"meridian\", \"unwanted\", \"whoever\", \"eye\", \"meltdown\", \"poa\", \"impacted\", \"paragraph\", \"xxxxcontfin\", \"xxxxconfin\", \"leasing\", \"910000\", \"cbs\", \"rescission\", \"girlfriend\", \"800000\", \"xxxx2011\", \"identification\", \"mom\", \"instrument\", \"medicare\", \"bankruptcy\", \"power\", \"credence\", \"sir\", \"chapter\", \"doctor\", \"covered\", \"individual\", \"paper\", \"mother\", \"xxxx\", \"mean\", \"s\", \"discharged\", \"see\", \"free\", \"attorney\", \"note\", \"personal\", \"court\", \"number\", \"statute\", \"trying\", \"service\", \"daughter\", \"information\", \"new\", \"never\", \"debt\", \"collect\", \"said\", \"year\", \"phone\", \"account\", \"contact\", \"loan\", \"would\", \"company\", \"received\", \"bill\", \"time\", \"xxxxxxxx\"], \"loglift\": [30.0, 29.0, 28.0, 27.0, 26.0, 25.0, 24.0, 23.0, 22.0, 21.0, 20.0, 19.0, 18.0, 17.0, 16.0, 15.0, 14.0, 13.0, 12.0, 11.0, 10.0, 9.0, 8.0, 7.0, 6.0, 5.0, 4.0, 3.0, 2.0, 1.0, 0.9621999859809875, 0.9598000049591064, 0.9571999907493591, 0.9484999775886536, 0.9476000070571899, 0.9474999904632568, 0.9429000020027161, 0.9383000135421753, 0.9351999759674072, 0.932699978351593, 0.932699978351593, 0.9325000047683716, 0.9277999997138977, 0.9276999831199646, 0.9244999885559082, 0.9236999750137329, 0.9175000190734863, 0.9172999858856201, 0.9171000123023987, 0.9151999950408936, 0.9115999937057495, 0.9107000231742859, 0.9104999899864197, 0.909600019454956, 0.9056000113487244, 0.9053999781608582, 0.9046000242233276, 0.901199996471405, 0.9007999897003174, 0.9000999927520752, 0.8501999974250793, 0.8648999929428101, 0.888700008392334, 0.8690999746322632, 0.7253999710083008, 0.8514999747276306, 0.7185999751091003, 0.8270999789237976, 0.6865000128746033, 0.8109999895095825, 0.6477000117301941, 0.7559999823570251, 0.645799994468689, 0.6577000021934509, 0.715399980545044, 0.745199978351593, 0.557699978351593, 0.5263000130653381, 0.7544999718666077, 0.5932999849319458, 0.6186000108718872, 0.5867999792098999, 0.6863999962806702, 0.6108999848365784, 0.5519999861717224, 0.27059999108314514, 0.29789999127388, 0.09730000048875809, 0.5005000233650208, 0.2572000026702881, 0.4056999981403351, 0.3230000138282776, 0.10849999636411667, -0.06440000236034393, 0.4478999972343445, 0.2563999891281128, 0.2815999984741211, 0.2313999980688095, 0.2151000052690506, 0.11429999768733978, 0.15440000593662262, 0.20170000195503235, -0.188400000333786, -0.7161999940872192, 0.14259999990463257, -0.14000000059604645, 0.18539999425411224, 1.2660000324249268, 1.2634999752044678, 1.25600004196167, 1.2467999458312988, 1.2453999519348145, 1.2440999746322632, 1.239799976348877, 1.2396999597549438, 1.232699990272522, 1.2324999570846558, 1.2315000295639038, 1.2288999557495117, 1.22160005569458, 1.2211999893188477, 1.2204999923706055, 1.2196999788284302, 1.2100000381469727, 1.2094000577926636, 1.2043999433517456, 1.2039999961853027, 1.2022000551223755, 1.2021000385284424, 1.2020000219345093, 1.2019000053405762, 1.193600058555603, 1.1924999952316284, 1.1921000480651855, 1.1916999816894531, 1.1913000345230103, 1.1878999471664429, 1.1830999851226807, 1.174399971961975, 1.127500057220459, 1.0134999752044678, 1.131700038909912, 1.1114000082015991, 1.0902999639511108, 1.1394000053405762, 1.1093000173568726, 1.037500023841858, 1.0910999774932861, 0.9937000274658203, 1.0468000173568726, 0.7422999739646912, 1.0108000040054321, 0.9984999895095825, 1.059000015258789, 0.6646999716758728, 0.9585999846458435, 0.9319000244140625, 0.9707000255584717, 0.8931999802589417, 0.58160001039505, 0.6705999970436096, 0.9265000224113464, 0.6787999868392944, 0.4609000086784363, 0.8977000117301941, 0.20900000631809235, 0.4325000047683716, 0.5386000275611877, 0.4049000144004822, 0.19769999384880066, 0.36649999022483826, 0.7860000133514404, 0.1881999969482422, 0.574999988079071, 0.5065000057220459, 0.760200023651123, 0.15790000557899475, -0.05169999971985817, 1.507200002670288, 1.507099986076355, 1.499400019645691, 1.4973000288009644, 1.4873000383377075, 1.4847999811172485, 1.4766000509262085, 1.4680999517440796, 1.467900037765503, 1.4642000198364258, 1.4598000049591064, 1.4594999551773071, 1.4593000411987305, 1.4574999809265137, 1.448699951171875, 1.4483000040054321, 1.448199987411499, 1.4472999572753906, 1.447100043296814, 1.444000005722046, 1.4329999685287476, 1.4328999519348145, 1.4328999519348145, 1.4321000576019287, 1.4293999671936035, 1.4220999479293823, 1.420799970626831, 1.412500023841858, 1.412500023841858, 1.4118000268936157, 1.3975000381469727, 1.3978999853134155, 1.3901000022888184, 1.3244999647140503, 1.3948999643325806, 1.3248000144958496, 1.3174999952316284, 1.2696000337600708, 1.0733000040054321, 1.0841000080108643, 1.3609999418258667, 1.3243000507354736, 1.173200011253357, 1.157099962234497, 0.8137000203132629, 0.7835999727249146, 1.0125000476837158, 1.253100037574768, 1.0580999851226807, 0.7785999774932861, 0.6409000158309937, 0.7824000120162964, 0.7124000191688538, 0.5521000027656555, 0.61080002784729, 0.7089999914169312, 0.8443999886512756, 0.3824999928474426, 0.5817000269889832, -0.08320000022649765, -0.22390000522136688, 0.5055000185966492, 0.09920000284910202, 0.6726999878883362, 0.4101000130176544, 0.13189999759197235, 0.4878000020980835, 0.021299999207258224, 0.7760999798774719, -0.07909999787807465, -0.023600000888109207, 0.11299999803304672, 2.4400999546051025, 2.384999990463257, 2.384999990463257, 2.3763999938964844, 2.369999885559082, 2.368000030517578, 2.3596999645233154, 2.3468000888824463, 2.3468000888824463, 2.3468000888824463, 2.3304998874664307, 2.330199956893921, 2.329699993133545, 2.328900098800659, 2.3287999629974365, 2.322999954223633, 2.311300039291382, 2.3078999519348145, 2.302000045776367, 2.3010001182556152, 2.275399923324585, 2.275399923324585, 2.275099992752075, 2.275099992752075, 2.274899959564209, 2.274899959564209, 2.2748000621795654, 2.274199962615967, 2.273699998855591, 2.2734999656677246, 2.2446000576019287, 2.2511000633239746, 2.08270001411438, 2.200000047683716, 2.1519999504089355, 2.2177999019622803, 2.181299924850464, 2.2128000259399414, 2.152100086212158, 1.5312999486923218, 1.62090003490448, 1.8907999992370605, 1.770799994468689, 1.3940000534057617, 1.8981000185012817, 1.715499997138977, 1.367799997329712, 1.2288999557495117, 1.5391000509262085, 1.9433000087738037, 1.6430000066757202, -0.001500000013038516, 1.1855000257492065, 0.6335999965667725, 0.8029999732971191, 1.6023000478744507, 1.1651999950408936, 0.9663000106811523, 1.4763000011444092, 0.8391000032424927, -0.04520000144839287, -0.08420000225305557, 0.014999999664723873, -0.22789999842643738, -0.04129999876022339, -0.0674000009894371, 0.589900016784668, -1.3008999824523926, -0.5199999809265137, -1.1898000240325928, -0.541100025177002, -0.01769999973475933, 0.1257999986410141, 2.9244000911712646, 2.8457000255584717, 2.829400062561035, 2.829400062561035, 2.827699899673462, 2.8066000938415527, 2.803800106048584, 2.76990008354187, 2.7671000957489014, 2.7667999267578125, 2.766700029373169, 2.7665998935699463, 2.765899896621704, 2.7653000354766846, 2.765000104904175, 2.741300106048584, 2.709700107574463, 2.7095999717712402, 2.7095000743865967, 2.709399938583374, 2.708699941635132, 2.708699941635132, 2.708699941635132, 2.7083001136779785, 2.7083001136779785, 2.7077999114990234, 2.7051000595092773, 2.6881000995635986, 2.6846001148223877, 2.6150999069213867, 2.5625998973846436, 2.49180006980896, 2.39520001411438, 2.11299991607666, 2.3717000484466553, 2.3687000274658203, 2.569999933242798, 2.2671000957489014, 2.1679000854492188, 2.038100004196167, 1.9010000228881836, 1.749400019645691, 1.7333999872207642, 0.027699999511241913, 1.6734999418258667, 0.6373000144958496, 1.5872000455856323, 1.1229000091552734, 1.9687000513076782, 1.1296000480651855, 1.3634999990463257, 1.3284000158309937, 0.8427000045776367, 0.1762000024318695, 1.5825999975204468, 0.6186000108718872, -0.059300001710653305, 1.7568999528884888, -0.1371999979019165, 0.7059000134468079, -0.23350000381469727, -1.2285000085830688, 0.22930000722408295, -0.09260000288486481, -0.20329999923706055, -0.3391000032424927, -1.0418000221252441, 0.3384000062942505, -0.483599990606308, -0.7139999866485596, -0.8291000127792358, -0.734499990940094, -0.611299991607666, -0.7124000191688538, -0.42149999737739563]}, \"R\": 30, \"token.table\": {\"Freq\": [0.926807165145874, 0.03089357167482376, 0.9496281147003174, 0.9593227505683899, 0.9269818067550659, 0.15253689885139465, 0.7626844644546509, 0.6324787139892578, 0.6343420743942261, 0.9692842364311218, 0.4160081744194031, 0.49776700139045715, 0.043284088373184204, 0.026451386511325836, 0.0180350374430418, 0.9408339858055115, 0.055343177169561386, 0.9603236317634583, 0.06527912616729736, 0.7996693253517151, 0.01631978154182434, 0.09791868925094604, 0.03263956308364868, 0.14179889857769012, 0.34031736850738525, 0.08507934212684631, 0.42539671063423157, 0.7732845544815063, 0.4942770004272461, 0.4755746126174927, 0.024045908823609352, 0.005343534983694553, 0.014969460666179657, 0.958045482635498, 0.014969460666179657, 0.014969460666179657, 0.38037538528442383, 0.32443782687187195, 0.23866690695285797, 0.04102087393403053, 0.011187511496245861, 0.960362434387207, 0.9488750696182251, 0.7136808037757874, 0.14974552392959595, 0.0509772002696991, 0.08602402359247208, 0.23409131169319153, 0.6842669248580933, 0.07202809303998947, 0.018007023259997368, 0.04165042191743851, 0.8746588230133057, 0.04165042191743851, 0.0673016682267189, 0.8749216794967651, 0.9476137757301331, 0.04032399132847786, 0.010080997832119465, 0.3902871608734131, 0.1463576853275299, 0.09757179021835327, 0.3658941984176636, 0.9383934736251831, 0.9024171829223633, 0.9040607810020447, 0.7370681166648865, 0.14741362631320953, 0.7857210040092468, 0.07142918556928635, 0.12500107288360596, 0.017857296392321587, 0.7734505534172058, 0.44389626383781433, 0.023119598627090454, 0.4670158624649048, 0.06473487615585327, 0.23420849442481995, 0.11021576076745987, 0.6061866879463196, 0.027553940191864967, 0.9584303498268127, 0.10450966656208038, 0.8360773324966431, 0.16710147261619568, 0.13576994836330414, 0.19843299686908722, 0.33420294523239136, 0.1566576212644577, 0.4086807668209076, 0.15056659281253815, 0.3527560234069824, 0.047320932149887085, 0.0387171246111393, 0.7216750979423523, 0.1758704036474228, 0.0303224828094244, 0.06670945882797241, 0.012128992937505245, 0.17946751415729523, 0.2716265022754669, 0.3443835973739624, 0.18916845321655273, 0.014551419764757156, 0.03716317191720009, 0.278723806142807, 0.11148951947689056, 0.14865268766880035, 0.42737647891044617, 0.9313490986824036, 0.8722829818725586, 0.05436994135379791, 0.04491429775953293, 0.028366925194859505, 0.7942538261413574, 0.18615324795246124, 0.01241021603345871, 0.9602437615394592, 0.9457095265388489, 0.9125823378562927, 0.9351522326469421, 0.9490787386894226, 0.9272530674934387, 0.2117689549922943, 0.7521449327468872, 0.02920951135456562, 0.007302377838641405, 0.7675060629844666, 0.1932789534330368, 0.7991029024124146, 0.004872578661888838, 0.46917393803596497, 0.03763427212834358, 0.4792097210884094, 0.010035805404186249, 0.02830800600349903, 0.9624722003936768, 0.055905573070049286, 0.9392136335372925, 0.6462932825088501, 0.14173099398612976, 0.07936935126781464, 0.09637706726789474, 0.034015435725450516, 0.3740388751029968, 0.6233981251716614, 0.9664584994316101, 0.6343311667442322, 0.1192946583032608, 0.8521047234535217, 0.017042094841599464, 0.9306056499481201, 0.08155123889446259, 0.9106554388999939, 0.09663737565279007, 0.8455770015716553, 0.048318687826395035, 0.024159343913197517, 0.33613044023513794, 0.13445217907428741, 0.47058263421058655, 0.6721633672714233, 0.28206855058670044, 0.012002917006611824, 0.03600875288248062, 0.6863422989845276, 0.10332034528255463, 0.1254604160785675, 0.07380025088787079, 0.007380024995654821, 0.08274298161268234, 0.9101728200912476, 0.14434655010700226, 0.8660793304443359, 0.9274513125419617, 0.9024176597595215, 0.3235896825790405, 0.4592885673046112, 0.09394539147615433, 0.0574110709130764, 0.06263025850057602, 0.48861992359161377, 0.440792053937912, 0.06075432896614075, 0.0077558718621730804, 0.0025852906983345747, 0.09817849099636078, 0.8508802652359009, 0.032726164907217026, 0.032726164907217026, 0.3089424669742584, 0.4281834363937378, 0.23486855626106262, 0.005420043598860502, 0.02168017439544201, 0.12676948308944702, 0.7042748928070068, 0.08451299369335175, 0.07747024297714233, 0.00704274931922555, 0.9797199964523315, 0.8914234638214111, 0.14404895901679993, 0.7298480272293091, 0.06722284853458405, 0.048016320914030075, 0.009603263810276985, 0.39660561084747314, 0.23028713464736938, 0.2686683237552643, 0.031984321773052216, 0.07036551088094711, 0.9385918378829956, 0.42275601625442505, 0.17885830998420715, 0.32113197445869446, 0.040649618953466415, 0.036584656685590744, 0.208551287651062, 0.24450841546058655, 0.13663706183433533, 0.29484838247299194, 0.11506278067827225, 0.3874434530735016, 0.0484304316341877, 0.1452912986278534, 0.3874434530735016, 0.9695466756820679, 0.42554041743278503, 0.5673872232437134, 0.41034236550331116, 0.5404950380325317, 0.03886502608656883, 0.0027115135453641415, 0.007230702321976423, 0.9594526290893555, 0.21257373690605164, 0.7633329629898071, 0.019324885681271553, 0.9269160628318787, 0.03717254474759102, 0.11151763051748276, 0.817795991897583, 0.03717254474759102, 0.27073952555656433, 0.679996907711029, 0.0377776063978672, 0.012592535465955734, 0.23669296503067017, 0.43393710255622864, 0.27614179253578186, 0.4312801957130432, 0.10455277562141418, 0.3920729160308838, 0.05227638781070709, 0.022870920598506927, 0.1821160465478897, 0.5841315388679504, 0.19571807980537415, 0.023425715044140816, 0.015113364905118942, 0.9308406114578247, 0.04432574287056923, 0.962103009223938, 0.29558199644088745, 0.3448456823825836, 0.09852733463048935, 0.24631834030151367, 0.2732553780078888, 0.7051751613616943, 0.026444068178534508, 0.09886431694030762, 0.8238692879676819, 0.06590954214334488, 0.1276433765888214, 0.7658602595329285, 0.1975441426038742, 0.2963162362575531, 0.04938603565096855, 0.44447433948516846, 0.7100368738174438, 0.18966738879680634, 0.009726532734930515, 0.0826755240559578, 0.8576073050498962, 0.9270064830780029, 0.9270674586296082, 0.9226637482643127, 0.9518750905990601, 0.8896325826644897, 0.02965441904962063, 0.05930883809924126, 0.9011726379394531, 0.8294682502746582, 0.8294143676757812, 0.9670988917350769, 0.11708289384841919, 0.8195802569389343, 0.9217105507850647, 0.06583646684885025, 0.7673614621162415, 0.9866650104522705, 0.9372038245201111, 0.9584780335426331, 0.9595509171485901, 0.04253452643752098, 0.9144923090934753, 0.02126726321876049, 0.5263750553131104, 0.22206448018550873, 0.00822461023926735, 0.19739066064357758, 0.041123051196336746, 0.19638405740261078, 0.5445194244384766, 0.05355928838253021, 0.151751309633255, 0.05355928838253021, 0.8963623046875, 0.0779445469379425, 0.09645584225654602, 0.8681026101112366, 0.8713727593421936, 0.36736154556274414, 0.10496044158935547, 0.10496044158935547, 0.36736154556274414, 0.9458770155906677, 0.908827543258667, 0.053460441529750824, 0.6891136765480042, 0.21036100387573242, 0.043522968888282776, 0.043522968888282776, 0.0072538279928267, 0.27692702412605286, 0.04615450277924538, 0.5538540482521057, 0.13846351206302643, 0.43509936332702637, 0.048796191811561584, 0.46356379985809326, 0.03253079205751419, 0.020331745967268944, 0.634450376033783, 0.9582703113555908, 0.9518359303474426, 0.9277865886688232, 0.9636884331703186, 0.8713729381561279, 0.22416822612285614, 0.017243709415197372, 0.758723258972168, 0.882826030254364, 0.43808093667030334, 0.008589821867644787, 0.30064377188682556, 0.2233353704214096, 0.03435928747057915, 0.43389344215393066, 0.01549619436264038, 0.4958782196044922, 0.03874048590660095, 0.01549619436264038, 0.10324117541313171, 0.8878740668296814, 0.020648235455155373, 0.9774451851844788, 0.24910350143909454, 0.6850346326828003, 0.9881916642189026, 0.6342093348503113, 0.9315037131309509, 0.037845563143491745, 0.7947568297386169, 0.11353668570518494, 0.025230374187231064, 0.025230374187231064, 0.21210071444511414, 0.25066447257995605, 0.5013289451599121, 0.019281882792711258, 0.20379406213760376, 0.03396567702293396, 0.4415538012981415, 0.3396567702293396, 0.20448386669158936, 0.5490251779556274, 0.19608043134212494, 0.008403446525335312, 0.04481838271021843, 0.9602854251861572, 0.11320174485445023, 0.22640348970890045, 0.5660087466239929, 0.43893688917160034, 0.18481554090976715, 0.10395874083042145, 0.2772233188152313, 0.8713729977607727, 0.43768981099128723, 0.11758830398321152, 0.418091744184494, 0.01959805004298687, 0.006532683502882719, 0.0273917056620121, 0.9039263129234314, 0.0273917056620121, 0.0273917056620121, 0.9492840766906738, 0.960139811038971, 0.7433422207832336, 0.12776194512844086, 0.10453250259160995, 0.011614722199738026, 0.011614722199738026, 0.06877828389406204, 0.5960784554481506, 0.2139768898487091, 0.06113625317811966, 0.06113625317811966, 0.8653231859207153, 0.12361759692430496, 0.6343288421630859, 0.08451375365257263, 0.3486192226409912, 0.2641054689884186, 0.28523391485214233, 0.021128438413143158, 0.9656677842140198, 0.3249494731426239, 0.5439371466636658, 0.09183353930711746, 0.03767529875040054, 0.002354706171900034, 0.18177540600299835, 0.7271016240119934, 0.07271016389131546, 0.06709463149309158, 0.03354731574654579, 0.8722301721572876, 0.2956337332725525, 0.0596454031765461, 0.21783539652824402, 0.3967716097831726, 0.031119341030716896, 0.9795820713043213, 0.9695385098457336, 0.8406033515930176, 0.0525377094745636, 0.1050754189491272, 0.3452357351779938, 0.18438726663589478, 0.38054391741752625, 0.05884699895977974, 0.027461932972073555, 0.3313618004322052, 0.19329439103603363, 0.19329439103603363, 0.027613483369350433, 0.2761348485946655, 0.21292436122894287, 0.1419495791196823, 0.5677983164787292, 0.6341761350631714, 0.7675954103469849, 0.12323397397994995, 0.8626378178596497, 0.9226639270782471, 0.9497702121734619, 0.07860374450683594, 0.2358112335205078, 0.6288299560546875, 0.580895721912384, 0.12279096990823746, 0.20307737588882446, 0.07556366920471191, 0.014168188907206059, 0.7658399939537048, 0.04641454666852951, 0.13924363255500793, 0.04972987249493599, 0.22866211831569672, 0.45732423663139343, 0.02540690265595913, 0.2794759273529053, 0.9692714810371399, 0.21541482210159302, 0.3184393048286438, 0.43082964420318604, 0.032780516892671585, 0.04824553057551384, 0.9407878518104553, 0.9272592663764954, 0.4342575669288635, 0.3362848162651062, 0.14033932983875275, 0.050310324877500534, 0.03971868008375168, 0.5517849326133728, 0.17473189532756805, 0.1379462331533432, 0.02758924476802349, 0.10116057097911835, 0.28167030215263367, 0.1656884104013443, 0.19882608950138092, 0.13255073130130768, 0.19882608950138092, 0.442823201417923, 0.4955402612686157, 0.01054340973496437, 0.02108681946992874, 0.03163022920489311, 0.48158037662506104, 0.0905943289399147, 0.4029063582420349, 0.016688428819179535, 0.007152183912694454, 0.1677095741033554, 0.13611210882663727, 0.6222268342971802, 0.012152867391705513, 0.060764338821172714, 0.972262978553772, 0.8292750716209412, 0.8293582797050476, 0.24489781260490417, 0.6122445464134216, 0.015306113287806511, 0.06887751072645187, 0.053571395576000214, 0.5599421262741089, 0.2177552729845047, 0.1710934340953827, 0.04666184261441231, 0.0038884871173650026, 0.6737329363822937, 0.24142096936702728, 0.033686645328998566, 0.016843322664499283, 0.028072204440832138, 0.7413779497146606, 0.14925430715084076, 0.06361658871173859, 0.03914866968989372, 0.004893583711236715, 0.25758951902389526, 0.10303580015897751, 0.12879475951194763, 0.20607160031795502, 0.2833484709262848, 0.6342083215713501, 0.930217981338501, 0.6296864748001099, 0.045318346470594406, 0.24328796565532684, 0.06917010992765427, 0.014311056584119797, 0.7702901363372803, 0.061835214495658875, 0.08656930178403854, 0.08126913756132126, 0.9833348989486694, 0.8296219706535339, 0.18673007190227509, 0.12137454748153687, 0.5881997346878052, 0.009336503222584724, 0.09336503595113754, 0.16195768117904663, 0.16195768117904663, 0.453481525182724, 0.016195768490433693, 0.1943492293357849, 0.26829373836517334, 0.058084212243556976, 0.6278626322746277, 0.008297744207084179, 0.03595689311623573, 0.11654016375541687, 0.8352044820785522, 0.03884672001004219, 0.6341954469680786, 0.3369216024875641, 0.06738432496786118, 0.06738432496786118, 0.5390745997428894, 0.9600922465324402, 0.7566054463386536, 0.2161729782819748, 0.20851555466651917, 0.7298043966293335, 0.773339033126831, 0.951870858669281, 0.9459813237190247, 0.4961968660354614, 0.43417227268218994, 0.06202460825443268, 0.5029763579368591, 0.339406818151474, 0.12063254415988922, 0.014312335290014744, 0.02453543245792389, 0.971766471862793, 0.9189038276672363, 0.07068490982055664, 0.20242710411548615, 0.7287375926971436, 0.04858250543475151, 0.016194168478250504, 0.9652493596076965, 0.020983682945370674, 0.9499021768569946, 0.9694877862930298, 0.14248162508010864, 0.09498774260282516, 0.04749387130141258, 0.7599019408226013, 0.16916963458061218, 0.7894582748413086, 0.2039802074432373, 0.7649257779121399, 0.029747115448117256, 0.3112684488296509, 0.6798758506774902, 0.11119775474071503, 0.8568768501281738, 0.03270522132515907, 0.05961403250694275, 0.7849180698394775, 0.03974268585443497, 0.1192280650138855, 0.2426108419895172, 0.756945788860321, 0.024263406172394753, 0.8734826445579529, 0.048526812344789505, 0.048526812344789505, 0.7604281306266785, 0.7825521230697632, 0.01597045175731182, 0.19164541363716125, 0.9209601879119873, 0.9717845320701599, 0.18736113607883453, 0.8029763102531433, 0.4472128748893738, 0.19633735716342926, 0.1781579703092575, 0.07998929172754288, 0.09816867858171463, 0.43203437328338623, 0.05400429666042328, 0.43203437328338623, 0.03240257874131203, 0.04680372402071953, 0.9695385098457336, 0.7675060033798218, 0.9272275567054749, 0.2503402531147003, 0.02781558409333229, 0.2503402531147003, 0.47286492586135864, 0.4570960998535156, 0.2484218031167984, 0.07949497550725937, 0.05962122976779938, 0.15898995101451874, 0.5134303569793701, 0.4175148010253906, 0.01974732056260109, 0.03667359799146652, 0.011284183710813522, 0.6518547534942627, 0.2642654478549957, 0.026426544412970543, 0.011745131574571133, 0.04698052629828453, 0.9015864729881287, 0.17764407396316528, 0.7105762958526611, 0.07694335281848907, 0.846376895904541, 0.4072379171848297, 0.5638678669929504, 0.881823718547821, 0.09798040986061096, 0.03266013786196709, 0.6906697750091553, 0.05525358393788338, 0.24864113330841064, 0.6174046397209167, 0.23438510298728943, 0.045733679085969925, 0.06860051304101944, 0.03430025652050972, 0.13414976000785828, 0.153314009308815, 0.6899130344390869, 0.009582125581800938, 0.019164251163601875, 0.9774271249771118, 0.21306724846363068, 0.10092659294605255, 0.6840580105781555, 0.9269160628318787, 0.92704176902771, 0.9026592373847961, 0.9721003174781799, 0.7675029635429382, 0.22528931498527527, 0.3686552345752716, 0.38913607597351074, 0.7674546837806702, 0.9270421862602234, 0.9842941164970398, 0.9387335777282715, 0.4179365932941437, 0.13642489910125732, 0.3702961504459381, 0.05197139084339142, 0.02598569542169571, 0.4615127146244049, 0.05304744094610214, 0.4668174684047699, 0.013261860236525536, 0.005304744001477957, 0.08984460681676865, 0.8984460830688477, 0.845985472202301, 0.043383870273828506, 0.10845967382192612, 0.927514910697937, 0.9404528141021729, 0.8094499111175537, 0.40468254685401917, 0.09565223753452301, 0.2869567275047302, 0.11772583425045013, 0.09565223753452301, 0.9456534385681152, 0.8416207432746887, 0.06474006175994873, 0.06474006175994873, 0.1941191554069519, 0.10065437853336334, 0.33072152733802795, 0.3451007306575775, 0.028758393600583076, 0.7675861120223999, 0.9147196412086487, 0.9666620492935181, 0.936069130897522, 0.054003987461328506, 0.0859486535191536, 0.9024608731269836, 0.9674466252326965, 0.016397401690483093, 0.016397401690483093, 0.0300202164798975, 0.060040432959795, 0.9006064534187317, 0.0300202164798975, 0.9226992726325989, 0.9272447228431702, 0.9774453639984131, 0.22682343423366547, 0.2560909688472748, 0.07316885143518448, 0.43169620633125305, 0.9602307081222534, 0.7675885558128357, 0.9428837895393372, 0.9459094405174255, 0.38297951221466064, 0.4595754146575928, 0.13617049157619476, 0.017021311447024345, 0.4828393757343292, 0.10346557945013046, 0.31242549419403076, 0.07912074029445648, 0.02434484288096428, 0.34918609261512756, 0.34276723861694336, 0.17009983956813812, 0.08537086099386215, 0.05263466760516167, 0.6321718692779541, 0.6343017816543579, 0.634302020072937, 0.33050164580345154, 0.40132343769073486, 0.07377269119024277, 0.16229991614818573, 0.032459985464811325, 0.9403813481330872, 0.7609492540359497, 0.15456782281398773, 0.07133899629116058, 0.45608216524124146, 0.21220490336418152, 0.2090376615524292, 0.08234816789627075, 0.041174083948135376], \"Topic\": [1, 3, 1, 1, 4, 1, 4, 5, 5, 3, 1, 2, 3, 4, 5, 1, 2, 2, 1, 2, 3, 4, 5, 1, 2, 3, 4, 4, 1, 2, 3, 5, 1, 2, 3, 4, 1, 2, 3, 4, 5, 2, 2, 1, 2, 3, 4, 1, 3, 4, 5, 2, 3, 5, 2, 3, 1, 2, 3, 1, 2, 3, 4, 1, 3, 4, 4, 5, 1, 2, 3, 4, 4, 1, 2, 3, 4, 1, 2, 3, 5, 1, 1, 4, 1, 2, 3, 4, 5, 1, 2, 3, 4, 5, 1, 2, 3, 4, 5, 1, 2, 3, 4, 5, 1, 2, 3, 4, 5, 2, 1, 2, 3, 5, 1, 2, 5, 3, 3, 3, 1, 2, 3, 1, 2, 3, 4, 5, 1, 3, 5, 1, 2, 3, 5, 1, 3, 1, 3, 1, 2, 3, 4, 5, 1, 4, 1, 5, 1, 3, 4, 4, 1, 2, 1, 2, 3, 4, 3, 4, 5, 1, 2, 4, 5, 1, 2, 3, 4, 5, 2, 3, 3, 4, 4, 3, 1, 2, 3, 4, 5, 1, 2, 3, 4, 5, 1, 2, 3, 4, 1, 2, 3, 4, 5, 1, 2, 3, 4, 5, 1, 1, 1, 2, 3, 4, 5, 1, 2, 3, 4, 5, 1, 1, 2, 3, 4, 5, 1, 2, 3, 4, 5, 1, 2, 3, 5, 2, 2, 5, 1, 2, 3, 4, 5, 1, 1, 2, 5, 4, 1, 2, 3, 4, 1, 2, 4, 5, 1, 4, 5, 1, 2, 3, 4, 5, 1, 2, 3, 4, 5, 2, 3, 2, 1, 2, 4, 5, 1, 2, 3, 1, 2, 5, 1, 4, 1, 3, 4, 5, 1, 2, 3, 4, 5, 4, 4, 5, 2, 1, 3, 5, 4, 4, 4, 2, 4, 5, 1, 3, 5, 4, 5, 1, 2, 1, 2, 4, 1, 2, 3, 4, 5, 1, 2, 3, 4, 5, 1, 3, 3, 4, 4, 1, 2, 3, 5, 3, 2, 4, 1, 2, 3, 4, 5, 1, 3, 4, 5, 1, 2, 3, 4, 5, 5, 1, 4, 1, 3, 4, 1, 2, 3, 3, 1, 2, 3, 4, 5, 1, 2, 3, 4, 5, 1, 3, 4, 1, 2, 5, 2, 5, 2, 1, 2, 3, 4, 5, 1, 3, 4, 5, 1, 2, 3, 5, 1, 2, 3, 4, 5, 2, 1, 4, 5, 1, 2, 3, 4, 4, 1, 2, 3, 4, 5, 1, 2, 4, 5, 1, 3, 1, 2, 3, 4, 5, 1, 2, 3, 4, 5, 1, 2, 5, 1, 2, 3, 4, 5, 1, 1, 2, 3, 4, 5, 2, 3, 5, 1, 2, 3, 1, 2, 3, 4, 5, 1, 4, 3, 4, 5, 1, 2, 3, 4, 5, 1, 2, 3, 4, 5, 1, 2, 5, 5, 5, 1, 3, 5, 2, 3, 4, 5, 1, 2, 3, 4, 5, 1, 2, 3, 4, 1, 3, 4, 5, 2, 1, 2, 3, 5, 1, 2, 3, 1, 2, 3, 4, 5, 1, 2, 3, 4, 5, 1, 2, 3, 4, 5, 1, 2, 3, 4, 5, 1, 2, 3, 4, 5, 1, 2, 3, 4, 5, 3, 4, 4, 1, 2, 3, 4, 5, 1, 2, 3, 4, 5, 1, 2, 3, 4, 5, 1, 2, 3, 4, 5, 1, 2, 3, 4, 5, 5, 4, 1, 2, 3, 4, 5, 1, 2, 3, 4, 2, 4, 1, 2, 3, 4, 5, 1, 2, 3, 4, 5, 1, 2, 3, 4, 5, 1, 2, 5, 5, 2, 3, 4, 5, 3, 4, 5, 3, 4, 4, 2, 3, 1, 4, 5, 1, 2, 3, 4, 5, 3, 1, 5, 1, 2, 3, 4, 1, 3, 1, 1, 1, 2, 3, 4, 1, 3, 1, 2, 3, 1, 2, 1, 2, 3, 1, 2, 3, 4, 1, 2, 1, 2, 3, 4, 5, 1, 2, 3, 5, 3, 1, 3, 1, 2, 3, 4, 5, 1, 2, 3, 4, 5, 4, 5, 4, 1, 2, 3, 4, 1, 2, 3, 4, 5, 1, 2, 3, 4, 5, 1, 2, 3, 4, 5, 2, 3, 5, 2, 3, 3, 4, 2, 4, 5, 2, 4, 5, 1, 2, 3, 4, 5, 1, 2, 3, 4, 5, 1, 1, 3, 4, 4, 4, 3, 1, 5, 1, 3, 4, 5, 4, 2, 1, 1, 2, 3, 4, 5, 1, 2, 3, 4, 5, 1, 3, 1, 2, 4, 3, 1, 5, 1, 2, 3, 4, 5, 3, 1, 2, 4, 1, 2, 3, 4, 5, 5, 2, 2, 2, 3, 1, 2, 2, 4, 5, 1, 2, 3, 5, 5, 4, 1, 1, 2, 3, 4, 2, 5, 3, 3, 1, 3, 4, 5, 1, 2, 3, 4, 5, 1, 2, 3, 4, 5, 5, 5, 5, 1, 2, 3, 4, 5, 1, 1, 2, 5, 1, 2, 3, 4, 5], \"Term\": [\"10000\", \"10000\", \"130000\", \"2013\", \"3700000\", \"500\", \"500\", \"800000\", \"910000\", \"aafes\", \"account\", \"account\", \"account\", \"account\", \"account\", \"acct\", \"acct\", \"acknowledged\", \"act\", \"act\", \"act\", \"act\", \"act\", \"additional\", \"additional\", \"additional\", \"additional\", \"afs\", \"agency\", \"agency\", \"agency\", \"agency\", \"alleged\", \"alleged\", \"alleged\", \"alleged\", \"also\", \"also\", \"also\", \"also\", \"also\", \"american\", \"amex\", \"amount\", \"amount\", \"amount\", \"amount\", \"answer\", \"answer\", \"answer\", \"answer\", \"answered\", \"answered\", \"answered\", \"answering\", \"answering\", \"apartment\", \"apartment\", \"apartment\", \"applied\", \"applied\", \"applied\", \"applied\", \"apt\", \"aquired\", \"arbitration\", \"arkansas\", \"arkansas\", \"arrangement\", \"arrangement\", \"arrangement\", \"arrangement\", \"arrest\", \"asked\", \"asked\", \"asked\", \"asked\", \"asking\", \"asking\", \"asking\", \"asking\", \"assist\", \"attend\", \"attend\", \"attorney\", \"attorney\", \"attorney\", \"attorney\", \"attorney\", \"back\", \"back\", \"back\", \"back\", \"back\", \"balance\", \"balance\", \"balance\", \"balance\", \"balance\", \"bank\", \"bank\", \"bank\", \"bank\", \"bank\", \"bankruptcy\", \"bankruptcy\", \"bankruptcy\", \"bankruptcy\", \"bankruptcy\", \"belong\", \"bill\", \"bill\", \"bill\", \"bill\", \"billing\", \"billing\", \"billing\", \"block\", \"blocked\", \"boa\", \"box\", \"breach\", \"brother\", \"bureau\", \"bureau\", \"bureau\", \"bureau\", \"cacv\", \"call\", \"call\", \"call\", \"called\", \"called\", \"called\", \"called\", \"caller\", \"caller\", \"calling\", \"calling\", \"card\", \"card\", \"card\", \"card\", \"card\", \"carpet\", \"carpet\", \"cashed\", \"cbs\", \"cell\", \"cell\", \"cell\", \"cellphone\", \"certified\", \"certified\", \"cfpb\", \"cfpb\", \"cfpb\", \"cfpb\", \"chapter\", \"chapter\", \"chapter\", \"charge\", \"charge\", \"charge\", \"charge\", \"check\", \"check\", \"check\", \"check\", \"check\", \"citibank\", \"citibank\", \"clause\", \"clause\", \"cleaning\", \"climb\", \"collect\", \"collect\", \"collect\", \"collect\", \"collect\", \"collection\", \"collection\", \"collection\", \"collection\", \"collection\", \"communication\", \"communication\", \"communication\", \"communication\", \"company\", \"company\", \"company\", \"company\", \"company\", \"complaint\", \"complaint\", \"complaint\", \"complaint\", \"complaint\", \"complex\", \"concerned\", \"consumer\", \"consumer\", \"consumer\", \"consumer\", \"consumer\", \"contact\", \"contact\", \"contact\", \"contact\", \"contact\", \"contracted\", \"could\", \"could\", \"could\", \"could\", \"could\", \"court\", \"court\", \"court\", \"court\", \"court\", \"covered\", \"covered\", \"covered\", \"covered\", \"cpa\", \"credence\", \"credence\", \"credit\", \"credit\", \"credit\", \"credit\", \"credit\", \"credited\", \"creditor\", \"creditor\", \"creditor\", \"cursed\", \"daily\", \"daily\", \"daily\", \"daily\", \"date\", \"date\", \"date\", \"date\", \"daughter\", \"daughter\", \"daughter\", \"day\", \"day\", \"day\", \"day\", \"day\", \"debt\", \"debt\", \"debt\", \"debt\", \"debt\", \"deleted\", \"deleted\", \"delinquency\", \"discharged\", \"discharged\", \"discharged\", \"discharged\", \"dispute\", \"dispute\", \"dispute\", \"disputed\", \"disputed\", \"disputed\", \"doc\", \"doc\", \"doctor\", \"doctor\", \"doctor\", \"doctor\", \"due\", \"due\", \"due\", \"due\", \"dvr\", \"dyke\", \"dynamic\", \"elliot\", \"enhanced\", \"equipment\", \"equipment\", \"equipment\", \"equity\", \"escrow\", \"establish\", \"evidence\", \"exhibit\", \"exhibit\", \"extra\", \"extra\", \"eye\", \"fargo\", \"father\", \"fault\", \"fcra\", \"fdcpa\", \"fdcpa\", \"fdcpa\", \"fee\", \"fee\", \"fee\", \"fee\", \"fee\", \"filed\", \"filed\", \"filed\", \"filed\", \"filed\", \"final\", \"final\", \"forbearance\", \"forbearance\", \"frederick\", \"free\", \"free\", \"free\", \"free\", \"friday\", \"ftc\", \"ftc\", \"full\", \"full\", \"full\", \"full\", \"full\", \"garnished\", \"garnished\", \"garnished\", \"garnished\", \"get\", \"get\", \"get\", \"get\", \"get\", \"girlfriend\", \"gla\", \"grandmother\", \"green\", \"hang\", \"hanna\", \"harassing\", \"harassing\", \"harassing\", \"harris\", \"help\", \"help\", \"help\", \"help\", \"help\", \"home\", \"home\", \"home\", \"home\", \"home\", \"hung\", \"hung\", \"hung\", \"hunter\", \"identification\", \"identification\", \"identity\", \"impacted\", \"inaccurate\", \"inc\", \"inc\", \"inc\", \"inc\", \"inc\", \"income\", \"income\", \"income\", \"income\", \"individual\", \"individual\", \"individual\", \"individual\", \"information\", \"information\", \"information\", \"information\", \"information\", \"inquiry\", \"instrument\", \"instrument\", \"instrument\", \"interest\", \"interest\", \"interest\", \"interest\", \"j\", \"know\", \"know\", \"know\", \"know\", \"know\", \"knowledge\", \"knowledge\", \"knowledge\", \"knowledge\", \"lab\", \"language\", \"late\", \"late\", \"late\", \"late\", \"late\", \"law\", \"law\", \"law\", \"law\", \"law\", \"lease\", \"lease\", \"leasing\", \"legal\", \"legal\", \"legal\", \"legal\", \"legal\", \"lendkey\", \"letter\", \"letter\", \"letter\", \"letter\", \"letter\", \"lien\", \"lien\", \"lien\", \"list\", \"list\", \"list\", \"loan\", \"loan\", \"loan\", \"loan\", \"loan\", \"macy\", \"mae\", \"man\", \"man\", \"man\", \"me\", \"me\", \"me\", \"me\", \"me\", \"mean\", \"mean\", \"mean\", \"mean\", \"mean\", \"medicare\", \"medicare\", \"medicare\", \"meltdown\", \"meridian\", \"message\", \"message\", \"mj\", \"modem\", \"mom\", \"mom\", \"mom\", \"money\", \"money\", \"money\", \"money\", \"money\", \"month\", \"month\", \"month\", \"month\", \"mother\", \"mother\", \"mother\", \"mother\", \"motorcycle\", \"name\", \"name\", \"name\", \"name\", \"national\", \"national\", \"negotiate\", \"never\", \"never\", \"never\", \"never\", \"never\", \"new\", \"new\", \"new\", \"new\", \"new\", \"note\", \"note\", \"note\", \"note\", \"note\", \"notice\", \"notice\", \"notice\", \"notice\", \"notice\", \"nt\", \"nt\", \"nt\", \"nt\", \"nt\", \"number\", \"number\", \"number\", \"number\", \"number\", \"offset\", \"oil\", \"oneal\", \"original\", \"original\", \"original\", \"original\", \"original\", \"owe\", \"owe\", \"owe\", \"owe\", \"owe\", \"owed\", \"owed\", \"owed\", \"owed\", \"owed\", \"paid\", \"paid\", \"paid\", \"paid\", \"paid\", \"paper\", \"paper\", \"paper\", \"paper\", \"paper\", \"paragraph\", \"partner\", \"pay\", \"pay\", \"pay\", \"pay\", \"pay\", \"payment\", \"payment\", \"payment\", \"payment\", \"paypal\", \"penncredit\", \"person\", \"person\", \"person\", \"person\", \"person\", \"personal\", \"personal\", \"personal\", \"personal\", \"personal\", \"phone\", \"phone\", \"phone\", \"phone\", \"phone\", \"placed\", \"placed\", \"placed\", \"poa\", \"power\", \"power\", \"power\", \"power\", \"press\", \"primary\", \"primary\", \"principal\", \"principal\", \"project\", \"pursuant\", \"quit\", \"rate\", \"rate\", \"rate\", \"received\", \"received\", \"received\", \"received\", \"received\", \"relative\", \"remember\", \"remember\", \"removed\", \"removed\", \"removed\", \"removed\", \"rent\", \"rent\", \"rented\", \"rep\", \"repayment\", \"repayment\", \"repayment\", \"repayment\", \"repeatedly\", \"repeatedly\", \"report\", \"report\", \"report\", \"reported\", \"reported\", \"reporting\", \"reporting\", \"reporting\", \"request\", \"request\", \"request\", \"request\", \"requested\", \"requested\", \"requesting\", \"requesting\", \"requesting\", \"requesting\", \"rescission\", \"returned\", \"returned\", \"returned\", \"ring\", \"robo\", \"rude\", \"rude\", \"s\", \"s\", \"s\", \"s\", \"s\", \"said\", \"said\", \"said\", \"said\", \"said\", \"sallie\", \"sarma\", \"sc\", \"school\", \"school\", \"school\", \"school\", \"see\", \"see\", \"see\", \"see\", \"see\", \"sent\", \"sent\", \"sent\", \"sent\", \"sent\", \"service\", \"service\", \"service\", \"service\", \"service\", \"shared\", \"sir\", \"sir\", \"soldier\", \"soldier\", \"son\", \"son\", \"sps\", \"sps\", \"sps\", \"statute\", \"statute\", \"statute\", \"still\", \"still\", \"still\", \"still\", \"still\", \"stop\", \"stop\", \"stop\", \"stop\", \"stop\", \"store\", \"student\", \"student\", \"student\", \"submittal\", \"successful\", \"suspect\", \"switched\", \"tablet\", \"tax\", \"tax\", \"tax\", \"test\", \"testimony\", \"theft\", \"till\", \"time\", \"time\", \"time\", \"time\", \"time\", \"told\", \"told\", \"told\", \"told\", \"told\", \"tone\", \"tone\", \"total\", \"total\", \"total\", \"treasury\", \"tree\", \"trustee\", \"trying\", \"trying\", \"trying\", \"trying\", \"trying\", \"tuition\", \"turned\", \"turned\", \"turned\", \"u\", \"u\", \"u\", \"u\", \"u\", \"unwanted\", \"usc\", \"validate\", \"validation\", \"validation\", \"verification\", \"verification\", \"violation\", \"violation\", \"violation\", \"voice\", \"voice\", \"voice\", \"voice\", \"void\", \"wachovia\", \"warfield\", \"well\", \"well\", \"well\", \"well\", \"wf\", \"whoever\", \"with\", \"withdrawn\", \"work\", \"work\", \"work\", \"work\", \"would\", \"would\", \"would\", \"would\", \"would\", \"xxxx\", \"xxxx\", \"xxxx\", \"xxxx\", \"xxxx\", \"xxxx2011\", \"xxxxconfin\", \"xxxxcontfin\", \"xxxxxxxx\", \"xxxxxxxx\", \"xxxxxxxx\", \"xxxxxxxx\", \"xxxxxxxx\", \"xxxxxxxx14\", \"xxxxxxxxxxxx\", \"xxxxxxxxxxxx\", \"xxxxxxxxxxxx\", \"year\", \"year\", \"year\", \"year\", \"year\"]}, \"plot.opts\": {\"ylab\": \"PC2\", \"xlab\": \"PC1\"}, \"topic.order\": [3, 4, 2, 1, 5], \"lambda.step\": 0.01};\n",
       "\n",
       "function LDAvis_load_lib(url, callback){\n",
       "  var s = document.createElement('script');\n",
       "  s.src = url;\n",
       "  s.async = true;\n",
       "  s.onreadystatechange = s.onload = callback;\n",
       "  s.onerror = function(){console.warn(\"failed to load library \" + url);};\n",
       "  document.getElementsByTagName(\"head\")[0].appendChild(s);\n",
       "}\n",
       "\n",
       "if(typeof(LDAvis) !== \"undefined\"){\n",
       "   // already loaded: just create the visualization\n",
       "   !function(LDAvis){\n",
       "       new LDAvis(\"#\" + \"ldavis_el22829418403886485474329293\", ldavis_el22829418403886485474329293_data);\n",
       "   }(LDAvis);\n",
       "}else if(typeof define === \"function\" && define.amd){\n",
       "   // require.js is available: use it to load d3/LDAvis\n",
       "   require.config({paths: {d3: \"https://cdnjs.cloudflare.com/ajax/libs/d3/3.5.5/d3.min\"}});\n",
       "   require([\"d3\"], function(d3){\n",
       "      window.d3 = d3;\n",
       "      LDAvis_load_lib(\"https://cdn.rawgit.com/bmabey/pyLDAvis/files/ldavis.v1.0.0.js\", function(){\n",
       "        new LDAvis(\"#\" + \"ldavis_el22829418403886485474329293\", ldavis_el22829418403886485474329293_data);\n",
       "      });\n",
       "    });\n",
       "}else{\n",
       "    // require.js not available: dynamically load d3 & LDAvis\n",
       "    LDAvis_load_lib(\"https://cdnjs.cloudflare.com/ajax/libs/d3/3.5.5/d3.min.js\", function(){\n",
       "         LDAvis_load_lib(\"https://cdn.rawgit.com/bmabey/pyLDAvis/files/ldavis.v1.0.0.js\", function(){\n",
       "                 new LDAvis(\"#\" + \"ldavis_el22829418403886485474329293\", ldavis_el22829418403886485474329293_data);\n",
       "            })\n",
       "         });\n",
       "}\n",
       "</script>"
      ],
      "text/plain": [
       "PreparedData(topic_coordinates=            Freq  cluster  topics         x         y\n",
       "topic                                                \n",
       "2      37.269428        1       1  0.075416  0.035929\n",
       "3      27.796286        1       2  0.124283 -0.108214\n",
       "1      21.266537        1       3  0.022214  0.144463\n",
       "0       8.568417        1       4 -0.117004  0.003453\n",
       "4       5.099335        1       5 -0.104909 -0.075632, topic_info=     Category         Freq         Term        Total  loglift  logprob\n",
       "term                                                                  \n",
       "354   Default   615.000000         call   615.000000  30.0000  30.0000\n",
       "4167  Default   385.000000         loan   385.000000  29.0000  29.0000\n",
       "2269  Default  1557.000000         xxxx  1557.000000  28.0000  28.0000\n",
       "5805  Default   470.000000       report   470.000000  27.0000  27.0000\n",
       "5994  Default  1106.000000       credit  1106.000000  26.0000  26.0000\n",
       "1616  Default  1323.000000         debt  1323.000000  25.0000  25.0000\n",
       "3121  Default   411.000000       number   411.000000  24.0000  24.0000\n",
       "5995  Default   178.000000      calling   178.000000  23.0000  23.0000\n",
       "2255  Default   361.000000        phone   361.000000  22.0000  22.0000\n",
       "242   Default   566.000000      payment   566.000000  21.0000  21.0000\n",
       "4636  Default   423.000000         bill   423.000000  20.0000  20.0000\n",
       "1810  Default   398.000000       called   398.000000  19.0000  19.0000\n",
       "1322  Default   136.000000         well   136.000000  18.0000  18.0000\n",
       "4274  Default    89.000000      student    89.000000  17.0000  17.0000\n",
       "554   Default   338.000000     xxxxxxxx   338.000000  16.0000  16.0000\n",
       "2519  Default   377.000000         told   377.000000  15.0000  15.0000\n",
       "38    Default   831.000000      account   831.000000  14.0000  14.0000\n",
       "5117  Default   275.000000            s   275.000000  13.0000  13.0000\n",
       "4641  Default   139.000000        court   139.000000  12.0000  12.0000\n",
       "2140  Default   139.000000            u   139.000000  11.0000  11.0000\n",
       "1583  Default   773.000000   collection   773.000000  10.0000  10.0000\n",
       "6078  Default   152.000000    reporting   152.000000   9.0000   9.0000\n",
       "292   Default   340.000000      service   340.000000   8.0000   8.0000\n",
       "2782  Default   356.000000  information   356.000000   7.0000   7.0000\n",
       "1299  Default    95.000000     attorney    95.000000   6.0000   6.0000\n",
       "2293  Default   277.000000         said   277.000000   5.0000   5.0000\n",
       "5160  Default   374.000000       agency   374.000000   4.0000   4.0000\n",
       "255   Default    44.000000        fargo    44.000000   3.0000   3.0000\n",
       "3088  Default   492.000000        would   492.000000   2.0000   2.0000\n",
       "3533  Default   206.000000         bank   206.000000   1.0000   1.0000\n",
       "...       ...          ...          ...          ...      ...      ...\n",
       "5117   Topic5    26.525452            s   275.036804   0.6373  -4.9671\n",
       "5058   Topic5    10.123495   discharged    40.597870   1.5872  -5.9303\n",
       "2922   Topic5    15.773570          see   100.635292   1.1229  -5.4868\n",
       "5700   Topic5     6.958164         free    19.054798   1.9687  -6.3052\n",
       "1299   Topic5    15.108974     attorney    95.750206   1.1296  -5.5299\n",
       "167    Topic5    12.032640         note    60.354252   1.3635  -5.7575\n",
       "5459   Topic5    11.885350     personal    61.744522   1.3284  -5.7699\n",
       "4641   Topic5    16.469097        court   139.054520   0.8427  -5.4437\n",
       "3121   Topic5    25.021845       number   411.425537   0.1762  -5.0254\n",
       "1818   Topic5     8.984564      statute    36.196747   1.5826  -6.0497\n",
       "649    Topic5    12.864676       trying   135.908997   0.6186  -5.6907\n",
       "292    Topic5    16.366730      service   340.566650  -0.0593  -5.4499\n",
       "13     Topic5     7.489955     daughter    25.349297   1.7569  -6.2316\n",
       "2782   Topic5    15.870643  information   356.996368  -0.1372  -5.4807\n",
       "3480   Topic5    11.232305          new   108.738022   0.7059  -5.8264\n",
       "3709   Topic5    15.248029        never   377.656067  -0.2335  -5.5207\n",
       "1616   Topic5    19.753624         debt  1323.332031  -1.2285  -5.2618\n",
       "4423   Topic5    12.288153      collect   191.600677   0.2293  -5.7365\n",
       "2293   Topic5    12.910507         said   277.755676  -0.0926  -5.6871\n",
       "2715   Topic5    13.138287         year   315.732574  -0.2033  -5.6696\n",
       "2255   Topic5    13.134178        phone   361.544037  -0.3391  -5.6699\n",
       "38     Topic5    14.963076      account   831.714417  -1.0418  -5.5396\n",
       "1643   Topic5    11.181349      contact   156.326584   0.3384  -5.8309\n",
       "4167   Topic5    12.123253         loan   385.612274  -0.4836  -5.7500\n",
       "3088   Topic5    12.307876        would   492.917542  -0.7140  -5.7349\n",
       "5827   Topic5    12.319119      company   553.501099  -0.8291  -5.7340\n",
       "4258   Topic5    11.965014     received   489.088593  -0.7345  -5.7632\n",
       "4636   Topic5    11.705876         bill   423.027863  -0.6113  -5.7851\n",
       "1292   Topic5    11.550042         time   461.792542  -0.7124  -5.7985\n",
       "554    Topic5    11.336841     xxxxxxxx   338.878784  -0.4215  -5.8171\n",
       "\n",
       "[398 rows x 6 columns], token_table=      Topic      Freq          Term\n",
       "term                               \n",
       "1317      1  0.926807         10000\n",
       "1317      3  0.030894         10000\n",
       "317       1  0.949628        130000\n",
       "1020      1  0.959323          2013\n",
       "4822      4  0.926982       3700000\n",
       "1924      1  0.152537           500\n",
       "1924      4  0.762684           500\n",
       "275       5  0.632479        800000\n",
       "3574      5  0.634342        910000\n",
       "6013      3  0.969284         aafes\n",
       "38        1  0.416008       account\n",
       "38        2  0.497767       account\n",
       "38        3  0.043284       account\n",
       "38        4  0.026451       account\n",
       "38        5  0.018035       account\n",
       "5592      1  0.940834          acct\n",
       "5592      2  0.055343          acct\n",
       "5144      2  0.960324  acknowledged\n",
       "3187      1  0.065279           act\n",
       "3187      2  0.799669           act\n",
       "3187      3  0.016320           act\n",
       "3187      4  0.097919           act\n",
       "3187      5  0.032640           act\n",
       "1756      1  0.141799    additional\n",
       "1756      2  0.340317    additional\n",
       "1756      3  0.085079    additional\n",
       "1756      4  0.425397    additional\n",
       "595       4  0.773285           afs\n",
       "5160      1  0.494277        agency\n",
       "5160      2  0.475575        agency\n",
       "...     ...       ...           ...\n",
       "5180      3  0.459575          work\n",
       "5180      4  0.136170          work\n",
       "5180      5  0.017021          work\n",
       "3088      1  0.482839         would\n",
       "3088      2  0.103466         would\n",
       "3088      3  0.312425         would\n",
       "3088      4  0.079121         would\n",
       "3088      5  0.024345         would\n",
       "2269      1  0.349186          xxxx\n",
       "2269      2  0.342767          xxxx\n",
       "2269      3  0.170100          xxxx\n",
       "2269      4  0.085371          xxxx\n",
       "2269      5  0.052635          xxxx\n",
       "2461      5  0.632172      xxxx2011\n",
       "6059      5  0.634302    xxxxconfin\n",
       "2213      5  0.634302   xxxxcontfin\n",
       "554       1  0.330502      xxxxxxxx\n",
       "554       2  0.401323      xxxxxxxx\n",
       "554       3  0.073773      xxxxxxxx\n",
       "554       4  0.162300      xxxxxxxx\n",
       "554       5  0.032460      xxxxxxxx\n",
       "3823      1  0.940381    xxxxxxxx14\n",
       "2525      1  0.760949  xxxxxxxxxxxx\n",
       "2525      2  0.154568  xxxxxxxxxxxx\n",
       "2525      5  0.071339  xxxxxxxxxxxx\n",
       "2715      1  0.456082          year\n",
       "2715      2  0.212205          year\n",
       "2715      3  0.209038          year\n",
       "2715      4  0.082348          year\n",
       "2715      5  0.041174          year\n",
       "\n",
       "[806 rows x 3 columns], R=30, lambda_step=0.01, plot_opts={'ylab': 'PC2', 'xlab': 'PC1'}, topic_order=[3, 4, 2, 1, 5])"
      ]
     },
     "execution_count": 130,
     "metadata": {},
     "output_type": "execute_result"
    }
   ],
   "source": [
    "!pip install pyLDAvis\n",
    "pyLDAvis.enable_notebook()\n",
    "vis = pyLDAvis.gensim.prepare(ldamodel, doc_term_matrix, dictionary)\n",
    "vis"
   ]
  },
  {
   "cell_type": "code",
   "execution_count": null,
   "metadata": {},
   "outputs": [],
   "source": []
  }
 ],
 "metadata": {
  "kernelspec": {
   "display_name": "Python 3",
   "language": "python",
   "name": "python3"
  },
  "language_info": {
   "codemirror_mode": {
    "name": "ipython",
    "version": 3
   },
   "file_extension": ".py",
   "mimetype": "text/x-python",
   "name": "python",
   "nbconvert_exporter": "python",
   "pygments_lexer": "ipython3",
   "version": "3.5.5"
  }
 },
 "nbformat": 4,
 "nbformat_minor": 2
}
