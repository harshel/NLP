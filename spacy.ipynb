{
 "cells": [
  {
   "cell_type": "code",
   "execution_count": 58,
   "metadata": {
    "collapsed": true
   },
   "outputs": [],
   "source": [
    "import spacy\n",
    "from spacy import displacy"
   ]
  },
  {
   "cell_type": "code",
   "execution_count": 59,
   "metadata": {
    "collapsed": true
   },
   "outputs": [],
   "source": [
    "sample = \"AI has had a few excellent runs. In the Sixties, it was the great promise of what we would be able to do with the machine.\""
   ]
  },
  {
   "cell_type": "code",
   "execution_count": 69,
   "metadata": {},
   "outputs": [
    {
     "data": {
      "text/plain": [
       "122"
      ]
     },
     "execution_count": 69,
     "metadata": {},
     "output_type": "execute_result"
    }
   ],
   "source": [
    "len(sample)"
   ]
  },
  {
   "cell_type": "code",
   "execution_count": 60,
   "metadata": {
    "collapsed": true
   },
   "outputs": [],
   "source": [
    "nlp = spacy.load('en')"
   ]
  },
  {
   "cell_type": "code",
   "execution_count": 61,
   "metadata": {
    "collapsed": true
   },
   "outputs": [],
   "source": [
    "doc = nlp(sample)"
   ]
  },
  {
   "cell_type": "code",
   "execution_count": 72,
   "metadata": {},
   "outputs": [
    {
     "name": "stdout",
     "output_type": "stream",
     "text": [
      "AI\n",
      "has\n",
      "had\n",
      "a\n",
      "few\n",
      "excellent\n",
      "runs\n",
      ".\n",
      "In\n",
      "the\n",
      "Sixties\n",
      ",\n",
      "it\n",
      "was\n",
      "the\n",
      "great\n",
      "promise\n",
      "of\n",
      "what\n",
      "we\n",
      "would\n",
      "be\n",
      "able\n",
      "to\n",
      "do\n",
      "with\n",
      "the\n",
      "machine\n",
      ".\n"
     ]
    }
   ],
   "source": [
    "for token in doc:\n",
    "    print(token)"
   ]
  },
  {
   "cell_type": "code",
   "execution_count": 63,
   "metadata": {
    "collapsed": true
   },
   "outputs": [],
   "source": [
    "tokens_ = [token for token in doc]"
   ]
  },
  {
   "cell_type": "code",
   "execution_count": 64,
   "metadata": {},
   "outputs": [
    {
     "name": "stdout",
     "output_type": "stream",
     "text": [
      "[AI, has, had, a, few, excellent, runs, ., In, the, Sixties, ,, it, was, the, great, promise, of, what, we, would, be, able, to, do, with, the, machine, .]\n"
     ]
    }
   ],
   "source": [
    "print(tokens_)"
   ]
  },
  {
   "cell_type": "code",
   "execution_count": 65,
   "metadata": {},
   "outputs": [
    {
     "name": "stdout",
     "output_type": "stream",
     "text": [
      "has\n",
      "had\n",
      "a\n",
      "few\n",
      "the\n",
      "it\n",
      "was\n",
      "the\n",
      "of\n",
      "what\n",
      "we\n",
      "would\n",
      "be\n",
      "to\n",
      "do\n",
      "with\n",
      "the\n"
     ]
    }
   ],
   "source": [
    "#identifying the stop words\n",
    "for words in doc:\n",
    "    if words.is_stop == True:\n",
    "        print(words)"
   ]
  },
  {
   "cell_type": "markdown",
   "metadata": {},
   "source": [
    "#### TOKENIZATION"
   ]
  },
  {
   "cell_type": "markdown",
   "metadata": {},
   "source": [
    "During processing, spaCy first tokenizes the text, i.e. segments it into words, punctuation and so on. \n",
    "This is done by applying rules specific to each language. For example, punctuation at the end of a sentence should \n",
    "be split off – whereas \"U.K.\" should remain one token. Each Doc consists of individual tokens, and we can iterate \n",
    "over them:"
   ]
  },
  {
   "cell_type": "markdown",
   "metadata": {},
   "source": [
    "First, the raw text is split on whitespace characters, similar to text.split(' '). Then, the tokenizer processes \n",
    "the text from left to right. On each substring, it performs two checks:\n",
    "\n",
    "    1. Does the substring match a tokenizer exception rule? For example, \"don't\" does not contain whitespace, \n",
    "    but should be split into two tokens, \"do\" and \"n't\", while \"U.K.\" should always remain one token.\n",
    "    2. Can a prefix, suffix or infix be split off? For example punctuation like commas, periods, hyphens or quotes.\n",
    "\n",
    "If there's a match, the rule is applied and the tokenizer continues its loop, starting with the newly split substrings.\n",
    "This way, spaCy can split complex, nested tokens like combinations of abbreviations and multiple punctuation marks."
   ]
  },
  {
   "cell_type": "code",
   "execution_count": 66,
   "metadata": {},
   "outputs": [
    {
     "name": "stdout",
     "output_type": "stream",
     "text": [
      "AI\n",
      "has\n",
      "had\n",
      "a\n",
      "few\n",
      "excellent\n",
      "runs\n",
      ".\n",
      "In\n",
      "the\n",
      "Sixties\n",
      ",\n",
      "it\n",
      "was\n",
      "the\n",
      "great\n",
      "promise\n",
      "of\n",
      "what\n",
      "we\n",
      "would\n",
      "be\n",
      "able\n",
      "to\n",
      "do\n",
      "with\n",
      "the\n",
      "machine\n",
      ".\n"
     ]
    }
   ],
   "source": [
    "for token in doc:\n",
    "    print(token.text)"
   ]
  },
  {
   "cell_type": "code",
   "execution_count": 67,
   "metadata": {},
   "outputs": [
    {
     "name": "stdout",
     "output_type": "stream",
     "text": [
      "ai\n",
      "have\n",
      "have\n",
      "a\n",
      "few\n",
      "excellent\n",
      "run\n",
      ".\n",
      "in\n",
      "the\n",
      "sixties\n",
      ",\n",
      "-PRON-\n",
      "be\n",
      "the\n",
      "great\n",
      "promise\n",
      "of\n",
      "what\n",
      "-PRON-\n",
      "would\n",
      "be\n",
      "able\n",
      "to\n",
      "do\n",
      "with\n",
      "the\n",
      "machine\n",
      ".\n"
     ]
    }
   ],
   "source": [
    "for token in doc:\n",
    "    print(token.lemma_)"
   ]
  },
  {
   "cell_type": "code",
   "execution_count": 68,
   "metadata": {},
   "outputs": [
    {
     "name": "stdout",
     "output_type": "stream",
     "text": [
      "PROPN\n",
      "VERB\n",
      "VERB\n",
      "DET\n",
      "ADJ\n",
      "ADJ\n",
      "NOUN\n",
      "PUNCT\n",
      "ADP\n",
      "DET\n",
      "PROPN\n",
      "PUNCT\n",
      "PRON\n",
      "VERB\n",
      "DET\n",
      "ADJ\n",
      "NOUN\n",
      "ADP\n",
      "NOUN\n",
      "PRON\n",
      "VERB\n",
      "VERB\n",
      "ADJ\n",
      "PART\n",
      "VERB\n",
      "ADP\n",
      "DET\n",
      "NOUN\n",
      "PUNCT\n"
     ]
    }
   ],
   "source": [
    "for token in doc:\n",
    "    print(token.pos_)"
   ]
  },
  {
   "cell_type": "code",
   "execution_count": 80,
   "metadata": {},
   "outputs": [
    {
     "data": {
      "text/html": [
       "<svg xmlns=\"http://www.w3.org/2000/svg\" xmlns:xlink=\"http://www.w3.org/1999/xlink\" id=\"0\" class=\"displacy\" width=\"1870\" height=\"277.0\" style=\"max-width: none; height: 277.0px; color: #000000; background: #ffffff; font-family: Arial\">\n",
       "<text class=\"displacy-token\" fill=\"currentColor\" text-anchor=\"middle\" y=\"187.0\">\n",
       "    <tspan class=\"displacy-word\" fill=\"currentColor\" x=\"50\">AI</tspan>\n",
       "    <tspan class=\"displacy-tag\" dy=\"2em\" fill=\"currentColor\" x=\"50\">PROPN</tspan>\n",
       "</text>\n",
       "\n",
       "<text class=\"displacy-token\" fill=\"currentColor\" text-anchor=\"middle\" y=\"187.0\">\n",
       "    <tspan class=\"displacy-word\" fill=\"currentColor\" x=\"120\">has</tspan>\n",
       "    <tspan class=\"displacy-tag\" dy=\"2em\" fill=\"currentColor\" x=\"120\">VERB</tspan>\n",
       "</text>\n",
       "\n",
       "<text class=\"displacy-token\" fill=\"currentColor\" text-anchor=\"middle\" y=\"187.0\">\n",
       "    <tspan class=\"displacy-word\" fill=\"currentColor\" x=\"190\">had</tspan>\n",
       "    <tspan class=\"displacy-tag\" dy=\"2em\" fill=\"currentColor\" x=\"190\">VERB</tspan>\n",
       "</text>\n",
       "\n",
       "<text class=\"displacy-token\" fill=\"currentColor\" text-anchor=\"middle\" y=\"187.0\">\n",
       "    <tspan class=\"displacy-word\" fill=\"currentColor\" x=\"260\">a</tspan>\n",
       "    <tspan class=\"displacy-tag\" dy=\"2em\" fill=\"currentColor\" x=\"260\">DET</tspan>\n",
       "</text>\n",
       "\n",
       "<text class=\"displacy-token\" fill=\"currentColor\" text-anchor=\"middle\" y=\"187.0\">\n",
       "    <tspan class=\"displacy-word\" fill=\"currentColor\" x=\"330\">few</tspan>\n",
       "    <tspan class=\"displacy-tag\" dy=\"2em\" fill=\"currentColor\" x=\"330\">ADJ</tspan>\n",
       "</text>\n",
       "\n",
       "<text class=\"displacy-token\" fill=\"currentColor\" text-anchor=\"middle\" y=\"187.0\">\n",
       "    <tspan class=\"displacy-word\" fill=\"currentColor\" x=\"400\">excellent</tspan>\n",
       "    <tspan class=\"displacy-tag\" dy=\"2em\" fill=\"currentColor\" x=\"400\">ADJ</tspan>\n",
       "</text>\n",
       "\n",
       "<text class=\"displacy-token\" fill=\"currentColor\" text-anchor=\"middle\" y=\"187.0\">\n",
       "    <tspan class=\"displacy-word\" fill=\"currentColor\" x=\"470\">runs.</tspan>\n",
       "    <tspan class=\"displacy-tag\" dy=\"2em\" fill=\"currentColor\" x=\"470\">NOUN</tspan>\n",
       "</text>\n",
       "\n",
       "<text class=\"displacy-token\" fill=\"currentColor\" text-anchor=\"middle\" y=\"187.0\">\n",
       "    <tspan class=\"displacy-word\" fill=\"currentColor\" x=\"540\">In</tspan>\n",
       "    <tspan class=\"displacy-tag\" dy=\"2em\" fill=\"currentColor\" x=\"540\">ADP</tspan>\n",
       "</text>\n",
       "\n",
       "<text class=\"displacy-token\" fill=\"currentColor\" text-anchor=\"middle\" y=\"187.0\">\n",
       "    <tspan class=\"displacy-word\" fill=\"currentColor\" x=\"610\">the</tspan>\n",
       "    <tspan class=\"displacy-tag\" dy=\"2em\" fill=\"currentColor\" x=\"610\">DET</tspan>\n",
       "</text>\n",
       "\n",
       "<text class=\"displacy-token\" fill=\"currentColor\" text-anchor=\"middle\" y=\"187.0\">\n",
       "    <tspan class=\"displacy-word\" fill=\"currentColor\" x=\"680\">Sixties,</tspan>\n",
       "    <tspan class=\"displacy-tag\" dy=\"2em\" fill=\"currentColor\" x=\"680\">PROPN</tspan>\n",
       "</text>\n",
       "\n",
       "<text class=\"displacy-token\" fill=\"currentColor\" text-anchor=\"middle\" y=\"187.0\">\n",
       "    <tspan class=\"displacy-word\" fill=\"currentColor\" x=\"750\">it</tspan>\n",
       "    <tspan class=\"displacy-tag\" dy=\"2em\" fill=\"currentColor\" x=\"750\">PRON</tspan>\n",
       "</text>\n",
       "\n",
       "<text class=\"displacy-token\" fill=\"currentColor\" text-anchor=\"middle\" y=\"187.0\">\n",
       "    <tspan class=\"displacy-word\" fill=\"currentColor\" x=\"820\">was</tspan>\n",
       "    <tspan class=\"displacy-tag\" dy=\"2em\" fill=\"currentColor\" x=\"820\">VERB</tspan>\n",
       "</text>\n",
       "\n",
       "<text class=\"displacy-token\" fill=\"currentColor\" text-anchor=\"middle\" y=\"187.0\">\n",
       "    <tspan class=\"displacy-word\" fill=\"currentColor\" x=\"890\">the</tspan>\n",
       "    <tspan class=\"displacy-tag\" dy=\"2em\" fill=\"currentColor\" x=\"890\">DET</tspan>\n",
       "</text>\n",
       "\n",
       "<text class=\"displacy-token\" fill=\"currentColor\" text-anchor=\"middle\" y=\"187.0\">\n",
       "    <tspan class=\"displacy-word\" fill=\"currentColor\" x=\"960\">great</tspan>\n",
       "    <tspan class=\"displacy-tag\" dy=\"2em\" fill=\"currentColor\" x=\"960\">ADJ</tspan>\n",
       "</text>\n",
       "\n",
       "<text class=\"displacy-token\" fill=\"currentColor\" text-anchor=\"middle\" y=\"187.0\">\n",
       "    <tspan class=\"displacy-word\" fill=\"currentColor\" x=\"1030\">promise</tspan>\n",
       "    <tspan class=\"displacy-tag\" dy=\"2em\" fill=\"currentColor\" x=\"1030\">NOUN</tspan>\n",
       "</text>\n",
       "\n",
       "<text class=\"displacy-token\" fill=\"currentColor\" text-anchor=\"middle\" y=\"187.0\">\n",
       "    <tspan class=\"displacy-word\" fill=\"currentColor\" x=\"1100\">of</tspan>\n",
       "    <tspan class=\"displacy-tag\" dy=\"2em\" fill=\"currentColor\" x=\"1100\">ADP</tspan>\n",
       "</text>\n",
       "\n",
       "<text class=\"displacy-token\" fill=\"currentColor\" text-anchor=\"middle\" y=\"187.0\">\n",
       "    <tspan class=\"displacy-word\" fill=\"currentColor\" x=\"1170\">what</tspan>\n",
       "    <tspan class=\"displacy-tag\" dy=\"2em\" fill=\"currentColor\" x=\"1170\">NOUN</tspan>\n",
       "</text>\n",
       "\n",
       "<text class=\"displacy-token\" fill=\"currentColor\" text-anchor=\"middle\" y=\"187.0\">\n",
       "    <tspan class=\"displacy-word\" fill=\"currentColor\" x=\"1240\">we</tspan>\n",
       "    <tspan class=\"displacy-tag\" dy=\"2em\" fill=\"currentColor\" x=\"1240\">PRON</tspan>\n",
       "</text>\n",
       "\n",
       "<text class=\"displacy-token\" fill=\"currentColor\" text-anchor=\"middle\" y=\"187.0\">\n",
       "    <tspan class=\"displacy-word\" fill=\"currentColor\" x=\"1310\">would</tspan>\n",
       "    <tspan class=\"displacy-tag\" dy=\"2em\" fill=\"currentColor\" x=\"1310\">VERB</tspan>\n",
       "</text>\n",
       "\n",
       "<text class=\"displacy-token\" fill=\"currentColor\" text-anchor=\"middle\" y=\"187.0\">\n",
       "    <tspan class=\"displacy-word\" fill=\"currentColor\" x=\"1380\">be</tspan>\n",
       "    <tspan class=\"displacy-tag\" dy=\"2em\" fill=\"currentColor\" x=\"1380\">VERB</tspan>\n",
       "</text>\n",
       "\n",
       "<text class=\"displacy-token\" fill=\"currentColor\" text-anchor=\"middle\" y=\"187.0\">\n",
       "    <tspan class=\"displacy-word\" fill=\"currentColor\" x=\"1450\">able</tspan>\n",
       "    <tspan class=\"displacy-tag\" dy=\"2em\" fill=\"currentColor\" x=\"1450\">ADJ</tspan>\n",
       "</text>\n",
       "\n",
       "<text class=\"displacy-token\" fill=\"currentColor\" text-anchor=\"middle\" y=\"187.0\">\n",
       "    <tspan class=\"displacy-word\" fill=\"currentColor\" x=\"1520\">to</tspan>\n",
       "    <tspan class=\"displacy-tag\" dy=\"2em\" fill=\"currentColor\" x=\"1520\">PART</tspan>\n",
       "</text>\n",
       "\n",
       "<text class=\"displacy-token\" fill=\"currentColor\" text-anchor=\"middle\" y=\"187.0\">\n",
       "    <tspan class=\"displacy-word\" fill=\"currentColor\" x=\"1590\">do</tspan>\n",
       "    <tspan class=\"displacy-tag\" dy=\"2em\" fill=\"currentColor\" x=\"1590\">VERB</tspan>\n",
       "</text>\n",
       "\n",
       "<text class=\"displacy-token\" fill=\"currentColor\" text-anchor=\"middle\" y=\"187.0\">\n",
       "    <tspan class=\"displacy-word\" fill=\"currentColor\" x=\"1660\">with</tspan>\n",
       "    <tspan class=\"displacy-tag\" dy=\"2em\" fill=\"currentColor\" x=\"1660\">ADP</tspan>\n",
       "</text>\n",
       "\n",
       "<text class=\"displacy-token\" fill=\"currentColor\" text-anchor=\"middle\" y=\"187.0\">\n",
       "    <tspan class=\"displacy-word\" fill=\"currentColor\" x=\"1730\">the</tspan>\n",
       "    <tspan class=\"displacy-tag\" dy=\"2em\" fill=\"currentColor\" x=\"1730\">DET</tspan>\n",
       "</text>\n",
       "\n",
       "<text class=\"displacy-token\" fill=\"currentColor\" text-anchor=\"middle\" y=\"187.0\">\n",
       "    <tspan class=\"displacy-word\" fill=\"currentColor\" x=\"1800\">machine.</tspan>\n",
       "    <tspan class=\"displacy-tag\" dy=\"2em\" fill=\"currentColor\" x=\"1800\">NOUN</tspan>\n",
       "</text>\n",
       "\n",
       "<g class=\"displacy-arrow\">\n",
       "    <path class=\"displacy-arc\" id=\"arrow-0-0\" stroke-width=\"2px\" d=\"M70,142.0 C70,72.0 180.0,72.0 180.0,142.0\" fill=\"none\" stroke=\"currentColor\"/>\n",
       "    <text dy=\"1.25em\" style=\"font-size: 0.8em; letter-spacing: 1px\">\n",
       "        <textPath xlink:href=\"#arrow-0-0\" class=\"displacy-label\" startOffset=\"50%\" fill=\"currentColor\" text-anchor=\"middle\">nsubj</textPath>\n",
       "    </text>\n",
       "    <path class=\"displacy-arrowhead\" d=\"M70,144.0 L62,132.0 78,132.0\" fill=\"currentColor\"/>\n",
       "</g>\n",
       "\n",
       "<g class=\"displacy-arrow\">\n",
       "    <path class=\"displacy-arc\" id=\"arrow-0-1\" stroke-width=\"2px\" d=\"M140,142.0 C140,107.0 175.0,107.0 175.0,142.0\" fill=\"none\" stroke=\"currentColor\"/>\n",
       "    <text dy=\"1.25em\" style=\"font-size: 0.8em; letter-spacing: 1px\">\n",
       "        <textPath xlink:href=\"#arrow-0-1\" class=\"displacy-label\" startOffset=\"50%\" fill=\"currentColor\" text-anchor=\"middle\">aux</textPath>\n",
       "    </text>\n",
       "    <path class=\"displacy-arrowhead\" d=\"M140,144.0 L132,132.0 148,132.0\" fill=\"currentColor\"/>\n",
       "</g>\n",
       "\n",
       "<g class=\"displacy-arrow\">\n",
       "    <path class=\"displacy-arc\" id=\"arrow-0-2\" stroke-width=\"2px\" d=\"M280,142.0 C280,37.0 465.0,37.0 465.0,142.0\" fill=\"none\" stroke=\"currentColor\"/>\n",
       "    <text dy=\"1.25em\" style=\"font-size: 0.8em; letter-spacing: 1px\">\n",
       "        <textPath xlink:href=\"#arrow-0-2\" class=\"displacy-label\" startOffset=\"50%\" fill=\"currentColor\" text-anchor=\"middle\">det</textPath>\n",
       "    </text>\n",
       "    <path class=\"displacy-arrowhead\" d=\"M280,144.0 L272,132.0 288,132.0\" fill=\"currentColor\"/>\n",
       "</g>\n",
       "\n",
       "<g class=\"displacy-arrow\">\n",
       "    <path class=\"displacy-arc\" id=\"arrow-0-3\" stroke-width=\"2px\" d=\"M350,142.0 C350,72.0 460.0,72.0 460.0,142.0\" fill=\"none\" stroke=\"currentColor\"/>\n",
       "    <text dy=\"1.25em\" style=\"font-size: 0.8em; letter-spacing: 1px\">\n",
       "        <textPath xlink:href=\"#arrow-0-3\" class=\"displacy-label\" startOffset=\"50%\" fill=\"currentColor\" text-anchor=\"middle\">amod</textPath>\n",
       "    </text>\n",
       "    <path class=\"displacy-arrowhead\" d=\"M350,144.0 L342,132.0 358,132.0\" fill=\"currentColor\"/>\n",
       "</g>\n",
       "\n",
       "<g class=\"displacy-arrow\">\n",
       "    <path class=\"displacy-arc\" id=\"arrow-0-4\" stroke-width=\"2px\" d=\"M420,142.0 C420,107.0 455.0,107.0 455.0,142.0\" fill=\"none\" stroke=\"currentColor\"/>\n",
       "    <text dy=\"1.25em\" style=\"font-size: 0.8em; letter-spacing: 1px\">\n",
       "        <textPath xlink:href=\"#arrow-0-4\" class=\"displacy-label\" startOffset=\"50%\" fill=\"currentColor\" text-anchor=\"middle\">amod</textPath>\n",
       "    </text>\n",
       "    <path class=\"displacy-arrowhead\" d=\"M420,144.0 L412,132.0 428,132.0\" fill=\"currentColor\"/>\n",
       "</g>\n",
       "\n",
       "<g class=\"displacy-arrow\">\n",
       "    <path class=\"displacy-arc\" id=\"arrow-0-5\" stroke-width=\"2px\" d=\"M210,142.0 C210,2.0 470.0,2.0 470.0,142.0\" fill=\"none\" stroke=\"currentColor\"/>\n",
       "    <text dy=\"1.25em\" style=\"font-size: 0.8em; letter-spacing: 1px\">\n",
       "        <textPath xlink:href=\"#arrow-0-5\" class=\"displacy-label\" startOffset=\"50%\" fill=\"currentColor\" text-anchor=\"middle\">dobj</textPath>\n",
       "    </text>\n",
       "    <path class=\"displacy-arrowhead\" d=\"M470.0,144.0 L478.0,132.0 462.0,132.0\" fill=\"currentColor\"/>\n",
       "</g>\n",
       "\n",
       "<g class=\"displacy-arrow\">\n",
       "    <path class=\"displacy-arc\" id=\"arrow-0-6\" stroke-width=\"2px\" d=\"M560,142.0 C560,2.0 820.0,2.0 820.0,142.0\" fill=\"none\" stroke=\"currentColor\"/>\n",
       "    <text dy=\"1.25em\" style=\"font-size: 0.8em; letter-spacing: 1px\">\n",
       "        <textPath xlink:href=\"#arrow-0-6\" class=\"displacy-label\" startOffset=\"50%\" fill=\"currentColor\" text-anchor=\"middle\">prep</textPath>\n",
       "    </text>\n",
       "    <path class=\"displacy-arrowhead\" d=\"M560,144.0 L552,132.0 568,132.0\" fill=\"currentColor\"/>\n",
       "</g>\n",
       "\n",
       "<g class=\"displacy-arrow\">\n",
       "    <path class=\"displacy-arc\" id=\"arrow-0-7\" stroke-width=\"2px\" d=\"M630,142.0 C630,107.0 665.0,107.0 665.0,142.0\" fill=\"none\" stroke=\"currentColor\"/>\n",
       "    <text dy=\"1.25em\" style=\"font-size: 0.8em; letter-spacing: 1px\">\n",
       "        <textPath xlink:href=\"#arrow-0-7\" class=\"displacy-label\" startOffset=\"50%\" fill=\"currentColor\" text-anchor=\"middle\">det</textPath>\n",
       "    </text>\n",
       "    <path class=\"displacy-arrowhead\" d=\"M630,144.0 L622,132.0 638,132.0\" fill=\"currentColor\"/>\n",
       "</g>\n",
       "\n",
       "<g class=\"displacy-arrow\">\n",
       "    <path class=\"displacy-arc\" id=\"arrow-0-8\" stroke-width=\"2px\" d=\"M560,142.0 C560,72.0 670.0,72.0 670.0,142.0\" fill=\"none\" stroke=\"currentColor\"/>\n",
       "    <text dy=\"1.25em\" style=\"font-size: 0.8em; letter-spacing: 1px\">\n",
       "        <textPath xlink:href=\"#arrow-0-8\" class=\"displacy-label\" startOffset=\"50%\" fill=\"currentColor\" text-anchor=\"middle\">pobj</textPath>\n",
       "    </text>\n",
       "    <path class=\"displacy-arrowhead\" d=\"M670.0,144.0 L678.0,132.0 662.0,132.0\" fill=\"currentColor\"/>\n",
       "</g>\n",
       "\n",
       "<g class=\"displacy-arrow\">\n",
       "    <path class=\"displacy-arc\" id=\"arrow-0-9\" stroke-width=\"2px\" d=\"M770,142.0 C770,107.0 805.0,107.0 805.0,142.0\" fill=\"none\" stroke=\"currentColor\"/>\n",
       "    <text dy=\"1.25em\" style=\"font-size: 0.8em; letter-spacing: 1px\">\n",
       "        <textPath xlink:href=\"#arrow-0-9\" class=\"displacy-label\" startOffset=\"50%\" fill=\"currentColor\" text-anchor=\"middle\">nsubj</textPath>\n",
       "    </text>\n",
       "    <path class=\"displacy-arrowhead\" d=\"M770,144.0 L762,132.0 778,132.0\" fill=\"currentColor\"/>\n",
       "</g>\n",
       "\n",
       "<g class=\"displacy-arrow\">\n",
       "    <path class=\"displacy-arc\" id=\"arrow-0-10\" stroke-width=\"2px\" d=\"M910,142.0 C910,72.0 1020.0,72.0 1020.0,142.0\" fill=\"none\" stroke=\"currentColor\"/>\n",
       "    <text dy=\"1.25em\" style=\"font-size: 0.8em; letter-spacing: 1px\">\n",
       "        <textPath xlink:href=\"#arrow-0-10\" class=\"displacy-label\" startOffset=\"50%\" fill=\"currentColor\" text-anchor=\"middle\">det</textPath>\n",
       "    </text>\n",
       "    <path class=\"displacy-arrowhead\" d=\"M910,144.0 L902,132.0 918,132.0\" fill=\"currentColor\"/>\n",
       "</g>\n",
       "\n",
       "<g class=\"displacy-arrow\">\n",
       "    <path class=\"displacy-arc\" id=\"arrow-0-11\" stroke-width=\"2px\" d=\"M980,142.0 C980,107.0 1015.0,107.0 1015.0,142.0\" fill=\"none\" stroke=\"currentColor\"/>\n",
       "    <text dy=\"1.25em\" style=\"font-size: 0.8em; letter-spacing: 1px\">\n",
       "        <textPath xlink:href=\"#arrow-0-11\" class=\"displacy-label\" startOffset=\"50%\" fill=\"currentColor\" text-anchor=\"middle\">amod</textPath>\n",
       "    </text>\n",
       "    <path class=\"displacy-arrowhead\" d=\"M980,144.0 L972,132.0 988,132.0\" fill=\"currentColor\"/>\n",
       "</g>\n",
       "\n",
       "<g class=\"displacy-arrow\">\n",
       "    <path class=\"displacy-arc\" id=\"arrow-0-12\" stroke-width=\"2px\" d=\"M840,142.0 C840,37.0 1025.0,37.0 1025.0,142.0\" fill=\"none\" stroke=\"currentColor\"/>\n",
       "    <text dy=\"1.25em\" style=\"font-size: 0.8em; letter-spacing: 1px\">\n",
       "        <textPath xlink:href=\"#arrow-0-12\" class=\"displacy-label\" startOffset=\"50%\" fill=\"currentColor\" text-anchor=\"middle\">attr</textPath>\n",
       "    </text>\n",
       "    <path class=\"displacy-arrowhead\" d=\"M1025.0,144.0 L1033.0,132.0 1017.0,132.0\" fill=\"currentColor\"/>\n",
       "</g>\n",
       "\n",
       "<g class=\"displacy-arrow\">\n",
       "    <path class=\"displacy-arc\" id=\"arrow-0-13\" stroke-width=\"2px\" d=\"M1050,142.0 C1050,107.0 1085.0,107.0 1085.0,142.0\" fill=\"none\" stroke=\"currentColor\"/>\n",
       "    <text dy=\"1.25em\" style=\"font-size: 0.8em; letter-spacing: 1px\">\n",
       "        <textPath xlink:href=\"#arrow-0-13\" class=\"displacy-label\" startOffset=\"50%\" fill=\"currentColor\" text-anchor=\"middle\">prep</textPath>\n",
       "    </text>\n",
       "    <path class=\"displacy-arrowhead\" d=\"M1085.0,144.0 L1093.0,132.0 1077.0,132.0\" fill=\"currentColor\"/>\n",
       "</g>\n",
       "\n",
       "<g class=\"displacy-arrow\">\n",
       "    <path class=\"displacy-arc\" id=\"arrow-0-14\" stroke-width=\"2px\" d=\"M1190,142.0 C1190,37.0 1375.0,37.0 1375.0,142.0\" fill=\"none\" stroke=\"currentColor\"/>\n",
       "    <text dy=\"1.25em\" style=\"font-size: 0.8em; letter-spacing: 1px\">\n",
       "        <textPath xlink:href=\"#arrow-0-14\" class=\"displacy-label\" startOffset=\"50%\" fill=\"currentColor\" text-anchor=\"middle\">dobj</textPath>\n",
       "    </text>\n",
       "    <path class=\"displacy-arrowhead\" d=\"M1190,144.0 L1182,132.0 1198,132.0\" fill=\"currentColor\"/>\n",
       "</g>\n",
       "\n",
       "<g class=\"displacy-arrow\">\n",
       "    <path class=\"displacy-arc\" id=\"arrow-0-15\" stroke-width=\"2px\" d=\"M1260,142.0 C1260,72.0 1370.0,72.0 1370.0,142.0\" fill=\"none\" stroke=\"currentColor\"/>\n",
       "    <text dy=\"1.25em\" style=\"font-size: 0.8em; letter-spacing: 1px\">\n",
       "        <textPath xlink:href=\"#arrow-0-15\" class=\"displacy-label\" startOffset=\"50%\" fill=\"currentColor\" text-anchor=\"middle\">nsubj</textPath>\n",
       "    </text>\n",
       "    <path class=\"displacy-arrowhead\" d=\"M1260,144.0 L1252,132.0 1268,132.0\" fill=\"currentColor\"/>\n",
       "</g>\n",
       "\n",
       "<g class=\"displacy-arrow\">\n",
       "    <path class=\"displacy-arc\" id=\"arrow-0-16\" stroke-width=\"2px\" d=\"M1330,142.0 C1330,107.0 1365.0,107.0 1365.0,142.0\" fill=\"none\" stroke=\"currentColor\"/>\n",
       "    <text dy=\"1.25em\" style=\"font-size: 0.8em; letter-spacing: 1px\">\n",
       "        <textPath xlink:href=\"#arrow-0-16\" class=\"displacy-label\" startOffset=\"50%\" fill=\"currentColor\" text-anchor=\"middle\">aux</textPath>\n",
       "    </text>\n",
       "    <path class=\"displacy-arrowhead\" d=\"M1330,144.0 L1322,132.0 1338,132.0\" fill=\"currentColor\"/>\n",
       "</g>\n",
       "\n",
       "<g class=\"displacy-arrow\">\n",
       "    <path class=\"displacy-arc\" id=\"arrow-0-17\" stroke-width=\"2px\" d=\"M1120,142.0 C1120,2.0 1380.0,2.0 1380.0,142.0\" fill=\"none\" stroke=\"currentColor\"/>\n",
       "    <text dy=\"1.25em\" style=\"font-size: 0.8em; letter-spacing: 1px\">\n",
       "        <textPath xlink:href=\"#arrow-0-17\" class=\"displacy-label\" startOffset=\"50%\" fill=\"currentColor\" text-anchor=\"middle\">pcomp</textPath>\n",
       "    </text>\n",
       "    <path class=\"displacy-arrowhead\" d=\"M1380.0,144.0 L1388.0,132.0 1372.0,132.0\" fill=\"currentColor\"/>\n",
       "</g>\n",
       "\n",
       "<g class=\"displacy-arrow\">\n",
       "    <path class=\"displacy-arc\" id=\"arrow-0-18\" stroke-width=\"2px\" d=\"M1400,142.0 C1400,107.0 1435.0,107.0 1435.0,142.0\" fill=\"none\" stroke=\"currentColor\"/>\n",
       "    <text dy=\"1.25em\" style=\"font-size: 0.8em; letter-spacing: 1px\">\n",
       "        <textPath xlink:href=\"#arrow-0-18\" class=\"displacy-label\" startOffset=\"50%\" fill=\"currentColor\" text-anchor=\"middle\">acomp</textPath>\n",
       "    </text>\n",
       "    <path class=\"displacy-arrowhead\" d=\"M1435.0,144.0 L1443.0,132.0 1427.0,132.0\" fill=\"currentColor\"/>\n",
       "</g>\n",
       "\n",
       "<g class=\"displacy-arrow\">\n",
       "    <path class=\"displacy-arc\" id=\"arrow-0-19\" stroke-width=\"2px\" d=\"M1540,142.0 C1540,107.0 1575.0,107.0 1575.0,142.0\" fill=\"none\" stroke=\"currentColor\"/>\n",
       "    <text dy=\"1.25em\" style=\"font-size: 0.8em; letter-spacing: 1px\">\n",
       "        <textPath xlink:href=\"#arrow-0-19\" class=\"displacy-label\" startOffset=\"50%\" fill=\"currentColor\" text-anchor=\"middle\">aux</textPath>\n",
       "    </text>\n",
       "    <path class=\"displacy-arrowhead\" d=\"M1540,144.0 L1532,132.0 1548,132.0\" fill=\"currentColor\"/>\n",
       "</g>\n",
       "\n",
       "<g class=\"displacy-arrow\">\n",
       "    <path class=\"displacy-arc\" id=\"arrow-0-20\" stroke-width=\"2px\" d=\"M1470,142.0 C1470,72.0 1580.0,72.0 1580.0,142.0\" fill=\"none\" stroke=\"currentColor\"/>\n",
       "    <text dy=\"1.25em\" style=\"font-size: 0.8em; letter-spacing: 1px\">\n",
       "        <textPath xlink:href=\"#arrow-0-20\" class=\"displacy-label\" startOffset=\"50%\" fill=\"currentColor\" text-anchor=\"middle\">xcomp</textPath>\n",
       "    </text>\n",
       "    <path class=\"displacy-arrowhead\" d=\"M1580.0,144.0 L1588.0,132.0 1572.0,132.0\" fill=\"currentColor\"/>\n",
       "</g>\n",
       "\n",
       "<g class=\"displacy-arrow\">\n",
       "    <path class=\"displacy-arc\" id=\"arrow-0-21\" stroke-width=\"2px\" d=\"M1610,142.0 C1610,107.0 1645.0,107.0 1645.0,142.0\" fill=\"none\" stroke=\"currentColor\"/>\n",
       "    <text dy=\"1.25em\" style=\"font-size: 0.8em; letter-spacing: 1px\">\n",
       "        <textPath xlink:href=\"#arrow-0-21\" class=\"displacy-label\" startOffset=\"50%\" fill=\"currentColor\" text-anchor=\"middle\">prep</textPath>\n",
       "    </text>\n",
       "    <path class=\"displacy-arrowhead\" d=\"M1645.0,144.0 L1653.0,132.0 1637.0,132.0\" fill=\"currentColor\"/>\n",
       "</g>\n",
       "\n",
       "<g class=\"displacy-arrow\">\n",
       "    <path class=\"displacy-arc\" id=\"arrow-0-22\" stroke-width=\"2px\" d=\"M1750,142.0 C1750,107.0 1785.0,107.0 1785.0,142.0\" fill=\"none\" stroke=\"currentColor\"/>\n",
       "    <text dy=\"1.25em\" style=\"font-size: 0.8em; letter-spacing: 1px\">\n",
       "        <textPath xlink:href=\"#arrow-0-22\" class=\"displacy-label\" startOffset=\"50%\" fill=\"currentColor\" text-anchor=\"middle\">det</textPath>\n",
       "    </text>\n",
       "    <path class=\"displacy-arrowhead\" d=\"M1750,144.0 L1742,132.0 1758,132.0\" fill=\"currentColor\"/>\n",
       "</g>\n",
       "\n",
       "<g class=\"displacy-arrow\">\n",
       "    <path class=\"displacy-arc\" id=\"arrow-0-23\" stroke-width=\"2px\" d=\"M1680,142.0 C1680,72.0 1790.0,72.0 1790.0,142.0\" fill=\"none\" stroke=\"currentColor\"/>\n",
       "    <text dy=\"1.25em\" style=\"font-size: 0.8em; letter-spacing: 1px\">\n",
       "        <textPath xlink:href=\"#arrow-0-23\" class=\"displacy-label\" startOffset=\"50%\" fill=\"currentColor\" text-anchor=\"middle\">pobj</textPath>\n",
       "    </text>\n",
       "    <path class=\"displacy-arrowhead\" d=\"M1790.0,144.0 L1798.0,132.0 1782.0,132.0\" fill=\"currentColor\"/>\n",
       "</g>\n",
       "</svg>"
      ],
      "text/plain": [
       "<IPython.core.display.HTML object>"
      ]
     },
     "metadata": {},
     "output_type": "display_data"
    }
   ],
   "source": [
    "displacy.render(doc, style='dep', jupyter = True, options={'distance': 70})"
   ]
  },
  {
   "cell_type": "markdown",
   "metadata": {},
   "source": [
    "#### NAMED ENTITY RECOGNITION"
   ]
  },
  {
   "cell_type": "code",
   "execution_count": 78,
   "metadata": {},
   "outputs": [
    {
     "name": "stdout",
     "output_type": "stream",
     "text": [
      "AI 0 2 PERSON\n",
      "the Sixties 36 47 DATE\n"
     ]
    }
   ],
   "source": [
    "for ent in doc.ents:\n",
    "    print(ent.text, ent.start_char, ent.end_char, ent.label_)"
   ]
  },
  {
   "cell_type": "code",
   "execution_count": 81,
   "metadata": {},
   "outputs": [
    {
     "data": {
      "text/html": [
       "<div class=\"entities\" style=\"line-height: 2.5\">\n",
       "<mark class=\"entity\" style=\"background: #aa9cfc; padding: 0.45em 0.6em; margin: 0 0.25em; line-height: 1; border-radius: 0.35em; box-decoration-break: clone; -webkit-box-decoration-break: clone\">\n",
       "    AI\n",
       "    <span style=\"font-size: 0.8em; font-weight: bold; line-height: 1; border-radius: 0.35em; text-transform: uppercase; vertical-align: middle; margin-left: 0.5rem\">PERSON</span>\n",
       "</mark>\n",
       " has had a few excellent runs. In \n",
       "<mark class=\"entity\" style=\"background: #bfe1d9; padding: 0.45em 0.6em; margin: 0 0.25em; line-height: 1; border-radius: 0.35em; box-decoration-break: clone; -webkit-box-decoration-break: clone\">\n",
       "    the Sixties\n",
       "    <span style=\"font-size: 0.8em; font-weight: bold; line-height: 1; border-radius: 0.35em; text-transform: uppercase; vertical-align: middle; margin-left: 0.5rem\">DATE</span>\n",
       "</mark>\n",
       ", it was the great promise of what we would be able to do with the machine.</div>"
      ],
      "text/plain": [
       "<IPython.core.display.HTML object>"
      ]
     },
     "metadata": {},
     "output_type": "display_data"
    }
   ],
   "source": [
    "displacy.render(doc, style = 'ent', jupyter = True)"
   ]
  },
  {
   "cell_type": "code",
   "execution_count": 89,
   "metadata": {
    "collapsed": true
   },
   "outputs": [],
   "source": [
    "tokens_2 = [token.orth_ for token in doc]"
   ]
  },
  {
   "cell_type": "code",
   "execution_count": 90,
   "metadata": {},
   "outputs": [
    {
     "data": {
      "text/plain": [
       "['AI',\n",
       " 'has',\n",
       " 'had',\n",
       " 'a',\n",
       " 'few',\n",
       " 'excellent',\n",
       " 'runs',\n",
       " '.',\n",
       " 'In',\n",
       " 'the',\n",
       " 'Sixties',\n",
       " ',',\n",
       " 'it',\n",
       " 'was',\n",
       " 'the',\n",
       " 'great',\n",
       " 'promise',\n",
       " 'of',\n",
       " 'what',\n",
       " 'we',\n",
       " 'would',\n",
       " 'be',\n",
       " 'able',\n",
       " 'to',\n",
       " 'do',\n",
       " 'with',\n",
       " 'the',\n",
       " 'machine',\n",
       " '.']"
      ]
     },
     "execution_count": 90,
     "metadata": {},
     "output_type": "execute_result"
    }
   ],
   "source": [
    "tokens_2"
   ]
  },
  {
   "cell_type": "code",
   "execution_count": 85,
   "metadata": {
    "collapsed": true
   },
   "outputs": [],
   "source": [
    "tokens_3 = [token for token in doc]"
   ]
  },
  {
   "cell_type": "code",
   "execution_count": 86,
   "metadata": {},
   "outputs": [
    {
     "data": {
      "text/plain": [
       "[AI,\n",
       " has,\n",
       " had,\n",
       " a,\n",
       " few,\n",
       " excellent,\n",
       " runs,\n",
       " .,\n",
       " In,\n",
       " the,\n",
       " Sixties,\n",
       " ,,\n",
       " it,\n",
       " was,\n",
       " the,\n",
       " great,\n",
       " promise,\n",
       " of,\n",
       " what,\n",
       " we,\n",
       " would,\n",
       " be,\n",
       " able,\n",
       " to,\n",
       " do,\n",
       " with,\n",
       " the,\n",
       " machine,\n",
       " .]"
      ]
     },
     "execution_count": 86,
     "metadata": {},
     "output_type": "execute_result"
    }
   ],
   "source": [
    "tokens_3"
   ]
  },
  {
   "cell_type": "markdown",
   "metadata": {
    "collapsed": true
   },
   "source": [
    "#### PART OF SPEECH TAGGING"
   ]
  },
  {
   "cell_type": "code",
   "execution_count": 1,
   "metadata": {
    "collapsed": true
   },
   "outputs": [],
   "source": [
    "import spacy"
   ]
  },
  {
   "cell_type": "code",
   "execution_count": 2,
   "metadata": {
    "collapsed": true
   },
   "outputs": [],
   "source": [
    "nlp = spacy.load('en_core_web_sm')"
   ]
  },
  {
   "cell_type": "code",
   "execution_count": 10,
   "metadata": {
    "collapsed": true
   },
   "outputs": [],
   "source": [
    "doc = nlp(\"'Apple is looking at buying U.K. startup for $1 billion. The deal if went thorugh is going to be humougous!\")"
   ]
  },
  {
   "cell_type": "code",
   "execution_count": 16,
   "metadata": {},
   "outputs": [
    {
     "name": "stdout",
     "output_type": "stream",
     "text": [
      "' / ' / PUNCT / `` / True /False / punct\n",
      "Apple / apple / PROPN / NNP / False /False / nsubj\n",
      "is / be / VERB / VBZ / False /True / aux\n",
      "looking / look / VERB / VBG / False /False / ROOT\n",
      "at / at / ADP / IN / False /True / prep\n",
      "buying / buy / VERB / VBG / False /False / pcomp\n",
      "U.K. / u.k. / PROPN / NNP / False /False / compound\n",
      "startup / startup / NOUN / NN / False /False / dobj\n",
      "for / for / ADP / IN / False /True / prep\n",
      "$ / $ / SYM / $ / False /False / quantmod\n",
      "1 / 1 / NUM / CD / False /False / compound\n",
      "billion / billion / NUM / CD / False /False / pobj\n",
      ". / . / PUNCT / . / True /False / punct\n",
      "The / the / DET / DT / False /False / det\n",
      "deal / deal / NOUN / NN / False /False / nsubj\n",
      "if / if / ADP / IN / False /True / mark\n",
      "went / go / VERB / VBD / False /False / advcl\n",
      "thorugh / thorugh / NOUN / NN / False /False / acomp\n",
      "is / be / VERB / VBZ / False /True / aux\n",
      "going / go / VERB / VBG / False /False / ROOT\n",
      "to / to / PART / TO / False /True / aux\n",
      "be / be / VERB / VB / False /True / xcomp\n",
      "humougous / humougous / ADJ / JJ / False /False / acomp\n",
      "! / ! / PUNCT / . / True /False / punct\n"
     ]
    }
   ],
   "source": [
    "for token in doc:\n",
    "    print((\"{0} / {1} / {2} / {3} / {4} /{5} / {6}\").format(token.text, token.lemma_, token.pos_, token.tag_, token.is_punct, token.is_stop, token.dep_))"
   ]
  },
  {
   "cell_type": "code",
   "execution_count": 18,
   "metadata": {},
   "outputs": [
    {
     "data": {
      "text/html": [
       "<div class=\"entities\" style=\"line-height: 2.5\">'\n",
       "<mark class=\"entity\" style=\"background: #7aecec; padding: 0.45em 0.6em; margin: 0 0.25em; line-height: 1; border-radius: 0.35em; box-decoration-break: clone; -webkit-box-decoration-break: clone\">\n",
       "    Apple\n",
       "    <span style=\"font-size: 0.8em; font-weight: bold; line-height: 1; border-radius: 0.35em; text-transform: uppercase; vertical-align: middle; margin-left: 0.5rem\">ORG</span>\n",
       "</mark>\n",
       " is looking at buying \n",
       "<mark class=\"entity\" style=\"background: #feca74; padding: 0.45em 0.6em; margin: 0 0.25em; line-height: 1; border-radius: 0.35em; box-decoration-break: clone; -webkit-box-decoration-break: clone\">\n",
       "    U.K.\n",
       "    <span style=\"font-size: 0.8em; font-weight: bold; line-height: 1; border-radius: 0.35em; text-transform: uppercase; vertical-align: middle; margin-left: 0.5rem\">GPE</span>\n",
       "</mark>\n",
       " startup for \n",
       "<mark class=\"entity\" style=\"background: #e4e7d2; padding: 0.45em 0.6em; margin: 0 0.25em; line-height: 1; border-radius: 0.35em; box-decoration-break: clone; -webkit-box-decoration-break: clone\">\n",
       "    $1 billion\n",
       "    <span style=\"font-size: 0.8em; font-weight: bold; line-height: 1; border-radius: 0.35em; text-transform: uppercase; vertical-align: middle; margin-left: 0.5rem\">MONEY</span>\n",
       "</mark>\n",
       ". The deal if went thorugh is going to be humougous!</div>"
      ],
      "text/plain": [
       "<IPython.core.display.HTML object>"
      ]
     },
     "metadata": {},
     "output_type": "display_data"
    },
    {
     "name": "stdout",
     "output_type": "stream",
     "text": [
      "None\n"
     ]
    }
   ],
   "source": [
    "from spacy import displacy\n",
    "print(displacy.render(doc, jupyter = True, style = 'ent'))"
   ]
  },
  {
   "cell_type": "markdown",
   "metadata": {},
   "source": [
    "#### DEPENDENCY PARSING"
   ]
  },
  {
   "cell_type": "markdown",
   "metadata": {},
   "source": [
    "NOUN CHUNKS"
   ]
  },
  {
   "cell_type": "code",
   "execution_count": 19,
   "metadata": {
    "collapsed": true
   },
   "outputs": [],
   "source": [
    "nlp = spacy.load('en_core_web_sm')"
   ]
  },
  {
   "cell_type": "code",
   "execution_count": 21,
   "metadata": {
    "collapsed": true
   },
   "outputs": [],
   "source": [
    "doc = nlp(\"Autonomous cars shift insurance liability toward manufacturers\")"
   ]
  },
  {
   "cell_type": "code",
   "execution_count": 29,
   "metadata": {},
   "outputs": [
    {
     "name": "stdout",
     "output_type": "stream",
     "text": [
      "Autonomous cars / cars / shift / nsubj\n",
      "insurance liability / liability / shift / dobj\n",
      "manufacturers / manufacturers / toward / pobj\n"
     ]
    }
   ],
   "source": [
    "for chunk in doc.noun_chunks:\n",
    "    print((\"{0} / {1} / {2} / {3}\").format(chunk.text, chunk.root.text, chunk.root.head, chunk.root.dep_))"
   ]
  },
  {
   "cell_type": "markdown",
   "metadata": {},
   "source": [
    "#### NAVIGATING THE PARSE TREE"
   ]
  },
  {
   "cell_type": "markdown",
   "metadata": {},
   "source": [
    "spaCy uses the terms head and child to describe the words connected by a single arc in the dependency tree. \n",
    "The term dep is used for the arc label, which describes the type of syntactic relation that connects the child to \n",
    "the head. As with other attributes, the value of .dep is a hash value. You can get the string value with .dep_."
   ]
  },
  {
   "cell_type": "code",
   "execution_count": 30,
   "metadata": {
    "collapsed": true
   },
   "outputs": [],
   "source": [
    "nlp = spacy.load(\"en_core_web_sm\")"
   ]
  },
  {
   "cell_type": "code",
   "execution_count": 31,
   "metadata": {
    "collapsed": true
   },
   "outputs": [],
   "source": [
    "doc = nlp(\"Autonomous cars shift insurance liability toward manufacturers\")"
   ]
  },
  {
   "cell_type": "code",
   "execution_count": 35,
   "metadata": {},
   "outputs": [
    {
     "name": "stdout",
     "output_type": "stream",
     "text": [
      "Autonomous cars NOUN amod []\n",
      "cars shift VERB nsubj [Autonomous]\n",
      "shift shift VERB ROOT [cars, liability, toward]\n",
      "insurance liability NOUN compound []\n",
      "liability shift VERB dobj [insurance]\n",
      "toward shift VERB prep [manufacturers]\n",
      "manufacturers toward ADP pobj []\n"
     ]
    }
   ],
   "source": [
    "for token in doc:\n",
    "    print(token.text, token.head.text, token.head.pos_, token.dep_,[child for child in token.children])"
   ]
  },
  {
   "cell_type": "code",
   "execution_count": 36,
   "metadata": {},
   "outputs": [
    {
     "data": {
      "text/html": [
       "<svg xmlns=\"http://www.w3.org/2000/svg\" xmlns:xlink=\"http://www.w3.org/1999/xlink\" id=\"0\" class=\"displacy\" width=\"1275\" height=\"399.5\" style=\"max-width: none; height: 399.5px; color: #000000; background: #ffffff; font-family: Arial\">\n",
       "<text class=\"displacy-token\" fill=\"currentColor\" text-anchor=\"middle\" y=\"309.5\">\n",
       "    <tspan class=\"displacy-word\" fill=\"currentColor\" x=\"50\">Autonomous</tspan>\n",
       "    <tspan class=\"displacy-tag\" dy=\"2em\" fill=\"currentColor\" x=\"50\">ADJ</tspan>\n",
       "</text>\n",
       "\n",
       "<text class=\"displacy-token\" fill=\"currentColor\" text-anchor=\"middle\" y=\"309.5\">\n",
       "    <tspan class=\"displacy-word\" fill=\"currentColor\" x=\"225\">cars</tspan>\n",
       "    <tspan class=\"displacy-tag\" dy=\"2em\" fill=\"currentColor\" x=\"225\">NOUN</tspan>\n",
       "</text>\n",
       "\n",
       "<text class=\"displacy-token\" fill=\"currentColor\" text-anchor=\"middle\" y=\"309.5\">\n",
       "    <tspan class=\"displacy-word\" fill=\"currentColor\" x=\"400\">shift</tspan>\n",
       "    <tspan class=\"displacy-tag\" dy=\"2em\" fill=\"currentColor\" x=\"400\">VERB</tspan>\n",
       "</text>\n",
       "\n",
       "<text class=\"displacy-token\" fill=\"currentColor\" text-anchor=\"middle\" y=\"309.5\">\n",
       "    <tspan class=\"displacy-word\" fill=\"currentColor\" x=\"575\">insurance</tspan>\n",
       "    <tspan class=\"displacy-tag\" dy=\"2em\" fill=\"currentColor\" x=\"575\">NOUN</tspan>\n",
       "</text>\n",
       "\n",
       "<text class=\"displacy-token\" fill=\"currentColor\" text-anchor=\"middle\" y=\"309.5\">\n",
       "    <tspan class=\"displacy-word\" fill=\"currentColor\" x=\"750\">liability</tspan>\n",
       "    <tspan class=\"displacy-tag\" dy=\"2em\" fill=\"currentColor\" x=\"750\">NOUN</tspan>\n",
       "</text>\n",
       "\n",
       "<text class=\"displacy-token\" fill=\"currentColor\" text-anchor=\"middle\" y=\"309.5\">\n",
       "    <tspan class=\"displacy-word\" fill=\"currentColor\" x=\"925\">toward</tspan>\n",
       "    <tspan class=\"displacy-tag\" dy=\"2em\" fill=\"currentColor\" x=\"925\">ADP</tspan>\n",
       "</text>\n",
       "\n",
       "<text class=\"displacy-token\" fill=\"currentColor\" text-anchor=\"middle\" y=\"309.5\">\n",
       "    <tspan class=\"displacy-word\" fill=\"currentColor\" x=\"1100\">manufacturers</tspan>\n",
       "    <tspan class=\"displacy-tag\" dy=\"2em\" fill=\"currentColor\" x=\"1100\">NOUN</tspan>\n",
       "</text>\n",
       "\n",
       "<g class=\"displacy-arrow\">\n",
       "    <path class=\"displacy-arc\" id=\"arrow-0-0\" stroke-width=\"2px\" d=\"M70,264.5 C70,177.0 215.0,177.0 215.0,264.5\" fill=\"none\" stroke=\"currentColor\"/>\n",
       "    <text dy=\"1.25em\" style=\"font-size: 0.8em; letter-spacing: 1px\">\n",
       "        <textPath xlink:href=\"#arrow-0-0\" class=\"displacy-label\" startOffset=\"50%\" fill=\"currentColor\" text-anchor=\"middle\">amod</textPath>\n",
       "    </text>\n",
       "    <path class=\"displacy-arrowhead\" d=\"M70,266.5 L62,254.5 78,254.5\" fill=\"currentColor\"/>\n",
       "</g>\n",
       "\n",
       "<g class=\"displacy-arrow\">\n",
       "    <path class=\"displacy-arc\" id=\"arrow-0-1\" stroke-width=\"2px\" d=\"M245,264.5 C245,177.0 390.0,177.0 390.0,264.5\" fill=\"none\" stroke=\"currentColor\"/>\n",
       "    <text dy=\"1.25em\" style=\"font-size: 0.8em; letter-spacing: 1px\">\n",
       "        <textPath xlink:href=\"#arrow-0-1\" class=\"displacy-label\" startOffset=\"50%\" fill=\"currentColor\" text-anchor=\"middle\">nsubj</textPath>\n",
       "    </text>\n",
       "    <path class=\"displacy-arrowhead\" d=\"M245,266.5 L237,254.5 253,254.5\" fill=\"currentColor\"/>\n",
       "</g>\n",
       "\n",
       "<g class=\"displacy-arrow\">\n",
       "    <path class=\"displacy-arc\" id=\"arrow-0-2\" stroke-width=\"2px\" d=\"M595,264.5 C595,177.0 740.0,177.0 740.0,264.5\" fill=\"none\" stroke=\"currentColor\"/>\n",
       "    <text dy=\"1.25em\" style=\"font-size: 0.8em; letter-spacing: 1px\">\n",
       "        <textPath xlink:href=\"#arrow-0-2\" class=\"displacy-label\" startOffset=\"50%\" fill=\"currentColor\" text-anchor=\"middle\">compound</textPath>\n",
       "    </text>\n",
       "    <path class=\"displacy-arrowhead\" d=\"M595,266.5 L587,254.5 603,254.5\" fill=\"currentColor\"/>\n",
       "</g>\n",
       "\n",
       "<g class=\"displacy-arrow\">\n",
       "    <path class=\"displacy-arc\" id=\"arrow-0-3\" stroke-width=\"2px\" d=\"M420,264.5 C420,89.5 745.0,89.5 745.0,264.5\" fill=\"none\" stroke=\"currentColor\"/>\n",
       "    <text dy=\"1.25em\" style=\"font-size: 0.8em; letter-spacing: 1px\">\n",
       "        <textPath xlink:href=\"#arrow-0-3\" class=\"displacy-label\" startOffset=\"50%\" fill=\"currentColor\" text-anchor=\"middle\">dobj</textPath>\n",
       "    </text>\n",
       "    <path class=\"displacy-arrowhead\" d=\"M745.0,266.5 L753.0,254.5 737.0,254.5\" fill=\"currentColor\"/>\n",
       "</g>\n",
       "\n",
       "<g class=\"displacy-arrow\">\n",
       "    <path class=\"displacy-arc\" id=\"arrow-0-4\" stroke-width=\"2px\" d=\"M420,264.5 C420,2.0 925.0,2.0 925.0,264.5\" fill=\"none\" stroke=\"currentColor\"/>\n",
       "    <text dy=\"1.25em\" style=\"font-size: 0.8em; letter-spacing: 1px\">\n",
       "        <textPath xlink:href=\"#arrow-0-4\" class=\"displacy-label\" startOffset=\"50%\" fill=\"currentColor\" text-anchor=\"middle\">prep</textPath>\n",
       "    </text>\n",
       "    <path class=\"displacy-arrowhead\" d=\"M925.0,266.5 L933.0,254.5 917.0,254.5\" fill=\"currentColor\"/>\n",
       "</g>\n",
       "\n",
       "<g class=\"displacy-arrow\">\n",
       "    <path class=\"displacy-arc\" id=\"arrow-0-5\" stroke-width=\"2px\" d=\"M945,264.5 C945,177.0 1090.0,177.0 1090.0,264.5\" fill=\"none\" stroke=\"currentColor\"/>\n",
       "    <text dy=\"1.25em\" style=\"font-size: 0.8em; letter-spacing: 1px\">\n",
       "        <textPath xlink:href=\"#arrow-0-5\" class=\"displacy-label\" startOffset=\"50%\" fill=\"currentColor\" text-anchor=\"middle\">pobj</textPath>\n",
       "    </text>\n",
       "    <path class=\"displacy-arrowhead\" d=\"M1090.0,266.5 L1098.0,254.5 1082.0,254.5\" fill=\"currentColor\"/>\n",
       "</g>\n",
       "</svg>"
      ],
      "text/plain": [
       "<IPython.core.display.HTML object>"
      ]
     },
     "metadata": {},
     "output_type": "display_data"
    }
   ],
   "source": [
    "displacy.render(doc, jupyter = True, style = 'dep')"
   ]
  },
  {
   "cell_type": "markdown",
   "metadata": {},
   "source": [
    "#### ITERATING AROUND THE LOCAL TREE"
   ]
  },
  {
   "cell_type": "code",
   "execution_count": 41,
   "metadata": {},
   "outputs": [
    {
     "name": "stdout",
     "output_type": "stream",
     "text": [
      "['schöne', 'rote']\n",
      "['auf']\n"
     ]
    }
   ],
   "source": [
    "import spacy\n",
    "\n",
    "nlp = spacy.load('de')\n",
    "doc = nlp(\"schöne rote Äpfel auf dem Baum\")\n",
    "print([token.text for token in doc[2].lefts])  # ['schöne', 'rote']\n",
    "print([token.text for token in doc[2].rights])  # ['auf']"
   ]
  },
  {
   "cell_type": "code",
   "execution_count": 42,
   "metadata": {
    "collapsed": true
   },
   "outputs": [],
   "source": [
    "import spacy"
   ]
  },
  {
   "cell_type": "code",
   "execution_count": 43,
   "metadata": {
    "collapsed": true
   },
   "outputs": [],
   "source": [
    "nlp = spacy.load('en_core_web_sm')"
   ]
  },
  {
   "cell_type": "code",
   "execution_count": 44,
   "metadata": {
    "collapsed": true
   },
   "outputs": [],
   "source": [
    "doc = nlp(\"bright red apples on the tree\")"
   ]
  },
  {
   "cell_type": "code",
   "execution_count": 49,
   "metadata": {},
   "outputs": [
    {
     "name": "stdout",
     "output_type": "stream",
     "text": [
      "['bright', 'red']\n"
     ]
    }
   ],
   "source": [
    "print([token.text for token in doc[2].lefts])"
   ]
  },
  {
   "cell_type": "code",
   "execution_count": 50,
   "metadata": {},
   "outputs": [
    {
     "name": "stdout",
     "output_type": "stream",
     "text": [
      "['on']\n"
     ]
    }
   ],
   "source": [
    "print([token.text for token in doc[2].rights])"
   ]
  },
  {
   "cell_type": "markdown",
   "metadata": {},
   "source": [
    "#### WORD VECTORS AND SIMILARITY"
   ]
  },
  {
   "cell_type": "markdown",
   "metadata": {},
   "source": [
    "spaCy is able to compare two objects, and make a prediction of how similar they are. \n",
    "Predicting similarity is useful for building recommendation systems or flagging duplicates. \n",
    "For example, you can suggest a user content that's similar to what they're currently looking at, \n",
    "or label a support ticket as a duplicate if it's very similar to an already existing one.\n",
    "\n",
    "Each Doc, Span and Token comes with a .similarity() method that lets you compare it with another object, \n",
    "and determine the similarity. Of course similarity is always subjective – whether \"dog\" and \"cat\" are similar \n",
    "really depends on how you're looking at it. spaCy's similarity model usually assumes a pretty general-purpose \n",
    "definition of similarity."
   ]
  },
  {
   "cell_type": "code",
   "execution_count": 52,
   "metadata": {
    "collapsed": true
   },
   "outputs": [],
   "source": [
    "import spacy\n",
    "\n",
    "nlp = spacy.load('en_core_web_sm')"
   ]
  },
  {
   "cell_type": "code",
   "execution_count": 53,
   "metadata": {
    "collapsed": true
   },
   "outputs": [],
   "source": [
    "doc = nlp(\"dog cat banana\")"
   ]
  },
  {
   "cell_type": "code",
   "execution_count": 54,
   "metadata": {},
   "outputs": [
    {
     "name": "stdout",
     "output_type": "stream",
     "text": [
      "dog dog 1.0\n",
      "dog cat 0.53907\n",
      "dog banana 0.28761\n",
      "cat dog 0.53907\n",
      "cat cat 1.0\n",
      "cat banana 0.487522\n",
      "banana dog 0.28761\n",
      "banana cat 0.487522\n",
      "banana banana 1.0\n"
     ]
    }
   ],
   "source": [
    "for token1 in doc:\n",
    "    for token2 in doc:\n",
    "        print(token1.text, token2.text, token1.similarity(token2))"
   ]
  },
  {
   "cell_type": "code",
   "execution_count": 57,
   "metadata": {},
   "outputs": [
    {
     "name": "stdout",
     "output_type": "stream",
     "text": [
      "dog [  8.70676517e-01   2.25968695e+00  -6.31433487e-01   5.31767309e-01\n",
      "   2.93477565e-01   1.71422577e+00  -3.22116423e+00   8.72991681e-01\n",
      "   1.93997455e+00   2.87031174e+00   2.26860499e+00  -1.70549417e+00\n",
      "   1.75721872e+00   1.00328207e-01  -1.84722948e+00   8.10127974e-01\n",
      "  -2.36641645e+00  -6.74954057e-01  -2.57085705e+00   1.77607059e+00\n",
      "  -1.85285002e-01   1.23867345e+00  -9.75624323e-01   1.93797350e+00\n",
      "   2.00332999e-02  -1.60199916e+00  -5.47065139e-01   1.61460507e+00\n",
      "  -2.17767835e-01  -2.21958613e+00  -7.38540709e-01  -6.19614363e-01\n",
      "  -3.90585244e-01   1.81051493e-02  -5.94446249e-02  -1.39486265e+00\n",
      "   1.60074520e+00  -5.22987545e-01   2.30428672e+00  -1.77107120e+00\n",
      "  -1.88900483e+00  -2.22219467e+00   1.16671133e+00  -2.62894034e+00\n",
      "  -2.51317692e+00  -6.32965326e-01  -2.00493360e+00  -7.31566608e-01\n",
      "  -1.48643404e-01  -1.04217589e+00   3.28766537e+00  -2.02324677e+00\n",
      "  -2.19653702e+00   3.25622582e+00   3.02244604e-01  -2.88570762e+00\n",
      "   3.49860716e+00   3.15575504e+00   1.48300719e+00   7.33343959e-01\n",
      "  -6.78643286e-02   7.45196819e-01   4.10166919e-01   3.41616011e+00\n",
      "  -3.19031477e+00  -1.13197446e+00  -3.10038900e+00  -1.45067954e+00\n",
      "   5.08339882e+00   2.10492373e+00  -1.19491780e+00  -1.98128963e+00\n",
      "  -1.91702271e+00   1.36788106e+00  -2.37439156e+00   6.75350308e-01\n",
      "  -3.38640213e+00   8.08697462e-01  -9.13917243e-01   4.97807074e+00\n",
      "  -2.40037966e+00  -4.78142023e+00  -2.97760606e-01  -1.17393494e+00\n",
      "   1.28757095e+00   6.94582701e-01  -2.84945309e-01  -1.52763247e+00\n",
      "  -8.30122769e-01   2.08241463e-01  -2.00068212e+00   5.76162529e+00\n",
      "  -1.02909636e+00   2.79890585e+00  -2.84601164e+00   6.36399209e-01\n",
      "  -2.58664894e+00  -9.50223982e-01  -5.09984314e-01   1.84629858e-01\n",
      "  -1.77571988e+00   8.80202889e-01  -2.55665332e-01  -2.19170046e+00\n",
      "   7.10785627e-01   2.48096132e+00   6.00363612e-01  -2.11674309e+00\n",
      "  -9.21109796e-01   7.26954341e-02  -1.17962599e-01  -4.20256281e+00\n",
      "  -1.00509334e+00   2.26658177e+00   1.28629637e+00   4.20804310e+00\n",
      "   9.25158739e-01   4.84393311e+00   2.69508362e+00   3.46127033e-01\n",
      "  -3.85461569e-01   1.44419479e+00   2.60944486e-01   1.41462314e+00\n",
      "   4.04686689e-01  -6.77667618e-01   1.84006011e+00  -2.22921777e+00\n",
      "  -4.06655371e-02  -4.67512488e-01  -1.48603320e-03   6.95480406e-03\n",
      "  -2.33618975e-01   5.22385955e-01   2.84444630e-01  -1.15923077e-01\n",
      "   7.28982925e-01   1.22454989e+00   6.42329216e-01   1.72698081e-01\n",
      "   2.37713262e-01  -2.45614976e-01  -5.31564116e-01   2.80811131e-01\n",
      "  -3.67165685e-01   1.08276916e+00   1.30272853e+00  -1.78959966e-02\n",
      "   1.58501267e-01  -1.53160632e-01   4.31687534e-01   5.04580796e-01\n",
      "  -1.80815041e-01  -6.07171893e-01   2.33619124e-01  -4.76104379e-01\n",
      "   3.17476749e-01   6.07748330e-02  -3.01800430e-01   1.86644897e-01\n",
      "  -2.40718037e-01   9.51832458e-02   1.72668591e-01  -5.08097887e-01\n",
      "   3.78385484e-01  -2.01166138e-01   2.76784122e-01  -1.63674057e-01\n",
      "  -2.74965227e-01   1.27325082e+00  -3.66868973e-01  -6.93550646e-01\n",
      "   1.95240855e-01   3.60833824e-01  -2.95570463e-01   1.23157233e-01\n",
      "   1.22458473e-01  -4.77824926e-01  -7.17127800e-01  -5.46422601e-01\n",
      "  -6.93517506e-01  -1.01627365e-01  -1.84363067e-01  -5.38909674e-01\n",
      "   1.04846478e+00  -4.06310380e-01   1.01303649e+00   4.06901091e-01\n",
      "   1.19596124e-02   8.11241567e-03  -6.22076392e-01  -1.07789330e-01\n",
      "   3.21343780e-01  -5.73212951e-02  -4.30696420e-02  -3.93690839e-02\n",
      "   3.06534231e-01   4.46396500e-01   4.20491919e-02  -1.33389682e-01\n",
      "  -6.03910863e-01  -1.27839968e-01  -4.00342494e-02   3.08850110e-01\n",
      "   4.10064936e-01   1.16241418e-01   2.33252048e-01   5.03606319e-01\n",
      "   6.77372366e-02   2.01282993e-01  -2.64298141e-01   5.44343412e-01\n",
      "  -2.30995506e-01   3.08135211e-01  -4.22784477e-01   2.55575836e-01\n",
      "   3.31193954e-02  -3.54866862e-01   4.84220356e-01  -5.85271418e-01\n",
      "  -4.20104742e-01  -1.40501320e-01  -2.67978758e-01  -5.74545383e-01\n",
      "   1.21183679e-01  -2.41953120e-01  -9.90164429e-02  -6.40586376e-01\n",
      "  -2.73681372e-01  -4.37584847e-01  -1.93782747e-02   8.56102228e-01\n",
      "   3.58359843e-01  -5.37714541e-01  -6.61365926e-01   5.63707277e-02\n",
      "  -2.76966393e-01   2.16685295e-01  -2.96320677e-01  -6.58174515e-01\n",
      "   4.13432717e-04  -5.82549453e-01   8.70170832e-01  -1.10104287e+00\n",
      "   1.00363500e-01  -8.17725062e-03  -4.07111228e-01   4.44866627e-01\n",
      "   2.95535684e-01  -7.10227489e-01   1.76620886e-01  -1.90713271e-01\n",
      "   1.01571903e-01   5.02178669e-01   1.53021470e-01   1.01062119e-01\n",
      "  -5.07146418e-01  -3.91343050e-02   1.16600074e-01  -4.33095127e-01\n",
      "  -2.34599397e-01  -4.86286581e-01   1.51597798e-01  -2.63361454e-01\n",
      "  -4.11679506e-01   4.28257361e-02   5.18880069e-01  -2.69071832e-02\n",
      "  -2.52548754e-02  -2.86169916e-01  -4.05630440e-01   8.76508832e-01\n",
      "  -4.14750397e-01  -6.94889605e-01  -1.43930569e-01  -4.42611903e-01\n",
      "  -4.15172279e-02  -1.65128961e-01   7.30871022e-01  -7.73141623e-01\n",
      "  -8.94797206e-01  -8.06602836e-03  -3.32444817e-01   7.14596510e-01\n",
      "   4.97321874e-01   4.37572300e-01  -1.63666695e-01  -3.96017671e-01\n",
      "  -1.15766391e-01   1.90385491e-01  -1.40670866e-01  -1.27407923e-01\n",
      "  -2.87750363e-02   1.24680018e+00  -5.69140054e-02  -6.23615980e-01\n",
      "   3.55026424e-01  -3.07343125e-01  -1.43173188e-01  -7.04668164e-01\n",
      "   1.15118444e-01  -4.79473412e-01  -3.06571007e-01  -7.34606326e-01\n",
      "   6.35308802e-01  -2.00366825e-01  -1.28544867e-03  -4.58063126e-01\n",
      "   5.81227124e-01   7.76143491e-01  -7.04051077e-01   5.24202466e-01\n",
      "  -7.45324314e-01   2.07849294e-01   1.19614673e+00   1.60454527e-01\n",
      "   2.52509564e-01   1.08977497e+00  -5.05234897e-01   4.17667687e-01\n",
      "   6.62335515e-01   9.39823687e-01  -2.06791714e-01   3.61841261e-01\n",
      "  -1.41515017e-01   9.31991637e-03  -6.51810229e-01   5.70472516e-03\n",
      "   7.80451819e-02  -2.36647427e-01   9.54242826e-01   1.60300896e-01\n",
      "   7.97011331e-03   6.48415387e-01  -1.92150176e-01   5.31456888e-01\n",
      "  -3.16610605e-01   7.20903128e-02  -1.55508399e-01  -1.21347934e-01\n",
      "  -2.87318349e-01   4.45697233e-02   7.66073465e-02   6.87322021e-03\n",
      "  -1.36181042e-01   2.23133385e-01  -1.90856397e-01   5.62601268e-01\n",
      "   5.96076727e-01  -3.78683805e-01  -2.36844078e-01   2.21053153e-01\n",
      "  -3.34622055e-01  -3.67994905e-02  -7.81276673e-02  -8.11135650e-01\n",
      "  -4.14536476e-01   2.77438968e-01  -8.62041116e-01  -7.64657497e-01\n",
      "   6.19464815e-02   4.10663188e-01   1.10023230e-01   1.57898813e-01\n",
      "  -8.87556195e-01   9.46275949e-01  -3.14768314e-01   7.42281616e-01\n",
      "   2.96338499e-01   7.75381178e-02  -7.64443398e-01   2.83101737e-01\n",
      "   7.28584677e-02  -7.03643441e-01   7.48614967e-03   1.15519965e+00\n",
      "  -5.08891940e-01   9.92310867e-02   7.33281672e-01  -1.39758945e-01\n",
      "  -4.54664618e-01  -3.06941211e-01   2.28667676e-01  -2.40245283e-01]\n",
      "cat [  1.03522551e+00   2.74694800e+00  -2.56851792e+00   8.52190256e-01\n",
      "   1.43410945e+00  -1.03979540e+00  -2.25716925e+00   5.73592067e-01\n",
      "   1.53340495e+00   3.16368794e+00   2.57838202e+00  -7.12838173e-01\n",
      "   2.26248002e+00  -5.33791780e-01  -3.44505858e+00   1.93079162e+00\n",
      "  -3.62652898e+00   3.50690961e-01  -3.00030375e+00   1.70329142e+00\n",
      "   1.96750730e-01   1.15810037e-02  -7.27051020e-01   3.30792904e+00\n",
      "  -1.85216594e+00  -2.23309588e+00  -8.73296559e-01   1.15193498e+00\n",
      "   1.50078642e+00  -9.09311056e-01   2.05010414e-01  -4.04030621e-01\n",
      "   9.02160943e-01  -2.62503624e-02  -3.75130147e-01  -2.68240714e+00\n",
      "   2.96945906e+00  -2.47540450e+00  -2.63391584e-01  -2.58376169e+00\n",
      "  -1.41349471e+00   6.10895306e-02   1.44536948e+00  -2.19776320e+00\n",
      "  -3.31417322e+00   4.45299834e-01  -1.02263379e+00  -7.78166234e-01\n",
      "   8.28112006e-01  -3.66963625e+00  -6.94724202e-01  -2.77159023e+00\n",
      "  -2.91964054e-01   4.00312996e+00  -2.35760689e+00  -8.09171081e-01\n",
      "   1.50413501e+00   3.74817681e+00  -8.29654932e-02   1.10348237e+00\n",
      "  -3.87792468e-01   2.80914688e+00  -1.45246720e+00   5.32784271e+00\n",
      "   3.49003196e+00   2.75260139e+00  -1.68778443e+00  -1.74197912e+00\n",
      "   8.65794539e-01   6.38559341e-01  -3.30188841e-01  -3.14538777e-01\n",
      "   3.33613467e+00  -6.98070109e-01   3.18337500e-01   1.69923604e+00\n",
      "  -1.46516168e+00  -1.95757091e+00  -1.75439727e+00   1.33466375e+00\n",
      "  -1.65084457e+00   1.95430803e+00  -4.64924622e+00   4.58928108e-01\n",
      "  -1.46753311e+00  -2.88340747e-01  -2.53556252e-01  -1.54868734e+00\n",
      "  -3.94465208e+00   1.70041299e+00  -1.00708592e+00   2.59312487e+00\n",
      "  -4.61828613e+00   4.18335629e+00  -2.03245449e+00   1.67345715e+00\n",
      "  -2.15796649e-01   1.50034833e+00   8.49355221e-01  -1.32587719e+00\n",
      "  -1.05024850e+00   4.41105080e+00   8.51331651e-01  -1.89889050e+00\n",
      "   9.47629273e-01  -5.21340370e-02   4.69105422e-01  -1.04822683e+00\n",
      "  -3.32667041e+00  -9.76490855e-01  -1.21371794e+00  -3.10767984e+00\n",
      "  -2.65103531e+00  -2.56359577e-01   1.55417395e+00   1.08671796e+00\n",
      "   6.10613227e-01   3.02402425e+00   1.49699020e+00  -1.43066621e+00\n",
      "   2.02235389e+00   1.79940104e+00   3.94928861e+00  -1.58063680e-01\n",
      "   2.01855731e+00  -2.28327537e+00   4.42716503e+00  -3.55023122e+00\n",
      "  -5.37075162e-01  -4.19862121e-01   3.03447813e-01   1.18985318e-01\n",
      "  -1.94017842e-01   1.44653171e-02  -7.67736912e-01   3.45658898e-01\n",
      "   5.92768788e-01   2.94022784e-02   4.26382720e-01   5.94061017e-02\n",
      "   3.57150853e-01  -1.26308680e-01  -5.13570905e-01   4.32631910e-01\n",
      "  -2.84016609e-01   8.92914176e-01   9.01218772e-01  -4.31359977e-01\n",
      "   5.87490201e-02  -5.35132587e-02   4.79958415e-01  -2.56534845e-01\n",
      "   3.74889895e-02  -3.82045537e-01   6.94473743e-01  -2.08950043e-01\n",
      "  -1.61001533e-01  -3.99665534e-03  -7.21046448e-01   3.70486349e-01\n",
      "   1.23636872e-01   9.60227847e-03  -5.58999658e-01   1.55808389e-01\n",
      "   2.09252983e-01   2.00437605e-01   4.89667132e-02   1.94452763e-01\n",
      "   2.74667293e-01   9.14888561e-01  -4.80569184e-01  -5.90608239e-01\n",
      "   2.89305657e-01  -2.31720179e-01   9.46673676e-02   1.66586041e-02\n",
      "  -1.89151421e-01  -5.85566819e-01  -2.51464963e-01  -4.83796708e-02\n",
      "  -2.24381119e-01   1.03071675e-01   1.44901097e-01  -8.53144825e-02\n",
      "   1.00328550e-01  -2.04089671e-01   6.22741044e-01   2.72782743e-01\n",
      "   2.14711279e-02   3.13013017e-01  -1.89563453e-01  -4.00410712e-01\n",
      "   4.06107992e-01  -2.78578371e-01  -2.37278581e-01  -6.42711520e-02\n",
      "   3.61926615e-01   5.78640580e-01   5.18827796e-01  -2.56186843e-01\n",
      "  -1.84934586e-01  -7.46248066e-02  -1.74775571e-01   4.61508691e-01\n",
      "   4.80379581e-01  -2.34727696e-01   3.55857998e-01   2.53831476e-01\n",
      "   3.65705192e-01  -1.71364784e-01  -2.18460456e-01   5.58091104e-01\n",
      "  -9.01694596e-03  -2.20289230e-02  -1.15213108e+00  -8.44038874e-02\n",
      "  -4.62158918e-02   1.15386724e-01   4.42848563e-01  -4.85253096e-01\n",
      "  -1.77142143e-01  -2.51923770e-01  -4.88269866e-01  -1.95660084e-01\n",
      "  -1.78036883e-01   1.38446212e-01   1.95360333e-01  -5.14799416e-01\n",
      "  -2.48588830e-01  -1.52317315e-01  -3.02998006e-01   4.54595834e-02\n",
      "   3.59678745e-01  -7.46701807e-02  -7.54175186e-02  -3.79905283e-01\n",
      "  -3.24620008e-01  -2.11334616e-01   6.38645887e-03  -4.41149265e-01\n",
      "   4.14521694e-01  -3.05487305e-01   2.60297000e-01  -4.96861309e-01\n",
      "   3.79964709e-02   5.34769595e-02   1.75055206e-01   4.94545668e-01\n",
      "  -2.07241878e-01  -3.67034078e-01   4.59545732e-01  -3.77419740e-02\n",
      "   1.00046098e-02  -1.63219586e-01   4.92199838e-01   2.49789953e-01\n",
      "  -2.95610070e-01  -8.97039950e-01   4.48884338e-01   2.07169980e-01\n",
      "   2.10082754e-01  -3.72825801e-01   8.58412623e-01   3.11650574e-01\n",
      "  -2.67586797e-01  -6.88272834e-01  -4.93321419e-01  -1.17647491e-01\n",
      "   5.64752519e-01   8.40164721e-02   2.67105848e-02   8.63131106e-01\n",
      "  -3.82576585e-02  -6.03145808e-02  -2.16416895e-01  -5.88943005e-01\n",
      "   4.84065294e-01  -1.58823952e-01   6.29100919e-01   1.04589164e-02\n",
      "  -1.15886383e-01   3.97648275e-01  -5.30971363e-02   8.85651827e-01\n",
      "  -9.72311944e-02  -8.99332017e-03  -2.33613223e-01  -7.25420237e-01\n",
      "  -1.68053955e-02   2.85148442e-01  -3.42326701e-01  -2.46842861e-01\n",
      "   4.41704273e-01   7.65168488e-01   3.53043556e-01  -3.60442489e-01\n",
      "  -5.88640153e-01  -2.56618410e-01  -1.87270015e-01  -5.57086408e-01\n",
      "   7.13165030e-02   5.64689875e-01  -3.01135600e-01  -6.17968202e-01\n",
      "  -1.20288976e-01  -5.29270053e-01  -2.41689608e-01   7.20641837e-02\n",
      "  -5.65434992e-01   6.33859113e-02  -3.87756199e-01   1.70319378e-01\n",
      "  -5.86375594e-01  -3.76977086e-01   5.99395871e-01  -1.73353225e-01\n",
      "   4.56048220e-01   4.79032785e-01  -2.84035951e-01   4.98587668e-01\n",
      "   3.76055837e-01  -4.86486629e-02  -4.14350063e-01   6.24442101e-01\n",
      "  -7.95132965e-02  -3.33591133e-01   1.83479607e-01  -3.27161282e-01\n",
      "   5.12956381e-01   2.20522672e-01   6.47353351e-01   9.76574942e-02\n",
      "  -2.09512115e-01   4.23728883e-01  -1.08512491e-01   7.94634968e-02\n",
      "  -5.72092414e-01  -1.66459739e-01  -3.14528435e-01  -1.91890284e-01\n",
      "  -5.53229809e-01  -1.16086036e-01   1.53552115e-01   3.16205949e-01\n",
      "  -3.29100937e-01  -2.20697224e-02  -4.24463004e-01  -4.12844345e-02\n",
      "   6.82036698e-01  -7.88977683e-01  -3.34882438e-01  -2.30057225e-01\n",
      "  -3.47141951e-01   7.42843926e-01  -1.30855396e-01   1.74798176e-01\n",
      "  -2.31302232e-02  -9.90234613e-02  -1.96307302e-01  -4.41288829e-01\n",
      "   2.53476083e-01   1.48381859e-01   2.92033076e-01   3.77540380e-01\n",
      "  -3.06189388e-01  -6.57905340e-01   4.99334857e-02  -3.33720595e-01\n",
      "  -7.92744309e-02  -2.52243727e-01  -3.93301547e-01   4.83966112e-01\n",
      "  -6.17399625e-03  -1.70317650e-01   1.98286206e-01  -8.01519826e-02\n",
      "   6.66807741e-02  -8.76294076e-02   2.43133485e-01   7.66049862e-01\n"
     ]
    },
    {
     "name": "stdout",
     "output_type": "stream",
     "text": [
      "   5.49880266e-02   2.16840312e-01  -1.06817119e-01   3.27902555e-01]\n",
      "banana [ -1.41948950e+00   5.58564067e-01   1.00896370e+00   9.34259415e-01\n",
      "   1.15513587e+00   3.79428953e-01  -3.80002856e+00  -2.19876575e+00\n",
      "   7.66154289e-01   1.85205436e+00   1.49350238e+00  -3.63348961e-01\n",
      "   9.93571162e-01  -1.87211156e-01  -2.40033650e+00   1.19870663e+00\n",
      "  -2.99316025e+00  -2.29795551e+00  -1.68042183e+00  -5.24839997e-01\n",
      "   1.56570005e+00   2.40306044e+00   9.31506872e-01   2.49481010e+00\n",
      "  -2.66593516e-01  -3.92615080e-01  -1.16136670e+00   1.16194636e-01\n",
      "  -2.53938168e-01  -1.15748477e+00  -3.12320799e-01   1.84694076e+00\n",
      "   2.14433932e+00   6.78922892e-01  -2.72198617e-01  -2.13090634e+00\n",
      "  -1.37582466e-01   8.65555704e-01  -8.46146524e-01  -9.20764685e-01\n",
      "  -2.96591711e+00   4.35806561e+00   2.49332428e+00  -1.94552362e+00\n",
      "  -5.19501328e-01   4.18750572e+00  -3.46043825e-01  -2.68519306e+00\n",
      "   2.11666584e+00   1.56255913e+00  -6.16478622e-01  -2.74263763e+00\n",
      "  -2.25735211e+00  -1.56119931e+00   1.77652240e-01  -2.13638377e+00\n",
      "   2.19321847e+00   2.59645057e+00   2.01300278e-01  -7.93102622e-01\n",
      "  -1.18947148e+00  -6.43058538e-01  -2.29447174e+00   4.63594139e-01\n",
      "   9.93303299e-01   1.25423193e+00  -2.57374763e+00  -4.49117661e+00\n",
      "   1.58862555e+00   1.71937370e+00  -1.56278563e+00   5.22997826e-02\n",
      "   4.85026360e+00  -5.35370708e-01  -1.02502131e+00  -2.35287046e+00\n",
      "   1.75440407e+00  -1.91241360e+00   6.97553575e-01   1.16652083e+00\n",
      "  -1.10188413e+00   2.02588129e+00  -6.07179344e-01  -1.46286762e+00\n",
      "   2.51626134e-01   1.93793857e+00  -1.84741092e+00   2.37982178e+00\n",
      "  -1.22590017e+00   1.03379321e+00  -4.40844345e+00   3.33425713e+00\n",
      "  -1.38709211e+00   7.90472507e-01  -8.68055582e-01   4.02435827e+00\n",
      "  -2.43480754e+00   1.45107877e+00   2.90665770e+00  -5.33702552e-01\n",
      "  -1.57922196e+00   4.55918026e+00   3.15611172e+00   1.35773337e+00\n",
      "  -1.65769577e-01  -8.66194010e-01  -3.86606455e-01  -7.02757359e-01\n",
      "  -1.99234414e+00  -1.50595927e+00  -5.05161285e-01  -3.46001208e-01\n",
      "  -4.87255156e-02  -4.54868793e+00   3.09326935e+00   1.72965312e+00\n",
      "  -1.16776252e+00  -6.71505332e-01  -1.23365343e+00  -1.86071944e+00\n",
      "   2.44267166e-01   1.11933827e+00   1.49320400e+00   2.14072418e+00\n",
      "   2.17516947e+00  -1.30422235e-01   8.10898209e+00  -1.65121496e+00\n",
      "  -7.32523024e-01  -3.09145510e-01   2.89481968e-01   3.53294611e-01\n",
      "   5.03300428e-01  -2.05364041e-02  -5.82309306e-01  -1.17386460e-01\n",
      "  -7.17481971e-03   3.77775759e-01   1.18456036e-01  -4.25139397e-01\n",
      "  -3.75497252e-01  -7.85920501e-01  -4.74573672e-02   6.04093730e-01\n",
      "   2.08235055e-01   8.95714164e-01   6.17636502e-01  -4.84346986e-01\n",
      "  -3.22506309e-01   2.55739540e-01  -3.94354686e-02   2.73332089e-01\n",
      "   2.01517940e-01  -5.52062929e-01  -2.13721842e-02   1.18930422e-01\n",
      "   4.78274897e-02  -3.12742889e-01  -1.14875421e-01   4.09155846e-01\n",
      "   2.41127223e-01   2.03872740e-01  -4.34717149e-01   7.53357053e-01\n",
      "   3.01602185e-01  -4.02993187e-02   1.59445226e-01   8.54200274e-02\n",
      "  -5.08837998e-01   4.23856974e-01  -4.37139720e-02  -1.18823014e-01\n",
      "   2.33341634e-01  -1.92768678e-01  -1.98896602e-01  -3.72078001e-01\n",
      "  -1.38307214e-02   1.13756098e-01   1.72904640e-01   3.97597998e-02\n",
      "   5.71373701e-01  -2.50947773e-01   4.94165301e-01   1.02562472e-01\n",
      "  -3.53452921e-01  -1.24135330e-01   4.55668196e-03  -4.54198048e-02\n",
      "   5.21631896e-01   7.07629204e-01   1.37214690e-01   1.51774779e-01\n",
      "   1.89152852e-01   1.54909939e-02  -1.79492861e-01  -1.74919188e-01\n",
      "  -1.34097010e-01   2.98330605e-01  -1.26818553e-01  -4.44657058e-01\n",
      "   7.70554483e-01   8.86561275e-02  -3.82522523e-01   2.68289447e-01\n",
      "   5.28250456e-01  -2.51260791e-02   4.53498393e-01  -9.38115865e-02\n",
      "   5.02711296e-01  -6.19025826e-01   1.11247808e-01  -2.42249608e-01\n",
      "  -2.27921277e-01  -3.96341413e-01  -9.71518219e-01  -2.46337131e-01\n",
      "   1.08442709e-01  -2.60711253e-01   9.37629715e-02  -2.19724372e-01\n",
      "   1.49850294e-01   9.94133353e-02   4.16513607e-02  -5.52928150e-02\n",
      "  -2.07752198e-01  -2.77565062e-01  -3.15767825e-01  -9.17856023e-03\n",
      "  -1.95677370e-01   3.95452678e-01  -8.25780481e-02   6.21309698e-01\n",
      "   3.83071035e-01   1.66232556e-01  -1.84859753e-01   2.97789961e-01\n",
      "  -1.71573907e-02  -1.73024535e-02  -3.47919643e-01  -6.98669076e-01\n",
      "  -1.29475921e-01  -4.67414528e-01   3.54309857e-01  -4.00412381e-01\n",
      "  -1.71633363e-01   1.42780334e-01   3.25199425e-01   2.97293961e-01\n",
      "  -5.44942260e-01  -4.46601331e-01  -5.96024841e-02  -1.39471889e-02\n",
      "  -3.67326796e-01   2.06370354e-01   6.06209338e-01   6.36088729e-01\n",
      "  -3.75541508e-01   5.73931873e-01  -1.77217185e-01   1.76407784e-01\n",
      "  -5.05414307e-01  -2.89381087e-01  -1.54003099e-01   3.47333699e-02\n",
      "   1.02235638e-01   1.47288945e-03  -6.00379407e-02  -5.01737654e-01\n",
      "   3.03545177e-01  -1.30449653e-01   3.65542993e-02   5.78190207e-01\n",
      "   4.91532803e-01  -3.79593551e-01   4.23790216e-01  -6.95373058e-01\n",
      "  -3.58209223e-01  -1.16623715e-01  -1.82835355e-01  -2.71881491e-01\n",
      "   8.49564970e-02  -8.00668895e-01  -4.07309622e-01   2.76051670e-01\n",
      "  -2.86438823e-01   2.58053660e-01  -9.85072851e-01  -8.04037631e-01\n",
      "  -7.85884261e-01   2.69024432e-01   4.05010074e-01   6.57728910e-02\n",
      "  -4.93306428e-01   1.09771013e+00  -1.93340689e-01  -5.35276651e-01\n",
      "  -3.75522971e-01   2.84089923e-01  -2.42405742e-01  -1.29533172e-01\n",
      "   8.10154974e-01   4.68119085e-01  -1.96137428e-02  -2.56059974e-01\n",
      "  -3.11842918e-01  -1.93996206e-01  -5.36357999e-01   2.05860138e-01\n",
      "   2.73092777e-01   4.78827983e-01   1.76859558e-01  -1.85246259e-01\n",
      "  -7.93833196e-01   5.21184921e-01   2.86378264e-02  -1.95389569e-01\n",
      "   3.53390366e-01   4.79787827e-01  -4.21037465e-01   4.26593304e-01\n",
      "  -3.70922029e-01  -8.47072229e-02  -5.62285483e-01  -1.58729553e-01\n",
      "   4.60477233e-01   7.08688438e-01  -2.40433753e-01  -5.50011039e-01\n",
      "   3.82923365e-01  -1.22542381e-02   5.68207622e-01   7.96353519e-01\n",
      "   9.30695981e-03   2.51469389e-02  -3.48841190e-01  -5.16356230e-01\n",
      "  -1.91141754e-01  -1.97226897e-01   1.37042969e-01  -9.94594842e-02\n",
      "   1.10954791e-01  -6.36602163e-01   4.78949636e-01  -2.51237333e-01\n",
      "  -9.47803408e-02   7.80559480e-02  -4.79217678e-01   8.80266964e-01\n",
      "   9.24315214e-01  -5.55385351e-02   1.16314399e+00   3.96039456e-01\n",
      "  -6.13433719e-01   4.20321167e-01   2.32647419e-01  -8.68220627e-03\n",
      "   5.95486283e-01  -7.30564147e-02  -1.83018297e-01  -4.46907550e-01\n",
      "  -7.10076809e-01   5.47574103e-01   4.17912006e-01   6.84158683e-01\n",
      "  -5.76007128e-01   9.16029662e-02   7.51609802e-01  -3.40777129e-01\n",
      "   7.43926108e-01  -3.54681790e-01  -6.79102689e-02   3.12093705e-01\n",
      "   2.06548274e-01   1.48324177e-01   2.50037909e-01   9.55955148e-01\n",
      "   3.47565055e-01  -6.77695870e-02   6.57984138e-01  -2.83842564e-01\n",
      "  -8.18243861e-01  -3.61238748e-01   6.29613549e-03   1.77985847e-01]\n"
     ]
    }
   ],
   "source": [
    "#converting the given text document into word vectors\n",
    "for token in doc:\n",
    "    print(token.text, token.vector)"
   ]
  },
  {
   "cell_type": "code",
   "execution_count": 59,
   "metadata": {},
   "outputs": [
    {
     "name": "stdout",
     "output_type": "stream",
     "text": [
      "dog True 23.8584 True\n",
      "cat True 24.3287 True\n",
      "banana True 25.8637 True\n",
      "afskfsd True 26.5983 True\n"
     ]
    }
   ],
   "source": [
    "import spacy\n",
    "\n",
    "nlp = spacy.load('en_core_web_sm')\n",
    "tokens = nlp(u'dog cat banana afskfsd')\n",
    "\n",
    "for token in tokens:\n",
    "    print(token.text, token.has_vector, token.vector_norm, token.is_oov)"
   ]
  },
  {
   "cell_type": "code",
   "execution_count": 1,
   "metadata": {
    "collapsed": true
   },
   "outputs": [],
   "source": [
    "import spacy\n",
    "\n",
    "nlp = spacy.load('en_core_web_sm')\n",
    "doc = nlp(u'dog cat banana afskfsd')"
   ]
  },
  {
   "cell_type": "markdown",
   "metadata": {},
   "source": [
    "#### VOCAB, HASHES, LEXEME"
   ]
  },
  {
   "cell_type": "code",
   "execution_count": 10,
   "metadata": {
    "collapsed": true
   },
   "outputs": [],
   "source": [
    "import spacy\n",
    "\n",
    "sample = \"I love coffee\"\n",
    "nlp = spacy.load('en_core_web_sm')\n",
    "doc = nlp(sample)"
   ]
  },
  {
   "cell_type": "code",
   "execution_count": 11,
   "metadata": {},
   "outputs": [
    {
     "name": "stdout",
     "output_type": "stream",
     "text": [
      "I / PRP / PRON / False / -PRON-\n",
      "love / VBP / VERB / False / love\n",
      "coffee / NN / NOUN / False / coffee\n"
     ]
    }
   ],
   "source": [
    "for token in doc:\n",
    "    print((\"{0} / {1} / {2} / {3} / {4}\").format(token.text, token.tag_, token.pos_, token.is_stop, token.lemma_))"
   ]
  },
  {
   "cell_type": "code",
   "execution_count": 19,
   "metadata": {},
   "outputs": [
    {
     "name": "stdout",
     "output_type": "stream",
     "text": [
      "4690420944186131903\n"
     ]
    }
   ],
   "source": [
    "print(doc.vocab.strings['I'])"
   ]
  },
  {
   "cell_type": "code",
   "execution_count": 30,
   "metadata": {},
   "outputs": [
    {
     "name": "stdout",
     "output_type": "stream",
     "text": [
      "I 4690420944186131903 I I True False en\n",
      "Love 13599639812707930908 L ove True False en\n",
      "Coffee 3474706295102377020 C fee True False en\n"
     ]
    }
   ],
   "source": [
    "# LEXEME = each word in a vocabulary\n",
    "import spacy\n",
    "\n",
    "nlp = spacy.load('en_core_web_sm')\n",
    "doc = nlp('I Love Coffee')\n",
    "\n",
    "for token in doc:\n",
    "    lexeme = doc.vocab[token.text]\n",
    "    print(lexeme.text, lexeme.orth, lexeme.prefix_, lexeme.suffix_, lexeme.is_alpha, lexeme.is_stop, lexeme.lang_)"
   ]
  },
  {
   "cell_type": "code",
   "execution_count": 1,
   "metadata": {
    "collapsed": true
   },
   "outputs": [],
   "source": [
    "import spacy\n",
    "from spacy import displacy"
   ]
  },
  {
   "cell_type": "code",
   "execution_count": 3,
   "metadata": {
    "collapsed": true
   },
   "outputs": [],
   "source": [
    "nlp = spacy.load('en_core_web_sm')\n",
    "sample = 'Apple is looking at buying U.K. startup for $1 billion'\n",
    "doc = nlp(sample)"
   ]
  },
  {
   "cell_type": "code",
   "execution_count": 4,
   "metadata": {},
   "outputs": [
    {
     "name": "stdout",
     "output_type": "stream",
     "text": [
      "Apple 0 5 ORG\n",
      "U.K. 27 31 GPE\n",
      "$1 billion 44 54 MONEY\n"
     ]
    }
   ],
   "source": [
    "for ent in doc.ents:\n",
    "    print(ent.text, ent.start_char, ent.end_char, ent.label_)"
   ]
  },
  {
   "cell_type": "code",
   "execution_count": 5,
   "metadata": {},
   "outputs": [
    {
     "data": {
      "text/html": [
       "<div class=\"entities\" style=\"line-height: 2.5\">\n",
       "<mark class=\"entity\" style=\"background: #7aecec; padding: 0.45em 0.6em; margin: 0 0.25em; line-height: 1; border-radius: 0.35em; box-decoration-break: clone; -webkit-box-decoration-break: clone\">\n",
       "    Apple\n",
       "    <span style=\"font-size: 0.8em; font-weight: bold; line-height: 1; border-radius: 0.35em; text-transform: uppercase; vertical-align: middle; margin-left: 0.5rem\">ORG</span>\n",
       "</mark>\n",
       " is looking at buying \n",
       "<mark class=\"entity\" style=\"background: #feca74; padding: 0.45em 0.6em; margin: 0 0.25em; line-height: 1; border-radius: 0.35em; box-decoration-break: clone; -webkit-box-decoration-break: clone\">\n",
       "    U.K.\n",
       "    <span style=\"font-size: 0.8em; font-weight: bold; line-height: 1; border-radius: 0.35em; text-transform: uppercase; vertical-align: middle; margin-left: 0.5rem\">GPE</span>\n",
       "</mark>\n",
       " startup for \n",
       "<mark class=\"entity\" style=\"background: #e4e7d2; padding: 0.45em 0.6em; margin: 0 0.25em; line-height: 1; border-radius: 0.35em; box-decoration-break: clone; -webkit-box-decoration-break: clone\">\n",
       "    $1 billion\n",
       "    <span style=\"font-size: 0.8em; font-weight: bold; line-height: 1; border-radius: 0.35em; text-transform: uppercase; vertical-align: middle; margin-left: 0.5rem\">MONEY</span>\n",
       "</mark>\n",
       "</div>"
      ],
      "text/plain": [
       "<IPython.core.display.HTML object>"
      ]
     },
     "metadata": {},
     "output_type": "display_data"
    }
   ],
   "source": [
    "displacy.render(doc, style = 'ent', jupyter = True)"
   ]
  },
  {
   "cell_type": "markdown",
   "metadata": {},
   "source": [
    "#### LIGHTINING TOUR"
   ]
  },
  {
   "cell_type": "code",
   "execution_count": 1,
   "metadata": {
    "collapsed": true
   },
   "outputs": [],
   "source": [
    "import spacy"
   ]
  },
  {
   "cell_type": "code",
   "execution_count": 2,
   "metadata": {
    "collapsed": true
   },
   "outputs": [],
   "source": [
    "nlp = spacy.load('en_core_web_sm')\n",
    "doc = nlp(\"Peach emoji is where it has always been. Peach is the superior emoji. It's outranking eggplant 🍑\")"
   ]
  },
  {
   "cell_type": "code",
   "execution_count": 3,
   "metadata": {
    "collapsed": true
   },
   "outputs": [],
   "source": [
    "words = [t.text for t in doc]"
   ]
  },
  {
   "cell_type": "code",
   "execution_count": 6,
   "metadata": {},
   "outputs": [
    {
     "data": {
      "text/plain": [
       "('Peach', 'is', '🍑')"
      ]
     },
     "execution_count": 6,
     "metadata": {},
     "output_type": "execute_result"
    }
   ],
   "source": [
    "words[0], words[2], words[-1]"
   ]
  },
  {
   "cell_type": "code",
   "execution_count": 16,
   "metadata": {
    "collapsed": true
   },
   "outputs": [],
   "source": [
    "noun_chunks_ = [nc for nc in doc.noun_chunks]"
   ]
  },
  {
   "cell_type": "code",
   "execution_count": 17,
   "metadata": {},
   "outputs": [
    {
     "data": {
      "text/plain": [
       "[Peach emoji, it, Peach, the superior emoji, It, eggplant 🍑]"
      ]
     },
     "execution_count": 17,
     "metadata": {},
     "output_type": "execute_result"
    }
   ],
   "source": [
    "noun_chunks_"
   ]
  },
  {
   "cell_type": "code",
   "execution_count": 18,
   "metadata": {
    "collapsed": true
   },
   "outputs": [],
   "source": [
    "sentences = [sentence for sentence in doc.sents]"
   ]
  },
  {
   "cell_type": "code",
   "execution_count": 19,
   "metadata": {},
   "outputs": [
    {
     "data": {
      "text/plain": [
       "[Peach emoji is where it has always been.,\n",
       " Peach is the superior emoji.,\n",
       " It's outranking eggplant 🍑]"
      ]
     },
     "execution_count": 19,
     "metadata": {},
     "output_type": "execute_result"
    }
   ],
   "source": [
    "sentences"
   ]
  },
  {
   "cell_type": "code",
   "execution_count": 29,
   "metadata": {},
   "outputs": [
    {
     "name": "stdout",
     "output_type": "stream",
     "text": [
      "[Peach emoji is where it has always been., Peach is the superior emoji., It's outranking eggplant 🍑]\n"
     ]
    }
   ],
   "source": [
    "assert len(sentences) == 3, 'the length of the sentences is not correct'\n",
    "print(sentences)"
   ]
  },
  {
   "cell_type": "code",
   "execution_count": 30,
   "metadata": {
    "collapsed": true
   },
   "outputs": [],
   "source": [
    "import spacy"
   ]
  },
  {
   "cell_type": "code",
   "execution_count": 31,
   "metadata": {
    "collapsed": true
   },
   "outputs": [],
   "source": [
    "nlp = spacy.load('en_core_web_sm')"
   ]
  },
  {
   "cell_type": "code",
   "execution_count": 32,
   "metadata": {
    "collapsed": true
   },
   "outputs": [],
   "source": [
    "doc = nlp(\"Apple is looking at buying U.K. startup for $1 billion\")"
   ]
  },
  {
   "cell_type": "code",
   "execution_count": 33,
   "metadata": {
    "collapsed": true
   },
   "outputs": [],
   "source": [
    "apple = doc[0]"
   ]
  },
  {
   "cell_type": "code",
   "execution_count": 35,
   "metadata": {},
   "outputs": [
    {
     "name": "stdout",
     "output_type": "stream",
     "text": [
      "fine-grained POS: PROPN 95\n",
      "coarse-grained POS: NNP 15794550382381185553\n",
      "Shape of the token: Xxxxx 16072095006890171862\n",
      "Alphanumeric characters: True\n",
      "Punctuation? : False\n"
     ]
    }
   ],
   "source": [
    "print('fine-grained POS:', apple.pos_, apple.pos)\n",
    "print(\"coarse-grained POS:\", apple.tag_, apple.tag)\n",
    "print(\"Shape of the token:\", apple.shape_, apple.shape)\n",
    "print(\"Alphanumeric characters:\", apple.is_alpha)\n",
    "print('Punctuation? :', apple.is_punct)"
   ]
  },
  {
   "cell_type": "markdown",
   "metadata": {},
   "source": [
    "#### USING 'LIKE' FUNCTION"
   ]
  },
  {
   "cell_type": "code",
   "execution_count": 58,
   "metadata": {
    "collapsed": true
   },
   "outputs": [],
   "source": [
    "sample = \"two, three, hundred, thousand, million, billion, 10, 20, 50 is like a number\"\n",
    "doc_1 = nlp(sample)"
   ]
  },
  {
   "cell_type": "code",
   "execution_count": 59,
   "metadata": {
    "collapsed": true
   },
   "outputs": [],
   "source": [
    "words = [token for token in doc_1]"
   ]
  },
  {
   "cell_type": "code",
   "execution_count": 60,
   "metadata": {},
   "outputs": [
    {
     "data": {
      "text/plain": [
       "[two,\n",
       " ,,\n",
       " three,\n",
       " ,,\n",
       " hundred,\n",
       " ,,\n",
       " thousand,\n",
       " ,,\n",
       " million,\n",
       " ,,\n",
       " billion,\n",
       " ,,\n",
       " 10,\n",
       " ,,\n",
       " 20,\n",
       " ,,\n",
       " 50,\n",
       " is,\n",
       " like,\n",
       " a,\n",
       " number]"
      ]
     },
     "execution_count": 60,
     "metadata": {},
     "output_type": "execute_result"
    }
   ],
   "source": [
    "words"
   ]
  },
  {
   "cell_type": "code",
   "execution_count": 61,
   "metadata": {},
   "outputs": [
    {
     "name": "stdout",
     "output_type": "stream",
     "text": [
      "is it like a number?  False\n"
     ]
    }
   ],
   "source": [
    "print(\"is it like a number? \", words[-1].like_num)"
   ]
  },
  {
   "cell_type": "code",
   "execution_count": 62,
   "metadata": {},
   "outputs": [
    {
     "name": "stdout",
     "output_type": "stream",
     "text": [
      "two\n",
      "three\n",
      "hundred\n",
      "thousand\n",
      "million\n",
      "billion\n",
      "10\n",
      "20\n",
      "50\n"
     ]
    }
   ],
   "source": [
    "for word in words:\n",
    "    if word.like_num == True:\n",
    "        print(word)"
   ]
  },
  {
   "cell_type": "code",
   "execution_count": 63,
   "metadata": {},
   "outputs": [
    {
     "name": "stdout",
     "output_type": "stream",
     "text": [
      "10\n",
      "20\n",
      "50\n"
     ]
    }
   ],
   "source": [
    "for word in words:\n",
    "    if word.is_digit == True:\n",
    "        print(word)"
   ]
  },
  {
   "cell_type": "code",
   "execution_count": null,
   "metadata": {
    "collapsed": true
   },
   "outputs": [],
   "source": [
    "num = input('Input the numbers')\n",
    "list_1 = list(num.split(\"'\"))"
   ]
  },
  {
   "cell_type": "markdown",
   "metadata": {
    "collapsed": true
   },
   "source": [
    "#### RECOGNISE AND UPDATE NAMED ENTITIES"
   ]
  },
  {
   "cell_type": "code",
   "execution_count": 1,
   "metadata": {
    "collapsed": true
   },
   "outputs": [],
   "source": [
    "import spacy"
   ]
  },
  {
   "cell_type": "code",
   "execution_count": 2,
   "metadata": {
    "collapsed": true
   },
   "outputs": [],
   "source": [
    "nlp = spacy.load('en_core_web_sm')\n",
    "doc = nlp(\"San Francisco considers banning sidewalk delivery robots\")"
   ]
  },
  {
   "cell_type": "code",
   "execution_count": 3,
   "metadata": {},
   "outputs": [
    {
     "name": "stdout",
     "output_type": "stream",
     "text": [
      "San Francisco 0 13 GPE\n"
     ]
    }
   ],
   "source": [
    "for ent in doc.ents:\n",
    "    print(ent.text, ent.start_char, ent.end_char, ent.label_)"
   ]
  },
  {
   "cell_type": "code",
   "execution_count": 4,
   "metadata": {},
   "outputs": [
    {
     "data": {
      "text/plain": [
       "'Countries, cities, states'"
      ]
     },
     "execution_count": 4,
     "metadata": {},
     "output_type": "execute_result"
    }
   ],
   "source": [
    "spacy.explain('GPE')"
   ]
  },
  {
   "cell_type": "code",
   "execution_count": 5,
   "metadata": {
    "collapsed": true
   },
   "outputs": [],
   "source": [
    "from spacy.tokens import Span"
   ]
  },
  {
   "cell_type": "code",
   "execution_count": 7,
   "metadata": {},
   "outputs": [
    {
     "name": "stdout",
     "output_type": "stream",
     "text": [
      "VP 19 21 ORG\n"
     ]
    }
   ],
   "source": [
    "doc_1 = nlp(\"FB is hiring a new VP of global policy\")\n",
    "for ent in doc_1.ents:\n",
    "    print(ent.text, ent.start_char, ent.end_char, ent.label_)"
   ]
  },
  {
   "cell_type": "code",
   "execution_count": 15,
   "metadata": {},
   "outputs": [
    {
     "name": "stdout",
     "output_type": "stream",
     "text": [
      "FB ORG\n"
     ]
    }
   ],
   "source": [
    "doc_1.ents = [Span(doc_1, 0, 1, label = doc_1.vocab.strings['ORG'])]\n",
    "for ent in doc_1.ents:\n",
    "    print(ent.text, ent.label_)"
   ]
  },
  {
   "cell_type": "markdown",
   "metadata": {},
   "source": [
    "#### TRAIN AND UPDATE A NEURAL NETWORK MODEL"
   ]
  },
  {
   "cell_type": "code",
   "execution_count": null,
   "metadata": {
    "collapsed": true
   },
   "outputs": [],
   "source": []
  }
 ],
 "metadata": {
  "kernelspec": {
   "display_name": "Python 3",
   "language": "python",
   "name": "python3"
  },
  "language_info": {
   "codemirror_mode": {
    "name": "ipython",
    "version": 3
   },
   "file_extension": ".py",
   "mimetype": "text/x-python",
   "name": "python",
   "nbconvert_exporter": "python",
   "pygments_lexer": "ipython3",
   "version": "3.6.3"
  }
 },
 "nbformat": 4,
 "nbformat_minor": 2
}
